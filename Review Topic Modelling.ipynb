{
 "cells": [
  {
   "cell_type": "code",
   "execution_count": 74,
   "metadata": {},
   "outputs": [],
   "source": [
    "import json\n",
    "import os\n",
    "import ast\n",
    "import pandas as pd\n",
    "os.chdir('/Users/sanjanarosario/Downloads/yelp_dataset')\n",
    "rest_reviews=pd.read_csv('restaurant_reviews_newcols.csv',nrows=100000)\n",
    "business_details=pd.read_csv('businesses_filtered.csv')"
   ]
  },
  {
   "cell_type": "code",
   "execution_count": 87,
   "metadata": {},
   "outputs": [],
   "source": [
    "#selecting only desired columns\n",
    "business_details=business_details[['business_id','name','stars','review_count']]\n",
    "documents=rest_reviews[['business_id','text']]"
   ]
  },
  {
   "cell_type": "code",
   "execution_count": 88,
   "metadata": {},
   "outputs": [],
   "source": [
    "#Must aggregate reviews for each restaurant\n",
    "import collections as c\n",
    "only_rests=set(rest_reviews['business_id'])\n",
    "final_output=c.defaultdict()\n",
    "\n",
    "def lolwut(df):\n",
    "    for i in only_rests:\n",
    "        emptylist=''\n",
    "        temp=df[df['business_id']==i]\n",
    "        for j in range(len(temp)):\n",
    "            emptylist+=(temp['text'].iloc[j])+'\\n'\n",
    "        final_output[i]=emptylist\n",
    "    return final_output\n",
    "\n",
    "aggregated_reviews=lolwut(documents)"
   ]
  },
  {
   "cell_type": "code",
   "execution_count": 89,
   "metadata": {},
   "outputs": [],
   "source": [
    "#converting dict to dataframe for easier manipulation\n",
    "reviews=pd.DataFrame()\n",
    "reviews['business_id']=list(aggregated_reviews)\n",
    "reviews['text']=list(aggregated_reviews.values())"
   ]
  },
  {
   "cell_type": "code",
   "execution_count": 90,
   "metadata": {},
   "outputs": [
    {
     "data": {
      "text/html": [
       "<div>\n",
       "<style scoped>\n",
       "    .dataframe tbody tr th:only-of-type {\n",
       "        vertical-align: middle;\n",
       "    }\n",
       "\n",
       "    .dataframe tbody tr th {\n",
       "        vertical-align: top;\n",
       "    }\n",
       "\n",
       "    .dataframe thead th {\n",
       "        text-align: right;\n",
       "    }\n",
       "</style>\n",
       "<table border=\"1\" class=\"dataframe\">\n",
       "  <thead>\n",
       "    <tr style=\"text-align: right;\">\n",
       "      <th></th>\n",
       "      <th>business_id</th>\n",
       "      <th>text</th>\n",
       "      <th>name</th>\n",
       "      <th>stars</th>\n",
       "      <th>review_count</th>\n",
       "    </tr>\n",
       "  </thead>\n",
       "  <tbody>\n",
       "    <tr>\n",
       "      <th>0</th>\n",
       "      <td>OH3baEaklANPe1farAKgRg</td>\n",
       "      <td>Why 4 stars? It's McDonalds, that's why. Its c...</td>\n",
       "      <td>McDonald's</td>\n",
       "      <td>2.0</td>\n",
       "      <td>28</td>\n",
       "    </tr>\n",
       "    <tr>\n",
       "      <th>1</th>\n",
       "      <td>UdEmYOnk2iJDY9lpEPAlJQ</td>\n",
       "      <td>I've never had a bad experience at this place,...</td>\n",
       "      <td>Floridino's Pizza &amp; Pasta</td>\n",
       "      <td>4.0</td>\n",
       "      <td>420</td>\n",
       "    </tr>\n",
       "    <tr>\n",
       "      <th>2</th>\n",
       "      <td>iAD5r5vNOzc1AP6UA5yFiQ</td>\n",
       "      <td>This place has a serious problem with unwelcom...</td>\n",
       "      <td>Bella Fresco</td>\n",
       "      <td>4.0</td>\n",
       "      <td>131</td>\n",
       "    </tr>\n",
       "    <tr>\n",
       "      <th>3</th>\n",
       "      <td>dNDAdeE8olF4eZaslNtBZw</td>\n",
       "      <td>Sister in town from Ontario Canada and wanted ...</td>\n",
       "      <td>Manny's Mexican Restaurant</td>\n",
       "      <td>2.5</td>\n",
       "      <td>127</td>\n",
       "    </tr>\n",
       "    <tr>\n",
       "      <th>4</th>\n",
       "      <td>j-6MgWWlotFZAQ23LZrTPQ</td>\n",
       "      <td>I've been eying the Trattoria since it opened,...</td>\n",
       "      <td>Queen Creek Olive Mill Trattoria</td>\n",
       "      <td>3.5</td>\n",
       "      <td>24</td>\n",
       "    </tr>\n",
       "  </tbody>\n",
       "</table>\n",
       "</div>"
      ],
      "text/plain": [
       "              business_id                                               text  \\\n",
       "0  OH3baEaklANPe1farAKgRg  Why 4 stars? It's McDonalds, that's why. Its c...   \n",
       "1  UdEmYOnk2iJDY9lpEPAlJQ  I've never had a bad experience at this place,...   \n",
       "2  iAD5r5vNOzc1AP6UA5yFiQ  This place has a serious problem with unwelcom...   \n",
       "3  dNDAdeE8olF4eZaslNtBZw  Sister in town from Ontario Canada and wanted ...   \n",
       "4  j-6MgWWlotFZAQ23LZrTPQ  I've been eying the Trattoria since it opened,...   \n",
       "\n",
       "                               name  stars  review_count  \n",
       "0                        McDonald's    2.0            28  \n",
       "1         Floridino's Pizza & Pasta    4.0           420  \n",
       "2                      Bella Fresco    4.0           131  \n",
       "3        Manny's Mexican Restaurant    2.5           127  \n",
       "4  Queen Creek Olive Mill Trattoria    3.5            24  "
      ]
     },
     "execution_count": 90,
     "metadata": {},
     "output_type": "execute_result"
    }
   ],
   "source": [
    "#Merging business names and stars with the review dataset\n",
    "import pandas as pd\n",
    "reviews=reviews.merge(business_details,how='left',on='business_id')\n",
    "reviews.head()"
   ]
  },
  {
   "cell_type": "code",
   "execution_count": 91,
   "metadata": {},
   "outputs": [
    {
     "data": {
      "text/plain": [
       "24386"
      ]
     },
     "execution_count": 91,
     "metadata": {},
     "output_type": "execute_result"
    }
   ],
   "source": [
    "len(reviews)"
   ]
  },
  {
   "cell_type": "code",
   "execution_count": 92,
   "metadata": {},
   "outputs": [],
   "source": [
    "#cleaning reviews and removing stop words to be input in the model\n",
    "#Trying to use LDA to model topics for reviews\n",
    "from gensim import corpora\n",
    "from gensim.models.ldamodel import LdaModel\n",
    "from gensim.parsing.preprocessing import STOPWORDS\n",
    "import pprint\n",
    "documents=reviews['text'] #need only the text\n",
    "stoplist = list(STOPWORDS)\n",
    "texts = [[word for word in document.lower().split() if (word not in stoplist) & (word.isalnum())]\n",
    "         for document in documents if isinstance(document,str)] #tokenizing"
   ]
  },
  {
   "cell_type": "code",
   "execution_count": 93,
   "metadata": {},
   "outputs": [
    {
     "data": {
      "text/plain": [
       "24386"
      ]
     },
     "execution_count": 93,
     "metadata": {},
     "output_type": "execute_result"
    }
   ],
   "source": [
    "len(texts) #checking to see if same length"
   ]
  },
  {
   "cell_type": "code",
   "execution_count": 94,
   "metadata": {},
   "outputs": [],
   "source": [
    "#In the above code, we tokenize all of the reviews and remove stop words\n",
    "#remove words that appear only once \n",
    "#frequency of the token across ALL reviews\n",
    "\n",
    "#counting the frequency of token across ALL reviews\n",
    "from collections import defaultdict\n",
    "frequency = defaultdict(int)\n",
    "for text in texts:\n",
    "    for token in text:\n",
    "        frequency[token] += 1\n",
    "        \n",
    "#removing tokens that occur only once across all reviews\n",
    "texts = [[token for token in text if frequency[token] > 10] for text in texts] #if frequence(token)>1"
   ]
  },
  {
   "cell_type": "code",
   "execution_count": 95,
   "metadata": {},
   "outputs": [],
   "source": [
    "dictionary = corpora.Dictionary(texts) #word id-word pairs\n",
    "corpus = [dictionary.doc2bow(text) for text in texts] #word id-frequence of word pairs"
   ]
  },
  {
   "cell_type": "code",
   "execution_count": 96,
   "metadata": {},
   "outputs": [
    {
     "data": {
      "text/plain": [
       "93"
      ]
     },
     "execution_count": 96,
     "metadata": {},
     "output_type": "execute_result"
    }
   ],
   "source": [
    "#Checking frequency of the 'contextual' words we would like to identify\n",
    "\n",
    "import collections as c\n",
    "emptylist=[]\n",
    "[emptylist.extend(x) for x in texts]\n",
    "len(emptylist)\n",
    "count=c.Counter(emptylist)\n",
    "count['candle']"
   ]
  },
  {
   "cell_type": "code",
   "execution_count": 71,
   "metadata": {},
   "outputs": [
    {
     "name": "stderr",
     "output_type": "stream",
     "text": [
      "/Users/sanjanarosario/anaconda3/lib/python3.6/site-packages/gensim/models/ldamodel.py:1023: RuntimeWarning: divide by zero encountered in log\n",
      "  diff = np.log(self.expElogbeta)\n"
     ]
    },
    {
     "data": {
      "text/plain": [
       "[(19,\n",
       "  '0.028*\"sure\" + 0.027*\"dinner\" + 0.025*\"pretty\" + 0.025*\"table\" + 0.024*\"server\" + 0.021*\"food\" + 0.020*\"seated\" + 0.017*\"ended\" + 0.015*\"experience\" + 0.015*\"especially\"'),\n",
       " (47,\n",
       "  '0.348*\"hot\" + 0.087*\"chili\" + 0.055*\"dog\" + 0.036*\"decent\" + 0.028*\"visits\" + 0.023*\"break\" + 0.020*\"larger\" + 0.020*\"sold\" + 0.017*\"written\" + 0.016*\"beautifully\"'),\n",
       " (89,\n",
       "  '0.115*\"fish\" + 0.090*\"clean\" + 0.071*\"cheap\" + 0.053*\"place\" + 0.037*\"lunch\" + 0.032*\"expect\" + 0.031*\"nice\" + 0.030*\"size\" + 0.030*\"coconut\" + 0.026*\"great\"'),\n",
       " (82,\n",
       "  '0.075*\"staff\" + 0.063*\"great\" + 0.050*\"friendly\" + 0.048*\"food\" + 0.038*\"restaurant\" + 0.030*\"place\" + 0.025*\"helpful\" + 0.024*\"visit\" + 0.022*\"visiting\" + 0.022*\"owners\"'),\n",
       " (64,\n",
       "  '0.183*\"open\" + 0.073*\"expensive\" + 0.062*\"days\" + 0.052*\"weeks\" + 0.050*\"ago\" + 0.047*\"comfortable\" + 0.046*\"hungry\" + 0.038*\"job\" + 0.037*\"casual\" + 0.035*\"cozy\"'),\n",
       " (79,\n",
       "  '0.071*\"minutes\" + 0.034*\"time\" + 0.033*\"order\" + 0.031*\"food\" + 0.030*\"waited\" + 0.027*\"service\" + 0.025*\"10\" + 0.024*\"wait\" + 0.020*\"20\" + 0.017*\"took\"'),\n",
       " (53,\n",
       "  '0.111*\"spicy\" + 0.070*\"curry\" + 0.065*\"indian\" + 0.040*\"die\" + 0.039*\"spice\" + 0.035*\"dish\" + 0.032*\"venue\" + 0.030*\"food\" + 0.026*\"flavors\" + 0.020*\"dishes\"'),\n",
       " (90,\n",
       "  '0.038*\"times\" + 0.038*\"bigger\" + 0.032*\"mix\" + 0.028*\"years\" + 0.026*\"going\" + 0.025*\"like\" + 0.025*\"big\" + 0.022*\"incredible\" + 0.021*\"better\" + 0.021*\"tried\"'),\n",
       " (2,\n",
       "  '0.071*\"like\" + 0.054*\"eaten\" + 0.051*\"inside\" + 0.043*\"tasted\" + 0.040*\"place\" + 0.039*\"taste\" + 0.035*\"better\" + 0.029*\"dip\" + 0.027*\"consistently\" + 0.026*\"love\"'),\n",
       " (9,\n",
       "  '0.065*\"variety\" + 0.060*\"place\" + 0.059*\"pretty\" + 0.050*\"good\" + 0.034*\"limited\" + 0.032*\"tables\" + 0.028*\"people\" + 0.026*\"menu\" + 0.026*\"appreciate\" + 0.023*\"looks\"'),\n",
       " (21,\n",
       "  '0.208*\"chicken\" + 0.040*\"food\" + 0.037*\"ordered\" + 0.029*\"fried\" + 0.020*\"rice\" + 0.018*\"got\" + 0.017*\"sauce\" + 0.017*\"like\" + 0.017*\"time\" + 0.015*\"lunch\"'),\n",
       " (41,\n",
       "  '0.118*\"owner\" + 0.041*\"box\" + 0.036*\"going\" + 0.035*\"location\" + 0.035*\"city\" + 0.028*\"paid\" + 0.025*\"normal\" + 0.025*\"tempe\" + 0.023*\"new\" + 0.022*\"wednesday\"'),\n",
       " (87,\n",
       "  '0.064*\"place\" + 0.053*\"yelp\" + 0.046*\"gets\" + 0.024*\"reviews\" + 0.022*\"surprisingly\" + 0.021*\"typical\" + 0.019*\"strawberry\" + 0.019*\"pretty\" + 0.018*\"chill\" + 0.018*\"complaints\"'),\n",
       " (6,\n",
       "  '0.313*\"pizza\" + 0.039*\"crust\" + 0.036*\"place\" + 0.028*\"cheese\" + 0.027*\"good\" + 0.027*\"like\" + 0.022*\"ordered\" + 0.020*\"sauce\" + 0.020*\"best\" + 0.017*\"tomato\"'),\n",
       " (46,\n",
       "  '0.283*\"happy\" + 0.199*\"hour\" + 0.044*\"great\" + 0.027*\"day\" + 0.020*\"appetizers\" + 0.019*\"outstanding\" + 0.018*\"drinks\" + 0.018*\"previous\" + 0.018*\"soda\" + 0.013*\"cold\"'),\n",
       " (70,\n",
       "  '0.063*\"reason\" + 0.044*\"start\" + 0.028*\"let\" + 0.026*\"restaurant\" + 0.025*\"stars\" + 0.018*\"know\" + 0.017*\"allow\" + 0.016*\"hours\" + 0.015*\"damn\" + 0.015*\"team\"'),\n",
       " (61,\n",
       "  '0.069*\"bacon\" + 0.066*\"counter\" + 0.052*\"thanks\" + 0.048*\"pepper\" + 0.048*\"salt\" + 0.041*\"morning\" + 0.039*\"dogs\" + 0.037*\"order\" + 0.032*\"ones\" + 0.030*\"style\"'),\n",
       " (8,\n",
       "  '0.135*\"italian\" + 0.038*\"stuffed\" + 0.033*\"cute\" + 0.031*\"pasta\" + 0.023*\"product\" + 0.020*\"cleveland\" + 0.020*\"tons\" + 0.019*\"peppers\" + 0.019*\"try\" + 0.019*\"good\"'),\n",
       " (54,\n",
       "  '0.040*\"believe\" + 0.036*\"filling\" + 0.033*\"yes\" + 0.032*\"bought\" + 0.031*\"recently\" + 0.030*\"cash\" + 0.030*\"simple\" + 0.024*\"boy\" + 0.024*\"complain\" + 0.023*\"american\"'),\n",
       " (56,\n",
       "  '0.175*\"excellent\" + 0.093*\"great\" + 0.084*\"wonderful\" + 0.074*\"food\" + 0.067*\"service\" + 0.043*\"thank\" + 0.043*\"glad\" + 0.029*\"dim\" + 0.024*\"waffles\" + 0.023*\"plan\"')]"
      ]
     },
     "execution_count": 71,
     "metadata": {},
     "output_type": "execute_result"
    }
   ],
   "source": [
    "#Set parameters\n",
    "num_topics = 100 #can experiment with this, for the number of reviews we have, more topics==contextual words!\n",
    "passes = 20\n",
    "lda = LdaModel(corpus,\n",
    "              id2word=dictionary,\n",
    "              num_topics=num_topics,\n",
    "              passes=passes)\n",
    "\n",
    "lda.print_topics()"
   ]
  },
  {
   "cell_type": "code",
   "execution_count": null,
   "metadata": {},
   "outputs": [
    {
     "name": "stdout",
     "output_type": "stream",
     "text": [
      "What are you searching for today?thanksgiving dinner\n"
     ]
    }
   ],
   "source": [
    "#after multiple attempts, trying LSI model, instead of LDA\n",
    "\n",
    "from gensim.similarities.docsim import Similarity\n",
    "from gensim import corpora, models, similarities\n",
    "lsi = models.LsiModel(corpus, id2word=dictionary, num_topics=100)\n",
    "\n",
    "doc=input('What are you searching for today?')\n",
    "vec_bow = dictionary.doc2bow(doc.lower().split())\n",
    "vec_lsi = lsi[vec_bow]\n",
    "index = similarities.MatrixSimilarity(lsi[corpus])\n",
    "sims = index[vec_lsi]\n",
    "sims = sorted(enumerate(sims), key=lambda item: -item[1])\n",
    "sims[0][0]\n",
    "\n",
    "indices=[sims[i][0] for i in range(10)]\n",
    "print(reviews[['name','stars','text']].iloc[indices])"
   ]
  }
 ],
 "metadata": {
  "kernelspec": {
   "display_name": "Python 3",
   "language": "python",
   "name": "python3"
  },
  "language_info": {
   "codemirror_mode": {
    "name": "ipython",
    "version": 3
   },
   "file_extension": ".py",
   "mimetype": "text/x-python",
   "name": "python",
   "nbconvert_exporter": "python",
   "pygments_lexer": "ipython3",
   "version": "3.6.5"
  }
 },
 "nbformat": 4,
 "nbformat_minor": 2
}
