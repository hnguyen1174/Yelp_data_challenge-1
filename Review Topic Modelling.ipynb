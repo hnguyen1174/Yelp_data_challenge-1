{
 "cells": [
  {
   "cell_type": "code",
   "execution_count": 2,
   "metadata": {},
   "outputs": [
    {
     "name": "stderr",
     "output_type": "stream",
     "text": [
      "/Users/sanjanarosario/anaconda3/lib/python3.6/site-packages/IPython/core/interactiveshell.py:2785: DtypeWarning: Columns (0) have mixed types. Specify dtype option on import or set low_memory=False.\n",
      "  interactivity=interactivity, compiler=compiler, result=result)\n"
     ]
    }
   ],
   "source": [
    "import json\n",
    "import os\n",
    "import ast\n",
    "import pandas as pd\n",
    "rest_reviews=pd.read_csv('restaurant_reviews_newcols.csv')"
   ]
  },
  {
   "cell_type": "code",
   "execution_count": 42,
   "metadata": {},
   "outputs": [],
   "source": [
    "emphasis_text=[x for x in rest_reviews['text'] if isinstance(x,str)]\n",
    "emphasis_count=[x.count('!') for x in rest_reviews['text'] if isinstance(x,str)]\n",
    "temp=pd.DataFrame()\n",
    "temp['text']=emphasis_text\n",
    "temp['count']=emphasis_count"
   ]
  },
  {
   "cell_type": "code",
   "execution_count": 54,
   "metadata": {},
   "outputs": [],
   "source": [
    "check=temp[temp['count']>50]['text']"
   ]
  },
  {
   "cell_type": "code",
   "execution_count": 55,
   "metadata": {},
   "outputs": [
    {
     "name": "stdout",
     "output_type": "stream",
     "text": [
      "23807      So I'm a loyal Hooters customer !! I've been t...\n",
      "46946      \"Wy Knot Cafe\" formally known as \"Perc Up\" is ...\n",
      "48509      I've had good and bad experiences with HOME DE...\n",
      "117821     Terrible service from Jay! We went here for my...\n",
      "121465     If I could give it a negative star rating I wo...\n",
      "123420     this review is loooooong overdue for La Dolce ...\n",
      "174862     The most wonderful store .. the most hap, happ...\n",
      "183716     Food took a long time and horrible I would not...\n",
      "185715     I totally agree with Mr. or Mrs. Jen K. !!!!!!...\n",
      "197754     Black Friday was a absolute mess and this Walm...\n",
      "225378     I ordered a breakfast burrito egg, bacon ,pota...\n",
      "225379     this place sucks!!!!!!!!!!!!!!!!!!!!!!!!!!!!!!...\n",
      "225816     Today at Dom Demarcos, Las Vegas, NV was the W...\n",
      "237835     WE MOTHERF'IN' BALLLLLLLLLLLLLLLLLLL'  WE DON'...\n",
      "251523     You can have the best food but the worst servi...\n",
      "259244     HORRIBLE EXPERIENCE!!! STAY AWAY!!!!!!!!!!!!!!...\n",
      "292182     I don't venture out of Phoenix that often but ...\n",
      "295899     I read some of the other reviews and I don't g...\n",
      "317787     Everything I've had is delicious and I'm hooke...\n",
      "369870     WORST SERVICE EVER!!!!!!!!!!!!!!! It's for sur...\n",
      "385576     WORST SERVICE EVER!!!!!!!!!!!!!!!!!!!!!!!!!!!!...\n",
      "387608     This has to be the absolute worst experience e...\n",
      "435535     Sucks!!!!!!!!!!!!!!!!!!!!!!!!!!!!!!! Eww!!!!!!...\n",
      "447614     July 22, 2017\\n\\nAgain a great experience! At ...\n",
      "451937     NEVER HAVE ANY SPECIAL EVENT HERE!!!!!!!!!!!!!...\n",
      "453450     WOW...HORRIBLE CUSTOMER SERVICE (MANAGER - KER...\n",
      "459119     I grew up on Mex food and this is the real dea...\n",
      "480592     THERE WAS A ROACH IN MY FOOD!!!!!!!!!!!!!!!!!!...\n",
      "480736     Extremely disappointed.  I have frequented thi...\n",
      "504200     FOUND DIME COIN IN MY TOM KHA SOUP!!! ASSUMED ...\n",
      "                                 ...                        \n",
      "2740475    This place should NOT even be open!!!!!!!!!!!!...\n",
      "2740974    Must say, I'd been looking forward to coming h...\n",
      "2757778    This place Sucks with a Capital S!!!!!! Negati...\n",
      "2769204    OMG - I watch a lot of cooking shows - Top Che...\n",
      "2812472    Ohhhhhhh brother...where do I start....really....\n",
      "2860613    What can one say but AWESOMENESS BEYOND!!!  I ...\n",
      "2907966    Yessssssssssss!!!!!!!!!!!!!!!!!!!!!!!!!!!!!!!!...\n",
      "2923900    Funny how the one bad review on here is from s...\n",
      "2964477    For my birthday this year as a gift from my mo...\n",
      "2973061    We were absolutely blown away!!! I can't even ...\n",
      "2994336    This is one of my VERY FAVORITE places to eat!...\n",
      "3014968    Very slow-employees don't appear to be happy-b...\n",
      "3040103    I was very dissapointed, & will never go back!...\n",
      "3108478    STORY TIME\\nMind, you before this, I was playi...\n",
      "3128069    Place fucking sucks!!!!!!!!!!!!!!!!!!!!!!!!!!!...\n",
      "3139339    Detroit's finest! Love this place! Service ROC...\n",
      "3145532    Best cupcakes I ever ate in my whole life and ...\n",
      "3147077    OH MY LORD!!! I HAVE DIED AND GONE TO HEAVEN!!...\n",
      "3157338    Always came here for dinner but came here for ...\n",
      "3157363    I went in last week as my very first time at C...\n",
      "3157456    !!!!!!!!!!!!!!!!!!!!!!!!!!!!!!!!!!!!!!!!!!!!!!...\n",
      "3176997    Don't bother- bad food, non-attentive staff, s...\n",
      "3196589    The WORST!!!!!!   Against the suggestions of o...\n",
      "3204356    I USED TO love this place.  I USED TO enjoy co...\n",
      "3204375    ***Update*** Feb 2018\\n\\nNo more buy 1 get 1 o...\n",
      "3269945    Morton's served me a lovely steak, but sometim...\n",
      "3294164    Huge fan, we eat lunch here weekly. Have tried...\n",
      "3303798    Here there wine lovers. ! Fyi, if you're in Ve...\n",
      "3312286    alert!!!!!!!!!!!!!!!!!!!!!!!!!!!!!!!!!!!!!!!!!...\n",
      "3322227    OH NO !!!!!!!!!!!!!!!!!!!!!!!!!!!!!!  THEY NO ...\n",
      "Name: text, Length: 186, dtype: object\n"
     ]
    }
   ],
   "source": [
    "print(check)"
   ]
  },
  {
   "cell_type": "code",
   "execution_count": 66,
   "metadata": {},
   "outputs": [
    {
     "name": "stdout",
     "output_type": "stream",
     "text": [
      "What are you searching for today?Lunch with boss\n"
     ]
    }
   ],
   "source": [
    "\n",
    "\n",
    "def category_filter(df):\n",
    "    import re\n",
    "    global search_category\n",
    "    searched=search_category.split(' ')\n",
    "    \n",
    "    if isinstance(df['text'],str):\n",
    "        temp=df['text'].split(', ')\n",
    "        checksum=sum([searched.count(x) for x in temp])\n",
    "        return checksum\n",
    "    else:\n",
    "        return 0"
   ]
  },
  {
   "cell_type": "code",
   "execution_count": 78,
   "metadata": {},
   "outputs": [
    {
     "name": "stdout",
     "output_type": "stream",
     "text": [
      "What are you searching for today?formal boss\n",
      "Unnamed: 0\n",
      "review_id\n",
      "user_id\n",
      "business_id\n",
      "stars\n",
      "date\n",
      "text\n",
      "useful\n",
      "funny\n",
      "cool\n",
      "user_rating_count\n",
      "average_rating_rest\n",
      "rest_review_count\n",
      "flag\n"
     ]
    },
    {
     "data": {
      "text/plain": [
       "[None,\n",
       " None,\n",
       " None,\n",
       " None,\n",
       " None,\n",
       " None,\n",
       " None,\n",
       " None,\n",
       " None,\n",
       " None,\n",
       " None,\n",
       " None,\n",
       " None,\n",
       " None]"
      ]
     },
     "execution_count": 78,
     "metadata": {},
     "output_type": "execute_result"
    }
   ],
   "source": [
    "search_category=input('What are you searching for today?')\n",
    "rest_reviews['flag']=rest_reviews.apply(category_filter,axis=1)\n",
    "[print(i) for i in rest_reviews[rest_reviews['flag']>0]]"
   ]
  },
  {
   "cell_type": "code",
   "execution_count": 77,
   "metadata": {},
   "outputs": [
    {
     "data": {
      "text/plain": [
       "1108216    Another local neighborhood favorite.  This pla...\n",
       "2532350    This is one of my favourite Malls even though ...\n",
       "2836385    I can honestly say that I don't remember too m...\n",
       "3267251    Nachdem wir die Las Vegas North Premium Outlet...\n",
       "Name: text, dtype: object"
      ]
     },
     "execution_count": 77,
     "metadata": {},
     "output_type": "execute_result"
    }
   ],
   "source": [
    "rest_reviews[rest_reviews['flag']==1]['text']"
   ]
  },
  {
   "cell_type": "code",
   "execution_count": 79,
   "metadata": {},
   "outputs": [],
   "source": [
    "#Trying to use LDA to model topics for reviews\n",
    "from gensim import corpora\n",
    "from gensim.models.ldamodel import LdaModel\n",
    "from gensim.parsing.preprocessing import STOPWORDS\n",
    "import pprint\n",
    "\n",
    "stoplist = set('for a of the and to in'.split())"
   ]
  },
  {
   "cell_type": "code",
   "execution_count": null,
   "metadata": {},
   "outputs": [],
   "source": []
  }
 ],
 "metadata": {
  "kernelspec": {
   "display_name": "Python 3",
   "language": "python",
   "name": "python3"
  },
  "language_info": {
   "codemirror_mode": {
    "name": "ipython",
    "version": 3
   },
   "file_extension": ".py",
   "mimetype": "text/x-python",
   "name": "python",
   "nbconvert_exporter": "python",
   "pygments_lexer": "ipython3",
   "version": "3.6.5"
  }
 },
 "nbformat": 4,
 "nbformat_minor": 2
}
