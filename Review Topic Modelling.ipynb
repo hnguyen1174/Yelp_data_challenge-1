{
 "cells": [
  {
   "cell_type": "code",
   "execution_count": null,
   "metadata": {},
   "outputs": [],
   "source": [
    "import json\n",
    "import os\n",
    "import ast\n",
    "import pandas as pd\n",
    "rest_reviews=pd.read_csv('restaurant_reviews_newcols.csv')"
   ]
  },
  {
   "cell_type": "code",
   "execution_count": null,
   "metadata": {},
   "outputs": [],
   "source": [
    "emphasis_text=[x for x in rest_reviews['text'] if isinstance(x,str)]\n",
    "emphasis_count=[x.count('!') for x in rest_reviews['text'] if isinstance(x,str)]\n",
    "temp=pd.DataFrame()\n",
    "temp['text']=emphasis_text\n",
    "temp['count']=emphasis_count"
   ]
  },
  {
   "cell_type": "code",
   "execution_count": null,
   "metadata": {},
   "outputs": [],
   "source": [
    "check=temp[temp['count']>50]['text']"
   ]
  },
  {
   "cell_type": "code",
   "execution_count": null,
   "metadata": {},
   "outputs": [],
   "source": [
    "print(check)"
   ]
  },
  {
   "cell_type": "code",
   "execution_count": null,
   "metadata": {},
   "outputs": [],
   "source": [
    "def category_filter(df):\n",
    "    import re\n",
    "    global search_category\n",
    "    searched=search_category.split(' ')\n",
    "    \n",
    "    if isinstance(df['text'],str):\n",
    "        temp=df['text'].split(', ')\n",
    "        checksum=sum([searched.count(x) for x in temp])\n",
    "        return checksum\n",
    "    else:\n",
    "        return 0"
   ]
  },
  {
   "cell_type": "code",
   "execution_count": null,
   "metadata": {},
   "outputs": [],
   "source": [
    "search_category=input('What are you searching for today?')\n",
    "rest_reviews['flag']=rest_reviews.apply(category_filter,axis=1)\n",
    "[print(i) for i in rest_reviews[rest_reviews['flag']>0]]"
   ]
  },
  {
   "cell_type": "code",
   "execution_count": null,
   "metadata": {},
   "outputs": [],
   "source": [
    "rest_reviews[rest_reviews['flag']==1]['text']"
   ]
  },
  {
   "cell_type": "code",
   "execution_count": null,
   "metadata": {},
   "outputs": [],
   "source": [
    "#Trying to use LDA to model topics for reviews\n",
    "from gensim import corpora\n",
    "from gensim.models.ldamodel import LdaModel\n",
    "from gensim.parsing.preprocessing import STOPWORDS\n",
    "import pprint\n"
   ]
  },
  {
   "cell_type": "code",
   "execution_count": null,
   "metadata": {},
   "outputs": [],
   "source": [
    "documents=rest_reviews['text']\n",
    "stoplist = list(STOPWORDS)\n",
    "texts = [[word for word in document.lower().split() if word not in stoplist]\n",
    "         for document in documents if isinstance(document,str)]\n",
    "texts"
   ]
  },
  {
   "cell_type": "code",
   "execution_count": null,
   "metadata": {},
   "outputs": [],
   "source": [
    "#In the above code, we tokenize all of the reviews and remove stop words#remove words that appear only once #frequency of the token across ALL review\n",
    "\n",
    "#counting the frequency of token across ALL reviews\n",
    "from collections import defaultdict\n",
    "frequency = defaultdict(int)\n",
    "for text in texts:\n",
    "    for token in text:\n",
    "        frequency[token] += 1\n",
    "        \n",
    "#removing tokens that occur only once across all reviews\n",
    "texts = [[token for token in text if frequency[token] > 1] for text in texts]\n",
    "print(*texts)"
   ]
  },
  {
   "cell_type": "code",
   "execution_count": null,
   "metadata": {},
   "outputs": [],
   "source": [
    "dictionary = corpora.Dictionary(texts)\n",
    "for i in dictionary.keys():\n",
    "    print(dictionary.get(i))"
   ]
  }
 ],
 "metadata": {
  "kernelspec": {
   "display_name": "Python 3",
   "language": "python",
   "name": "python3"
  },
  "language_info": {
   "codemirror_mode": {
    "name": "ipython",
    "version": 3
   },
   "file_extension": ".py",
   "mimetype": "text/x-python",
   "name": "python",
   "nbconvert_exporter": "python",
   "pygments_lexer": "ipython3",
   "version": "3.6.4"
  }
 },
 "nbformat": 4,
 "nbformat_minor": 2
}
