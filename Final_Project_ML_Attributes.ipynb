{
 "cells": [
  {
   "cell_type": "code",
   "execution_count": 301,
   "metadata": {},
   "outputs": [],
   "source": [
    "# import necessary libraries\n",
    "import numpy as np\n",
    "import pandas as pd\n",
    "import matplotlib.pyplot as plt\n",
    "%matplotlib inline\n",
    "import seaborn as sns\n",
    "import networkx as nx\n",
    "\n",
    "color = sns.color_palette()"
   ]
  },
  {
   "cell_type": "markdown",
   "metadata": {},
   "source": [
    "# 1. Setting Up"
   ]
  },
  {
   "cell_type": "code",
   "execution_count": 302,
   "metadata": {},
   "outputs": [],
   "source": [
    "# Import necessary libraries\n",
    "\n",
    "#misc\n",
    "import gc\n",
    "import time\n",
    "import warnings\n",
    "import json\n",
    "import os\n",
    "import ast\n",
    "\n",
    "import numpy as np\n",
    "import pandas as pd\n",
    "\n",
    "# Plotting\n",
    "import matplotlib.pyplot as plt\n",
    "%matplotlib inline\n",
    "import seaborn as sns\n",
    "color = sns.color_palette()"
   ]
  },
  {
   "cell_type": "markdown",
   "metadata": {},
   "source": [
    "Load the business dataset"
   ]
  },
  {
   "cell_type": "code",
   "execution_count": 303,
   "metadata": {},
   "outputs": [
    {
     "name": "stdout",
     "output_type": "stream",
     "text": [
      "<class 'pandas.core.frame.DataFrame'>\n",
      "RangeIndex: 188593 entries, 0 to 188592\n",
      "Data columns (total 61 columns):\n",
      "hours.Friday                             141796 non-null object\n",
      "attributes.RestaurantsAttire             48182 non-null object\n",
      "attributes.BikeParking                   84891 non-null object\n",
      "state                                    188593 non-null object\n",
      "categories                               188052 non-null object\n",
      "attributes.BusinessParking               103424 non-null object\n",
      "attributes.Alcohol                       47892 non-null object\n",
      "attributes.GoodForDancing                9162 non-null object\n",
      "attributes.BYOB                          911 non-null object\n",
      "attributes.DietaryRestrictions           138 non-null object\n",
      "attributes.RestaurantsReservations       51363 non-null object\n",
      "attributes.GoodForKids                   64931 non-null object\n",
      "attributes.Smoking                       8113 non-null object\n",
      "hours.Sunday                             93387 non-null object\n",
      "attributes.BYOBCorkage                   1409 non-null object\n",
      "latitude                                 188587 non-null float64\n",
      "attributes.BusinessAcceptsBitcoin        12674 non-null object\n",
      "attributes.GoodForMeal                   47483 non-null object\n",
      "attributes.BestNights                    6844 non-null object\n",
      "attributes.NoiseLevel                    43710 non-null object\n",
      "attributes.Corkage                       657 non-null object\n",
      "attributes.Music                         8807 non-null object\n",
      "hours.Wednesday                          141843 non-null object\n",
      "attributes.Open24Hours                   352 non-null object\n",
      "longitude                                188587 non-null float64\n",
      "neighborhood                             68655 non-null object\n",
      "attributes.HairSpecializesIn             1881 non-null object\n",
      "hours.Thursday                           142359 non-null object\n",
      "attributes.AgesAllowed                   397 non-null object\n",
      "attributes.ByAppointmentOnly             45423 non-null object\n",
      "business_id                              188593 non-null object\n",
      "attributes.RestaurantsDelivery           51668 non-null object\n",
      "attributes.RestaurantsGoodForGroups      53839 non-null object\n",
      "postal_code                              187912 non-null object\n",
      "attributes.RestaurantsTableService       43325 non-null object\n",
      "attributes.WiFi                          49026 non-null object\n",
      "hours                                    143791 non-null object\n",
      "attributes.DogsAllowed                   13681 non-null object\n",
      "review_count                             188593 non-null int64\n",
      "name                                     188593 non-null object\n",
      "attributes.BusinessAcceptsCreditCards    140391 non-null object\n",
      "hours.Saturday                           125376 non-null object\n",
      "attributes.Ambience                      47577 non-null object\n",
      "attributes.RestaurantsCounterService     397 non-null object\n",
      "attributes.DriveThru                     6754 non-null object\n",
      "attributes.Caters                        40038 non-null object\n",
      "address                                  180970 non-null object\n",
      "attributes.RestaurantsPriceRange2        107120 non-null float64\n",
      "attributes.RestaurantsTakeOut            61206 non-null object\n",
      "hours.Tuesday                            140607 non-null object\n",
      "attributes.WheelchairAccessible          52023 non-null object\n",
      "attributes.HasTV                         47533 non-null object\n",
      "attributes.HappyHour                     9285 non-null object\n",
      "hours.Monday                             132761 non-null object\n",
      "attributes.CoatCheck                     8531 non-null object\n",
      "attributes.OutdoorSeating                54181 non-null object\n",
      "is_open                                  188593 non-null int64\n",
      "attributes.AcceptsInsurance              11671 non-null object\n",
      "attributes                               162807 non-null object\n",
      "stars                                    188593 non-null float64\n",
      "city                                     188583 non-null object\n",
      "dtypes: float64(4), int64(2), object(55)\n",
      "memory usage: 87.8+ MB\n"
     ]
    }
   ],
   "source": [
    "business = pd.read_csv('/home/han2114/final_project_tools_analytics/yelp_academic_dataset_business_full.csv')\n",
    "business.info()"
   ]
  },
  {
   "cell_type": "code",
   "execution_count": 304,
   "metadata": {},
   "outputs": [
    {
     "name": "stdout",
     "output_type": "stream",
     "text": [
      "There are  1305  different types/categories of Businesses in Yelp!\n"
     ]
    }
   ],
   "source": [
    "cat_all = ','.join(business['categories'].dropna()).replace(\" \", \"\")\n",
    "cat_all = pd.DataFrame(cat_all.split(','), columns=['category'])\n",
    "cat_all_count = cat_all.category.value_counts().sort_values(ascending = False)\n",
    "print(\"There are \",len(cat_all_count),\" different types/categories of Businesses in Yelp!\")"
   ]
  },
  {
   "cell_type": "code",
   "execution_count": 305,
   "metadata": {},
   "outputs": [
    {
     "data": {
      "text/plain": [
       "Restaurants                 57173\n",
       "Shopping                    30231\n",
       "Food                        27118\n",
       "Beauty&Spas                 18967\n",
       "HomeServices                18634\n",
       "Health&Medical              16157\n",
       "LocalServices               12906\n",
       "Automotive                  12656\n",
       "Nightlife                   12438\n",
       "Bars                        10853\n",
       "EventPlanning&Services       9774\n",
       "ActiveLife                   9119\n",
       "Fashion                      7406\n",
       "Coffee&Tea                   6936\n",
       "Sandwiches                   6912\n",
       "HairSalons                   6825\n",
       "FastFood                     6812\n",
       "American(Traditional)        6659\n",
       "Pizza                        6603\n",
       "Home&Garden                  6020\n",
       "AutoRepair                   5877\n",
       "Hotels&Travel                5808\n",
       "Arts&Entertainment           5794\n",
       "ProfessionalServices         5620\n",
       "Doctors                      5450\n",
       "RealEstate                   5295\n",
       "Burgers                      5126\n",
       "Breakfast&Brunch             5023\n",
       "NailSalons                   4839\n",
       "Fitness&Instruction          4559\n",
       "                            ...  \n",
       "StreetArt                       1\n",
       "RotisserieChicken               1\n",
       "ElectricitySuppliers            1\n",
       "Playsets                        1\n",
       "Rodeo                           1\n",
       "SaunaInstallation&Repair        1\n",
       "Bulgarian                       1\n",
       "Tonkatsu                        1\n",
       "JapaneseSweets                  1\n",
       "Osteopaths                      1\n",
       "Flyboarding                     1\n",
       "Hainan                          1\n",
       "BeachBars                       1\n",
       "Otologists                      1\n",
       "GeneralFestivals                1\n",
       "TraditionalNorwegian            1\n",
       "HybridCarRepair                 1\n",
       "BeerHall                        1\n",
       "Soba                            1\n",
       "SignatureCuisine                1\n",
       "Czech/Slovakian                 1\n",
       "Backshop                        1\n",
       "MarketStalls                    1\n",
       "BeachVolleyball                 1\n",
       "SportEquipmentHire              1\n",
       "Pensions                        1\n",
       "DialysisClinics                 1\n",
       "WaterSuppliers                  1\n",
       "Tempura                         1\n",
       "SerboCroatian                   1\n",
       "Name: category, Length: 1305, dtype: int64"
      ]
     },
     "execution_count": 305,
     "metadata": {},
     "output_type": "execute_result"
    }
   ],
   "source": [
    "cat_all_count"
   ]
  },
  {
   "cell_type": "code",
   "execution_count": 306,
   "metadata": {},
   "outputs": [],
   "source": [
    "tfile = open('cat_all_count.txt', 'a')\n",
    "tfile.write(cat_all_count.to_string())\n",
    "tfile.close()"
   ]
  },
  {
   "cell_type": "code",
   "execution_count": 307,
   "metadata": {},
   "outputs": [],
   "source": [
    "food_masks = ['Restaurants', 'Food','Sandwiches', 'FastFood', 'Breakfast&Brunch', 'SpecialtyFood', 'Burgers',\n",
    "                    'American(Traditional)', 'American(New)','Pizza', 'Italian','African','Falafel','Turkish',\n",
    "                    'Desserts', 'Bakeries', 'Salad','ChickenWings', 'Mexican','Seafood','Chinese','Malaysian',\n",
    "                    'IceCream&FrozenYogurt', 'Delis', 'Japanese', 'Bars', 'Canadian(New)', 'AsianFusion',\n",
    "                    'Mediterranean', 'SushiBars','JuiceBars&Smoothies','Steakhouses','Coffee&Tea','Pretzels','PanAsian',\n",
    "                    'Barbeque','Beer','Wine&Spirits','SportsBars', 'Pubs','British','Poke','Delicatessen',\n",
    "                     'Lounges', 'WineBars', 'CocktailBars', 'Diners','Patisserie/CakeShop','Kosher','Afghan',\n",
    "                     'Vegetarian', 'EthnicFood', 'MiddleEastern','Persian/Iranian','FoodCourt','IrishPub',\n",
    "                     'Gluten-Free','ComfortFood','Indian','Soup','Vegan', 'Thai','FoodTrucks','Szechuan',\n",
    "                     'French','Greek','Buffets','Vietnamese','HotDogs','DiveBars','Tex-Mex','HotPot','Polish','Moroccan',\n",
    "                     'ImportedFood','Gastropubs','Bagels','BeerBar','Halal','Korean','Donuts','Tapas/SmallPlates',\n",
    "                     'Breweries','Southern','LatinAmerican','Do-It-YourselfFood','InternetCafes','Cantonese',\n",
    "                     'BubbleTea','TapasBars','Caribbean','Lebanese','CoffeeRoasteries','Gelato','Brazilian',\n",
    "                     'Pakistani','FoodStands','Hawaiian','Dim Sum','Tacos','SoulFood','Creperies','Ethiopian',\n",
    "                     'Fish&Chips','Cajun/Creole','Irish','ShavedIce','InternetCafes','Bistros','Peruvian','Waffles',\n",
    "                     'ModernEuropean','Taiwanese','Filipino','Cheesesteaks','German','Brasseries','Cuban',\n",
    "                     'Wineries','Ramen','Spanish','Poutineries','TeaRooms','Noodles','Cupcakes','Portuguese']"
   ]
  },
  {
   "cell_type": "code",
   "execution_count": 308,
   "metadata": {},
   "outputs": [],
   "source": [
    "bus_cats = business['categories']\n",
    "index_food_masks = list()\n",
    "NaN_list = list()\n",
    "for index, bus_cat in enumerate(bus_cats):\n",
    "    if pd.isnull(bus_cat) == True:\n",
    "        NaN_list.append(index)\n",
    "    else:\n",
    "        if bool(set(bus_cat.replace(\" \",\"\").split(',')) & set(food_masks)):\n",
    "            index_food_masks.append(index)"
   ]
  },
  {
   "cell_type": "code",
   "execution_count": 309,
   "metadata": {},
   "outputs": [],
   "source": [
    "restaurants = business.iloc[index_food_masks]"
   ]
  },
  {
   "cell_type": "code",
   "execution_count": 310,
   "metadata": {},
   "outputs": [
    {
     "name": "stdout",
     "output_type": "stream",
     "text": [
      "There are  835  different types/categories of Restaurants in Yelp!\n"
     ]
    }
   ],
   "source": [
    "cat_all_res = ','.join(restaurants['categories']).replace(\" \", \"\")\n",
    "cat_all_res = pd.DataFrame(cat_all_res.split(','), columns=['category'])\n",
    "cat_all_res_count = cat_all_res.category.value_counts().sort_values(ascending = False)\n",
    "print(\"There are \",len(cat_all_res_count),\" different types/categories of Restaurants in Yelp!\")"
   ]
  },
  {
   "cell_type": "code",
   "execution_count": 311,
   "metadata": {},
   "outputs": [],
   "source": [
    "USA_mask = ['AZ','NV','OH','NC','PA','WI','IL','SC','IN','OR','NY','MO','FL','AL','VA','CA']\n",
    "CAN_mask = ['ON','QC','AB','BC']\n",
    "UK_mask = ['NYK','XGM','NLK','XMS','CMA','WHT']\n",
    "GER_mask = ['NI','BY','HE','ST','RP','NW']\n",
    "location_mask = USA_mask + CAN_mask + UK_mask + GER_mask"
   ]
  },
  {
   "cell_type": "code",
   "execution_count": 312,
   "metadata": {},
   "outputs": [],
   "source": [
    "index_location_mask = list()\n",
    "state = restaurants['state']\n",
    "for index, state in enumerate(state):\n",
    "    if state in location_mask:\n",
    "        index_location_mask.append(index)"
   ]
  },
  {
   "cell_type": "code",
   "execution_count": 313,
   "metadata": {},
   "outputs": [],
   "source": [
    "restaurants = restaurants.iloc[index_location_mask]"
   ]
  },
  {
   "cell_type": "code",
   "execution_count": 314,
   "metadata": {},
   "outputs": [],
   "source": [
    "def label_country (row):\n",
    "    if row['state'] in  USA_mask:\n",
    "          return 'USA'\n",
    "    if row['state'] in  CAN_mask:\n",
    "          return 'Canada'\n",
    "    if row['state'] in  UK_mask:\n",
    "          return 'UK'\n",
    "    if row['state'] in  GER_mask:\n",
    "          return 'Germany'\n",
    "\n",
    "restaurants['country'] = restaurants.apply(lambda row: label_country(row),axis=1)"
   ]
  },
  {
   "cell_type": "markdown",
   "metadata": {},
   "source": [
    "# 2. Exploratory Data Analysis"
   ]
  },
  {
   "cell_type": "markdown",
   "metadata": {},
   "source": [
    "### 2A. Rating Distributions"
   ]
  },
  {
   "cell_type": "code",
   "execution_count": 15,
   "metadata": {},
   "outputs": [
    {
     "data": {
      "text/plain": [
       "1.0      540\n",
       "1.5     1540\n",
       "2.0     4065\n",
       "2.5     7400\n",
       "3.0    12984\n",
       "3.5    17410\n",
       "4.0    18145\n",
       "4.5    10069\n",
       "5.0     3199\n",
       "Name: stars, dtype: int64"
      ]
     },
     "execution_count": 15,
     "metadata": {},
     "output_type": "execute_result"
    }
   ],
   "source": [
    "# Get the distribution of the ratings\n",
    "rating_dist = restaurants['stars'].value_counts().sort_index()\n",
    "rating_dist"
   ]
  },
  {
   "cell_type": "code",
   "execution_count": 16,
   "metadata": {},
   "outputs": [
    {
     "data": {
      "image/png": "[encoded data removed]",
      "text/plain": [
       "<Figure size 1080x1080 with 1 Axes>"
      ]
     },
     "metadata": {
      "needs_background": "light"
     },
     "output_type": "display_data"
    }
   ],
   "source": [
    "plt.figure(figsize=(15,15))\n",
    "ax = sns.barplot(rating_dist.index, rating_dist.values, alpha=0.8)\n",
    "plt.title(\"Rating Distribution\")\n",
    "plt.ylabel('Number of business', fontsize=15)\n",
    "plt.xlabel('Rating', fontsize=15)\n",
    "\n",
    "rects = ax.patches\n",
    "labels = rating_dist.values\n",
    "for rect, label in zip(rects, labels):\n",
    "    height = rect.get_height()\n",
    "    ax.text(rect.get_x() + rect.get_width()/2, height + 5, label, ha='center', va='bottom')\n",
    "plt.show()"
   ]
  },
  {
   "cell_type": "code",
   "execution_count": 17,
   "metadata": {},
   "outputs": [
    {
     "data": {
      "image/png": "[encoded data removed]",
      "text/plain": [
       "<Figure size 864x864 with 1 Axes>"
      ]
     },
     "metadata": {},
     "output_type": "display_data"
    }
   ],
   "source": [
    "plt.figure(figsize=(12,12))\n",
    "labels = (np.array(rating_dist.index))\n",
    "sizes = (np.array((rating_dist / rating_dist.sum())*100))\n",
    "plt.pie(sizes, labels=labels, \n",
    "        autopct= '%1.1f%%', startangle = 200)\n",
    "plt.title(\"Rating Share\", fontsize=15)\n",
    "plt.show()"
   ]
  },
  {
   "cell_type": "code",
   "execution_count": 18,
   "metadata": {
    "scrolled": true
   },
   "outputs": [
    {
     "data": {
      "image/png": "[encoded data removed]",
      "text/plain": [
       "<Figure size 1152x288 with 1 Axes>"
      ]
     },
     "metadata": {
      "needs_background": "light"
     },
     "output_type": "display_data"
    }
   ],
   "source": [
    "x = cat_all_res_count.iloc[0:20]\n",
    "\n",
    "plt.figure(figsize=(16,4))\n",
    "ax = sns.barplot(x.index, x.values, alpha=0.8)\n",
    "plt.title(\"What are the top categories?\",fontsize=25)\n",
    "locs, labels = plt.xticks()\n",
    "plt.setp(labels, rotation=80)\n",
    "plt.ylabel('# businesses', fontsize=12)\n",
    "plt.xlabel('Category', fontsize=12)\n",
    "\n",
    "rects = ax.patches\n",
    "labels = x.values\n",
    "for rect, label in zip(rects, labels):\n",
    "    height = rect.get_height()\n",
    "    ax.text(rect.get_x() + rect.get_width()/2, height + 5, label, ha='center', va='bottom')\n",
    "\n",
    "plt.show()"
   ]
  },
  {
   "cell_type": "code",
   "execution_count": 19,
   "metadata": {},
   "outputs": [
    {
     "data": {
      "image/png": "[encoded data removed]",
      "text/plain": [
       "<Figure size 1152x288 with 1 Axes>"
      ]
     },
     "metadata": {
      "needs_background": "light"
     },
     "output_type": "display_data"
    }
   ],
   "source": [
    "# Location distribution\n",
    "\n",
    "city_count = restaurants['city'].value_counts().sort_values(ascending=False)\n",
    "plt.figure(figsize=(16,4))\n",
    "ax = sns.barplot(city_count[0:20].index, city_count[0:20].values, alpha=0.8)\n",
    "plt.title(\"Which city has the most reviews?\")\n",
    "locs, labels = plt.xticks()\n",
    "plt.setp(labels, rotation=45)\n",
    "plt.ylabel('# restaurants', fontsize=12)\n",
    "plt.xlabel('City', fontsize=12)\n",
    "\n",
    "rects = ax.patches\n",
    "labels = city_count.values\n",
    "for rect, label in zip(rects, labels):\n",
    "    height = rect.get_height()\n",
    "    ax.text(rect.get_x() + rect.get_width()/2, height + 5, label, ha='center', va='bottom')\n",
    "\n",
    "plt.show()"
   ]
  },
  {
   "cell_type": "code",
   "execution_count": 20,
   "metadata": {},
   "outputs": [
    {
     "data": {
      "image/png": "[encoded data removed]",
      "text/plain": [
       "<Figure size 1152x288 with 1 Axes>"
      ]
     },
     "metadata": {
      "needs_background": "light"
     },
     "output_type": "display_data"
    }
   ],
   "source": [
    "# Country distribution\n",
    "\n",
    "country_count = restaurants['country'].value_counts().sort_values(ascending=False)\n",
    "plt.figure(figsize=(16,4))\n",
    "ax = sns.barplot(country_count.index, country_count.values, alpha=0.8)\n",
    "plt.title(\"Which country has the most reviews?\")\n",
    "locs, labels = plt.xticks()\n",
    "plt.setp(labels, rotation=45)\n",
    "plt.ylabel('# restaurants', fontsize=12)\n",
    "plt.xlabel('Country', fontsize=12)\n",
    "\n",
    "rects = ax.patches\n",
    "labels = country_count.values\n",
    "for rect, label in zip(rects, labels):\n",
    "    height = rect.get_height()\n",
    "    ax.text(rect.get_x() + rect.get_width()/2, height + 5, label, ha='center', va='bottom')\n",
    "\n",
    "plt.show()"
   ]
  },
  {
   "cell_type": "code",
   "execution_count": 190,
   "metadata": {},
   "outputs": [
    {
     "data": {
      "text/html": [
       "<div>\n",
       "<style scoped>\n",
       "    .dataframe tbody tr th:only-of-type {\n",
       "        vertical-align: middle;\n",
       "    }\n",
       "\n",
       "    .dataframe tbody tr th {\n",
       "        vertical-align: top;\n",
       "    }\n",
       "\n",
       "    .dataframe thead th {\n",
       "        text-align: right;\n",
       "    }\n",
       "</style>\n",
       "<table border=\"1\" class=\"dataframe\">\n",
       "  <thead>\n",
       "    <tr style=\"text-align: right;\">\n",
       "      <th></th>\n",
       "      <th>name</th>\n",
       "      <th>review_count</th>\n",
       "      <th>city</th>\n",
       "      <th>stars</th>\n",
       "    </tr>\n",
       "  </thead>\n",
       "  <tbody>\n",
       "    <tr>\n",
       "      <th>55432</th>\n",
       "      <td>Mon Ami Gabi</td>\n",
       "      <td>7968</td>\n",
       "      <td>Las Vegas</td>\n",
       "      <td>4.0</td>\n",
       "    </tr>\n",
       "    <tr>\n",
       "      <th>74043</th>\n",
       "      <td>Bacchanal Buffet</td>\n",
       "      <td>7866</td>\n",
       "      <td>Las Vegas</td>\n",
       "      <td>4.0</td>\n",
       "    </tr>\n",
       "    <tr>\n",
       "      <th>25459</th>\n",
       "      <td>Wicked Spoon</td>\n",
       "      <td>6446</td>\n",
       "      <td>Las Vegas</td>\n",
       "      <td>3.5</td>\n",
       "    </tr>\n",
       "    <tr>\n",
       "      <th>75248</th>\n",
       "      <td>Gordon Ramsay BurGR</td>\n",
       "      <td>5472</td>\n",
       "      <td>Las Vegas</td>\n",
       "      <td>4.0</td>\n",
       "    </tr>\n",
       "    <tr>\n",
       "      <th>68156</th>\n",
       "      <td>Hash House A Go Go</td>\n",
       "      <td>5382</td>\n",
       "      <td>Las Vegas</td>\n",
       "      <td>4.0</td>\n",
       "    </tr>\n",
       "    <tr>\n",
       "      <th>71076</th>\n",
       "      <td>Earl of Sandwich</td>\n",
       "      <td>4981</td>\n",
       "      <td>Las Vegas</td>\n",
       "      <td>4.5</td>\n",
       "    </tr>\n",
       "    <tr>\n",
       "      <th>72641</th>\n",
       "      <td>The Buffet</td>\n",
       "      <td>4240</td>\n",
       "      <td>Las Vegas</td>\n",
       "      <td>3.5</td>\n",
       "    </tr>\n",
       "    <tr>\n",
       "      <th>54433</th>\n",
       "      <td>The Buffet at Bellagio</td>\n",
       "      <td>4091</td>\n",
       "      <td>Las Vegas</td>\n",
       "      <td>3.5</td>\n",
       "    </tr>\n",
       "    <tr>\n",
       "      <th>72361</th>\n",
       "      <td>Secret Pizza</td>\n",
       "      <td>4078</td>\n",
       "      <td>Las Vegas</td>\n",
       "      <td>4.0</td>\n",
       "    </tr>\n",
       "    <tr>\n",
       "      <th>11811</th>\n",
       "      <td>Lotus of Siam</td>\n",
       "      <td>3975</td>\n",
       "      <td>Las Vegas</td>\n",
       "      <td>4.0</td>\n",
       "    </tr>\n",
       "    <tr>\n",
       "      <th>73449</th>\n",
       "      <td>Serendipity 3</td>\n",
       "      <td>3905</td>\n",
       "      <td>Las Vegas</td>\n",
       "      <td>3.0</td>\n",
       "    </tr>\n",
       "    <tr>\n",
       "      <th>70132</th>\n",
       "      <td>Bouchon at the Venezia Tower</td>\n",
       "      <td>3743</td>\n",
       "      <td>Las Vegas</td>\n",
       "      <td>4.0</td>\n",
       "    </tr>\n",
       "    <tr>\n",
       "      <th>39434</th>\n",
       "      <td>Gangnam Asian BBQ Dining</td>\n",
       "      <td>3731</td>\n",
       "      <td>Las Vegas</td>\n",
       "      <td>4.5</td>\n",
       "    </tr>\n",
       "    <tr>\n",
       "      <th>56814</th>\n",
       "      <td>MGM Grand Hotel</td>\n",
       "      <td>3730</td>\n",
       "      <td>Las Vegas</td>\n",
       "      <td>3.0</td>\n",
       "    </tr>\n",
       "    <tr>\n",
       "      <th>49307</th>\n",
       "      <td>Bachi Burger</td>\n",
       "      <td>3250</td>\n",
       "      <td>Las Vegas</td>\n",
       "      <td>4.0</td>\n",
       "    </tr>\n",
       "    <tr>\n",
       "      <th>16941</th>\n",
       "      <td>Gordon Ramsay Steak</td>\n",
       "      <td>3244</td>\n",
       "      <td>Las Vegas</td>\n",
       "      <td>4.0</td>\n",
       "    </tr>\n",
       "    <tr>\n",
       "      <th>36670</th>\n",
       "      <td>Hash House A Go Go</td>\n",
       "      <td>3193</td>\n",
       "      <td>Las Vegas</td>\n",
       "      <td>4.0</td>\n",
       "    </tr>\n",
       "    <tr>\n",
       "      <th>47109</th>\n",
       "      <td>Mesa Grill</td>\n",
       "      <td>3160</td>\n",
       "      <td>Las Vegas</td>\n",
       "      <td>4.0</td>\n",
       "    </tr>\n",
       "    <tr>\n",
       "      <th>58052</th>\n",
       "      <td>The Peppermill Restaurant &amp; Fireside Lounge</td>\n",
       "      <td>3048</td>\n",
       "      <td>Las Vegas</td>\n",
       "      <td>4.0</td>\n",
       "    </tr>\n",
       "    <tr>\n",
       "      <th>45746</th>\n",
       "      <td>Holsteins Shakes &amp; Buns</td>\n",
       "      <td>3025</td>\n",
       "      <td>Las Vegas</td>\n",
       "      <td>4.0</td>\n",
       "    </tr>\n",
       "  </tbody>\n",
       "</table>\n",
       "</div>"
      ],
      "text/plain": [
       "                                              name  review_count       city  \\\n",
       "55432                                 Mon Ami Gabi          7968  Las Vegas   \n",
       "74043                             Bacchanal Buffet          7866  Las Vegas   \n",
       "25459                                 Wicked Spoon          6446  Las Vegas   \n",
       "75248                          Gordon Ramsay BurGR          5472  Las Vegas   \n",
       "68156                           Hash House A Go Go          5382  Las Vegas   \n",
       "71076                             Earl of Sandwich          4981  Las Vegas   \n",
       "72641                                   The Buffet          4240  Las Vegas   \n",
       "54433                       The Buffet at Bellagio          4091  Las Vegas   \n",
       "72361                                 Secret Pizza          4078  Las Vegas   \n",
       "11811                                Lotus of Siam          3975  Las Vegas   \n",
       "73449                                Serendipity 3          3905  Las Vegas   \n",
       "70132                 Bouchon at the Venezia Tower          3743  Las Vegas   \n",
       "39434                     Gangnam Asian BBQ Dining          3731  Las Vegas   \n",
       "56814                              MGM Grand Hotel          3730  Las Vegas   \n",
       "49307                                 Bachi Burger          3250  Las Vegas   \n",
       "16941                          Gordon Ramsay Steak          3244  Las Vegas   \n",
       "36670                           Hash House A Go Go          3193  Las Vegas   \n",
       "47109                                   Mesa Grill          3160  Las Vegas   \n",
       "58052  The Peppermill Restaurant & Fireside Lounge          3048  Las Vegas   \n",
       "45746                      Holsteins Shakes & Buns          3025  Las Vegas   \n",
       "\n",
       "       stars  \n",
       "55432    4.0  \n",
       "74043    4.0  \n",
       "25459    3.5  \n",
       "75248    4.0  \n",
       "68156    4.0  \n",
       "71076    4.5  \n",
       "72641    3.5  \n",
       "54433    3.5  \n",
       "72361    4.0  \n",
       "11811    4.0  \n",
       "73449    3.0  \n",
       "70132    4.0  \n",
       "39434    4.5  \n",
       "56814    3.0  \n",
       "49307    4.0  \n",
       "16941    4.0  \n",
       "36670    4.0  \n",
       "47109    4.0  \n",
       "58052    4.0  \n",
       "45746    4.0  "
      ]
     },
     "execution_count": 190,
     "metadata": {},
     "output_type": "execute_result"
    }
   ],
   "source": [
    "# Top restaurants by number of reviews\n",
    "\n",
    "restaurants[['name', 'review_count', 'city', 'stars']].sort_values(ascending=False, by=\"review_count\")[0:20]"
   ]
  },
  {
   "cell_type": "markdown",
   "metadata": {},
   "source": [
    "# 3. Feature Selection"
   ]
  },
  {
   "cell_type": "markdown",
   "metadata": {},
   "source": [
    "## 3.0 We hypothesize that the following features are important"
   ]
  },
  {
   "cell_type": "markdown",
   "metadata": {},
   "source": [
    "Review and User-related features\n",
    "\n",
    "1. Review Count\n",
    "2. Star Rating\n",
    "3. Number of users who wrote reviews\n",
    "4. Maximum number of stars\n",
    "5. Minimum number of stars\n",
    "6. Number of reviews voted as 'cool'\n",
    "7. Number of reviews voted as 'funny'\n",
    "8. Number of reviews voted as 'useful'\n",
    "9. Time since first/last reviews\n",
    "10. Time between first and last reviews\n",
    "11. Max number of review in a single day\n"
   ]
  },
  {
   "cell_type": "markdown",
   "metadata": {},
   "source": [
    "Business Attributes Feature:\n",
    "    \n",
    "1. Hours\n",
    "2. Categories\n",
    "3. Business Parking\n",
    "4. Restaurant Reservations\n",
    "5. Good for Kids\n",
    "6. Smoking\n",
    "7. Good for Meal\n",
    "8. Noise Level\n",
    "9. Music\n",
    "10. Ages Allowed\n",
    "11. Restaurants Good for Groups\n",
    "12. WiFi\n",
    "13. Business Accepts Credit Cards\n",
    "14. Ambience\n",
    "15. Restaurant Price Range\n",
    "16. Happy Hour\n",
    "17. Outdoors Seating"
   ]
  },
  {
   "cell_type": "code",
   "execution_count": 315,
   "metadata": {},
   "outputs": [
    {
     "data": {
      "text/plain": [
       "Index(['hours.Friday', 'attributes.RestaurantsAttire',\n",
       "       'attributes.BikeParking', 'state', 'categories',\n",
       "       'attributes.BusinessParking', 'attributes.Alcohol',\n",
       "       'attributes.GoodForDancing', 'attributes.BYOB',\n",
       "       'attributes.DietaryRestrictions', 'attributes.RestaurantsReservations',\n",
       "       'attributes.GoodForKids', 'attributes.Smoking', 'hours.Sunday',\n",
       "       'attributes.BYOBCorkage', 'latitude',\n",
       "       'attributes.BusinessAcceptsBitcoin', 'attributes.GoodForMeal',\n",
       "       'attributes.BestNights', 'attributes.NoiseLevel', 'attributes.Corkage',\n",
       "       'attributes.Music', 'hours.Wednesday', 'attributes.Open24Hours',\n",
       "       'longitude', 'neighborhood', 'attributes.HairSpecializesIn',\n",
       "       'hours.Thursday', 'attributes.AgesAllowed',\n",
       "       'attributes.ByAppointmentOnly', 'business_id',\n",
       "       'attributes.RestaurantsDelivery', 'attributes.RestaurantsGoodForGroups',\n",
       "       'postal_code', 'attributes.RestaurantsTableService', 'attributes.WiFi',\n",
       "       'hours', 'attributes.DogsAllowed', 'review_count', 'name',\n",
       "       'attributes.BusinessAcceptsCreditCards', 'hours.Saturday',\n",
       "       'attributes.Ambience', 'attributes.RestaurantsCounterService',\n",
       "       'attributes.DriveThru', 'attributes.Caters', 'address',\n",
       "       'attributes.RestaurantsPriceRange2', 'attributes.RestaurantsTakeOut',\n",
       "       'hours.Tuesday', 'attributes.WheelchairAccessible', 'attributes.HasTV',\n",
       "       'attributes.HappyHour', 'hours.Monday', 'attributes.CoatCheck',\n",
       "       'attributes.OutdoorSeating', 'is_open', 'attributes.AcceptsInsurance',\n",
       "       'attributes', 'stars', 'city', 'country', 'Ambience'],\n",
       "      dtype='object')"
      ]
     },
     "execution_count": 315,
     "metadata": {},
     "output_type": "execute_result"
    }
   ],
   "source": [
    "col"
   ]
  },
  {
   "cell_type": "markdown",
   "metadata": {},
   "source": [
    "## 3.1 Merge Restaurants with Users and Reviews"
   ]
  },
  {
   "cell_type": "code",
   "execution_count": 316,
   "metadata": {},
   "outputs": [
    {
     "ename": "KeyboardInterrupt",
     "evalue": "",
     "output_type": "error",
     "traceback": [
      "\u001b[0;31m---------------------------------------------------------------------------\u001b[0m",
      "\u001b[0;31mKeyboardInterrupt\u001b[0m                         Traceback (most recent call last)",
      "\u001b[0;32m<ipython-input-316-111bca7b57d0>\u001b[0m in \u001b[0;36m<module>\u001b[0;34m\u001b[0m\n\u001b[1;32m      2\u001b[0m \u001b[0mdatastr\u001b[0m\u001b[0;34m=\u001b[0m\u001b[0mopen\u001b[0m\u001b[0;34m(\u001b[0m\u001b[0;34m'yelp_academic_dataset_review.json'\u001b[0m\u001b[0;34m,\u001b[0m\u001b[0;34m'r'\u001b[0m\u001b[0;34m)\u001b[0m\u001b[0;34m\u001b[0m\u001b[0m\n\u001b[1;32m      3\u001b[0m \u001b[0mdatajson\u001b[0m\u001b[0;34m=\u001b[0m\u001b[0mdatastr\u001b[0m\u001b[0;34m.\u001b[0m\u001b[0mreadlines\u001b[0m\u001b[0;34m(\u001b[0m\u001b[0;34m)\u001b[0m\u001b[0;34m\u001b[0m\u001b[0m\n\u001b[0;32m----> 4\u001b[0;31m \u001b[0mcheck\u001b[0m\u001b[0;34m=\u001b[0m\u001b[0;34m[\u001b[0m\u001b[0mjson\u001b[0m\u001b[0;34m.\u001b[0m\u001b[0mloads\u001b[0m\u001b[0;34m(\u001b[0m\u001b[0mx\u001b[0m\u001b[0;34m)\u001b[0m \u001b[0;32mfor\u001b[0m \u001b[0mx\u001b[0m \u001b[0;32min\u001b[0m \u001b[0mdatajson\u001b[0m\u001b[0;34m]\u001b[0m\u001b[0;34m\u001b[0m\u001b[0m\n\u001b[0m\u001b[1;32m      5\u001b[0m \u001b[0mind\u001b[0m\u001b[0;34m=\u001b[0m\u001b[0mrange\u001b[0m\u001b[0;34m(\u001b[0m\u001b[0;36m0\u001b[0m\u001b[0;34m,\u001b[0m\u001b[0mlen\u001b[0m\u001b[0;34m(\u001b[0m\u001b[0mcheck\u001b[0m\u001b[0;34m)\u001b[0m\u001b[0;34m)\u001b[0m\u001b[0;34m\u001b[0m\u001b[0m\n\u001b[1;32m      6\u001b[0m \u001b[0mreviews\u001b[0m\u001b[0;34m=\u001b[0m\u001b[0mpd\u001b[0m\u001b[0;34m.\u001b[0m\u001b[0mDataFrame\u001b[0m\u001b[0;34m(\u001b[0m\u001b[0mcheck\u001b[0m\u001b[0;34m,\u001b[0m\u001b[0mindex\u001b[0m\u001b[0;34m=\u001b[0m\u001b[0mind\u001b[0m\u001b[0;34m,\u001b[0m\u001b[0mcolumns\u001b[0m\u001b[0;34m=\u001b[0m\u001b[0mcheck\u001b[0m\u001b[0;34m[\u001b[0m\u001b[0;36m0\u001b[0m\u001b[0;34m]\u001b[0m\u001b[0;34m.\u001b[0m\u001b[0mkeys\u001b[0m\u001b[0;34m(\u001b[0m\u001b[0;34m)\u001b[0m\u001b[0;34m)\u001b[0m\u001b[0;34m\u001b[0m\u001b[0m\n",
      "\u001b[0;32m<ipython-input-316-111bca7b57d0>\u001b[0m in \u001b[0;36m<listcomp>\u001b[0;34m(.0)\u001b[0m\n\u001b[1;32m      2\u001b[0m \u001b[0mdatastr\u001b[0m\u001b[0;34m=\u001b[0m\u001b[0mopen\u001b[0m\u001b[0;34m(\u001b[0m\u001b[0;34m'yelp_academic_dataset_review.json'\u001b[0m\u001b[0;34m,\u001b[0m\u001b[0;34m'r'\u001b[0m\u001b[0;34m)\u001b[0m\u001b[0;34m\u001b[0m\u001b[0m\n\u001b[1;32m      3\u001b[0m \u001b[0mdatajson\u001b[0m\u001b[0;34m=\u001b[0m\u001b[0mdatastr\u001b[0m\u001b[0;34m.\u001b[0m\u001b[0mreadlines\u001b[0m\u001b[0;34m(\u001b[0m\u001b[0;34m)\u001b[0m\u001b[0;34m\u001b[0m\u001b[0m\n\u001b[0;32m----> 4\u001b[0;31m \u001b[0mcheck\u001b[0m\u001b[0;34m=\u001b[0m\u001b[0;34m[\u001b[0m\u001b[0mjson\u001b[0m\u001b[0;34m.\u001b[0m\u001b[0mloads\u001b[0m\u001b[0;34m(\u001b[0m\u001b[0mx\u001b[0m\u001b[0;34m)\u001b[0m \u001b[0;32mfor\u001b[0m \u001b[0mx\u001b[0m \u001b[0;32min\u001b[0m \u001b[0mdatajson\u001b[0m\u001b[0;34m]\u001b[0m\u001b[0;34m\u001b[0m\u001b[0m\n\u001b[0m\u001b[1;32m      5\u001b[0m \u001b[0mind\u001b[0m\u001b[0;34m=\u001b[0m\u001b[0mrange\u001b[0m\u001b[0;34m(\u001b[0m\u001b[0;36m0\u001b[0m\u001b[0;34m,\u001b[0m\u001b[0mlen\u001b[0m\u001b[0;34m(\u001b[0m\u001b[0mcheck\u001b[0m\u001b[0;34m)\u001b[0m\u001b[0;34m)\u001b[0m\u001b[0;34m\u001b[0m\u001b[0m\n\u001b[1;32m      6\u001b[0m \u001b[0mreviews\u001b[0m\u001b[0;34m=\u001b[0m\u001b[0mpd\u001b[0m\u001b[0;34m.\u001b[0m\u001b[0mDataFrame\u001b[0m\u001b[0;34m(\u001b[0m\u001b[0mcheck\u001b[0m\u001b[0;34m,\u001b[0m\u001b[0mindex\u001b[0m\u001b[0;34m=\u001b[0m\u001b[0mind\u001b[0m\u001b[0;34m,\u001b[0m\u001b[0mcolumns\u001b[0m\u001b[0;34m=\u001b[0m\u001b[0mcheck\u001b[0m\u001b[0;34m[\u001b[0m\u001b[0;36m0\u001b[0m\u001b[0;34m]\u001b[0m\u001b[0;34m.\u001b[0m\u001b[0mkeys\u001b[0m\u001b[0;34m(\u001b[0m\u001b[0;34m)\u001b[0m\u001b[0;34m)\u001b[0m\u001b[0;34m\u001b[0m\u001b[0m\n",
      "\u001b[0;32m/usr/local/lib/python3.6/json/__init__.py\u001b[0m in \u001b[0;36mloads\u001b[0;34m(s, encoding, cls, object_hook, parse_float, parse_int, parse_constant, object_pairs_hook, **kw)\u001b[0m\n\u001b[1;32m    352\u001b[0m             \u001b[0mparse_int\u001b[0m \u001b[0;32mis\u001b[0m \u001b[0;32mNone\u001b[0m \u001b[0;32mand\u001b[0m \u001b[0mparse_float\u001b[0m \u001b[0;32mis\u001b[0m \u001b[0;32mNone\u001b[0m \u001b[0;32mand\u001b[0m\u001b[0;34m\u001b[0m\u001b[0m\n\u001b[1;32m    353\u001b[0m             parse_constant is None and object_pairs_hook is None and not kw):\n\u001b[0;32m--> 354\u001b[0;31m         \u001b[0;32mreturn\u001b[0m \u001b[0m_default_decoder\u001b[0m\u001b[0;34m.\u001b[0m\u001b[0mdecode\u001b[0m\u001b[0;34m(\u001b[0m\u001b[0ms\u001b[0m\u001b[0;34m)\u001b[0m\u001b[0;34m\u001b[0m\u001b[0m\n\u001b[0m\u001b[1;32m    355\u001b[0m     \u001b[0;32mif\u001b[0m \u001b[0mcls\u001b[0m \u001b[0;32mis\u001b[0m \u001b[0;32mNone\u001b[0m\u001b[0;34m:\u001b[0m\u001b[0;34m\u001b[0m\u001b[0m\n\u001b[1;32m    356\u001b[0m         \u001b[0mcls\u001b[0m \u001b[0;34m=\u001b[0m \u001b[0mJSONDecoder\u001b[0m\u001b[0;34m\u001b[0m\u001b[0m\n",
      "\u001b[0;32m/usr/local/lib/python3.6/json/decoder.py\u001b[0m in \u001b[0;36mdecode\u001b[0;34m(self, s, _w)\u001b[0m\n\u001b[1;32m    337\u001b[0m \u001b[0;34m\u001b[0m\u001b[0m\n\u001b[1;32m    338\u001b[0m         \"\"\"\n\u001b[0;32m--> 339\u001b[0;31m         \u001b[0mobj\u001b[0m\u001b[0;34m,\u001b[0m \u001b[0mend\u001b[0m \u001b[0;34m=\u001b[0m \u001b[0mself\u001b[0m\u001b[0;34m.\u001b[0m\u001b[0mraw_decode\u001b[0m\u001b[0;34m(\u001b[0m\u001b[0ms\u001b[0m\u001b[0;34m,\u001b[0m \u001b[0midx\u001b[0m\u001b[0;34m=\u001b[0m\u001b[0m_w\u001b[0m\u001b[0;34m(\u001b[0m\u001b[0ms\u001b[0m\u001b[0;34m,\u001b[0m \u001b[0;36m0\u001b[0m\u001b[0;34m)\u001b[0m\u001b[0;34m.\u001b[0m\u001b[0mend\u001b[0m\u001b[0;34m(\u001b[0m\u001b[0;34m)\u001b[0m\u001b[0;34m)\u001b[0m\u001b[0;34m\u001b[0m\u001b[0m\n\u001b[0m\u001b[1;32m    340\u001b[0m         \u001b[0mend\u001b[0m \u001b[0;34m=\u001b[0m \u001b[0m_w\u001b[0m\u001b[0;34m(\u001b[0m\u001b[0ms\u001b[0m\u001b[0;34m,\u001b[0m \u001b[0mend\u001b[0m\u001b[0;34m)\u001b[0m\u001b[0;34m.\u001b[0m\u001b[0mend\u001b[0m\u001b[0;34m(\u001b[0m\u001b[0;34m)\u001b[0m\u001b[0;34m\u001b[0m\u001b[0m\n\u001b[1;32m    341\u001b[0m         \u001b[0;32mif\u001b[0m \u001b[0mend\u001b[0m \u001b[0;34m!=\u001b[0m \u001b[0mlen\u001b[0m\u001b[0;34m(\u001b[0m\u001b[0ms\u001b[0m\u001b[0;34m)\u001b[0m\u001b[0;34m:\u001b[0m\u001b[0;34m\u001b[0m\u001b[0m\n",
      "\u001b[0;31mKeyboardInterrupt\u001b[0m: "
     ]
    }
   ],
   "source": [
    "#importing the yelp reviews dataset\n",
    "datastr=open('yelp_academic_dataset_review.json','r')\n",
    "datajson=datastr.readlines()\n",
    "check=[json.loads(x) for x in datajson]\n",
    "ind=range(0,len(check))\n",
    "reviews=pd.DataFrame(check,index=ind,columns=check[0].keys())"
   ]
  },
  {
   "cell_type": "code",
   "execution_count": 43,
   "metadata": {},
   "outputs": [
    {
     "data": {
      "text/plain": [
       "Index(['review_id', 'user_id', 'business_id', 'stars', 'date', 'text',\n",
       "       'useful', 'funny', 'cool'],\n",
       "      dtype='object')"
      ]
     },
     "execution_count": 43,
     "metadata": {},
     "output_type": "execute_result"
    }
   ],
   "source": [
    "reviews.columns"
   ]
  },
  {
   "cell_type": "code",
   "execution_count": 44,
   "metadata": {},
   "outputs": [],
   "source": [
    "restaurant_reviews = reviews[reviews[\"business_id\"].isin(restaurants[\"business_id\"])]"
   ]
  },
  {
   "cell_type": "code",
   "execution_count": 100,
   "metadata": {},
   "outputs": [],
   "source": [
    "# User counts, max and min ratings\n",
    "user_rating_count = restaurant_reviews[['user_id','business_id']].groupby(['business_id']).count()\n",
    "user_rating_count = user_rating_count.rename(columns = {'business_id':'user_rating_count'})\n",
    "max_rating_restaurant = restaurant_reviews[['business_id','stars']].groupby(['business_id']).max()\n",
    "max_rating_restaurant = max_rating_restaurant.rename(columns = {'stars':'max_rating_rest'})\n",
    "min_rating_restaurant = restaurant_reviews[['business_id','stars']].groupby(['business_id']).min()\n",
    "min_rating_restaurant = min_rating_restaurant.rename(columns = {'stars':'min_rating_rest'})"
   ]
  },
  {
   "cell_type": "code",
   "execution_count": 74,
   "metadata": {},
   "outputs": [],
   "source": [
    "# Useful, funny, cool\n",
    "useful_mean = restaurant_reviews[['business_id','useful']].groupby(['business_id']).mean()\n",
    "useful_mean = useful_mean.rename(columns = {'business_id':'useful_mean'})\n",
    "funny_mean = restaurant_reviews[['business_id','funny']].groupby(['business_id']).mean()\n",
    "funny_mean = funny_mean.rename(columns = {'business_id':'funny_mean'})\n",
    "cool_mean = restaurant_reviews[['business_id','cool']].groupby(['business_id']).mean()\n",
    "cool_mean = cool_mean.rename(columns = {'business_id':'cool_mean'})"
   ]
  },
  {
   "cell_type": "code",
   "execution_count": 101,
   "metadata": {},
   "outputs": [],
   "source": [
    "restaurants = restaurants.merge(user_rating_count, how = 'left', on = 'business_id')"
   ]
  },
  {
   "cell_type": "code",
   "execution_count": 105,
   "metadata": {},
   "outputs": [],
   "source": [
    "user_rating_count = restaurant_reviews[['user_id','business_id']]"
   ]
  },
  {
   "cell_type": "code",
   "execution_count": 104,
   "metadata": {},
   "outputs": [
    {
     "data": {
      "text/plain": [
       "<pandas.core.groupby.groupby.DataFrameGroupBy object at 0x7fe4156c00f0>"
      ]
     },
     "execution_count": 104,
     "metadata": {},
     "output_type": "execute_result"
    }
   ],
   "source": [
    "user_rating_count = "
   ]
  },
  {
   "cell_type": "markdown",
   "metadata": {},
   "source": [
    "## 3.2 Ambience"
   ]
  },
  {
   "cell_type": "code",
   "execution_count": 317,
   "metadata": {
    "scrolled": true
   },
   "outputs": [
    {
     "data": {
      "text/plain": [
       "array([nan,\n",
       "       \"{'romantic': False, 'intimate': False, 'classy': False, 'hipster': False, 'touristy': False, 'trendy': False, 'upscale': False, 'casual': False}\",\n",
       "       \"{'romantic': False, 'intimate': False, 'classy': False, 'hipster': False, 'divey': False, 'touristy': False, 'trendy': False, 'upscale': False, 'casual': True}\",\n",
       "       \"{'romantic': False, 'intimate': False, 'classy': False, 'hipster': False, 'divey': False, 'touristy': False, 'trendy': False, 'upscale': False, 'casual': False}\",\n",
       "       \"{'romantic': False, 'intimate': False, 'classy': False, 'hipster': False, 'divey': True, 'touristy': False, 'trendy': False, 'upscale': False, 'casual': False}\",\n",
       "       \"{'romantic': False, 'intimate': False, 'classy': False, 'hipster': False, 'touristy': False, 'trendy': False, 'upscale': False, 'casual': True}\",\n",
       "       \"{'romantic': False, 'intimate': False, 'classy': False, 'hipster': False, 'touristy': False, 'trendy': True, 'upscale': False, 'casual': False}\",\n",
       "       \"{'romantic': False, 'intimate': False, 'classy': True, 'hipster': False, 'divey': False, 'touristy': False, 'trendy': True, 'upscale': True, 'casual': False}\",\n",
       "       \"{'romantic': False, 'intimate': False, 'classy': False, 'hipster': False, 'divey': False, 'touristy': True, 'trendy': False, 'upscale': False, 'casual': False}\",\n",
       "       \"{'romantic': False, 'intimate': False, 'classy': True, 'hipster': False, 'touristy': False, 'trendy': False, 'upscale': False, 'casual': False}\",\n",
       "       \"{'romantic': False, 'intimate': True, 'classy': False, 'hipster': False, 'divey': False, 'touristy': False, 'trendy': False, 'upscale': False, 'casual': False}\",\n",
       "       \"{'romantic': False, 'intimate': False, 'classy': True, 'hipster': False, 'divey': False, 'touristy': False, 'trendy': False, 'upscale': True, 'casual': False}\",\n",
       "       \"{'romantic': False, 'intimate': False, 'classy': False, 'hipster': True, 'touristy': False, 'trendy': False, 'upscale': False, 'casual': False}\",\n",
       "       \"{'romantic': False, 'intimate': True, 'classy': False, 'hipster': False, 'touristy': False, 'trendy': False, 'upscale': False, 'casual': False}\",\n",
       "       \"{'romantic': False, 'intimate': False, 'classy': False, 'hipster': True, 'touristy': False, 'trendy': False, 'upscale': False, 'casual': True}\",\n",
       "       \"{'romantic': False, 'intimate': False, 'classy': False, 'hipster': False, 'divey': False, 'touristy': False, 'trendy': True, 'upscale': False, 'casual': False}\",\n",
       "       \"{'romantic': False, 'intimate': False, 'classy': True, 'hipster': False, 'divey': False, 'touristy': False, 'trendy': False, 'upscale': False, 'casual': False}\",\n",
       "       \"{'romantic': False, 'intimate': False, 'classy': False, 'hipster': False, 'touristy': False, 'trendy': True, 'upscale': False, 'casual': True}\",\n",
       "       \"{'romantic': False, 'intimate': False, 'classy': False, 'hipster': False, 'divey': False, 'touristy': False, 'trendy': True, 'upscale': False, 'casual': True}\",\n",
       "       \"{'romantic': False, 'intimate': False, 'classy': False, 'hipster': True, 'divey': False, 'touristy': False, 'trendy': False, 'upscale': False, 'casual': True}\",\n",
       "       \"{'romantic': False, 'intimate': False, 'classy': False, 'hipster': False, 'divey': False, 'touristy': False, 'trendy': True, 'upscale': True, 'casual': False}\",\n",
       "       \"{'romantic': False, 'intimate': True, 'classy': True, 'hipster': False, 'touristy': False, 'trendy': False, 'upscale': False, 'casual': False}\",\n",
       "       \"{'romantic': False, 'intimate': False, 'classy': True, 'hipster': False, 'touristy': False, 'trendy': True, 'upscale': True, 'casual': False}\",\n",
       "       \"{'romantic': False, 'intimate': False, 'classy': False, 'hipster': True, 'divey': False, 'touristy': False, 'trendy': True, 'upscale': False, 'casual': False}\",\n",
       "       \"{'romantic': False, 'intimate': False, 'classy': False, 'hipster': False, 'divey': True, 'touristy': False, 'trendy': False, 'upscale': False, 'casual': True}\",\n",
       "       \"{'romantic': False, 'intimate': False, 'classy': False, 'hipster': False, 'touristy': True, 'trendy': False, 'upscale': False, 'casual': True}\",\n",
       "       \"{'romantic': True, 'intimate': False, 'classy': False, 'hipster': False, 'touristy': False, 'trendy': False, 'upscale': False, 'casual': False}\",\n",
       "       \"{'romantic': True, 'intimate': True, 'classy': False, 'hipster': False, 'divey': False, 'touristy': False, 'trendy': False, 'upscale': False, 'casual': False}\",\n",
       "       \"{'romantic': False, 'intimate': False, 'classy': False, 'hipster': True, 'divey': False, 'touristy': False, 'trendy': False, 'upscale': False, 'casual': False}\",\n",
       "       \"{'romantic': True, 'intimate': False, 'classy': True, 'hipster': False, 'touristy': False, 'trendy': False, 'upscale': False, 'casual': False}\",\n",
       "       \"{'romantic': True, 'intimate': True, 'classy': True, 'hipster': True, 'divey': False, 'touristy': False, 'trendy': True, 'upscale': False, 'casual': True}\",\n",
       "       \"{'romantic': True, 'intimate': False, 'classy': False, 'hipster': False, 'divey': False, 'touristy': False, 'trendy': False, 'upscale': True, 'casual': True}\",\n",
       "       \"{'romantic': False, 'intimate': False, 'classy': True, 'hipster': False, 'divey': False, 'touristy': False, 'trendy': True, 'upscale': False, 'casual': False}\",\n",
       "       \"{'romantic': False, 'intimate': False, 'classy': False, 'hipster': False, 'divey': False, 'touristy': True, 'trendy': False, 'upscale': False, 'casual': True}\",\n",
       "       \"{'romantic': True, 'intimate': False, 'classy': True, 'hipster': False, 'divey': False, 'touristy': False, 'trendy': True, 'upscale': False, 'casual': False}\",\n",
       "       \"{'romantic': False, 'intimate': False, 'classy': False, 'hipster': True, 'divey': False, 'touristy': False, 'trendy': True, 'upscale': False, 'casual': True}\",\n",
       "       \"{'romantic': False, 'intimate': False, 'classy': False, 'hipster': False, 'touristy': False, 'trendy': False, 'upscale': True, 'casual': False}\",\n",
       "       \"{'romantic': True, 'intimate': False, 'classy': False, 'hipster': False, 'divey': False, 'touristy': False, 'trendy': False, 'upscale': False, 'casual': False}\",\n",
       "       \"{'romantic': False, 'intimate': False, 'classy': True, 'hipster': False, 'divey': False, 'touristy': False, 'trendy': False, 'upscale': True, 'casual': True}\",\n",
       "       \"{'romantic': False, 'intimate': True, 'classy': True, 'hipster': False, 'divey': False, 'touristy': False, 'trendy': True, 'upscale': False, 'casual': True}\",\n",
       "       \"{'romantic': False, 'intimate': True, 'classy': True, 'hipster': False, 'divey': False, 'touristy': False, 'trendy': False, 'upscale': False, 'casual': False}\",\n",
       "       \"{'romantic': False, 'intimate': False, 'classy': True, 'hipster': False, 'divey': False, 'touristy': False, 'trendy': True, 'upscale': False, 'casual': True}\",\n",
       "       \"{'romantic': False, 'intimate': False, 'classy': False, 'hipster': True, 'touristy': False, 'trendy': True, 'upscale': False, 'casual': True}\",\n",
       "       \"{'romantic': False, 'intimate': True, 'classy': False, 'hipster': False, 'touristy': False, 'trendy': True, 'upscale': False, 'casual': True}\",\n",
       "       \"{'romantic': False, 'intimate': False, 'classy': False, 'hipster': False, 'divey': False, 'touristy': False, 'trendy': False, 'upscale': True, 'casual': True}\",\n",
       "       \"{'romantic': False, 'intimate': False, 'classy': False, 'hipster': False, 'divey': False, 'touristy': False, 'trendy': False, 'upscale': True, 'casual': False}\",\n",
       "       \"{'romantic': False, 'intimate': False, 'classy': False, 'hipster': True, 'touristy': False, 'trendy': True, 'upscale': False, 'casual': False}\",\n",
       "       \"{'romantic': False, 'intimate': False, 'classy': True, 'hipster': True, 'divey': False, 'touristy': False, 'trendy': True, 'upscale': True, 'casual': True}\",\n",
       "       \"{'romantic': False, 'intimate': False, 'classy': True, 'hipster': False, 'touristy': False, 'trendy': False, 'upscale': True, 'casual': False}\",\n",
       "       \"{'romantic': False, 'intimate': True, 'classy': False, 'hipster': True, 'divey': False, 'touristy': False, 'trendy': False, 'upscale': False, 'casual': True}\",\n",
       "       \"{'romantic': True, 'intimate': False, 'classy': False, 'hipster': False, 'touristy': False, 'trendy': False, 'upscale': False, 'casual': True}\",\n",
       "       \"{'romantic': False, 'intimate': True, 'classy': False, 'hipster': False, 'divey': False, 'touristy': False, 'trendy': False, 'upscale': False, 'casual': True}\",\n",
       "       \"{'romantic': True, 'intimate': True, 'classy': True, 'hipster': False, 'divey': False, 'touristy': False, 'trendy': False, 'upscale': False, 'casual': False}\",\n",
       "       \"{'romantic': False, 'intimate': False, 'classy': True, 'hipster': False, 'divey': False, 'touristy': False, 'trendy': False, 'upscale': False, 'casual': True}\",\n",
       "       \"{'romantic': False, 'intimate': True, 'classy': False, 'hipster': False, 'divey': False, 'touristy': False, 'trendy': True, 'upscale': False, 'casual': True}\",\n",
       "       \"{'romantic': True, 'intimate': False, 'classy': True, 'hipster': False, 'touristy': False, 'trendy': False, 'upscale': True, 'casual': False}\",\n",
       "       \"{'romantic': True, 'intimate': True, 'classy': True, 'hipster': False, 'divey': False, 'touristy': False, 'trendy': False, 'upscale': True, 'casual': False}\",\n",
       "       \"{'romantic': True, 'intimate': True, 'classy': False, 'hipster': False, 'touristy': False, 'trendy': False, 'upscale': False, 'casual': True}\",\n",
       "       \"{'romantic': True, 'intimate': False, 'classy': True, 'hipster': False, 'divey': False, 'touristy': False, 'trendy': False, 'upscale': True, 'casual': False}\",\n",
       "       \"{'romantic': True, 'intimate': False, 'classy': True, 'hipster': False, 'divey': False, 'touristy': False, 'trendy': False, 'upscale': False, 'casual': False}\",\n",
       "       \"{'romantic': True, 'intimate': True, 'classy': True, 'hipster': False, 'divey': False, 'touristy': False, 'trendy': False, 'upscale': False, 'casual': True}\",\n",
       "       \"{'romantic': False, 'intimate': False, 'classy': True, 'hipster': False, 'touristy': False, 'trendy': True, 'upscale': False, 'casual': False}\",\n",
       "       \"{'romantic': False, 'intimate': False, 'classy': False, 'hipster': False, 'divey': False, 'touristy': True, 'trendy': True, 'upscale': False, 'casual': True}\",\n",
       "       \"{'romantic': False, 'intimate': False, 'classy': False, 'hipster': False, 'touristy': True, 'trendy': True, 'upscale': False, 'casual': False}\",\n",
       "       \"{'romantic': True, 'intimate': True, 'classy': True, 'hipster': False, 'touristy': False, 'trendy': True, 'upscale': True, 'casual': False}\",\n",
       "       \"{'romantic': True, 'intimate': True, 'classy': False, 'hipster': False, 'touristy': False, 'trendy': False, 'upscale': False, 'casual': False}\",\n",
       "       \"{'romantic': False, 'intimate': True, 'classy': False, 'hipster': False, 'touristy': False, 'trendy': False, 'upscale': False, 'casual': True}\",\n",
       "       \"{'romantic': False, 'intimate': True, 'classy': True, 'hipster': False, 'divey': False, 'touristy': False, 'trendy': False, 'upscale': True, 'casual': False}\",\n",
       "       \"{'romantic': False, 'intimate': False, 'classy': False, 'hipster': False, 'divey': True, 'touristy': False, 'trendy': True, 'upscale': False, 'casual': True}\",\n",
       "       \"{'romantic': False, 'intimate': False, 'classy': False, 'hipster': False, 'touristy': True, 'trendy': True, 'upscale': False, 'casual': True}\",\n",
       "       \"{'romantic': False, 'intimate': False, 'classy': False, 'hipster': False, 'touristy': False, 'trendy': True, 'upscale': True, 'casual': False}\",\n",
       "       \"{'romantic': False, 'intimate': True, 'classy': False, 'hipster': True, 'divey': False, 'touristy': False, 'trendy': True, 'upscale': False, 'casual': True}\",\n",
       "       \"{'romantic': True, 'intimate': False, 'classy': True, 'hipster': False, 'touristy': False, 'trendy': True, 'upscale': True, 'casual': False}\",\n",
       "       \"{'romantic': False, 'intimate': True, 'classy': True, 'hipster': False, 'divey': False, 'touristy': False, 'trendy': True, 'upscale': True, 'casual': True}\",\n",
       "       \"{'romantic': False, 'intimate': True, 'classy': True, 'hipster': False, 'touristy': False, 'trendy': False, 'upscale': True, 'casual': False}\",\n",
       "       \"{'romantic': False, 'intimate': True, 'classy': True, 'hipster': False, 'divey': False, 'touristy': False, 'trendy': True, 'upscale': True, 'casual': False}\",\n",
       "       \"{'romantic': True, 'intimate': False, 'classy': False, 'hipster': False, 'divey': False, 'touristy': False, 'trendy': False, 'upscale': False, 'casual': True}\",\n",
       "       \"{'romantic': False, 'intimate': False, 'classy': False, 'hipster': True, 'divey': True, 'touristy': False, 'trendy': True, 'upscale': False, 'casual': True}\",\n",
       "       \"{'romantic': True, 'intimate': True, 'classy': True, 'hipster': False, 'touristy': False, 'trendy': False, 'upscale': True, 'casual': False}\",\n",
       "       \"{'romantic': True, 'intimate': True, 'classy': True, 'hipster': False, 'touristy': False, 'trendy': True, 'upscale': False, 'casual': False}\",\n",
       "       \"{'romantic': True, 'intimate': False, 'classy': False, 'hipster': True, 'divey': False, 'touristy': False, 'trendy': True, 'upscale': False, 'casual': True}\",\n",
       "       \"{'romantic': False, 'intimate': True, 'classy': False, 'hipster': False, 'touristy': False, 'trendy': True, 'upscale': False, 'casual': False}\",\n",
       "       \"{'romantic': False, 'intimate': False, 'classy': False, 'hipster': True, 'divey': True, 'touristy': False, 'trendy': False, 'upscale': False, 'casual': True}\",\n",
       "       \"{'romantic': True, 'intimate': False, 'classy': True, 'hipster': False, 'divey': False, 'touristy': False, 'trendy': False, 'upscale': False, 'casual': True}\",\n",
       "       \"{'romantic': True, 'intimate': False, 'classy': False, 'hipster': False, 'touristy': False, 'trendy': True, 'upscale': False, 'casual': False}\",\n",
       "       \"{'romantic': True, 'intimate': True, 'classy': True, 'hipster': False, 'divey': False, 'touristy': False, 'trendy': True, 'upscale': True, 'casual': True}\",\n",
       "       \"{'romantic': False, 'intimate': False, 'classy': True, 'hipster': True, 'touristy': False, 'trendy': False, 'upscale': False, 'casual': False}\",\n",
       "       \"{'romantic': False, 'intimate': True, 'classy': False, 'hipster': True, 'divey': False, 'touristy': False, 'trendy': True, 'upscale': False, 'casual': False}\",\n",
       "       \"{'romantic': True, 'intimate': True, 'classy': False, 'hipster': False, 'divey': False, 'touristy': False, 'trendy': False, 'upscale': False, 'casual': True}\",\n",
       "       \"{'romantic': True, 'intimate': True, 'classy': False, 'hipster': False, 'divey': False, 'touristy': False, 'trendy': True, 'upscale': False, 'casual': True}\",\n",
       "       \"{'romantic': True, 'intimate': False, 'classy': False, 'hipster': False, 'touristy': True, 'trendy': False, 'upscale': False, 'casual': False}\",\n",
       "       \"{'romantic': False, 'intimate': False, 'classy': True, 'hipster': False, 'touristy': False, 'trendy': True, 'upscale': True, 'casual': True}\",\n",
       "       \"{'romantic': False, 'intimate': True, 'classy': False, 'hipster': True, 'touristy': False, 'trendy': True, 'upscale': False, 'casual': True}\",\n",
       "       \"{'romantic': True, 'intimate': True, 'classy': True, 'hipster': False, 'touristy': False, 'trendy': False, 'upscale': False, 'casual': True}\",\n",
       "       \"{'romantic': True, 'intimate': True, 'classy': False, 'hipster': False, 'touristy': False, 'trendy': False, 'upscale': True, 'casual': False}\",\n",
       "       \"{'romantic': False, 'intimate': False, 'classy': True, 'hipster': False, 'touristy': False, 'trendy': True, 'upscale': False, 'casual': True}\",\n",
       "       \"{'romantic': False, 'intimate': False, 'classy': True, 'hipster': False, 'touristy': False, 'trendy': False, 'upscale': False, 'casual': True}\",\n",
       "       \"{'romantic': False, 'intimate': False, 'classy': False, 'hipster': False, 'touristy': True, 'trendy': False, 'upscale': False, 'casual': False}\",\n",
       "       \"{'romantic': True, 'intimate': True, 'classy': True, 'hipster': False, 'touristy': False, 'trendy': False, 'upscale': False, 'casual': False}\",\n",
       "       \"{'romantic': False, 'intimate': True, 'classy': True, 'hipster': False, 'divey': False, 'touristy': False, 'trendy': False, 'upscale': False, 'casual': True}\",\n",
       "       \"{'romantic': True, 'intimate': True, 'classy': True, 'hipster': False, 'divey': False, 'touristy': False, 'trendy': True, 'upscale': False, 'casual': True}\",\n",
       "       \"{'romantic': True, 'intimate': True, 'classy': True, 'hipster': False, 'divey': False, 'touristy': False, 'trendy': True, 'upscale': True, 'casual': False}\",\n",
       "       \"{'romantic': False, 'intimate': False, 'classy': False, 'hipster': True, 'divey': True, 'touristy': False, 'trendy': False, 'upscale': False, 'casual': False}\",\n",
       "       \"{'romantic': True, 'intimate': False, 'classy': False, 'hipster': False, 'divey': False, 'touristy': False, 'trendy': True, 'upscale': False, 'casual': True}\",\n",
       "       \"{'romantic': True, 'intimate': True, 'classy': True, 'hipster': False, 'divey': False, 'touristy': False, 'trendy': True, 'upscale': False, 'casual': False}\",\n",
       "       \"{'romantic': False, 'intimate': False, 'classy': True, 'hipster': True, 'divey': False, 'touristy': False, 'trendy': True, 'upscale': False, 'casual': True}\",\n",
       "       \"{'romantic': False, 'intimate': True, 'classy': False, 'hipster': False, 'touristy': False, 'trendy': False, 'upscale': True, 'casual': True}\",\n",
       "       \"{'romantic': False, 'intimate': True, 'classy': False, 'hipster': False, 'divey': False, 'touristy': False, 'trendy': True, 'upscale': False, 'casual': False}\",\n",
       "       \"{'romantic': False, 'intimate': False, 'classy': True, 'hipster': False, 'divey': False, 'touristy': True, 'trendy': False, 'upscale': False, 'casual': True}\",\n",
       "       \"{'romantic': True, 'intimate': False, 'classy': False, 'hipster': False, 'divey': True, 'touristy': False, 'trendy': False, 'upscale': False, 'casual': False}\",\n",
       "       \"{'romantic': True, 'intimate': False, 'classy': True, 'hipster': False, 'divey': False, 'touristy': True, 'trendy': False, 'upscale': False, 'casual': True}\",\n",
       "       \"{'romantic': False, 'intimate': False, 'classy': False, 'hipster': True, 'touristy': False, 'trendy': True, 'upscale': True, 'casual': False}\",\n",
       "       \"{'romantic': False, 'intimate': False, 'classy': True, 'hipster': False, 'divey': False, 'touristy': False, 'trendy': True, 'upscale': True, 'casual': True}\",\n",
       "       \"{'romantic': False, 'intimate': True, 'classy': False, 'hipster': False, 'touristy': False, 'trendy': False, 'upscale': True, 'casual': False}\",\n",
       "       \"{'romantic': False, 'intimate': True, 'classy': False, 'hipster': False, 'divey': False, 'touristy': False, 'trendy': True, 'upscale': True, 'casual': False}\",\n",
       "       \"{'romantic': True, 'intimate': False, 'classy': True, 'hipster': False, 'divey': False, 'touristy': False, 'trendy': True, 'upscale': False, 'casual': True}\",\n",
       "       \"{'romantic': False, 'intimate': True, 'classy': False, 'hipster': False, 'divey': True, 'touristy': False, 'trendy': False, 'upscale': False, 'casual': False}\",\n",
       "       \"{'romantic': False, 'intimate': True, 'classy': True, 'hipster': False, 'touristy': False, 'trendy': True, 'upscale': False, 'casual': False}\",\n",
       "       \"{'romantic': False, 'intimate': True, 'classy': False, 'hipster': False, 'divey': False, 'touristy': False, 'trendy': False, 'upscale': True, 'casual': False}\",\n",
       "       \"{'romantic': True, 'intimate': True, 'classy': True, 'hipster': False, 'touristy': False, 'trendy': False, 'upscale': True, 'casual': True}\",\n",
       "       \"{'romantic': True, 'intimate': False, 'classy': False, 'hipster': False, 'divey': False, 'touristy': False, 'trendy': False, 'upscale': True, 'casual': False}\",\n",
       "       \"{'romantic': True, 'intimate': False, 'classy': False, 'hipster': False, 'divey': False, 'touristy': False, 'trendy': True, 'upscale': True, 'casual': False}\",\n",
       "       \"{'romantic': True, 'intimate': True, 'classy': False, 'hipster': False, 'divey': False, 'touristy': False, 'trendy': True, 'upscale': False, 'casual': False}\",\n",
       "       \"{'romantic': True, 'intimate': False, 'classy': True, 'hipster': False, 'touristy': True, 'trendy': False, 'upscale': False, 'casual': True}\",\n",
       "       \"{'romantic': True, 'intimate': True, 'classy': False, 'hipster': False, 'divey': False, 'touristy': False, 'trendy': False, 'upscale': True, 'casual': False}\",\n",
       "       \"{'romantic': True, 'intimate': False, 'classy': True, 'hipster': False, 'divey': False, 'touristy': False, 'trendy': True, 'upscale': True, 'casual': False}\",\n",
       "       \"{'romantic': False, 'intimate': False, 'classy': True, 'hipster': True, 'divey': False, 'touristy': True, 'trendy': True, 'upscale': False, 'casual': True}\",\n",
       "       \"{'romantic': True, 'intimate': False, 'classy': True, 'hipster': False, 'touristy': False, 'trendy': False, 'upscale': False, 'casual': True}\",\n",
       "       \"{'romantic': True, 'intimate': False, 'classy': False, 'hipster': False, 'touristy': False, 'trendy': True, 'upscale': False, 'casual': True}\",\n",
       "       \"{'romantic': True, 'intimate': False, 'classy': True, 'hipster': False, 'divey': False, 'touristy': False, 'trendy': True, 'upscale': True, 'casual': True}\",\n",
       "       \"{'romantic': True, 'intimate': False, 'classy': True, 'hipster': False, 'touristy': False, 'trendy': True, 'upscale': False, 'casual': False}\",\n",
       "       \"{'romantic': False, 'intimate': True, 'classy': False, 'hipster': True, 'touristy': False, 'trendy': False, 'upscale': False, 'casual': False}\",\n",
       "       \"{'romantic': True, 'intimate': False, 'classy': False, 'hipster': False, 'touristy': False, 'trendy': False, 'upscale': True, 'casual': False}\",\n",
       "       \"{'romantic': False, 'intimate': False, 'classy': False, 'hipster': False, 'touristy': False, 'trendy': True, 'upscale': True, 'casual': True}\",\n",
       "       \"{'romantic': False, 'intimate': True, 'classy': True, 'hipster': False, 'touristy': False, 'trendy': False, 'upscale': False, 'casual': True}\",\n",
       "       \"{'romantic': False, 'intimate': False, 'classy': False, 'hipster': False, 'touristy': False, 'trendy': False, 'upscale': True, 'casual': True}\",\n",
       "       \"{'romantic': False, 'intimate': True, 'classy': True, 'hipster': False, 'divey': False, 'touristy': False, 'trendy': True, 'upscale': False, 'casual': False}\",\n",
       "       \"{'romantic': False, 'intimate': True, 'classy': False, 'hipster': True, 'divey': False, 'touristy': False, 'trendy': False, 'upscale': False, 'casual': False}\",\n",
       "       \"{'romantic': True, 'intimate': False, 'classy': False, 'hipster': True, 'touristy': False, 'trendy': False, 'upscale': False, 'casual': False}\",\n",
       "       \"{'romantic': True, 'intimate': False, 'classy': True, 'hipster': True, 'divey': False, 'touristy': False, 'trendy': True, 'upscale': False, 'casual': True}\",\n",
       "       \"{'romantic': True, 'intimate': False, 'classy': False, 'hipster': False, 'divey': False, 'touristy': False, 'trendy': True, 'upscale': False, 'casual': False}\",\n",
       "       \"{'romantic': False, 'intimate': False, 'classy': False, 'hipster': False, 'divey': True, 'touristy': True, 'trendy': False, 'upscale': False, 'casual': True}\",\n",
       "       \"{'romantic': True, 'intimate': True, 'classy': False, 'hipster': False, 'touristy': False, 'trendy': True, 'upscale': False, 'casual': False}\",\n",
       "       \"{'romantic': False, 'intimate': False, 'classy': True, 'hipster': True, 'divey': False, 'touristy': False, 'trendy': False, 'upscale': False, 'casual': True}\",\n",
       "       \"{'romantic': False, 'intimate': True, 'classy': True, 'hipster': True, 'divey': False, 'touristy': False, 'trendy': True, 'upscale': False, 'casual': True}\",\n",
       "       \"{'romantic': False, 'intimate': True, 'classy': False, 'hipster': False, 'touristy': True, 'trendy': False, 'upscale': False, 'casual': False}\",\n",
       "       \"{'romantic': False, 'intimate': False, 'classy': True, 'hipster': True, 'divey': False, 'touristy': False, 'trendy': False, 'upscale': True, 'casual': True}\",\n",
       "       \"{'romantic': False, 'intimate': True, 'classy': False, 'hipster': False, 'divey': False, 'touristy': False, 'trendy': True, 'upscale': True, 'casual': True}\",\n",
       "       \"{'romantic': True, 'intimate': True, 'classy': True, 'hipster': True, 'divey': False, 'touristy': False, 'trendy': True, 'upscale': True, 'casual': True}\",\n",
       "       \"{'romantic': False, 'intimate': False, 'classy': True, 'hipster': False, 'divey': True, 'touristy': False, 'trendy': True, 'upscale': False, 'casual': False}\",\n",
       "       \"{'romantic': False, 'intimate': False, 'classy': True, 'hipster': False, 'divey': True, 'touristy': False, 'trendy': True, 'upscale': False, 'casual': True}\",\n",
       "       \"{'romantic': False, 'intimate': False, 'classy': False, 'hipster': False, 'divey': False, 'touristy': False, 'trendy': True, 'upscale': True, 'casual': True}\",\n",
       "       \"{'romantic': False, 'intimate': True, 'classy': False, 'hipster': True, 'touristy': False, 'trendy': True, 'upscale': False, 'casual': False}\",\n",
       "       \"{'romantic': False, 'intimate': False, 'classy': True, 'hipster': True, 'divey': False, 'touristy': False, 'trendy': True, 'upscale': True, 'casual': False}\",\n",
       "       \"{'romantic': False, 'intimate': True, 'classy': True, 'hipster': True, 'divey': False, 'touristy': False, 'trendy': True, 'upscale': True, 'casual': False}\",\n",
       "       \"{'romantic': False, 'intimate': False, 'classy': False, 'hipster': True, 'divey': False, 'touristy': True, 'trendy': False, 'upscale': False, 'casual': True}\",\n",
       "       \"{'romantic': True, 'intimate': True, 'classy': True, 'hipster': False, 'touristy': False, 'trendy': True, 'upscale': False, 'casual': True}\",\n",
       "       \"{'romantic': False, 'intimate': True, 'classy': False, 'hipster': True, 'touristy': False, 'trendy': False, 'upscale': False, 'casual': True}\",\n",
       "       \"{'romantic': True, 'intimate': True, 'classy': False, 'hipster': False, 'divey': False, 'touristy': False, 'trendy': False, 'upscale': True, 'casual': True}\",\n",
       "       \"{'romantic': False, 'intimate': False, 'classy': False, 'hipster': False, 'divey': False, 'touristy': True, 'trendy': True, 'upscale': False, 'casual': False}\",\n",
       "       \"{'romantic': True, 'intimate': False, 'classy': False, 'hipster': False, 'divey': False, 'touristy': False, 'trendy': True, 'upscale': True, 'casual': True}\",\n",
       "       \"{'romantic': False, 'intimate': True, 'classy': False, 'hipster': True, 'divey': False, 'touristy': False, 'trendy': True, 'upscale': True, 'casual': False}\",\n",
       "       \"{'romantic': True, 'intimate': True, 'classy': True, 'hipster': False, 'divey': False, 'touristy': True, 'trendy': False, 'upscale': False, 'casual': False}\",\n",
       "       \"{'romantic': False, 'intimate': False, 'classy': True, 'hipster': False, 'divey': False, 'touristy': True, 'trendy': True, 'upscale': False, 'casual': True}\",\n",
       "       \"{'romantic': False, 'intimate': False, 'classy': False, 'hipster': True, 'touristy': True, 'trendy': True, 'upscale': False, 'casual': True}\",\n",
       "       \"{'romantic': False, 'intimate': False, 'classy': True, 'hipster': False, 'divey': False, 'touristy': True, 'trendy': True, 'upscale': True, 'casual': False}\",\n",
       "       \"{'romantic': False, 'intimate': True, 'classy': False, 'hipster': False, 'divey': True, 'touristy': False, 'trendy': False, 'upscale': False, 'casual': True}\",\n",
       "       \"{'romantic': True, 'intimate': True, 'classy': True, 'hipster': False, 'divey': False, 'touristy': False, 'trendy': False, 'upscale': True, 'casual': True}\"],\n",
       "      dtype=object)"
      ]
     },
     "execution_count": 317,
     "metadata": {},
     "output_type": "execute_result"
    }
   ],
   "source": [
    "# Understand the ambience\n",
    "restaurants['attributes.Ambience'].unique()"
   ]
  },
  {
   "cell_type": "code",
   "execution_count": 318,
   "metadata": {},
   "outputs": [],
   "source": [
    "def ambience_extract(row):\n",
    "    ambience_list = list()\n",
    "    import ast\n",
    "    if pd.isnull(row['attributes.Ambience']):\n",
    "        return None\n",
    "    else:\n",
    "        for key, value in ast.literal_eval(row['attributes.Ambience']).items():\n",
    "            if value == True:\n",
    "                ambience_list.append(key)\n",
    "        return \",\".join(ambience_list)"
   ]
  },
  {
   "cell_type": "code",
   "execution_count": 319,
   "metadata": {},
   "outputs": [],
   "source": [
    "restaurants['Ambience'] = restaurants.apply(lambda row: ambience_extract(row),axis=1)"
   ]
  },
  {
   "cell_type": "code",
   "execution_count": 320,
   "metadata": {},
   "outputs": [],
   "source": [
    "ambience_list = restaurants['Ambience'].tolist()\n",
    "ambience_list = [x for x in ambience_list if x is not None and x != '']"
   ]
  },
  {
   "cell_type": "code",
   "execution_count": 321,
   "metadata": {},
   "outputs": [],
   "source": [
    "cat_all_am = ','.join(ambience_list)"
   ]
  },
  {
   "cell_type": "code",
   "execution_count": 322,
   "metadata": {},
   "outputs": [
    {
     "data": {
      "text/plain": [
       "casual      22191\n",
       "trendy       2428\n",
       "classy       1061\n",
       "divey        1057\n",
       "hipster      1043\n",
       "intimate      672\n",
       "romantic      600\n",
       "upscale       494\n",
       "touristy      228\n",
       "Name: Ambience, dtype: int64"
      ]
     },
     "execution_count": 322,
     "metadata": {},
     "output_type": "execute_result"
    }
   ],
   "source": [
    "cat_all_am = pd.DataFrame(cat_all_am.split(','), columns=['Ambience'])\n",
    "cat_all_am_count = cat_all_am.Ambience.value_counts().sort_values(ascending = False)\n",
    "cat_all_am_count"
   ]
  },
  {
   "cell_type": "markdown",
   "metadata": {},
   "source": [
    "We create dummy variables for 'casual', 'trendy' and 'Others'"
   ]
  },
  {
   "cell_type": "code",
   "execution_count": 323,
   "metadata": {},
   "outputs": [],
   "source": [
    "def ambience_casual(row):\n",
    "    if row['Ambience'] is not None and row['Ambience'] != '':\n",
    "        if 'casual' in row['Ambience'].split(','):\n",
    "            return 1\n",
    "        else:\n",
    "            return 0\n",
    "    else:\n",
    "        return 0\n",
    "restaurants['ambience_casual'] = restaurants.apply(lambda row: ambience_casual(row),axis=1)"
   ]
  },
  {
   "cell_type": "code",
   "execution_count": 324,
   "metadata": {},
   "outputs": [],
   "source": [
    "def ambience_trendy(row):\n",
    "    if row['Ambience'] is not None and row['Ambience'] != '':\n",
    "        if 'trendy' in row['Ambience'].split(','):\n",
    "            return 1\n",
    "        else:\n",
    "            return 0\n",
    "    else:\n",
    "        return 0\n",
    "restaurants['ambience_trendy'] = restaurants.apply(lambda row: ambience_trendy(row),axis=1)"
   ]
  },
  {
   "cell_type": "code",
   "execution_count": 325,
   "metadata": {},
   "outputs": [],
   "source": [
    "ambience_others_list = ['romantic', 'intimate', 'classy', 'hipster', 'touristy', 'upscale', 'divey']\n",
    "def ambience_others(row):\n",
    "    if row['Ambience'] is not None and row['Ambience'] != '':\n",
    "        if (set(ambience_others_list) & set(row['Ambience'].split(','))):\n",
    "            return 1\n",
    "        else:\n",
    "            return 0\n",
    "    else:\n",
    "        return 0\n",
    "restaurants['ambience_others'] = restaurants.apply(lambda row: ambience_others(row),axis=1)"
   ]
  },
  {
   "cell_type": "markdown",
   "metadata": {},
   "source": [
    "## 3.3 Food categories"
   ]
  },
  {
   "cell_type": "code",
   "execution_count": 326,
   "metadata": {},
   "outputs": [
    {
     "data": {
      "text/plain": [
       "Restaurants               57173\n",
       "Food                      27118\n",
       "Nightlife                 11217\n",
       "Bars                      10853\n",
       "Coffee&Tea                 6936\n",
       "Sandwiches                 6912\n",
       "FastFood                   6812\n",
       "American(Traditional)      6659\n",
       "Pizza                      6603\n",
       "Burgers                    5126\n",
       "Breakfast&Brunch           5023\n",
       "Italian                    4550\n",
       "Mexican                    4419\n",
       "SpecialtyFood              4304\n",
       "Chinese                    4247\n",
       "American(New)              4230\n",
       "Bakeries                   3509\n",
       "Grocery                    3380\n",
       "Cafes                      3056\n",
       "Desserts                   2991\n",
       "EventPlanning&Services     2929\n",
       "Shopping                   2735\n",
       "IceCream&FrozenYogurt      2613\n",
       "Japanese                   2566\n",
       "ChickenWings               2538\n",
       "Seafood                    2369\n",
       "Salad                      2350\n",
       "SushiBars                  2156\n",
       "SportsBars                 2055\n",
       "Pubs                       2012\n",
       "                          ...  \n",
       "Trusts                        1\n",
       "OfficeCleaning                1\n",
       "PainManagement                1\n",
       "TravelAgents                  1\n",
       "TraditionalClothing           1\n",
       "Drive-ThruBars                1\n",
       "SepticServices                1\n",
       "SecuritySystems               1\n",
       "SoftwareDevelopment           1\n",
       "VeteransOrganizations         1\n",
       "MountainBiking                1\n",
       "CarShareServices              1\n",
       "Skydiving                     1\n",
       "FengShui                      1\n",
       "Duty-FreeShops                1\n",
       "TriviaHosts                   1\n",
       "RVRepair                      1\n",
       "FurClothing                   1\n",
       "Cardiologists                 1\n",
       "Insurance                     1\n",
       "GeneralDentistry              1\n",
       "BeerHall                      1\n",
       "Churros                       1\n",
       "Tableware                     1\n",
       "DataRecovery                  1\n",
       "Doulas                        1\n",
       "SportsMedicine                1\n",
       "Utilities                     1\n",
       "Mosques                       1\n",
       "AutoUpholstery                1\n",
       "Name: category, Length: 835, dtype: int64"
      ]
     },
     "execution_count": 326,
     "metadata": {},
     "output_type": "execute_result"
    }
   ],
   "source": [
    "cat_all_res_count"
   ]
  },
  {
   "cell_type": "code",
   "execution_count": 327,
   "metadata": {},
   "outputs": [],
   "source": [
    "american_food = ['American(Traditional)','American(New)']\n",
    "asian_food = ['Chinese','Malaysian','Japanese','AsianFusion','SushiBars','PanAsian','Poke','Indian','Thai',\n",
    "             'Szechuan','Vietnamese','Korean','Cantonese','Dim Sum','Taiwanese','Filipino','Ramen','Noodles']\n",
    "european_food = ['Italian','Mediterranean','British','Delicatessen','French','Greek','Polish','Irish','German',\n",
    "                'Spanish','Portuguese']"
   ]
  },
  {
   "cell_type": "code",
   "execution_count": 328,
   "metadata": {},
   "outputs": [],
   "source": [
    "food_masks = ['Restaurants', 'Food','Sandwiches', 'FastFood', 'Breakfast&Brunch', 'SpecialtyFood', 'Burgers',\n",
    "                    'American(Traditional)', 'American(New)','Pizza', 'Italian','African','Falafel','Turkish',\n",
    "                    'Desserts', 'Bakeries', 'Salad','ChickenWings', 'Mexican','Seafood','Chinese','Malaysian',\n",
    "                    'IceCream&FrozenYogurt', 'Delis', 'Japanese', 'Bars', 'Canadian(New)', 'AsianFusion',\n",
    "                    'Mediterranean', 'SushiBars','JuiceBars&Smoothies','Steakhouses','Coffee&Tea','Pretzels','PanAsian',\n",
    "                    'Barbeque','Beer','Wine&Spirits','SportsBars', 'Pubs','British','Poke','Delicatessen',\n",
    "                     'Lounges', 'WineBars', 'CocktailBars', 'Diners','Patisserie/CakeShop','Kosher','Afghan',\n",
    "                     'Vegetarian', 'EthnicFood', 'MiddleEastern','Persian/Iranian','FoodCourt','IrishPub',\n",
    "                     'Gluten-Free','ComfortFood','Indian','Soup','Vegan', 'Thai','FoodTrucks','Szechuan',\n",
    "                     'French','Greek','Buffets','Vietnamese','HotDogs','DiveBars','Tex-Mex','HotPot','Polish','Moroccan',\n",
    "                     'ImportedFood','Gastropubs','Bagels','BeerBar','Halal','Korean','Donuts','Tapas/SmallPlates',\n",
    "                     'Breweries','Southern','LatinAmerican','Do-It-YourselfFood','InternetCafes','Cantonese',\n",
    "                     'BubbleTea','TapasBars','Caribbean','Lebanese','CoffeeRoasteries','Gelato','Brazilian',\n",
    "                     'Pakistani','FoodStands','Hawaiian','Dim Sum','Tacos','SoulFood','Creperies','Ethiopian',\n",
    "                     'Fish&Chips','Cajun/Creole','Irish','ShavedIce','InternetCafes','Bistros','Peruvian','Waffles',\n",
    "                     'ModernEuropean','Taiwanese','Filipino','Cheesesteaks','German','Brasseries','Cuban',\n",
    "                     'Wineries','Ramen','Spanish','Poutineries','TeaRooms','Noodles','Cupcakes','Portuguese']"
   ]
  },
  {
   "cell_type": "markdown",
   "metadata": {},
   "source": [
    "Labels:\n",
    "    1. American\n",
    "    2. Asian\n",
    "    3. European\n",
    "    4. Sandwich\n",
    "    5. Burgers\n",
    "    6. FastFood\n",
    "    7. Pizza"
   ]
  },
  {
   "cell_type": "code",
   "execution_count": null,
   "metadata": {},
   "outputs": [],
   "source": [
    "def american_food_label(row):\n",
    "    if 'Pizza' in row['categories'].split(','):\n",
    "            return 1\n",
    "        else:\n",
    "            return 0\n",
    "    else:\n",
    "        return 0\n",
    "restaurants['ambience_casual'] = restaurants.apply(lambda row: ambience_casual(row),axis=1)"
   ]
  },
  {
   "cell_type": "markdown",
   "metadata": {},
   "source": [
    "## 3.4 Create Dummy Variables for features"
   ]
  },
  {
   "cell_type": "code",
   "execution_count": 329,
   "metadata": {},
   "outputs": [],
   "source": [
    "cols_dummy = ['attributes.RestaurantsAttire','attributes.Alcohol',\n",
    "        'attributes.RestaurantsReservations','attributes.GoodForKids','attributes.Smoking',\n",
    "        'attributes.NoiseLevel','attributes.Open24Hours',\n",
    "        'attributes.ByAppointmentOnly','attributes.RestaurantsDelivery',\n",
    "        'attributes.RestaurantsGoodForGroups','attributes.RestaurantsTableService','attributes.WiFi',\n",
    "        'attributes.DogsAllowed','attributes.BusinessAcceptsCreditCards',\n",
    "        'attributes.DriveThru','attributes.Caters','attributes.RestaurantsTakeOut',\n",
    "        'attributes.WheelchairAccessible','attributes.HasTV','attributes.HappyHour',\n",
    "        'attributes.CoatCheck','attributes.OutdoorSeating','is_open','attributes.AcceptsInsurance']\n",
    "        \n",
    "        \n",
    "special_col = ['attributes.GoodForMeal', 'attributes.BestNights','attributes.Music',\n",
    "               'hours', 'attributes.BusinessParking','attributes.RestaurantsAttire']"
   ]
  },
  {
   "cell_type": "code",
   "execution_count": 359,
   "metadata": {},
   "outputs": [],
   "source": [
    "res_full = pd.get_dummies(data=restaurants, columns = cols_dummy)"
   ]
  },
  {
   "cell_type": "code",
   "execution_count": 360,
   "metadata": {
    "scrolled": false
   },
   "outputs": [
    {
     "data": {
      "text/plain": [
       "['hours.Friday',\n",
       " 'attributes.BikeParking',\n",
       " 'state',\n",
       " 'categories',\n",
       " 'attributes.BusinessParking',\n",
       " 'attributes.GoodForDancing',\n",
       " 'attributes.BYOB',\n",
       " 'attributes.DietaryRestrictions',\n",
       " 'hours.Sunday',\n",
       " 'attributes.BYOBCorkage',\n",
       " 'latitude',\n",
       " 'attributes.BusinessAcceptsBitcoin',\n",
       " 'attributes.GoodForMeal',\n",
       " 'attributes.BestNights',\n",
       " 'attributes.Corkage',\n",
       " 'attributes.Music',\n",
       " 'hours.Wednesday',\n",
       " 'longitude',\n",
       " 'neighborhood',\n",
       " 'attributes.HairSpecializesIn',\n",
       " 'hours.Thursday',\n",
       " 'attributes.AgesAllowed',\n",
       " 'business_id',\n",
       " 'postal_code',\n",
       " 'hours',\n",
       " 'review_count',\n",
       " 'name',\n",
       " 'hours.Saturday',\n",
       " 'attributes.Ambience',\n",
       " 'attributes.RestaurantsCounterService',\n",
       " 'address',\n",
       " 'attributes.RestaurantsPriceRange2',\n",
       " 'hours.Tuesday',\n",
       " 'hours.Monday',\n",
       " 'attributes',\n",
       " 'stars',\n",
       " 'city',\n",
       " 'country',\n",
       " 'Ambience',\n",
       " 'ambience_casual',\n",
       " 'ambience_trendy',\n",
       " 'ambience_others',\n",
       " 'attributes.RestaurantsAttire_casual',\n",
       " 'attributes.RestaurantsAttire_dressy',\n",
       " 'attributes.RestaurantsAttire_formal',\n",
       " 'attributes.Alcohol_beer_and_wine',\n",
       " 'attributes.Alcohol_full_bar',\n",
       " 'attributes.Alcohol_none',\n",
       " 'attributes.RestaurantsReservations_False',\n",
       " 'attributes.RestaurantsReservations_True',\n",
       " 'attributes.GoodForKids_False',\n",
       " 'attributes.GoodForKids_True',\n",
       " 'attributes.Smoking_no',\n",
       " 'attributes.Smoking_outdoor',\n",
       " 'attributes.Smoking_yes',\n",
       " 'attributes.NoiseLevel_average',\n",
       " 'attributes.NoiseLevel_loud',\n",
       " 'attributes.NoiseLevel_quiet',\n",
       " 'attributes.NoiseLevel_very_loud',\n",
       " 'attributes.Open24Hours_False',\n",
       " 'attributes.Open24Hours_True',\n",
       " 'attributes.ByAppointmentOnly_False',\n",
       " 'attributes.ByAppointmentOnly_True',\n",
       " 'attributes.RestaurantsDelivery_False',\n",
       " 'attributes.RestaurantsDelivery_True',\n",
       " 'attributes.RestaurantsGoodForGroups_False',\n",
       " 'attributes.RestaurantsGoodForGroups_True',\n",
       " 'attributes.RestaurantsTableService_False',\n",
       " 'attributes.RestaurantsTableService_True',\n",
       " 'attributes.WiFi_free',\n",
       " 'attributes.WiFi_no',\n",
       " 'attributes.WiFi_paid',\n",
       " 'attributes.DogsAllowed_False',\n",
       " 'attributes.DogsAllowed_True',\n",
       " 'attributes.BusinessAcceptsCreditCards_False',\n",
       " 'attributes.BusinessAcceptsCreditCards_True',\n",
       " 'attributes.DriveThru_False',\n",
       " 'attributes.DriveThru_True',\n",
       " 'attributes.Caters_False',\n",
       " 'attributes.Caters_True',\n",
       " 'attributes.RestaurantsTakeOut_False',\n",
       " 'attributes.RestaurantsTakeOut_True',\n",
       " 'attributes.WheelchairAccessible_False',\n",
       " 'attributes.WheelchairAccessible_True',\n",
       " 'attributes.HasTV_False',\n",
       " 'attributes.HasTV_True',\n",
       " 'attributes.HappyHour_False',\n",
       " 'attributes.HappyHour_True',\n",
       " 'attributes.CoatCheck_False',\n",
       " 'attributes.CoatCheck_True',\n",
       " 'attributes.OutdoorSeating_False',\n",
       " 'attributes.OutdoorSeating_True',\n",
       " 'is_open_0',\n",
       " 'is_open_1',\n",
       " 'attributes.AcceptsInsurance_False',\n",
       " 'attributes.AcceptsInsurance_True']"
      ]
     },
     "execution_count": 360,
     "metadata": {},
     "output_type": "execute_result"
    }
   ],
   "source": [
    "res_full.columns.values.tolist()"
   ]
  },
  {
   "cell_type": "markdown",
   "metadata": {},
   "source": [
    "## 3.5 Continuous Variables"
   ]
  },
  {
   "cell_type": "code",
   "execution_count": 332,
   "metadata": {},
   "outputs": [
    {
     "data": {
      "text/plain": [
       "array([nan, '18plus', '21plus', 'allages', '19plus'], dtype=object)"
      ]
     },
     "execution_count": 332,
     "metadata": {},
     "output_type": "execute_result"
    }
   ],
   "source": [
    "restaurants['attributes.AgesAllowed'].unique()"
   ]
  },
  {
   "cell_type": "code",
   "execution_count": 333,
   "metadata": {},
   "outputs": [
    {
     "data": {
      "text/plain": [
       "LabelEncoder()"
      ]
     },
     "execution_count": 333,
     "metadata": {},
     "output_type": "execute_result"
    }
   ],
   "source": [
    "from sklearn import preprocessing\n",
    "le = preprocessing.LabelEncoder()\n",
    "restaurants['attributes.AgesAllowed'].fillna('0',inplace=True)\n",
    "le.fit(['0',\"allages\", \"18plus\", \"19plus\", \"21plus\"])"
   ]
  },
  {
   "cell_type": "code",
   "execution_count": 334,
   "metadata": {},
   "outputs": [
    {
     "data": {
      "text/plain": [
       "array(['0', '19plus', '18plus'], dtype='<U7')"
      ]
     },
     "execution_count": 334,
     "metadata": {},
     "output_type": "execute_result"
    }
   ],
   "source": [
    "le.inverse_transform([0, 2, 1])"
   ]
  },
  {
   "cell_type": "code",
   "execution_count": 339,
   "metadata": {},
   "outputs": [],
   "source": [
    "restaurants['attributes.AgesAllowed'] = le.transform(restaurants['attributes.AgesAllowed']) "
   ]
  },
  {
   "cell_type": "markdown",
   "metadata": {},
   "source": [
    "## 3.10 Final Feature Selection"
   ]
  },
  {
   "cell_type": "code",
   "execution_count": 361,
   "metadata": {},
   "outputs": [],
   "source": [
    "cols_ml = ['review_count',\n",
    " 'attributes.RestaurantsAttire_casual',\n",
    " 'attributes.RestaurantsAttire_dressy',\n",
    " 'attributes.RestaurantsAttire_formal',\n",
    " 'attributes.Alcohol_full_bar',\n",
    " 'attributes.RestaurantsReservations_True',\n",
    " 'attributes.GoodForKids_True',\n",
    " 'attributes.Smoking_outdoor',\n",
    " 'attributes.Smoking_yes',\n",
    " 'attributes.NoiseLevel_very_loud',\n",
    " 'attributes.Open24Hours_True',\n",
    " 'attributes.ByAppointmentOnly_True',\n",
    " 'attributes.RestaurantsGoodForGroups_True',\n",
    " 'attributes.WiFi_free',\n",
    " 'attributes.DogsAllowed_True',\n",
    " 'attributes.BusinessAcceptsCreditCards_True',\n",
    " 'attributes.DriveThru_True',\n",
    " 'attributes.Caters_True',\n",
    " 'attributes.RestaurantsPriceRange2',\n",
    " 'attributes.RestaurantsTakeOut_True',\n",
    " 'attributes.HappyHour_True',\n",
    " 'attributes.CoatCheck_True',\n",
    " 'attributes.OutdoorSeating_True',\n",
    " 'ambience_casual',\n",
    " 'ambience_trendy',\n",
    " 'ambience_others',\n",
    " 'attributes.AgesAllowed']"
   ]
  },
  {
   "cell_type": "markdown",
   "metadata": {},
   "source": [
    "# 4. Machine Learning Models"
   ]
  },
  {
   "cell_type": "markdown",
   "metadata": {},
   "source": [
    "* Logistic Regression\n",
    "* Random Forest\n",
    "* Bootstrapping\n",
    "* XGBoost"
   ]
  },
  {
   "cell_type": "markdown",
   "metadata": {},
   "source": [
    "## 4.1 Simple Linear Regression"
   ]
  },
  {
   "cell_type": "code",
   "execution_count": 362,
   "metadata": {},
   "outputs": [],
   "source": [
    "X = res_full[cols_ml]\n",
    "y = restaurants['stars']"
   ]
  },
  {
   "cell_type": "code",
   "execution_count": 364,
   "metadata": {},
   "outputs": [
    {
     "name": "stderr",
     "output_type": "stream",
     "text": [
      "/usr/local/lib/python3.6/site-packages/pandas/core/frame.py:3790: SettingWithCopyWarning: \n",
      "A value is trying to be set on a copy of a slice from a DataFrame\n",
      "\n",
      "See the caveats in the documentation: http://pandas.pydata.org/pandas-docs/stable/indexing.html#indexing-view-versus-copy\n",
      "  downcast=downcast, **kwargs)\n"
     ]
    }
   ],
   "source": [
    "X.fillna(0,inplace=True)"
   ]
  },
  {
   "cell_type": "code",
   "execution_count": 365,
   "metadata": {},
   "outputs": [],
   "source": [
    "train_X, test_X, train_y, test_y = train_test_split(X, y, test_size = 0.3)"
   ]
  },
  {
   "cell_type": "code",
   "execution_count": 366,
   "metadata": {},
   "outputs": [
    {
     "data": {
      "text/plain": [
       "LinearRegression(copy_X=True, fit_intercept=True, n_jobs=None,\n",
       "         normalize=False)"
      ]
     },
     "execution_count": 366,
     "metadata": {},
     "output_type": "execute_result"
    }
   ],
   "source": [
    "from sklearn import linear_model\n",
    "model = linear_model.LinearRegression()\n",
    "model.fit(train_X, train_y)"
   ]
  },
  {
   "cell_type": "code",
   "execution_count": 367,
   "metadata": {},
   "outputs": [
    {
     "data": {
      "text/plain": [
       "array([3.58897641, 3.13314506, 3.34342577, ..., 3.57027843, 3.54109266,\n",
       "       3.66390911])"
      ]
     },
     "execution_count": 367,
     "metadata": {},
     "output_type": "execute_result"
    }
   ],
   "source": [
    "pred_y  = model.predict(test_X)\n",
    "pred_y"
   ]
  },
  {
   "cell_type": "code",
   "execution_count": 368,
   "metadata": {},
   "outputs": [
    {
     "name": "stdout",
     "output_type": "stream",
     "text": [
      "Coefficients: \n",
      " [ 3.61486347e-04 -2.32851793e-01 -6.30062196e-02 -1.46040199e-01\n",
      " -1.59969045e-01  6.48046135e-02 -2.87424835e-02 -5.99641279e-02\n",
      "  9.15177744e-02 -4.04794933e-01 -3.60074551e-01  3.79935663e-01\n",
      "  1.95796932e-02  3.78412228e-02  2.79670438e-01 -9.15091671e-02\n",
      " -8.21357976e-01  1.54800774e-01  3.45318216e-02  1.86979823e-02\n",
      " -1.75029149e-02 -4.59314221e-02  5.61460323e-02  1.45060755e-01\n",
      "  1.92354496e-01  2.59839514e-01 -1.16703879e-01]\n",
      "Mean squared error: 0.60\n",
      "Variance score: 0.10\n"
     ]
    }
   ],
   "source": [
    "from sklearn.metrics import mean_squared_error, r2_score\n",
    "\n",
    "# The coefficients\n",
    "print('Coefficients: \\n', model.coef_)\n",
    "# The mean squared error\n",
    "print(\"Mean squared error: %.2f\"\n",
    "      % mean_squared_error(test_y, pred_y))\n",
    "# Explained variance score: 1 is perfect prediction\n",
    "print('Variance score: %.2f' % r2_score(test_y, pred_y))"
   ]
  },
  {
   "cell_type": "markdown",
   "metadata": {},
   "source": [
    "## 4.1.1 Try to classify the successful restaurant using the result above"
   ]
  },
  {
   "cell_type": "code",
   "execution_count": 369,
   "metadata": {},
   "outputs": [],
   "source": [
    "res_full['success'] = np.where(restaurants['stars'] >= 3.5,1,0)"
   ]
  },
  {
   "cell_type": "code",
   "execution_count": 370,
   "metadata": {},
   "outputs": [
    {
     "name": "stderr",
     "output_type": "stream",
     "text": [
      "/usr/local/lib/python3.6/site-packages/pandas/core/frame.py:3790: SettingWithCopyWarning: \n",
      "A value is trying to be set on a copy of a slice from a DataFrame\n",
      "\n",
      "See the caveats in the documentation: http://pandas.pydata.org/pandas-docs/stable/indexing.html#indexing-view-versus-copy\n",
      "  downcast=downcast, **kwargs)\n"
     ]
    }
   ],
   "source": [
    "X = res_full[cols_ml]\n",
    "y = res_full['success']\n",
    "X.fillna(0,inplace=True)\n",
    "train_X, test_X, train_y, test_y = train_test_split(X,y,test_size = 0.3, random_state = 11)"
   ]
  },
  {
   "cell_type": "code",
   "execution_count": 371,
   "metadata": {},
   "outputs": [
    {
     "data": {
      "text/plain": [
       "array([0., 0., 0., ..., 0., 0., 0.])"
      ]
     },
     "execution_count": 371,
     "metadata": {},
     "output_type": "execute_result"
    }
   ],
   "source": [
    "def get_classification(predictions, threshold):\n",
    "    classes = np.zeros_like(predictions)\n",
    "    for i in range(len(classes)):\n",
    "        if predictions[i] > threshold:\n",
    "            classes[i] = 1\n",
    "    return classes\n",
    "get_classification(pred_y, 4)"
   ]
  },
  {
   "cell_type": "code",
   "execution_count": 372,
   "metadata": {},
   "outputs": [
    {
     "name": "stdout",
     "output_type": "stream",
     "text": [
      "7836 142 14384 244\n"
     ]
    }
   ],
   "source": [
    "from sklearn.metrics import confusion_matrix\n",
    "tn, fp, fn, tp = confusion_matrix(test_y, get_classification(pred_y,4)).ravel()\n",
    "print(tn, fp, fn, tp)"
   ]
  },
  {
   "cell_type": "code",
   "execution_count": 373,
   "metadata": {},
   "outputs": [
    {
     "name": "stdout",
     "output_type": "stream",
     "text": [
      "0.357427231708396\n"
     ]
    }
   ],
   "source": [
    "accuracy = (tp+tn)/(tp+tn+fp+fn)\n",
    "print(accuracy)"
   ]
  },
  {
   "cell_type": "code",
   "execution_count": 374,
   "metadata": {},
   "outputs": [
    {
     "data": {
      "image/png": "[encoded data removed]",
      "text/plain": [
       "<Figure size 432x288 with 1 Axes>"
      ]
     },
     "metadata": {
      "needs_background": "light"
     },
     "output_type": "display_data"
    }
   ],
   "source": [
    "from sklearn.metrics import roc_curve, auc\n",
    "testing_predictions = model.predict(test_X)\n",
    "(fpr, tpr, thresholds) = roc_curve(test_y,testing_predictions)\n",
    "\n",
    "area = auc(fpr,tpr)\n",
    "plt.clf() #Clear the current figure\n",
    "plt.plot(fpr,tpr,label=\"Out-Sample ROC Curve with area = %1.2f\"%area)\n",
    "\n",
    "plt.plot([0, 1], [0, 1], 'k')\n",
    "plt.xlim([0.0, 1.0])\n",
    "plt.ylim([0.0, 1.0])\n",
    "plt.xlabel('False Positive Rate')\n",
    "plt.ylabel('True Positive Rate')\n",
    "plt.title('ROC Curve')\n",
    "plt.legend(loc=\"lower right\")\n",
    "plt.show()"
   ]
  },
  {
   "cell_type": "markdown",
   "metadata": {},
   "source": [
    "## 4.2 Logistic Regression"
   ]
  },
  {
   "cell_type": "code",
   "execution_count": 375,
   "metadata": {},
   "outputs": [
    {
     "name": "stderr",
     "output_type": "stream",
     "text": [
      "/usr/local/lib/python3.6/site-packages/sklearn/linear_model/logistic.py:433: FutureWarning: Default solver will be changed to 'lbfgs' in 0.22. Specify a solver to silence this warning.\n",
      "  FutureWarning)\n"
     ]
    }
   ],
   "source": [
    "from sklearn.linear_model import LogisticRegression\n",
    "logr = LogisticRegression().fit(train_X,train_y)"
   ]
  },
  {
   "cell_type": "code",
   "execution_count": 376,
   "metadata": {},
   "outputs": [
    {
     "name": "stdout",
     "output_type": "stream",
     "text": [
      "logr training set accuracy: 0.673\n"
     ]
    }
   ],
   "source": [
    "trainset_acc = logr.score(train_X,train_y)\n",
    "print('logr training set accuracy: {:.3f}'.format(trainset_acc))"
   ]
  },
  {
   "cell_type": "code",
   "execution_count": 377,
   "metadata": {},
   "outputs": [
    {
     "name": "stderr",
     "output_type": "stream",
     "text": [
      "/usr/local/lib/python3.6/site-packages/sklearn/linear_model/logistic.py:433: FutureWarning: Default solver will be changed to 'lbfgs' in 0.22. Specify a solver to silence this warning.\n",
      "  FutureWarning)\n",
      "/usr/local/lib/python3.6/site-packages/sklearn/linear_model/logistic.py:433: FutureWarning: Default solver will be changed to 'lbfgs' in 0.22. Specify a solver to silence this warning.\n",
      "  FutureWarning)\n",
      "/usr/local/lib/python3.6/site-packages/sklearn/linear_model/logistic.py:433: FutureWarning: Default solver will be changed to 'lbfgs' in 0.22. Specify a solver to silence this warning.\n",
      "  FutureWarning)\n",
      "/usr/local/lib/python3.6/site-packages/sklearn/linear_model/logistic.py:433: FutureWarning: Default solver will be changed to 'lbfgs' in 0.22. Specify a solver to silence this warning.\n",
      "  FutureWarning)\n",
      "/usr/local/lib/python3.6/site-packages/sklearn/linear_model/logistic.py:433: FutureWarning: Default solver will be changed to 'lbfgs' in 0.22. Specify a solver to silence this warning.\n",
      "  FutureWarning)\n",
      "/usr/local/lib/python3.6/site-packages/sklearn/linear_model/logistic.py:433: FutureWarning: Default solver will be changed to 'lbfgs' in 0.22. Specify a solver to silence this warning.\n",
      "  FutureWarning)\n",
      "/usr/local/lib/python3.6/site-packages/sklearn/linear_model/logistic.py:433: FutureWarning: Default solver will be changed to 'lbfgs' in 0.22. Specify a solver to silence this warning.\n",
      "  FutureWarning)\n",
      "/usr/local/lib/python3.6/site-packages/sklearn/linear_model/logistic.py:433: FutureWarning: Default solver will be changed to 'lbfgs' in 0.22. Specify a solver to silence this warning.\n",
      "  FutureWarning)\n"
     ]
    },
    {
     "name": "stdout",
     "output_type": "stream",
     "text": [
      "[False  True  True  True  True  True False  True  True  True  True  True\n",
      " False False  True  True  True  True False False False  True  True  True\n",
      "  True  True  True]\n",
      "[8 1 1 1 1 1 5 1 1 1 1 1 7 4 1 1 1 1 3 2 6 1 1 1 1 1 1]\n"
     ]
    }
   ],
   "source": [
    "# Recursive Feature Elimination\n",
    "from sklearn.feature_selection import RFE\n",
    "from sklearn.linear_model import LogisticRegression\n",
    "logreg = LogisticRegression()\n",
    "rfe = RFE(logreg, 20)\n",
    "rfe = rfe.fit(train_X, train_y)\n",
    "print(rfe.support_)\n",
    "print(rfe.ranking_)"
   ]
  },
  {
   "cell_type": "code",
   "execution_count": 221,
   "metadata": {},
   "outputs": [],
   "source": [
    "rfe_rank = rfe.ranking_"
   ]
  },
  {
   "cell_type": "code",
   "execution_count": 224,
   "metadata": {},
   "outputs": [],
   "source": [
    "cols_log = ['attributes.RestaurantsAttire_casual',\n",
    " 'attributes.RestaurantsAttire_dressy',\n",
    " 'attributes.RestaurantsAttire_formal',\n",
    " 'attributes.Alcohol_full_bar',\n",
    " 'attributes.RestaurantsReservations_True',\n",
    " 'attributes.Smoking_outdoor',\n",
    " 'attributes.Smoking_yes',\n",
    " 'attributes.NoiseLevel_very_loud',\n",
    " 'attributes.Open24Hours_True',\n",
    " 'attributes.AgesAllowed_21plus',\n",
    " 'attributes.ByAppointmentOnly_True',\n",
    " 'attributes.DogsAllowed_True',\n",
    " 'attributes.BusinessAcceptsCreditCards_True',\n",
    " 'attributes.DriveThru_True',\n",
    " 'attributes.Caters_True',\n",
    " 'attributes.CoatCheck_True',\n",
    " 'attributes.OutdoorSeating_True',\n",
    " 'ambience_casual',\n",
    " 'ambience_trendy',\n",
    " 'ambience_others']"
   ]
  },
  {
   "cell_type": "code",
   "execution_count": 225,
   "metadata": {},
   "outputs": [],
   "source": [
    "X = X[cols_log]"
   ]
  },
  {
   "cell_type": "code",
   "execution_count": 226,
   "metadata": {},
   "outputs": [
    {
     "name": "stdout",
     "output_type": "stream",
     "text": [
      "Optimization terminated successfully.\n",
      "         Current function value: 0.619137\n",
      "         Iterations 6\n",
      "                                      Results: Logit\n",
      "===========================================================================================\n",
      "Model:                        Logit                    Pseudo R-squared:         0.046     \n",
      "Dependent Variable:           success                  AIC:                      93346.3777\n",
      "Date:                         2018-12-01 08:57         BIC:                      93530.9762\n",
      "No. Observations:             75352                    Log-Likelihood:           -46653.   \n",
      "Df Model:                     19                       LL-Null:                  -48882.   \n",
      "Df Residuals:                 75332                    LLR p-value:              0.0000    \n",
      "Converged:                    1.0000                   Scale:                    1.0000    \n",
      "No. Iterations:               6.0000                                                       \n",
      "-------------------------------------------------------------------------------------------\n",
      "                                            Coef.  Std.Err.    z     P>|z|   [0.025  0.975]\n",
      "-------------------------------------------------------------------------------------------\n",
      "attributes.RestaurantsAttire_casual        -0.1698   0.0186  -9.1500 0.0000 -0.2061 -0.1334\n",
      "attributes.RestaurantsAttire_dressy         0.4845   0.0745   6.5003 0.0000  0.3384  0.6307\n",
      "attributes.RestaurantsAttire_formal        -0.1246   0.1914  -0.6511 0.5150 -0.4997  0.2505\n",
      "attributes.Alcohol_full_bar                -0.2684   0.0241 -11.1222 0.0000 -0.3157 -0.2211\n",
      "attributes.RestaurantsReservations_True     0.2353   0.0220  10.7057 0.0000  0.1922  0.2784\n",
      "attributes.Smoking_outdoor                 -0.1412   0.0440  -3.2110 0.0013 -0.2274 -0.0550\n",
      "attributes.Smoking_yes                      0.3038   0.0748   4.0612 0.0000  0.1572  0.4504\n",
      "attributes.NoiseLevel_very_loud            -0.9583   0.0568 -16.8812 0.0000 -1.0696 -0.8470\n",
      "attributes.Open24Hours_True                -0.8690   0.4050  -2.1453 0.0319 -1.6628 -0.0751\n",
      "attributes.AgesAllowed_21plus              -0.4586   0.1871  -2.4513 0.0142 -0.8253 -0.0919\n",
      "attributes.ByAppointmentOnly_True           0.9752   0.2261   4.3130 0.0000  0.5320  1.4183\n",
      "attributes.DogsAllowed_True                 1.0443   0.0749  13.9428 0.0000  0.8975  1.1911\n",
      "attributes.BusinessAcceptsCreditCards_True  0.3745   0.0142  26.4295 0.0000  0.3467  0.4023\n",
      "attributes.DriveThru_True                  -1.8660   0.0514 -36.2981 0.0000 -1.9667 -1.7652\n",
      "attributes.Caters_True                      0.4593   0.0199  23.0232 0.0000  0.4202  0.4984\n",
      "attributes.CoatCheck_True                  -0.1018   0.0806  -1.2635 0.2064 -0.2598  0.0561\n",
      "attributes.OutdoorSeating_True              0.1723   0.0197   8.7469 0.0000  0.1337  0.2109\n",
      "ambience_casual                             0.4803   0.0208  23.0799 0.0000  0.4395  0.5210\n",
      "ambience_trendy                             0.9148   0.0607  15.0798 0.0000  0.7959  1.0338\n",
      "ambience_others                             1.0035   0.0447  22.4256 0.0000  0.9158  1.0912\n",
      "===========================================================================================\n",
      "\n"
     ]
    }
   ],
   "source": [
    "import statsmodels.api as sm\n",
    "logit_model=sm.Logit(y,X)\n",
    "result=logit_model.fit()\n",
    "print(result.summary2())"
   ]
  },
  {
   "cell_type": "code",
   "execution_count": 227,
   "metadata": {},
   "outputs": [],
   "source": [
    "cols_log = ['attributes.RestaurantsAttire_casual',\n",
    " 'attributes.RestaurantsAttire_dressy',\n",
    " 'attributes.Alcohol_full_bar',\n",
    " 'attributes.RestaurantsReservations_True',\n",
    " 'attributes.Smoking_outdoor',\n",
    " 'attributes.Smoking_yes',\n",
    " 'attributes.NoiseLevel_very_loud',\n",
    " 'attributes.Open24Hours_True',\n",
    " 'attributes.AgesAllowed_21plus',\n",
    " 'attributes.ByAppointmentOnly_True',\n",
    " 'attributes.DogsAllowed_True',\n",
    " 'attributes.BusinessAcceptsCreditCards_True',\n",
    " 'attributes.DriveThru_True',\n",
    " 'attributes.Caters_True',\n",
    " 'attributes.OutdoorSeating_True',\n",
    " 'ambience_casual',\n",
    " 'ambience_trendy',\n",
    " 'ambience_others']"
   ]
  },
  {
   "cell_type": "code",
   "execution_count": 228,
   "metadata": {},
   "outputs": [
    {
     "name": "stdout",
     "output_type": "stream",
     "text": [
      "Optimization terminated successfully.\n",
      "         Current function value: 0.619150\n",
      "         Iterations 6\n",
      "                                      Results: Logit\n",
      "===========================================================================================\n",
      "Model:                        Logit                    Pseudo R-squared:         0.046     \n",
      "Dependent Variable:           success                  AIC:                      93344.3812\n",
      "Date:                         2018-12-01 08:58         BIC:                      93510.5198\n",
      "No. Observations:             75352                    Log-Likelihood:           -46654.   \n",
      "Df Model:                     17                       LL-Null:                  -48882.   \n",
      "Df Residuals:                 75334                    LLR p-value:              0.0000    \n",
      "Converged:                    1.0000                   Scale:                    1.0000    \n",
      "No. Iterations:               6.0000                                                       \n",
      "-------------------------------------------------------------------------------------------\n",
      "                                            Coef.  Std.Err.    z     P>|z|   [0.025  0.975]\n",
      "-------------------------------------------------------------------------------------------\n",
      "attributes.RestaurantsAttire_casual        -0.1680   0.0185  -9.0785 0.0000 -0.2043 -0.1317\n",
      "attributes.RestaurantsAttire_dressy         0.4788   0.0743   6.4411 0.0000  0.3331  0.6245\n",
      "attributes.Alcohol_full_bar                -0.2706   0.0241 -11.2394 0.0000 -0.3178 -0.2234\n",
      "attributes.RestaurantsReservations_True     0.2337   0.0219  10.6497 0.0000  0.1907  0.2768\n",
      "attributes.Smoking_outdoor                 -0.1470   0.0437  -3.3668 0.0008 -0.2326 -0.0614\n",
      "attributes.Smoking_yes                      0.3017   0.0748   4.0347 0.0001  0.1551  0.4482\n",
      "attributes.NoiseLevel_very_loud            -0.9664   0.0565 -17.1128 0.0000 -1.0771 -0.8557\n",
      "attributes.Open24Hours_True                -0.8683   0.4050  -2.1441 0.0320 -1.6620 -0.0746\n",
      "attributes.AgesAllowed_21plus              -0.4828   0.1860  -2.5960 0.0094 -0.8473 -0.1183\n",
      "attributes.ByAppointmentOnly_True           0.9737   0.2261   4.3064 0.0000  0.5305  1.4168\n",
      "attributes.DogsAllowed_True                 1.0450   0.0749  13.9536 0.0000  0.8982  1.1918\n",
      "attributes.BusinessAcceptsCreditCards_True  0.3737   0.0142  26.4056 0.0000  0.3460  0.4015\n",
      "attributes.DriveThru_True                  -1.8674   0.0514 -36.3370 0.0000 -1.9682 -1.7667\n",
      "attributes.Caters_True                      0.4588   0.0199  23.0057 0.0000  0.4198  0.4979\n",
      "attributes.OutdoorSeating_True              0.1723   0.0197   8.7467 0.0000  0.1337  0.2109\n",
      "ambience_casual                             0.4811   0.0208  23.1276 0.0000  0.4403  0.5218\n",
      "ambience_trendy                             0.9098   0.0605  15.0447 0.0000  0.7913  1.0283\n",
      "ambience_others                             1.0016   0.0447  22.3979 0.0000  0.9140  1.0893\n",
      "===========================================================================================\n",
      "\n"
     ]
    }
   ],
   "source": [
    "X = X[cols_log]\n",
    "import statsmodels.api as sm\n",
    "logit_model=sm.Logit(y,X)\n",
    "result=logit_model.fit()\n",
    "print(result.summary2())"
   ]
  },
  {
   "cell_type": "code",
   "execution_count": 229,
   "metadata": {},
   "outputs": [
    {
     "name": "stderr",
     "output_type": "stream",
     "text": [
      "/usr/local/lib/python3.6/site-packages/sklearn/linear_model/logistic.py:433: FutureWarning: Default solver will be changed to 'lbfgs' in 0.22. Specify a solver to silence this warning.\n",
      "  FutureWarning)\n"
     ]
    },
    {
     "data": {
      "text/plain": [
       "LogisticRegression(C=1.0, class_weight=None, dual=False, fit_intercept=True,\n",
       "          intercept_scaling=1, max_iter=100, multi_class='warn',\n",
       "          n_jobs=None, penalty='l2', random_state=None, solver='warn',\n",
       "          tol=0.0001, verbose=0, warm_start=False)"
      ]
     },
     "execution_count": 229,
     "metadata": {},
     "output_type": "execute_result"
    }
   ],
   "source": [
    "from sklearn.linear_model import LogisticRegression\n",
    "from sklearn import metrics\n",
    "\n",
    "X_train, X_test, y_train, y_test = train_test_split(X, y, test_size=0.3, random_state=0)\n",
    "\n",
    "logreg = LogisticRegression()\n",
    "logreg.fit(X_train, y_train)"
   ]
  },
  {
   "cell_type": "code",
   "execution_count": 230,
   "metadata": {},
   "outputs": [
    {
     "name": "stdout",
     "output_type": "stream",
     "text": [
      "Accuracy of logistic regression classifier on test set: 0.66\n"
     ]
    }
   ],
   "source": [
    "y_pred = logreg.predict(X_test)\n",
    "print('Accuracy of logistic regression classifier on test set: {:.2f}'.format(logreg.score(X_test, y_test)))"
   ]
  },
  {
   "cell_type": "code",
   "execution_count": 231,
   "metadata": {},
   "outputs": [
    {
     "data": {
      "image/png": "[encoded data removed]",
      "text/plain": [
       "<Figure size 432x288 with 1 Axes>"
      ]
     },
     "metadata": {
      "needs_background": "light"
     },
     "output_type": "display_data"
    }
   ],
   "source": [
    "from sklearn.metrics import roc_auc_score\n",
    "from sklearn.metrics import roc_curve\n",
    "\n",
    "logit_roc_auc = roc_auc_score(y_test, logreg.predict(X_test))\n",
    "fpr, tpr, thresholds = roc_curve(y_test, logreg.predict_proba(X_test)[:,1])\n",
    "plt.figure()\n",
    "plt.plot(fpr, tpr, label='Logistic Regression (area = %0.2f)' % logit_roc_auc)\n",
    "plt.plot([0, 1], [0, 1],'r--')\n",
    "plt.xlim([0.0, 1.0])\n",
    "plt.ylim([0.0, 1.05])\n",
    "plt.xlabel('False Positive Rate')\n",
    "plt.ylabel('True Positive Rate')\n",
    "plt.title('Receiver operating characteristic')\n",
    "plt.legend(loc=\"lower right\")\n",
    "plt.savefig('Log_ROC')\n",
    "plt.show()"
   ]
  },
  {
   "cell_type": "markdown",
   "metadata": {},
   "source": [
    "## 4.3 Random Forest"
   ]
  },
  {
   "cell_type": "code",
   "execution_count": 235,
   "metadata": {},
   "outputs": [
    {
     "data": {
      "text/plain": [
       "RandomForestClassifier(bootstrap=True, class_weight=None, criterion='gini',\n",
       "            max_depth=None, max_features='auto', max_leaf_nodes=None,\n",
       "            min_impurity_decrease=0.0, min_impurity_split=None,\n",
       "            min_samples_leaf=1, min_samples_split=2,\n",
       "            min_weight_fraction_leaf=0.0, n_estimators=10, n_jobs=None,\n",
       "            oob_score=False, random_state=None, verbose=0,\n",
       "            warm_start=False)"
      ]
     },
     "execution_count": 235,
     "metadata": {},
     "output_type": "execute_result"
    }
   ],
   "source": [
    "from sklearn.ensemble import RandomForestClassifier\n",
    "model = RandomForestClassifier(n_estimators=10)\n",
    "\n",
    "X_train, X_test, y_train, y_test = train_test_split(X, y, test_size=0.3, random_state=0)\n",
    "model.fit(train_X, train_y)"
   ]
  },
  {
   "cell_type": "code",
   "execution_count": 236,
   "metadata": {},
   "outputs": [
    {
     "data": {
      "text/plain": [
       "0.6316022294965938"
      ]
     },
     "execution_count": 236,
     "metadata": {},
     "output_type": "execute_result"
    }
   ],
   "source": [
    "model.score(test_X,test_y)"
   ]
  },
  {
   "cell_type": "code",
   "execution_count": 238,
   "metadata": {},
   "outputs": [
    {
     "data": {
      "text/plain": [
       "array([5.50628723e-01, 1.58050807e-02, 3.88050106e-03, 1.56695244e-03,\n",
       "       2.14608524e-02, 2.26637861e-02, 2.47827517e-02, 1.02982680e-02,\n",
       "       5.82098720e-03, 1.12780251e-02, 3.78299225e-04, 1.36210441e-03,\n",
       "       8.17088915e-04, 1.56999810e-02, 3.01689267e-02, 8.98911219e-03,\n",
       "       2.19357896e-02, 5.01347733e-02, 2.45527773e-02, 6.03422422e-02,\n",
       "       2.03157164e-02, 1.51816948e-02, 4.55817939e-03, 3.40673544e-02,\n",
       "       2.23704680e-02, 7.83306913e-03, 1.31064955e-02])"
      ]
     },
     "execution_count": 238,
     "metadata": {},
     "output_type": "execute_result"
    }
   ],
   "source": [
    "model.feature_importances_"
   ]
  },
  {
   "cell_type": "code",
   "execution_count": 240,
   "metadata": {},
   "outputs": [
    {
     "data": {
      "text/plain": [
       "Text(0.5, 0, 'Relative Importance')"
      ]
     },
     "execution_count": 240,
     "metadata": {},
     "output_type": "execute_result"
    },
    {
     "data": {
      "image/png": "[encoded data removed]",
      "text/plain": [
       "<Figure size 864x864 with 1 Axes>"
      ]
     },
     "metadata": {
      "needs_background": "light"
     },
     "output_type": "display_data"
    }
   ],
   "source": [
    "import matplotlib.pyplot as plt\n",
    "%matplotlib inline\n",
    "\n",
    "importances = model.feature_importances_\n",
    "indices = np.argsort(importances)\n",
    "\n",
    "plt.figure(figsize=(12,12))\n",
    "plt.title('Feature Importances')\n",
    "plt.barh(range(len(indices)), importances[indices], color='b', align='center')\n",
    "plt.yticks(range(len(indices)), cols_log)\n",
    "plt.xlabel('Relative Importance')"
   ]
  },
  {
   "cell_type": "markdown",
   "metadata": {},
   "source": [
    "## 4.4 Bootstrapping"
   ]
  },
  {
   "cell_type": "code",
   "execution_count": 241,
   "metadata": {},
   "outputs": [
    {
     "data": {
      "text/plain": [
       "BaggingClassifier(base_estimator=None, bootstrap=True,\n",
       "         bootstrap_features=False, max_features=1.0, max_samples=1.0,\n",
       "         n_estimators=10, n_jobs=None, oob_score=False, random_state=None,\n",
       "         verbose=0, warm_start=False)"
      ]
     },
     "execution_count": 241,
     "metadata": {},
     "output_type": "execute_result"
    }
   ],
   "source": [
    "from sklearn.ensemble import BaggingClassifier\n",
    "model=BaggingClassifier()\n",
    "model.fit(train_X,np.ravel(train_y))"
   ]
  },
  {
   "cell_type": "code",
   "execution_count": 242,
   "metadata": {},
   "outputs": [
    {
     "data": {
      "text/plain": [
       "0.6343448641953464"
      ]
     },
     "execution_count": 242,
     "metadata": {},
     "output_type": "execute_result"
    }
   ],
   "source": [
    "model.score(test_X,test_y)"
   ]
  },
  {
   "cell_type": "markdown",
   "metadata": {},
   "source": [
    "## 4.5 XGBoost"
   ]
  },
  {
   "cell_type": "code",
   "execution_count": 243,
   "metadata": {},
   "outputs": [],
   "source": [
    "import sklearn\n",
    "X_train, X_test, y_train, y_test = sklearn.model_selection.train_test_split(X, y, test_size=0.95)"
   ]
  },
  {
   "cell_type": "code",
   "execution_count": 244,
   "metadata": {},
   "outputs": [],
   "source": [
    "dtrain = xgb.DMatrix(X_train,label=y_train)\n",
    "dtest= xgb.DMatrix(X_test,label=y_test)"
   ]
  },
  {
   "cell_type": "code",
   "execution_count": 245,
   "metadata": {},
   "outputs": [],
   "source": [
    "train_labels = dtrain.get_label()\n",
    "\n",
    "params = { 'eta':0.3, 'silent':1, 'objective':'binary:logistic' }\n",
    "ratio = float(np.sum(train_labels == 0)) / np.sum(train_labels == 1)\n",
    "params['scale_pos_weight'] = ratio"
   ]
  },
  {
   "cell_type": "code",
   "execution_count": 246,
   "metadata": {},
   "outputs": [
    {
     "name": "stdout",
     "output_type": "stream",
     "text": [
      "{'eta': 0.3, 'silent': 1, 'objective': 'binary:logistic', 'scale_pos_weight': 0.5463875205254516, 'min_child_weight': 1, 'gamma': 1.5, 'subsample': 0.8, 'colsample_bytree': 0.7, 'max_depth': 5} \n",
      "\n",
      "[0]\ttest-error:0.447286\ttrain-error:0.448102\n",
      "[1]\ttest-error:0.445484\ttrain-error:0.431909\n",
      "[2]\ttest-error:0.442649\ttrain-error:0.42952\n",
      "[3]\ttest-error:0.435496\ttrain-error:0.422352\n",
      "[4]\ttest-error:0.435287\ttrain-error:0.421556\n",
      "[5]\ttest-error:0.435385\ttrain-error:0.421025\n",
      "[6]\ttest-error:0.436851\ttrain-error:0.422883\n",
      "[7]\ttest-error:0.427995\ttrain-error:0.409875\n",
      "[8]\ttest-error:0.419236\ttrain-error:0.397664\n",
      "[9]\ttest-error:0.419962\ttrain-error:0.399788\n",
      "[10]\ttest-error:0.362311\ttrain-error:0.344837\n",
      "[11]\ttest-error:0.412084\ttrain-error:0.391558\n",
      "[12]\ttest-error:0.410156\ttrain-error:0.390496\n",
      "[13]\ttest-error:0.410212\ttrain-error:0.390496\n",
      "[14]\ttest-error:0.410184\ttrain-error:0.390762\n",
      "[15]\ttest-error:0.410058\ttrain-error:0.391027\n",
      "[16]\ttest-error:0.410086\ttrain-error:0.391293\n",
      "[17]\ttest-error:0.410086\ttrain-error:0.391293\n",
      "[18]\ttest-error:0.410184\ttrain-error:0.391027\n",
      "[19]\ttest-error:0.415646\ttrain-error:0.401115\n",
      "[20]\ttest-error:0.415674\ttrain-error:0.40138\n",
      "[21]\ttest-error:0.415702\ttrain-error:0.401115\n",
      "[22]\ttest-error:0.436488\ttrain-error:0.424476\n",
      "[23]\ttest-error:0.435021\ttrain-error:0.419963\n",
      "[24]\ttest-error:0.435091\ttrain-error:0.420228\n",
      "[25]\ttest-error:0.435021\ttrain-error:0.419963\n",
      "[26]\ttest-error:0.436069\ttrain-error:0.421556\n",
      "[27]\ttest-error:0.436069\ttrain-error:0.421556\n",
      "[28]\ttest-error:0.436069\ttrain-error:0.421556\n",
      "[29]\ttest-error:0.436013\ttrain-error:0.421556\n",
      "[30]\ttest-error:0.435873\ttrain-error:0.421025\n",
      "[31]\ttest-error:0.435203\ttrain-error:0.420759\n",
      "[32]\ttest-error:0.435203\ttrain-error:0.420759\n",
      "[33]\ttest-error:0.435189\ttrain-error:0.420759\n",
      "[34]\ttest-error:0.435426\ttrain-error:0.420494\n",
      "[35]\ttest-error:0.433568\ttrain-error:0.415981\n",
      "[36]\ttest-error:0.430537\ttrain-error:0.413857\n",
      "[37]\ttest-error:0.430551\ttrain-error:0.413857\n",
      "[38]\ttest-error:0.43002\ttrain-error:0.413857\n",
      "[39]\ttest-error:0.430467\ttrain-error:0.413592\n",
      "[40]\ttest-error:0.431473\ttrain-error:0.414123\n",
      "[41]\ttest-error:0.431473\ttrain-error:0.414123\n",
      "[42]\ttest-error:0.434393\ttrain-error:0.416512\n",
      "[43]\ttest-error:0.434546\ttrain-error:0.416777\n",
      "[44]\ttest-error:0.434546\ttrain-error:0.416777\n",
      "[45]\ttest-error:0.43463\ttrain-error:0.415715\n",
      "[46]\ttest-error:0.43463\ttrain-error:0.415715\n",
      "[47]\ttest-error:0.434588\ttrain-error:0.41545\n",
      "[48]\ttest-error:0.434546\ttrain-error:0.41545\n",
      "[49]\ttest-error:0.434546\ttrain-error:0.41545\n",
      "+++++++++++++++++++++++++++++++++++++++++++++++\n",
      "\n",
      "{'eta': 0.3, 'silent': 1, 'objective': 'binary:logistic', 'scale_pos_weight': 0.5463875205254516, 'min_child_weight': 3, 'gamma': 1.0, 'subsample': 0.7, 'colsample_bytree': 0.9, 'max_depth': 3} \n",
      "\n",
      "[0]\ttest-error:0.493609\ttrain-error:0.490045\n",
      "[1]\ttest-error:0.493609\ttrain-error:0.490045\n",
      "[2]\ttest-error:0.487448\ttrain-error:0.484736\n",
      "[3]\ttest-error:0.442481\ttrain-error:0.433501\n",
      "[4]\ttest-error:0.442481\ttrain-error:0.433501\n",
      "[5]\ttest-error:0.448027\ttrain-error:0.440403\n",
      "[6]\ttest-error:0.402347\ttrain-error:0.393417\n",
      "[7]\ttest-error:0.403842\ttrain-error:0.392355\n",
      "[8]\ttest-error:0.422896\ttrain-error:0.409344\n",
      "[9]\ttest-error:0.422616\ttrain-error:0.409344\n",
      "[10]\ttest-error:0.403744\ttrain-error:0.392355\n",
      "[11]\ttest-error:0.440525\ttrain-error:0.43244\n",
      "[12]\ttest-error:0.414584\ttrain-error:0.397398\n",
      "[13]\ttest-error:0.419711\ttrain-error:0.404831\n",
      "[14]\ttest-error:0.416023\ttrain-error:0.412264\n",
      "[15]\ttest-error:0.410617\ttrain-error:0.402442\n",
      "[16]\ttest-error:0.414696\ttrain-error:0.409875\n",
      "[17]\ttest-error:0.412293\ttrain-error:0.410406\n",
      "[18]\ttest-error:0.404023\ttrain-error:0.396868\n",
      "[19]\ttest-error:0.407027\ttrain-error:0.398991\n",
      "[20]\ttest-error:0.40746\ttrain-error:0.399257\n",
      "[21]\ttest-error:0.404065\ttrain-error:0.396602\n",
      "[22]\ttest-error:0.412642\ttrain-error:0.410937\n",
      "[23]\ttest-error:0.429336\ttrain-error:0.419432\n",
      "[24]\ttest-error:0.429853\ttrain-error:0.419697\n",
      "[25]\ttest-error:0.426179\ttrain-error:0.417043\n",
      "[26]\ttest-error:0.429545\ttrain-error:0.419432\n",
      "[27]\ttest-error:0.423203\ttrain-error:0.409344\n",
      "[28]\ttest-error:0.423888\ttrain-error:0.409344\n",
      "[29]\ttest-error:0.423664\ttrain-error:0.409079\n",
      "[30]\ttest-error:0.421317\ttrain-error:0.406159\n",
      "[31]\ttest-error:0.425857\ttrain-error:0.416512\n",
      "[32]\ttest-error:0.423664\ttrain-error:0.416246\n",
      "[33]\ttest-error:0.423664\ttrain-error:0.416246\n",
      "[34]\ttest-error:0.415492\ttrain-error:0.411733\n",
      "[35]\ttest-error:0.407557\ttrain-error:0.397398\n",
      "[36]\ttest-error:0.420409\ttrain-error:0.405362\n",
      "[37]\ttest-error:0.420367\ttrain-error:0.405362\n",
      "[38]\ttest-error:0.409974\ttrain-error:0.400319\n",
      "[39]\ttest-error:0.409974\ttrain-error:0.400319\n",
      "[40]\ttest-error:0.421611\ttrain-error:0.406955\n",
      "[41]\ttest-error:0.422072\ttrain-error:0.408017\n",
      "[42]\ttest-error:0.428079\ttrain-error:0.419166\n",
      "[43]\ttest-error:0.42812\ttrain-error:0.41837\n",
      "[44]\ttest-error:0.42263\ttrain-error:0.408282\n",
      "[45]\ttest-error:0.418286\ttrain-error:0.40138\n",
      "[46]\ttest-error:0.418537\ttrain-error:0.401646\n",
      "[47]\ttest-error:0.418132\ttrain-error:0.401646\n",
      "[48]\ttest-error:0.417462\ttrain-error:0.401115\n",
      "[49]\ttest-error:0.418062\ttrain-error:0.400319\n",
      "+++++++++++++++++++++++++++++++++++++++++++++++\n",
      "\n",
      "{'eta': 0.3, 'silent': 1, 'objective': 'binary:logistic', 'scale_pos_weight': 0.5463875205254516, 'min_child_weight': 3, 'gamma': 1.0, 'subsample': 0.8, 'colsample_bytree': 1.0, 'max_depth': 3} \n",
      "\n",
      "[0]\ttest-error:0.493609\ttrain-error:0.490045\n",
      "[1]\ttest-error:0.493609\ttrain-error:0.490045\n",
      "[2]\ttest-error:0.484752\ttrain-error:0.480488\n",
      "[3]\ttest-error:0.484836\ttrain-error:0.480488\n",
      "[4]\ttest-error:0.480212\ttrain-error:0.47571\n",
      "[5]\ttest-error:0.462723\ttrain-error:0.455269\n",
      "[6]\ttest-error:0.479514\ttrain-error:0.475445\n",
      "[7]\ttest-error:0.472669\ttrain-error:0.468012\n",
      "[8]\ttest-error:0.43558\ttrain-error:0.421821\n",
      "[9]\ttest-error:0.449368\ttrain-error:0.439873\n",
      "[10]\ttest-error:0.449675\ttrain-error:0.440403\n",
      "[11]\ttest-error:0.431725\ttrain-error:0.415981\n",
      "[12]\ttest-error:0.453754\ttrain-error:0.442262\n",
      "[13]\ttest-error:0.432144\ttrain-error:0.415715\n",
      "[14]\ttest-error:0.434686\ttrain-error:0.426334\n",
      "[15]\ttest-error:0.442285\ttrain-error:0.431643\n",
      "[16]\ttest-error:0.443892\ttrain-error:0.431643\n",
      "[17]\ttest-error:0.432507\ttrain-error:0.426865\n",
      "[18]\ttest-error:0.418873\ttrain-error:0.400849\n",
      "[19]\ttest-error:0.418649\ttrain-error:0.400849\n",
      "[20]\ttest-error:0.416177\ttrain-error:0.400319\n",
      "[21]\ttest-error:0.416903\ttrain-error:0.400053\n",
      "[22]\ttest-error:0.416889\ttrain-error:0.400053\n",
      "[23]\ttest-error:0.441741\ttrain-error:0.433501\n",
      "[24]\ttest-error:0.435748\ttrain-error:0.423679\n",
      "[25]\ttest-error:0.435762\ttrain-error:0.423679\n",
      "[26]\ttest-error:0.438667\ttrain-error:0.426334\n",
      "[27]\ttest-error:0.440386\ttrain-error:0.428723\n",
      "[28]\ttest-error:0.440525\ttrain-error:0.428458\n",
      "[29]\ttest-error:0.440567\ttrain-error:0.428458\n",
      "[30]\ttest-error:0.436181\ttrain-error:0.423945\n",
      "[31]\ttest-error:0.436223\ttrain-error:0.423945\n",
      "[32]\ttest-error:0.441349\ttrain-error:0.429785\n",
      "[33]\ttest-error:0.421708\ttrain-error:0.406159\n",
      "[34]\ttest-error:0.421848\ttrain-error:0.406159\n",
      "[35]\ttest-error:0.421625\ttrain-error:0.406159\n",
      "[36]\ttest-error:0.441028\ttrain-error:0.42952\n",
      "[37]\ttest-error:0.44128\ttrain-error:0.42952\n",
      "[38]\ttest-error:0.440833\ttrain-error:0.428989\n",
      "[39]\ttest-error:0.440833\ttrain-error:0.428989\n",
      "[40]\ttest-error:0.440791\ttrain-error:0.428989\n",
      "[41]\ttest-error:0.437997\ttrain-error:0.425538\n",
      "[42]\ttest-error:0.437578\ttrain-error:0.425007\n",
      "[43]\ttest-error:0.438472\ttrain-error:0.425007\n",
      "[44]\ttest-error:0.441042\ttrain-error:0.42952\n",
      "[45]\ttest-error:0.442928\ttrain-error:0.431909\n",
      "[46]\ttest-error:0.435315\ttrain-error:0.422883\n",
      "[47]\ttest-error:0.442718\ttrain-error:0.431909\n",
      "[48]\ttest-error:0.443026\ttrain-error:0.431909\n",
      "[49]\ttest-error:0.441601\ttrain-error:0.431378\n",
      "+++++++++++++++++++++++++++++++++++++++++++++++\n",
      "\n",
      "{'eta': 0.3, 'silent': 1, 'objective': 'binary:logistic', 'scale_pos_weight': 0.5463875205254516, 'min_child_weight': 1, 'gamma': 1.0, 'subsample': 1.0, 'colsample_bytree': 1.0, 'max_depth': 5} \n",
      "\n",
      "[0]\ttest-error:0.488426\ttrain-error:0.480754\n",
      "[1]\ttest-error:0.48749\ttrain-error:0.479958\n",
      "[2]\ttest-error:0.451086\ttrain-error:0.440669\n",
      "[3]\ttest-error:0.463589\ttrain-error:0.456597\n",
      "[4]\ttest-error:0.425815\ttrain-error:0.418105\n",
      "[5]\ttest-error:0.42474\ttrain-error:0.417574\n",
      "[6]\ttest-error:0.422407\ttrain-error:0.414123\n",
      "[7]\ttest-error:0.432982\ttrain-error:0.41837\n",
      "[8]\ttest-error:0.433149\ttrain-error:0.41837\n",
      "[9]\ttest-error:0.43836\ttrain-error:0.423679\n"
     ]
    },
    {
     "name": "stdout",
     "output_type": "stream",
     "text": [
      "[10]\ttest-error:0.422211\ttrain-error:0.404301\n",
      "[11]\ttest-error:0.415855\ttrain-error:0.396602\n",
      "[12]\ttest-error:0.415883\ttrain-error:0.397133\n",
      "[13]\ttest-error:0.417168\ttrain-error:0.399522\n",
      "[14]\ttest-error:0.41566\ttrain-error:0.397133\n",
      "[15]\ttest-error:0.435818\ttrain-error:0.420494\n",
      "[16]\ttest-error:0.435832\ttrain-error:0.420228\n",
      "[17]\ttest-error:0.435818\ttrain-error:0.420228\n",
      "[18]\ttest-error:0.435818\ttrain-error:0.420228\n",
      "[19]\ttest-error:0.435818\ttrain-error:0.420228\n",
      "[20]\ttest-error:0.435818\ttrain-error:0.420228\n",
      "[21]\ttest-error:0.435818\ttrain-error:0.420228\n",
      "[22]\ttest-error:0.435818\ttrain-error:0.420228\n",
      "[23]\ttest-error:0.435818\ttrain-error:0.420228\n",
      "[24]\ttest-error:0.435818\ttrain-error:0.420228\n",
      "[25]\ttest-error:0.435818\ttrain-error:0.420228\n",
      "[26]\ttest-error:0.435818\ttrain-error:0.420228\n",
      "[27]\ttest-error:0.435818\ttrain-error:0.420228\n",
      "[28]\ttest-error:0.435818\ttrain-error:0.420228\n",
      "[29]\ttest-error:0.435818\ttrain-error:0.420228\n",
      "[30]\ttest-error:0.435818\ttrain-error:0.420228\n",
      "[31]\ttest-error:0.435818\ttrain-error:0.420228\n",
      "[32]\ttest-error:0.435818\ttrain-error:0.420228\n",
      "[33]\ttest-error:0.435818\ttrain-error:0.420228\n",
      "[34]\ttest-error:0.435818\ttrain-error:0.420228\n",
      "[35]\ttest-error:0.435818\ttrain-error:0.420228\n",
      "[36]\ttest-error:0.435818\ttrain-error:0.420228\n",
      "[37]\ttest-error:0.435818\ttrain-error:0.420228\n",
      "[38]\ttest-error:0.435818\ttrain-error:0.420228\n",
      "[39]\ttest-error:0.435818\ttrain-error:0.420228\n",
      "[40]\ttest-error:0.435818\ttrain-error:0.420228\n",
      "[41]\ttest-error:0.435818\ttrain-error:0.420228\n",
      "[42]\ttest-error:0.435818\ttrain-error:0.420228\n",
      "[43]\ttest-error:0.435818\ttrain-error:0.420228\n",
      "[44]\ttest-error:0.435818\ttrain-error:0.420228\n",
      "[45]\ttest-error:0.435818\ttrain-error:0.420228\n",
      "[46]\ttest-error:0.435818\ttrain-error:0.420228\n",
      "[47]\ttest-error:0.435818\ttrain-error:0.420228\n",
      "[48]\ttest-error:0.435818\ttrain-error:0.420228\n",
      "[49]\ttest-error:0.435818\ttrain-error:0.420228\n",
      "+++++++++++++++++++++++++++++++++++++++++++++++\n",
      "\n",
      "{'eta': 0.3, 'silent': 1, 'objective': 'binary:logistic', 'scale_pos_weight': 0.5463875205254516, 'min_child_weight': 2, 'gamma': 0.5, 'subsample': 1.0, 'colsample_bytree': 0.6, 'max_depth': 2} \n",
      "\n",
      "[0]\ttest-error:0.509157\ttrain-error:0.50438\n",
      "[1]\ttest-error:0.48851\ttrain-error:0.481816\n",
      "[2]\ttest-error:0.481651\ttrain-error:0.475445\n",
      "[3]\ttest-error:0.4814\ttrain-error:0.475445\n",
      "[4]\ttest-error:0.480925\ttrain-error:0.475445\n",
      "[5]\ttest-error:0.44107\ttrain-error:0.438811\n",
      "[6]\ttest-error:0.478564\ttrain-error:0.471463\n",
      "[7]\ttest-error:0.440693\ttrain-error:0.43828\n",
      "[8]\ttest-error:0.440707\ttrain-error:0.438811\n",
      "[9]\ttest-error:0.440763\ttrain-error:0.438811\n",
      "[10]\ttest-error:0.415241\ttrain-error:0.409079\n",
      "[11]\ttest-error:0.453112\ttrain-error:0.442262\n",
      "[12]\ttest-error:0.453056\ttrain-error:0.442262\n",
      "[13]\ttest-error:0.415296\ttrain-error:0.409079\n",
      "[14]\ttest-error:0.415199\ttrain-error:0.409079\n",
      "[15]\ttest-error:0.441321\ttrain-error:0.428989\n",
      "[16]\ttest-error:0.420577\ttrain-error:0.413857\n",
      "[17]\ttest-error:0.421988\ttrain-error:0.414654\n",
      "[18]\ttest-error:0.437717\ttrain-error:0.425803\n",
      "[19]\ttest-error:0.434574\ttrain-error:0.422352\n",
      "[20]\ttest-error:0.434113\ttrain-error:0.422087\n",
      "[21]\ttest-error:0.43396\ttrain-error:0.422087\n",
      "[22]\ttest-error:0.433974\ttrain-error:0.422087\n",
      "[23]\ttest-error:0.437843\ttrain-error:0.423679\n",
      "[24]\ttest-error:0.429014\ttrain-error:0.417043\n",
      "[25]\ttest-error:0.428777\ttrain-error:0.416777\n",
      "[26]\ttest-error:0.428791\ttrain-error:0.416777\n",
      "[27]\ttest-error:0.428805\ttrain-error:0.416777\n",
      "[28]\ttest-error:0.41823\ttrain-error:0.411733\n",
      "[29]\ttest-error:0.418202\ttrain-error:0.411733\n",
      "[30]\ttest-error:0.418202\ttrain-error:0.411733\n",
      "[31]\ttest-error:0.426737\ttrain-error:0.413326\n",
      "[32]\ttest-error:0.426165\ttrain-error:0.413061\n",
      "[33]\ttest-error:0.42548\ttrain-error:0.411999\n",
      "[34]\ttest-error:0.425438\ttrain-error:0.411999\n",
      "[35]\ttest-error:0.426165\ttrain-error:0.411999\n",
      "[36]\ttest-error:0.415646\ttrain-error:0.406955\n",
      "[37]\ttest-error:0.412992\ttrain-error:0.406424\n",
      "[38]\ttest-error:0.418496\ttrain-error:0.404566\n",
      "[39]\ttest-error:0.425424\ttrain-error:0.411733\n",
      "[40]\ttest-error:0.425424\ttrain-error:0.411733\n",
      "[41]\ttest-error:0.425466\ttrain-error:0.411733\n",
      "[42]\ttest-error:0.425424\ttrain-error:0.411733\n",
      "[43]\ttest-error:0.425424\ttrain-error:0.411733\n",
      "[44]\ttest-error:0.43389\ttrain-error:0.426599\n",
      "[45]\ttest-error:0.434057\ttrain-error:0.426334\n",
      "[46]\ttest-error:0.434267\ttrain-error:0.426334\n",
      "[47]\ttest-error:0.434267\ttrain-error:0.426334\n",
      "[48]\ttest-error:0.434281\ttrain-error:0.426334\n",
      "[49]\ttest-error:0.439114\ttrain-error:0.43244\n",
      "+++++++++++++++++++++++++++++++++++++++++++++++\n",
      "\n",
      "{'eta': 0.3, 'silent': 1, 'objective': 'binary:logistic', 'scale_pos_weight': 0.5463875205254516, 'min_child_weight': 2, 'gamma': 1.5, 'subsample': 0.6, 'colsample_bytree': 0.6, 'max_depth': 3} \n",
      "\n",
      "[0]\ttest-error:0.493609\ttrain-error:0.490045\n",
      "[1]\ttest-error:0.493609\ttrain-error:0.490045\n",
      "[2]\ttest-error:0.487448\ttrain-error:0.484736\n",
      "[3]\ttest-error:0.487448\ttrain-error:0.484736\n",
      "[4]\ttest-error:0.479695\ttrain-error:0.477568\n",
      "[5]\ttest-error:0.481679\ttrain-error:0.475179\n",
      "[6]\ttest-error:0.462248\ttrain-error:0.453146\n",
      "[7]\ttest-error:0.462569\ttrain-error:0.453411\n",
      "[8]\ttest-error:0.463295\ttrain-error:0.454739\n",
      "[9]\ttest-error:0.449396\ttrain-error:0.441731\n",
      "[10]\ttest-error:0.429517\ttrain-error:0.415184\n",
      "[11]\ttest-error:0.444255\ttrain-error:0.434563\n",
      "[12]\ttest-error:0.421499\ttrain-error:0.407486\n",
      "[13]\ttest-error:0.441294\ttrain-error:0.431643\n",
      "[14]\ttest-error:0.434379\ttrain-error:0.431112\n",
      "[15]\ttest-error:0.430104\ttrain-error:0.421556\n",
      "[16]\ttest-error:0.432381\ttrain-error:0.42713\n",
      "[17]\ttest-error:0.428805\ttrain-error:0.420759\n",
      "[18]\ttest-error:0.426235\ttrain-error:0.410406\n",
      "[19]\ttest-error:0.426682\ttrain-error:0.410672\n",
      "[20]\ttest-error:0.425983\ttrain-error:0.409344\n",
      "[21]\ttest-error:0.407781\ttrain-error:0.396071\n",
      "[22]\ttest-error:0.437606\ttrain-error:0.424741\n",
      "[23]\ttest-error:0.435748\ttrain-error:0.428723\n",
      "[24]\ttest-error:0.430258\ttrain-error:0.418901\n",
      "[25]\ttest-error:0.410477\ttrain-error:0.395275\n",
      "[26]\ttest-error:0.434854\ttrain-error:0.425803\n",
      "[27]\ttest-error:0.424083\ttrain-error:0.420759\n",
      "[28]\ttest-error:0.435245\ttrain-error:0.425272\n",
      "[29]\ttest-error:0.425508\ttrain-error:0.421025\n",
      "[30]\ttest-error:0.430858\ttrain-error:0.417308\n",
      "[31]\ttest-error:0.436614\ttrain-error:0.427661\n",
      "[32]\ttest-error:0.441126\ttrain-error:0.434032\n",
      "[33]\ttest-error:0.441126\ttrain-error:0.434032\n",
      "[34]\ttest-error:0.435664\ttrain-error:0.423945\n",
      "[35]\ttest-error:0.423329\ttrain-error:0.419432\n",
      "[36]\ttest-error:0.424097\ttrain-error:0.41837\n",
      "[37]\ttest-error:0.434658\ttrain-error:0.423414\n",
      "[38]\ttest-error:0.434756\ttrain-error:0.423414\n",
      "[39]\ttest-error:0.434756\ttrain-error:0.423414\n",
      "[40]\ttest-error:0.440497\ttrain-error:0.433501\n",
      "[41]\ttest-error:0.440469\ttrain-error:0.433501\n",
      "[42]\ttest-error:0.441252\ttrain-error:0.434032\n",
      "[43]\ttest-error:0.440623\ttrain-error:0.428458\n",
      "[44]\ttest-error:0.442746\ttrain-error:0.436687\n",
      "[45]\ttest-error:0.438109\ttrain-error:0.429785\n",
      "[46]\ttest-error:0.433177\ttrain-error:0.419697\n",
      "[47]\ttest-error:0.432758\ttrain-error:0.419166\n",
      "[48]\ttest-error:0.442593\ttrain-error:0.437483\n",
      "[49]\ttest-error:0.418202\ttrain-error:0.406955\n",
      "+++++++++++++++++++++++++++++++++++++++++++++++\n",
      "\n",
      "{'eta': 0.3, 'silent': 1, 'objective': 'binary:logistic', 'scale_pos_weight': 0.5463875205254516, 'min_child_weight': 2, 'gamma': 2.0, 'subsample': 0.6, 'colsample_bytree': 0.7, 'max_depth': 4} \n",
      "\n",
      "[0]\ttest-error:0.493609\ttrain-error:0.490045\n",
      "[1]\ttest-error:0.447901\ttrain-error:0.43828\n",
      "[2]\ttest-error:0.442537\ttrain-error:0.433236\n",
      "[3]\ttest-error:0.440246\ttrain-error:0.429785\n",
      "[4]\ttest-error:0.440427\ttrain-error:0.428192\n",
      "[5]\ttest-error:0.441196\ttrain-error:0.42713\n",
      "[6]\ttest-error:0.429713\ttrain-error:0.416246\n",
      "[7]\ttest-error:0.431305\ttrain-error:0.417308\n",
      "[8]\ttest-error:0.427897\ttrain-error:0.416246\n",
      "[9]\ttest-error:0.425033\ttrain-error:0.414123\n",
      "[10]\ttest-error:0.420395\ttrain-error:0.40377\n",
      "[11]\ttest-error:0.425648\ttrain-error:0.413326\n",
      "[12]\ttest-error:0.421401\ttrain-error:0.411203\n",
      "[13]\ttest-error:0.421625\ttrain-error:0.409344\n",
      "[14]\ttest-error:0.421513\ttrain-error:0.408548\n",
      "[15]\ttest-error:0.421862\ttrain-error:0.408813\n",
      "[16]\ttest-error:0.420842\ttrain-error:0.408548\n",
      "[17]\ttest-error:0.420172\ttrain-error:0.405097\n",
      "[18]\ttest-error:0.419976\ttrain-error:0.404301\n",
      "[19]\ttest-error:0.420605\ttrain-error:0.405362\n",
      "[20]\ttest-error:0.419865\ttrain-error:0.402442\n",
      "[21]\ttest-error:0.416302\ttrain-error:0.398991\n",
      "[22]\ttest-error:0.416931\ttrain-error:0.400053\n",
      "[23]\ttest-error:0.434323\ttrain-error:0.421556\n"
     ]
    },
    {
     "name": "stdout",
     "output_type": "stream",
     "text": [
      "[24]\ttest-error:0.409932\ttrain-error:0.391824\n",
      "[25]\ttest-error:0.409276\ttrain-error:0.390496\n",
      "[26]\ttest-error:0.409946\ttrain-error:0.391824\n",
      "[27]\ttest-error:0.41165\ttrain-error:0.394213\n",
      "[28]\ttest-error:0.41897\ttrain-error:0.401646\n",
      "[29]\ttest-error:0.411441\ttrain-error:0.394478\n",
      "[30]\ttest-error:0.413131\ttrain-error:0.393417\n",
      "[31]\ttest-error:0.433094\ttrain-error:0.417308\n",
      "[32]\ttest-error:0.43294\ttrain-error:0.417308\n",
      "[33]\ttest-error:0.43294\ttrain-error:0.417308\n",
      "[34]\ttest-error:0.432954\ttrain-error:0.417308\n",
      "[35]\ttest-error:0.407446\ttrain-error:0.390762\n",
      "[36]\ttest-error:0.410687\ttrain-error:0.392886\n",
      "[37]\ttest-error:0.412964\ttrain-error:0.393417\n",
      "[38]\ttest-error:0.41105\ttrain-error:0.39262\n",
      "[39]\ttest-error:0.411008\ttrain-error:0.39262\n",
      "[40]\ttest-error:0.413271\ttrain-error:0.393417\n",
      "[41]\ttest-error:0.413271\ttrain-error:0.393417\n",
      "[42]\ttest-error:0.437731\ttrain-error:0.42421\n",
      "[43]\ttest-error:0.437731\ttrain-error:0.42421\n",
      "[44]\ttest-error:0.417951\ttrain-error:0.400584\n",
      "[45]\ttest-error:0.417853\ttrain-error:0.400584\n",
      "[46]\ttest-error:0.413187\ttrain-error:0.393417\n",
      "[47]\ttest-error:0.413187\ttrain-error:0.393417\n",
      "[48]\ttest-error:0.413215\ttrain-error:0.393417\n",
      "[49]\ttest-error:0.413215\ttrain-error:0.393417\n",
      "+++++++++++++++++++++++++++++++++++++++++++++++\n",
      "\n",
      "{'eta': 0.3, 'silent': 1, 'objective': 'binary:logistic', 'scale_pos_weight': 0.5463875205254516, 'min_child_weight': 4, 'gamma': 1.5, 'subsample': 0.9, 'colsample_bytree': 0.8, 'max_depth': 4} \n",
      "\n",
      "[0]\ttest-error:0.495914\ttrain-error:0.489249\n",
      "[1]\ttest-error:0.449424\ttrain-error:0.436687\n",
      "[2]\ttest-error:0.44744\ttrain-error:0.435094\n",
      "[3]\ttest-error:0.437103\ttrain-error:0.422352\n",
      "[4]\ttest-error:0.43375\ttrain-error:0.419963\n",
      "[5]\ttest-error:0.434616\ttrain-error:0.420228\n",
      "[6]\ttest-error:0.430761\ttrain-error:0.416512\n",
      "[7]\ttest-error:0.424558\ttrain-error:0.409344\n",
      "[8]\ttest-error:0.424558\ttrain-error:0.40961\n",
      "[9]\ttest-error:0.418677\ttrain-error:0.399522\n",
      "[10]\ttest-error:0.428637\ttrain-error:0.410937\n",
      "[11]\ttest-error:0.429126\ttrain-error:0.411203\n",
      "[12]\ttest-error:0.42745\ttrain-error:0.409875\n",
      "[13]\ttest-error:0.426919\ttrain-error:0.410406\n",
      "[14]\ttest-error:0.429336\ttrain-error:0.413061\n",
      "[15]\ttest-error:0.429406\ttrain-error:0.412795\n",
      "[16]\ttest-error:0.427855\ttrain-error:0.410406\n",
      "[17]\ttest-error:0.429322\ttrain-error:0.412795\n",
      "[18]\ttest-error:0.424656\ttrain-error:0.408282\n",
      "[19]\ttest-error:0.427799\ttrain-error:0.410406\n",
      "[20]\ttest-error:0.427799\ttrain-error:0.410406\n",
      "[21]\ttest-error:0.427813\ttrain-error:0.410406\n",
      "[22]\ttest-error:0.428023\ttrain-error:0.409875\n",
      "[23]\ttest-error:0.42745\ttrain-error:0.41253\n",
      "[24]\ttest-error:0.427659\ttrain-error:0.412264\n",
      "[25]\ttest-error:0.42474\ttrain-error:0.409875\n",
      "[26]\ttest-error:0.426849\ttrain-error:0.411733\n",
      "[27]\ttest-error:0.426849\ttrain-error:0.411733\n",
      "[28]\ttest-error:0.426905\ttrain-error:0.411733\n",
      "[29]\ttest-error:0.426905\ttrain-error:0.411733\n",
      "[30]\ttest-error:0.426905\ttrain-error:0.411733\n",
      "[31]\ttest-error:0.426905\ttrain-error:0.411733\n",
      "[32]\ttest-error:0.426905\ttrain-error:0.411733\n",
      "[33]\ttest-error:0.426905\ttrain-error:0.411733\n",
      "[34]\ttest-error:0.426905\ttrain-error:0.411733\n",
      "[35]\ttest-error:0.426905\ttrain-error:0.411733\n",
      "[36]\ttest-error:0.43917\ttrain-error:0.427396\n",
      "[37]\ttest-error:0.438248\ttrain-error:0.426599\n",
      "[38]\ttest-error:0.438178\ttrain-error:0.426599\n",
      "[39]\ttest-error:0.438248\ttrain-error:0.426599\n",
      "[40]\ttest-error:0.438248\ttrain-error:0.426599\n",
      "[41]\ttest-error:0.438248\ttrain-error:0.426599\n",
      "[42]\ttest-error:0.438248\ttrain-error:0.426599\n",
      "[43]\ttest-error:0.438318\ttrain-error:0.426599\n",
      "[44]\ttest-error:0.438346\ttrain-error:0.426599\n",
      "[45]\ttest-error:0.438346\ttrain-error:0.426599\n",
      "[46]\ttest-error:0.440148\ttrain-error:0.427396\n",
      "[47]\ttest-error:0.440148\ttrain-error:0.427396\n",
      "[48]\ttest-error:0.440148\ttrain-error:0.427396\n",
      "[49]\ttest-error:0.440791\ttrain-error:0.427396\n",
      "+++++++++++++++++++++++++++++++++++++++++++++++\n",
      "\n",
      "{'eta': 0.3, 'silent': 1, 'objective': 'binary:logistic', 'scale_pos_weight': 0.5463875205254516, 'min_child_weight': 5, 'gamma': 2.0, 'subsample': 0.7, 'colsample_bytree': 0.9, 'max_depth': 5} \n",
      "\n",
      "[0]\ttest-error:0.444981\ttrain-error:0.448898\n",
      "[1]\ttest-error:0.444143\ttrain-error:0.433767\n",
      "[2]\ttest-error:0.403883\ttrain-error:0.393947\n",
      "[3]\ttest-error:0.418426\ttrain-error:0.416512\n",
      "[4]\ttest-error:0.417937\ttrain-error:0.415184\n",
      "[5]\ttest-error:0.4183\ttrain-error:0.415184\n",
      "[6]\ttest-error:0.416721\ttrain-error:0.399788\n",
      "[7]\ttest-error:0.423245\ttrain-error:0.409344\n",
      "[8]\ttest-error:0.421694\ttrain-error:0.408017\n",
      "[9]\ttest-error:0.422644\ttrain-error:0.408017\n",
      "[10]\ttest-error:0.423147\ttrain-error:0.408813\n",
      "[11]\ttest-error:0.422463\ttrain-error:0.407486\n",
      "[12]\ttest-error:0.417099\ttrain-error:0.397664\n",
      "[13]\ttest-error:0.429475\ttrain-error:0.416777\n",
      "[14]\ttest-error:0.449298\ttrain-error:0.440669\n",
      "[15]\ttest-error:0.429517\ttrain-error:0.417308\n",
      "[16]\ttest-error:0.429168\ttrain-error:0.417043\n",
      "[17]\ttest-error:0.445917\ttrain-error:0.434032\n",
      "[18]\ttest-error:0.423748\ttrain-error:0.407221\n",
      "[19]\ttest-error:0.443543\ttrain-error:0.430316\n",
      "[20]\ttest-error:0.443543\ttrain-error:0.430316\n",
      "[21]\ttest-error:0.423776\ttrain-error:0.406955\n",
      "[22]\ttest-error:0.43375\ttrain-error:0.42129\n",
      "[23]\ttest-error:0.436474\ttrain-error:0.425803\n",
      "[24]\ttest-error:0.436474\ttrain-error:0.425803\n",
      "[25]\ttest-error:0.43375\ttrain-error:0.42129\n",
      "[26]\ttest-error:0.436474\ttrain-error:0.425803\n",
      "[27]\ttest-error:0.436474\ttrain-error:0.425803\n",
      "[28]\ttest-error:0.438723\ttrain-error:0.427661\n",
      "[29]\ttest-error:0.438765\ttrain-error:0.427661\n",
      "[30]\ttest-error:0.416107\ttrain-error:0.401911\n",
      "[31]\ttest-error:0.438709\ttrain-error:0.427661\n",
      "[32]\ttest-error:0.416107\ttrain-error:0.401911\n",
      "[33]\ttest-error:0.438709\ttrain-error:0.427661\n",
      "[34]\ttest-error:0.437648\ttrain-error:0.425538\n",
      "[35]\ttest-error:0.413397\ttrain-error:0.397133\n",
      "[36]\ttest-error:0.416302\ttrain-error:0.400053\n",
      "[37]\ttest-error:0.416428\ttrain-error:0.400584\n",
      "[38]\ttest-error:0.41626\ttrain-error:0.400584\n",
      "[39]\ttest-error:0.416218\ttrain-error:0.400319\n",
      "[40]\ttest-error:0.416414\ttrain-error:0.400584\n",
      "[41]\ttest-error:0.416414\ttrain-error:0.400584\n",
      "[42]\ttest-error:0.436153\ttrain-error:0.423945\n",
      "[43]\ttest-error:0.436544\ttrain-error:0.424476\n",
      "[44]\ttest-error:0.436153\ttrain-error:0.423945\n",
      "[45]\ttest-error:0.436153\ttrain-error:0.423945\n",
      "[46]\ttest-error:0.436153\ttrain-error:0.423945\n",
      "[47]\ttest-error:0.436153\ttrain-error:0.423945\n",
      "[48]\ttest-error:0.436153\ttrain-error:0.423945\n",
      "[49]\ttest-error:0.436153\ttrain-error:0.423945\n",
      "+++++++++++++++++++++++++++++++++++++++++++++++\n",
      "\n",
      "{'eta': 0.3, 'silent': 1, 'objective': 'binary:logistic', 'scale_pos_weight': 0.5463875205254516, 'min_child_weight': 5, 'gamma': 1.5, 'subsample': 0.6, 'colsample_bytree': 0.9, 'max_depth': 2} \n",
      "\n",
      "[0]\ttest-error:0.331131\ttrain-error:0.334218\n",
      "[1]\ttest-error:0.493609\ttrain-error:0.490045\n",
      "[2]\ttest-error:0.487854\ttrain-error:0.485267\n",
      "[3]\ttest-error:0.487854\ttrain-error:0.485267\n",
      "[4]\ttest-error:0.479709\ttrain-error:0.476772\n",
      "[5]\ttest-error:0.479709\ttrain-error:0.476772\n",
      "[6]\ttest-error:0.43938\ttrain-error:0.440138\n",
      "[7]\ttest-error:0.441447\ttrain-error:0.438811\n",
      "[8]\ttest-error:0.440218\ttrain-error:0.440138\n",
      "[9]\ttest-error:0.466606\ttrain-error:0.464826\n",
      "[10]\ttest-error:0.412908\ttrain-error:0.406424\n",
      "[11]\ttest-error:0.447845\ttrain-error:0.445978\n",
      "[12]\ttest-error:0.427436\ttrain-error:0.421025\n",
      "[13]\ttest-error:0.429727\ttrain-error:0.430847\n",
      "[14]\ttest-error:0.436488\ttrain-error:0.434298\n",
      "[15]\ttest-error:0.432716\ttrain-error:0.42952\n",
      "[16]\ttest-error:0.452357\ttrain-error:0.448102\n",
      "[17]\ttest-error:0.453042\ttrain-error:0.448102\n",
      "[18]\ttest-error:0.435832\ttrain-error:0.427396\n",
      "[19]\ttest-error:0.434951\ttrain-error:0.421821\n",
      "[20]\ttest-error:0.434672\ttrain-error:0.424476\n",
      "[21]\ttest-error:0.432018\ttrain-error:0.424476\n",
      "[22]\ttest-error:0.434644\ttrain-error:0.423945\n",
      "[23]\ttest-error:0.435315\ttrain-error:0.423945\n",
      "[24]\ttest-error:0.429573\ttrain-error:0.414388\n",
      "[25]\ttest-error:0.429573\ttrain-error:0.414388\n",
      "[26]\ttest-error:0.429573\ttrain-error:0.414388\n",
      "[27]\ttest-error:0.412265\ttrain-error:0.40138\n",
      "[28]\ttest-error:0.418733\ttrain-error:0.411203\n",
      "[29]\ttest-error:0.417867\ttrain-error:0.411203\n",
      "[30]\ttest-error:0.410589\ttrain-error:0.404301\n",
      "[31]\ttest-error:0.415548\ttrain-error:0.411733\n",
      "[32]\ttest-error:0.41559\ttrain-error:0.411733\n",
      "[33]\ttest-error:0.43477\ttrain-error:0.435094\n",
      "[34]\ttest-error:0.429755\ttrain-error:0.430847\n",
      "[35]\ttest-error:0.406929\ttrain-error:0.397398\n",
      "[36]\ttest-error:0.417071\ttrain-error:0.402973\n",
      "[37]\ttest-error:0.42305\ttrain-error:0.40961\n"
     ]
    },
    {
     "name": "stdout",
     "output_type": "stream",
     "text": [
      "[38]\ttest-error:0.410184\ttrain-error:0.400584\n",
      "[39]\ttest-error:0.408242\ttrain-error:0.397664\n",
      "[40]\ttest-error:0.411706\ttrain-error:0.402973\n",
      "[41]\ttest-error:0.411706\ttrain-error:0.402973\n",
      "[42]\ttest-error:0.422295\ttrain-error:0.408017\n",
      "[43]\ttest-error:0.411916\ttrain-error:0.403239\n",
      "[44]\ttest-error:0.420381\ttrain-error:0.405097\n",
      "[45]\ttest-error:0.420395\ttrain-error:0.405097\n",
      "[46]\ttest-error:0.409779\ttrain-error:0.400053\n",
      "[47]\ttest-error:0.418803\ttrain-error:0.402708\n",
      "[48]\ttest-error:0.424279\ttrain-error:0.414388\n",
      "[49]\ttest-error:0.424279\ttrain-error:0.414388\n",
      "+++++++++++++++++++++++++++++++++++++++++++++++\n",
      "\n"
     ]
    }
   ],
   "source": [
    "import random\n",
    "for i in range(10):\n",
    "    mcw=random.randint(1,5)\n",
    "    gamma=random.randrange(1,5,step=1)/2\n",
    "    subsample=random.randrange(6,11,step=1)/10\n",
    "    colbt=random.randrange(6,11,step=1)/10\n",
    "    maxdepth=random.randint(2,5)\n",
    "\n",
    "    params[ 'min_child_weight']=mcw\n",
    "    params['gamma']=gamma\n",
    "    params['subsample']=subsample\n",
    "    params[ 'colsample_bytree']=colbt\n",
    "    params['max_depth']=maxdepth\n",
    "\n",
    "    num_rounds = 50\n",
    "    watchlist  = [(dtest,'test'), (dtrain,'train')]\n",
    "    print(params,'\\n')\n",
    "    bst = xgb.train(params, dtrain, num_rounds, watchlist)\n",
    "    print('+++++++++++++++++++++++++++++++++++++++++++++++\\n')"
   ]
  },
  {
   "cell_type": "code",
   "execution_count": 247,
   "metadata": {},
   "outputs": [],
   "source": [
    "import xgboost as xgb\n",
    "preds = bst.predict(dtest)"
   ]
  },
  {
   "cell_type": "code",
   "execution_count": 248,
   "metadata": {},
   "outputs": [
    {
     "data": {
      "text/plain": [
       "0.5920270395240772"
      ]
     },
     "execution_count": 248,
     "metadata": {},
     "output_type": "execute_result"
    }
   ],
   "source": [
    "res=[ i>0.5 for i in preds]\n",
    "res=np.array(res).astype(np.int8)\n",
    "from sklearn.metrics import roc_auc_score\n",
    "result=roc_auc_score(np.squeeze(y_test).values,res)\n",
    "result"
   ]
  },
  {
   "cell_type": "code",
   "execution_count": null,
   "metadata": {},
   "outputs": [],
   "source": []
  }
 ],
 "metadata": {
  "kernelspec": {
   "display_name": "Python 3",
   "language": "python",
   "name": "python3"
  },
  "language_info": {
   "codemirror_mode": {
    "name": "ipython",
    "version": 3
   },
   "file_extension": ".py",
   "mimetype": "text/x-python",
   "name": "python",
   "nbconvert_exporter": "python",
   "pygments_lexer": "ipython3",
   "version": "3.6.3"
  }
 },
 "nbformat": 4,
 "nbformat_minor": 2
}
