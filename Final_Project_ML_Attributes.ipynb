{
 "cells": [
  {
   "cell_type": "code",
   "execution_count": 1,
   "metadata": {},
   "outputs": [],
   "source": [
    "# import necessary libraries\n",
    "import numpy as np\n",
    "import pandas as pd\n",
    "import matplotlib.pyplot as plt\n",
    "%matplotlib inline\n",
    "import seaborn as sns\n",
    "import networkx as nx\n",
    "\n",
    "color = sns.color_palette()"
   ]
  },
  {
   "cell_type": "markdown",
   "metadata": {},
   "source": [
    "# 1. Setting Up"
   ]
  },
  {
   "cell_type": "code",
   "execution_count": 2,
   "metadata": {},
   "outputs": [],
   "source": [
    "# Import necessary libraries\n",
    "\n",
    "#misc\n",
    "import gc\n",
    "import time\n",
    "import warnings\n",
    "import json\n",
    "import os\n",
    "import ast\n",
    "\n",
    "import numpy as np\n",
    "import pandas as pd\n",
    "\n",
    "# Plotting\n",
    "import matplotlib.pyplot as plt\n",
    "%matplotlib inline\n",
    "import seaborn as sns\n",
    "color = sns.color_palette()"
   ]
  },
  {
   "cell_type": "markdown",
   "metadata": {},
   "source": [
    "Load the business dataset"
   ]
  },
  {
   "cell_type": "code",
   "execution_count": 3,
   "metadata": {},
   "outputs": [
    {
     "name": "stdout",
     "output_type": "stream",
     "text": [
      "<class 'pandas.core.frame.DataFrame'>\n",
      "RangeIndex: 188593 entries, 0 to 188592\n",
      "Data columns (total 61 columns):\n",
      "hours.Friday                             141796 non-null object\n",
      "attributes.RestaurantsAttire             48182 non-null object\n",
      "attributes.BikeParking                   84891 non-null object\n",
      "state                                    188593 non-null object\n",
      "categories                               188052 non-null object\n",
      "attributes.BusinessParking               103424 non-null object\n",
      "attributes.Alcohol                       47892 non-null object\n",
      "attributes.GoodForDancing                9162 non-null object\n",
      "attributes.BYOB                          911 non-null object\n",
      "attributes.DietaryRestrictions           138 non-null object\n",
      "attributes.RestaurantsReservations       51363 non-null object\n",
      "attributes.GoodForKids                   64931 non-null object\n",
      "attributes.Smoking                       8113 non-null object\n",
      "hours.Sunday                             93387 non-null object\n",
      "attributes.BYOBCorkage                   1409 non-null object\n",
      "latitude                                 188587 non-null float64\n",
      "attributes.BusinessAcceptsBitcoin        12674 non-null object\n",
      "attributes.GoodForMeal                   47483 non-null object\n",
      "attributes.BestNights                    6844 non-null object\n",
      "attributes.NoiseLevel                    43710 non-null object\n",
      "attributes.Corkage                       657 non-null object\n",
      "attributes.Music                         8807 non-null object\n",
      "hours.Wednesday                          141843 non-null object\n",
      "attributes.Open24Hours                   352 non-null object\n",
      "longitude                                188587 non-null float64\n",
      "neighborhood                             68655 non-null object\n",
      "attributes.HairSpecializesIn             1881 non-null object\n",
      "hours.Thursday                           142359 non-null object\n",
      "attributes.AgesAllowed                   397 non-null object\n",
      "attributes.ByAppointmentOnly             45423 non-null object\n",
      "business_id                              188593 non-null object\n",
      "attributes.RestaurantsDelivery           51668 non-null object\n",
      "attributes.RestaurantsGoodForGroups      53839 non-null object\n",
      "postal_code                              187912 non-null object\n",
      "attributes.RestaurantsTableService       43325 non-null object\n",
      "attributes.WiFi                          49026 non-null object\n",
      "hours                                    143791 non-null object\n",
      "attributes.DogsAllowed                   13681 non-null object\n",
      "review_count                             188593 non-null int64\n",
      "name                                     188593 non-null object\n",
      "attributes.BusinessAcceptsCreditCards    140391 non-null object\n",
      "hours.Saturday                           125376 non-null object\n",
      "attributes.Ambience                      47577 non-null object\n",
      "attributes.RestaurantsCounterService     397 non-null object\n",
      "attributes.DriveThru                     6754 non-null object\n",
      "attributes.Caters                        40038 non-null object\n",
      "address                                  180970 non-null object\n",
      "attributes.RestaurantsPriceRange2        107120 non-null float64\n",
      "attributes.RestaurantsTakeOut            61206 non-null object\n",
      "hours.Tuesday                            140607 non-null object\n",
      "attributes.WheelchairAccessible          52023 non-null object\n",
      "attributes.HasTV                         47533 non-null object\n",
      "attributes.HappyHour                     9285 non-null object\n",
      "hours.Monday                             132761 non-null object\n",
      "attributes.CoatCheck                     8531 non-null object\n",
      "attributes.OutdoorSeating                54181 non-null object\n",
      "is_open                                  188593 non-null int64\n",
      "attributes.AcceptsInsurance              11671 non-null object\n",
      "attributes                               162807 non-null object\n",
      "stars                                    188593 non-null float64\n",
      "city                                     188583 non-null object\n",
      "dtypes: float64(4), int64(2), object(55)\n",
      "memory usage: 87.8+ MB\n"
     ]
    }
   ],
   "source": [
    "business = pd.read_csv('/home/han2114/final_project_tools_analytics/yelp_academic_dataset_business_full.csv')\n",
    "business.info()"
   ]
  },
  {
   "cell_type": "code",
   "execution_count": 4,
   "metadata": {},
   "outputs": [
    {
     "name": "stdout",
     "output_type": "stream",
     "text": [
      "There are  1305  different types/categories of Businesses in Yelp!\n"
     ]
    }
   ],
   "source": [
    "cat_all = ','.join(business['categories'].dropna()).replace(\" \", \"\")\n",
    "cat_all = pd.DataFrame(cat_all.split(','), columns=['category'])\n",
    "cat_all_count = cat_all.category.value_counts().sort_values(ascending = False)\n",
    "print(\"There are \",len(cat_all_count),\" different types/categories of Businesses in Yelp!\")"
   ]
  },
  {
   "cell_type": "code",
   "execution_count": 5,
   "metadata": {},
   "outputs": [
    {
     "data": {
      "text/plain": [
       "Restaurants       57173\n",
       "Shopping          30231\n",
       "Food              27118\n",
       "Beauty&Spas       18967\n",
       "HomeServices      18634\n",
       "Health&Medical    16157\n",
       "LocalServices     12906\n",
       "Automotive        12656\n",
       "Nightlife         12438\n",
       "Bars              10853\n",
       "Name: category, dtype: int64"
      ]
     },
     "execution_count": 5,
     "metadata": {},
     "output_type": "execute_result"
    }
   ],
   "source": [
    "cat_all_count[0:10]"
   ]
  },
  {
   "cell_type": "code",
   "execution_count": 6,
   "metadata": {},
   "outputs": [],
   "source": [
    "tfile = open('cat_all_count.txt', 'a')\n",
    "tfile.write(cat_all_count.to_string())\n",
    "tfile.close()"
   ]
  },
  {
   "cell_type": "code",
   "execution_count": 7,
   "metadata": {},
   "outputs": [],
   "source": [
    "food_masks = ['Restaurants', 'Food','Sandwiches', 'FastFood', 'Breakfast&Brunch', 'SpecialtyFood', 'Burgers',\n",
    "                    'American(Traditional)', 'American(New)','Pizza', 'Italian','African','Falafel','Turkish',\n",
    "                    'Desserts', 'Bakeries', 'Salad','ChickenWings', 'Mexican','Seafood','Chinese','Malaysian',\n",
    "                    'IceCream&FrozenYogurt', 'Delis', 'Japanese', 'Bars', 'Canadian(New)', 'AsianFusion',\n",
    "                    'Mediterranean', 'SushiBars','JuiceBars&Smoothies','Steakhouses','Coffee&Tea','Pretzels','PanAsian',\n",
    "                    'Barbeque','Beer','Wine&Spirits','SportsBars', 'Pubs','British','Poke','Delicatessen',\n",
    "                     'Lounges', 'WineBars', 'CocktailBars', 'Diners','Patisserie/CakeShop','Kosher','Afghan',\n",
    "                     'Vegetarian', 'EthnicFood', 'MiddleEastern','Persian/Iranian','FoodCourt','IrishPub',\n",
    "                     'Gluten-Free','ComfortFood','Indian','Soup','Vegan', 'Thai','FoodTrucks','Szechuan',\n",
    "                     'French','Greek','Buffets','Vietnamese','HotDogs','DiveBars','Tex-Mex','HotPot','Polish','Moroccan',\n",
    "                     'ImportedFood','Gastropubs','Bagels','BeerBar','Halal','Korean','Donuts','Tapas/SmallPlates',\n",
    "                     'Breweries','Southern','LatinAmerican','Do-It-YourselfFood','InternetCafes','Cantonese',\n",
    "                     'BubbleTea','TapasBars','Caribbean','Lebanese','CoffeeRoasteries','Gelato','Brazilian',\n",
    "                     'Pakistani','FoodStands','Hawaiian','Dim Sum','Tacos','SoulFood','Creperies','Ethiopian',\n",
    "                     'Fish&Chips','Cajun/Creole','Irish','ShavedIce','InternetCafes','Bistros','Peruvian','Waffles',\n",
    "                     'ModernEuropean','Taiwanese','Filipino','Cheesesteaks','German','Brasseries','Cuban',\n",
    "                     'Wineries','Ramen','Spanish','Poutineries','TeaRooms','Noodles','Cupcakes','Portuguese']"
   ]
  },
  {
   "cell_type": "code",
   "execution_count": 8,
   "metadata": {},
   "outputs": [],
   "source": [
    "bus_cats = business['categories']\n",
    "index_food_masks = list()\n",
    "NaN_list = list()\n",
    "for index, bus_cat in enumerate(bus_cats):\n",
    "    if pd.isnull(bus_cat) == True:\n",
    "        NaN_list.append(index)\n",
    "    else:\n",
    "        if bool(set(bus_cat.replace(\" \",\"\").split(',')) & set(food_masks)):\n",
    "            index_food_masks.append(index)"
   ]
  },
  {
   "cell_type": "code",
   "execution_count": 9,
   "metadata": {},
   "outputs": [],
   "source": [
    "restaurants = business.iloc[index_food_masks]"
   ]
  },
  {
   "cell_type": "code",
   "execution_count": 10,
   "metadata": {},
   "outputs": [
    {
     "name": "stdout",
     "output_type": "stream",
     "text": [
      "There are  835  different types/categories of Restaurants in Yelp!\n"
     ]
    }
   ],
   "source": [
    "cat_all_res = ','.join(restaurants['categories']).replace(\" \", \"\")\n",
    "cat_all_res = pd.DataFrame(cat_all_res.split(','), columns=['category'])\n",
    "cat_all_res_count = cat_all_res.category.value_counts().sort_values(ascending = False)\n",
    "print(\"There are \",len(cat_all_res_count),\" different types/categories of Restaurants in Yelp!\")"
   ]
  },
  {
   "cell_type": "markdown",
   "metadata": {},
   "source": [
    "Choose only US and Canada"
   ]
  },
  {
   "cell_type": "code",
   "execution_count": 11,
   "metadata": {},
   "outputs": [],
   "source": [
    "USA_mask = ['AL','AK','AZ','AR','CA','CO','CT','DE','FL','GA','HI','ID','IL','IN','IA','KS','KY',\n",
    "            'LA','ME','MD','MA','MI','MN','MS','MO','MT','NE','NV','NH','NJ','NM','NY','NC','ND',\n",
    "            'OH','OK','OR','PA','RI','SC','SD','TN','TX','UT','VT','VA','WA','WV','WI','WY']\n",
    "CAN_mask = ['ON','QC','AB','BC','MB','NB','NL','NT','NS','NU','PE','SK','YT']\n",
    "location_mask = USA_mask + CAN_mask"
   ]
  },
  {
   "cell_type": "code",
   "execution_count": 12,
   "metadata": {},
   "outputs": [],
   "source": [
    "index_location_mask = list()\n",
    "state = restaurants['state']\n",
    "for index, state in enumerate(state):\n",
    "    if state in location_mask:\n",
    "        index_location_mask.append(index)"
   ]
  },
  {
   "cell_type": "code",
   "execution_count": 13,
   "metadata": {},
   "outputs": [],
   "source": [
    "restaurants = restaurants.iloc[index_location_mask]"
   ]
  },
  {
   "cell_type": "code",
   "execution_count": 14,
   "metadata": {},
   "outputs": [],
   "source": [
    "def label_country (row):\n",
    "    if row['state'] in  USA_mask:\n",
    "          return 'USA'\n",
    "    if row['state'] in  CAN_mask:\n",
    "          return 'Canada'\n",
    "\n",
    "restaurants['country'] = restaurants.apply(lambda row: label_country(row),axis=1)"
   ]
  },
  {
   "cell_type": "markdown",
   "metadata": {},
   "source": [
    "# 2. Exploratory Data Analysis"
   ]
  },
  {
   "cell_type": "markdown",
   "metadata": {},
   "source": [
    "### 2A. Rating Distributions"
   ]
  },
  {
   "cell_type": "code",
   "execution_count": 15,
   "metadata": {},
   "outputs": [
    {
     "data": {
      "text/plain": [
       "1.0      537\n",
       "1.5     1534\n",
       "2.0     4058\n",
       "2.5     7386\n",
       "3.0    12931\n",
       "3.5    17339\n",
       "4.0    18063\n",
       "4.5    10010\n",
       "5.0     3168\n",
       "Name: stars, dtype: int64"
      ]
     },
     "execution_count": 15,
     "metadata": {},
     "output_type": "execute_result"
    }
   ],
   "source": [
    "# Get the distribution of the ratings\n",
    "rating_dist = restaurants['stars'].value_counts().sort_index()\n",
    "rating_dist"
   ]
  },
  {
   "cell_type": "code",
   "execution_count": 16,
   "metadata": {},
   "outputs": [
    {
     "data": {
      "image/png": "[encoded data removed]",
      "text/plain": [
       "<Figure size 1080x1080 with 1 Axes>"
      ]
     },
     "metadata": {
      "needs_background": "light"
     },
     "output_type": "display_data"
    }
   ],
   "source": [
    "plt.figure(figsize=(15,15))\n",
    "ax = sns.barplot(rating_dist.index, rating_dist.values, alpha=0.8)\n",
    "plt.title(\"Rating Distribution\")\n",
    "plt.ylabel('Number of business', fontsize=15)\n",
    "plt.xlabel('Rating', fontsize=15)\n",
    "\n",
    "rects = ax.patches\n",
    "labels = rating_dist.values\n",
    "for rect, label in zip(rects, labels):\n",
    "    height = rect.get_height()\n",
    "    ax.text(rect.get_x() + rect.get_width()/2, height + 5, label, ha='center', va='bottom')\n",
    "plt.show()"
   ]
  },
  {
   "cell_type": "code",
   "execution_count": 17,
   "metadata": {
    "scrolled": true
   },
   "outputs": [
    {
     "data": {
      "image/png": "[encoded data removed]",
      "text/plain": [
       "<Figure size 864x864 with 1 Axes>"
      ]
     },
     "metadata": {},
     "output_type": "display_data"
    }
   ],
   "source": [
    "plt.figure(figsize=(12,12))\n",
    "labels = (np.array(rating_dist.index))\n",
    "sizes = (np.array((rating_dist / rating_dist.sum())*100))\n",
    "plt.pie(sizes, labels=labels, \n",
    "        autopct= '%1.1f%%', startangle = 200)\n",
    "plt.title(\"Rating Share\", fontsize=15)\n",
    "plt.show()"
   ]
  },
  {
   "cell_type": "code",
   "execution_count": 18,
   "metadata": {
    "scrolled": true
   },
   "outputs": [
    {
     "data": {
      "image/png": "[encoded data removed]",
      "text/plain": [
       "<Figure size 1152x288 with 1 Axes>"
      ]
     },
     "metadata": {
      "needs_background": "light"
     },
     "output_type": "display_data"
    }
   ],
   "source": [
    "x = cat_all_res_count.iloc[0:20]\n",
    "\n",
    "plt.figure(figsize=(16,4))\n",
    "ax = sns.barplot(x.index, x.values, alpha=0.8)\n",
    "plt.title(\"What are the top categories?\",fontsize=25)\n",
    "locs, labels = plt.xticks()\n",
    "plt.setp(labels, rotation=80)\n",
    "plt.ylabel('# businesses', fontsize=12)\n",
    "plt.xlabel('Category', fontsize=12)\n",
    "\n",
    "rects = ax.patches\n",
    "labels = x.values\n",
    "for rect, label in zip(rects, labels):\n",
    "    height = rect.get_height()\n",
    "    ax.text(rect.get_x() + rect.get_width()/2, height + 5, label, ha='center', va='bottom')\n",
    "\n",
    "plt.show()"
   ]
  },
  {
   "cell_type": "code",
   "execution_count": 19,
   "metadata": {},
   "outputs": [
    {
     "data": {
      "image/png": "[encoded data removed]",
      "text/plain": [
       "<Figure size 1152x288 with 1 Axes>"
      ]
     },
     "metadata": {
      "needs_background": "light"
     },
     "output_type": "display_data"
    }
   ],
   "source": [
    "# Location distribution\n",
    "\n",
    "city_count = restaurants['city'].value_counts().sort_values(ascending=False)\n",
    "plt.figure(figsize=(16,4))\n",
    "ax = sns.barplot(city_count[0:20].index, city_count[0:20].values, alpha=0.8)\n",
    "plt.title(\"Which city has the most reviews?\")\n",
    "locs, labels = plt.xticks()\n",
    "plt.setp(labels, rotation=45)\n",
    "plt.ylabel('# restaurants', fontsize=12)\n",
    "plt.xlabel('City', fontsize=12)\n",
    "\n",
    "rects = ax.patches\n",
    "labels = city_count.values\n",
    "for rect, label in zip(rects, labels):\n",
    "    height = rect.get_height()\n",
    "    ax.text(rect.get_x() + rect.get_width()/2, height + 5, label, ha='center', va='bottom')\n",
    "\n",
    "plt.show()"
   ]
  },
  {
   "cell_type": "code",
   "execution_count": 20,
   "metadata": {},
   "outputs": [
    {
     "data": {
      "image/png": "[encoded data removed]",
      "text/plain": [
       "<Figure size 1152x288 with 1 Axes>"
      ]
     },
     "metadata": {
      "needs_background": "light"
     },
     "output_type": "display_data"
    }
   ],
   "source": [
    "# Country distribution\n",
    "\n",
    "country_count = restaurants['country'].value_counts().sort_values(ascending=False)\n",
    "plt.figure(figsize=(16,4))\n",
    "ax = sns.barplot(country_count.index, country_count.values, alpha=0.8)\n",
    "plt.title(\"Which country has the most reviews?\")\n",
    "locs, labels = plt.xticks()\n",
    "plt.setp(labels, rotation=45)\n",
    "plt.ylabel('# restaurants', fontsize=12)\n",
    "plt.xlabel('Country', fontsize=12)\n",
    "\n",
    "rects = ax.patches\n",
    "labels = country_count.values\n",
    "for rect, label in zip(rects, labels):\n",
    "    height = rect.get_height()\n",
    "    ax.text(rect.get_x() + rect.get_width()/2, height + 5, label, ha='center', va='bottom')\n",
    "\n",
    "plt.show()"
   ]
  },
  {
   "cell_type": "code",
   "execution_count": 21,
   "metadata": {},
   "outputs": [
    {
     "data": {
      "image/png": "[encoded data removed]",
      "text/plain": [
       "<Figure size 720x720 with 1 Axes>"
      ]
     },
     "metadata": {
      "needs_background": "light"
     },
     "output_type": "display_data"
    }
   ],
   "source": [
    "country_state = restaurants.groupby(['country','state'])\n",
    "country_state = country_state.size().unstack().plot(kind = 'bar',figsize = (10,10))"
   ]
  },
  {
   "cell_type": "code",
   "execution_count": 22,
   "metadata": {},
   "outputs": [
    {
     "data": {
      "text/html": [
       "<div>\n",
       "<style scoped>\n",
       "    .dataframe tbody tr th:only-of-type {\n",
       "        vertical-align: middle;\n",
       "    }\n",
       "\n",
       "    .dataframe tbody tr th {\n",
       "        vertical-align: top;\n",
       "    }\n",
       "\n",
       "    .dataframe thead th {\n",
       "        text-align: right;\n",
       "    }\n",
       "</style>\n",
       "<table border=\"1\" class=\"dataframe\">\n",
       "  <thead>\n",
       "    <tr style=\"text-align: right;\">\n",
       "      <th></th>\n",
       "      <th>name</th>\n",
       "      <th>business_id</th>\n",
       "      <th>review_count</th>\n",
       "      <th>city</th>\n",
       "      <th>stars</th>\n",
       "    </tr>\n",
       "  </thead>\n",
       "  <tbody>\n",
       "    <tr>\n",
       "      <th>137635</th>\n",
       "      <td>Mon Ami Gabi</td>\n",
       "      <td>4JNXUYY8wbaaDmk3BPzlWw</td>\n",
       "      <td>7968</td>\n",
       "      <td>Las Vegas</td>\n",
       "      <td>4.0</td>\n",
       "    </tr>\n",
       "    <tr>\n",
       "      <th>185167</th>\n",
       "      <td>Bacchanal Buffet</td>\n",
       "      <td>RESDUcs7fIiihp38-d6_6g</td>\n",
       "      <td>7866</td>\n",
       "      <td>Las Vegas</td>\n",
       "      <td>4.0</td>\n",
       "    </tr>\n",
       "    <tr>\n",
       "      <th>62723</th>\n",
       "      <td>Wicked Spoon</td>\n",
       "      <td>K7lWdNUhCbcnEvI0NhGewg</td>\n",
       "      <td>6446</td>\n",
       "      <td>Las Vegas</td>\n",
       "      <td>3.5</td>\n",
       "    </tr>\n",
       "    <tr>\n",
       "      <th>188309</th>\n",
       "      <td>Gordon Ramsay BurGR</td>\n",
       "      <td>cYwJA2A6I12KNkm2rtXd5g</td>\n",
       "      <td>5472</td>\n",
       "      <td>Las Vegas</td>\n",
       "      <td>4.0</td>\n",
       "    </tr>\n",
       "    <tr>\n",
       "      <th>170129</th>\n",
       "      <td>Hash House A Go Go</td>\n",
       "      <td>f4x1YBxkLrZg652xt2KR5g</td>\n",
       "      <td>5382</td>\n",
       "      <td>Las Vegas</td>\n",
       "      <td>4.0</td>\n",
       "    </tr>\n",
       "    <tr>\n",
       "      <th>177573</th>\n",
       "      <td>Earl of Sandwich</td>\n",
       "      <td>DkYS3arLOhA8si5uUEmHOw</td>\n",
       "      <td>4981</td>\n",
       "      <td>Las Vegas</td>\n",
       "      <td>4.5</td>\n",
       "    </tr>\n",
       "    <tr>\n",
       "      <th>181524</th>\n",
       "      <td>The Buffet</td>\n",
       "      <td>2weQS-RnoOBhb1KsHKyoSQ</td>\n",
       "      <td>4240</td>\n",
       "      <td>Las Vegas</td>\n",
       "      <td>3.5</td>\n",
       "    </tr>\n",
       "    <tr>\n",
       "      <th>135008</th>\n",
       "      <td>The Buffet at Bellagio</td>\n",
       "      <td>ujHiaprwCQ5ewziu0Vi9rw</td>\n",
       "      <td>4091</td>\n",
       "      <td>Las Vegas</td>\n",
       "      <td>3.5</td>\n",
       "    </tr>\n",
       "    <tr>\n",
       "      <th>180795</th>\n",
       "      <td>Secret Pizza</td>\n",
       "      <td>iCQpiavjjPzJ5_3gPD5Ebg</td>\n",
       "      <td>4078</td>\n",
       "      <td>Las Vegas</td>\n",
       "      <td>4.0</td>\n",
       "    </tr>\n",
       "    <tr>\n",
       "      <th>28596</th>\n",
       "      <td>Lotus of Siam</td>\n",
       "      <td>KskYqH1Bi7Z_61pH6Om8pg</td>\n",
       "      <td>3975</td>\n",
       "      <td>Las Vegas</td>\n",
       "      <td>4.0</td>\n",
       "    </tr>\n",
       "    <tr>\n",
       "      <th>183572</th>\n",
       "      <td>Serendipity 3</td>\n",
       "      <td>eoHdUeQDNgQ6WYEnP2aiRw</td>\n",
       "      <td>3905</td>\n",
       "      <td>Las Vegas</td>\n",
       "      <td>3.0</td>\n",
       "    </tr>\n",
       "    <tr>\n",
       "      <th>175089</th>\n",
       "      <td>Bouchon at the Venezia Tower</td>\n",
       "      <td>rcaPajgKOJC2vo_l3xa42A</td>\n",
       "      <td>3743</td>\n",
       "      <td>Las Vegas</td>\n",
       "      <td>4.0</td>\n",
       "    </tr>\n",
       "    <tr>\n",
       "      <th>96851</th>\n",
       "      <td>Gangnam Asian BBQ Dining</td>\n",
       "      <td>hihud--QRriCYZw1zZvW4g</td>\n",
       "      <td>3731</td>\n",
       "      <td>Las Vegas</td>\n",
       "      <td>4.5</td>\n",
       "    </tr>\n",
       "    <tr>\n",
       "      <th>141265</th>\n",
       "      <td>MGM Grand Hotel</td>\n",
       "      <td>El4FC8jcawUVgw_0EIcbaQ</td>\n",
       "      <td>3730</td>\n",
       "      <td>Las Vegas</td>\n",
       "      <td>3.0</td>\n",
       "    </tr>\n",
       "    <tr>\n",
       "      <th>121801</th>\n",
       "      <td>Bachi Burger</td>\n",
       "      <td>7sPNbCx7vGAaH7SbNPZ6oA</td>\n",
       "      <td>3250</td>\n",
       "      <td>Las Vegas</td>\n",
       "      <td>4.0</td>\n",
       "    </tr>\n",
       "    <tr>\n",
       "      <th>41323</th>\n",
       "      <td>Gordon Ramsay Steak</td>\n",
       "      <td>OETh78qcgDltvHULowwhJg</td>\n",
       "      <td>3244</td>\n",
       "      <td>Las Vegas</td>\n",
       "      <td>4.0</td>\n",
       "    </tr>\n",
       "    <tr>\n",
       "      <th>89868</th>\n",
       "      <td>Hash House A Go Go</td>\n",
       "      <td>g8OnV26ywJlZpezdBnOWUQ</td>\n",
       "      <td>3193</td>\n",
       "      <td>Las Vegas</td>\n",
       "      <td>4.0</td>\n",
       "    </tr>\n",
       "    <tr>\n",
       "      <th>116247</th>\n",
       "      <td>Mesa Grill</td>\n",
       "      <td>XZbuPXdyA0ZtTu3AzqtQhg</td>\n",
       "      <td>3160</td>\n",
       "      <td>Las Vegas</td>\n",
       "      <td>4.0</td>\n",
       "    </tr>\n",
       "    <tr>\n",
       "      <th>144358</th>\n",
       "      <td>The Peppermill Restaurant &amp; Fireside Lounge</td>\n",
       "      <td>XXW_OFaYQkkGOGniujZFHg</td>\n",
       "      <td>3048</td>\n",
       "      <td>Las Vegas</td>\n",
       "      <td>4.0</td>\n",
       "    </tr>\n",
       "    <tr>\n",
       "      <th>112667</th>\n",
       "      <td>Holsteins Shakes &amp; Buns</td>\n",
       "      <td>P7pxQFqr7yBKMMI2J51udw</td>\n",
       "      <td>3025</td>\n",
       "      <td>Las Vegas</td>\n",
       "      <td>4.0</td>\n",
       "    </tr>\n",
       "  </tbody>\n",
       "</table>\n",
       "</div>"
      ],
      "text/plain": [
       "                                               name             business_id  \\\n",
       "137635                                 Mon Ami Gabi  4JNXUYY8wbaaDmk3BPzlWw   \n",
       "185167                             Bacchanal Buffet  RESDUcs7fIiihp38-d6_6g   \n",
       "62723                                  Wicked Spoon  K7lWdNUhCbcnEvI0NhGewg   \n",
       "188309                          Gordon Ramsay BurGR  cYwJA2A6I12KNkm2rtXd5g   \n",
       "170129                           Hash House A Go Go  f4x1YBxkLrZg652xt2KR5g   \n",
       "177573                             Earl of Sandwich  DkYS3arLOhA8si5uUEmHOw   \n",
       "181524                                   The Buffet  2weQS-RnoOBhb1KsHKyoSQ   \n",
       "135008                       The Buffet at Bellagio  ujHiaprwCQ5ewziu0Vi9rw   \n",
       "180795                                 Secret Pizza  iCQpiavjjPzJ5_3gPD5Ebg   \n",
       "28596                                 Lotus of Siam  KskYqH1Bi7Z_61pH6Om8pg   \n",
       "183572                                Serendipity 3  eoHdUeQDNgQ6WYEnP2aiRw   \n",
       "175089                 Bouchon at the Venezia Tower  rcaPajgKOJC2vo_l3xa42A   \n",
       "96851                      Gangnam Asian BBQ Dining  hihud--QRriCYZw1zZvW4g   \n",
       "141265                              MGM Grand Hotel  El4FC8jcawUVgw_0EIcbaQ   \n",
       "121801                                 Bachi Burger  7sPNbCx7vGAaH7SbNPZ6oA   \n",
       "41323                           Gordon Ramsay Steak  OETh78qcgDltvHULowwhJg   \n",
       "89868                            Hash House A Go Go  g8OnV26ywJlZpezdBnOWUQ   \n",
       "116247                                   Mesa Grill  XZbuPXdyA0ZtTu3AzqtQhg   \n",
       "144358  The Peppermill Restaurant & Fireside Lounge  XXW_OFaYQkkGOGniujZFHg   \n",
       "112667                      Holsteins Shakes & Buns  P7pxQFqr7yBKMMI2J51udw   \n",
       "\n",
       "        review_count       city  stars  \n",
       "137635          7968  Las Vegas    4.0  \n",
       "185167          7866  Las Vegas    4.0  \n",
       "62723           6446  Las Vegas    3.5  \n",
       "188309          5472  Las Vegas    4.0  \n",
       "170129          5382  Las Vegas    4.0  \n",
       "177573          4981  Las Vegas    4.5  \n",
       "181524          4240  Las Vegas    3.5  \n",
       "135008          4091  Las Vegas    3.5  \n",
       "180795          4078  Las Vegas    4.0  \n",
       "28596           3975  Las Vegas    4.0  \n",
       "183572          3905  Las Vegas    3.0  \n",
       "175089          3743  Las Vegas    4.0  \n",
       "96851           3731  Las Vegas    4.5  \n",
       "141265          3730  Las Vegas    3.0  \n",
       "121801          3250  Las Vegas    4.0  \n",
       "41323           3244  Las Vegas    4.0  \n",
       "89868           3193  Las Vegas    4.0  \n",
       "116247          3160  Las Vegas    4.0  \n",
       "144358          3048  Las Vegas    4.0  \n",
       "112667          3025  Las Vegas    4.0  "
      ]
     },
     "execution_count": 22,
     "metadata": {},
     "output_type": "execute_result"
    }
   ],
   "source": [
    "# Top restaurants by number of reviews\n",
    "\n",
    "restaurants[['name', 'business_id','review_count', 'city', 'stars']].sort_values(ascending=False, by=\"review_count\")[0:20]"
   ]
  },
  {
   "cell_type": "markdown",
   "metadata": {},
   "source": [
    "# 3. Feature Selection"
   ]
  },
  {
   "cell_type": "markdown",
   "metadata": {},
   "source": [
    "## 3.0 We hypothesize that the following features are important"
   ]
  },
  {
   "cell_type": "markdown",
   "metadata": {},
   "source": [
    "Review and User-related features\n",
    "\n",
    "1. Review Count\n",
    "2. Star Rating\n",
    "3. Number of users who wrote reviews\n",
    "4. Maximum number of stars\n",
    "5. Minimum number of stars\n",
    "6. Number of reviews voted as 'cool'\n",
    "7. Number of reviews voted as 'funny'\n",
    "8. Number of reviews voted as 'useful'\n",
    "9. Time since first/last reviews\n",
    "10. Time between first and last reviews\n",
    "11. Max number of review in a single day\n"
   ]
  },
  {
   "cell_type": "markdown",
   "metadata": {},
   "source": [
    "Business Attributes Feature:\n",
    "    \n",
    "1. Hours\n",
    "2. Categories\n",
    "3. Business Parking\n",
    "4. Restaurant Reservations\n",
    "5. Good for Kids\n",
    "6. Smoking\n",
    "7. Good for Meal\n",
    "8. Noise Level\n",
    "9. Music\n",
    "10. Ages Allowed\n",
    "11. Restaurants Good for Groups\n",
    "12. WiFi\n",
    "13. Business Accepts Credit Cards\n",
    "14. Ambience\n",
    "15. Restaurant Price Range\n",
    "16. Happy Hour\n",
    "17. Outdoors Seating"
   ]
  },
  {
   "cell_type": "code",
   "execution_count": 23,
   "metadata": {},
   "outputs": [
    {
     "data": {
      "text/plain": [
       "Index(['hours.Friday', 'attributes.RestaurantsAttire',\n",
       "       'attributes.BikeParking', 'state', 'categories',\n",
       "       'attributes.BusinessParking', 'attributes.Alcohol',\n",
       "       'attributes.GoodForDancing', 'attributes.BYOB',\n",
       "       'attributes.DietaryRestrictions', 'attributes.RestaurantsReservations',\n",
       "       'attributes.GoodForKids', 'attributes.Smoking', 'hours.Sunday',\n",
       "       'attributes.BYOBCorkage', 'latitude',\n",
       "       'attributes.BusinessAcceptsBitcoin', 'attributes.GoodForMeal',\n",
       "       'attributes.BestNights', 'attributes.NoiseLevel', 'attributes.Corkage',\n",
       "       'attributes.Music', 'hours.Wednesday', 'attributes.Open24Hours',\n",
       "       'longitude', 'neighborhood', 'attributes.HairSpecializesIn',\n",
       "       'hours.Thursday', 'attributes.AgesAllowed',\n",
       "       'attributes.ByAppointmentOnly', 'business_id',\n",
       "       'attributes.RestaurantsDelivery', 'attributes.RestaurantsGoodForGroups',\n",
       "       'postal_code', 'attributes.RestaurantsTableService', 'attributes.WiFi',\n",
       "       'hours', 'attributes.DogsAllowed', 'review_count', 'name',\n",
       "       'attributes.BusinessAcceptsCreditCards', 'hours.Saturday',\n",
       "       'attributes.Ambience', 'attributes.RestaurantsCounterService',\n",
       "       'attributes.DriveThru', 'attributes.Caters', 'address',\n",
       "       'attributes.RestaurantsPriceRange2', 'attributes.RestaurantsTakeOut',\n",
       "       'hours.Tuesday', 'attributes.WheelchairAccessible', 'attributes.HasTV',\n",
       "       'attributes.HappyHour', 'hours.Monday', 'attributes.CoatCheck',\n",
       "       'attributes.OutdoorSeating', 'is_open', 'attributes.AcceptsInsurance',\n",
       "       'attributes', 'stars', 'city', 'country'],\n",
       "      dtype='object')"
      ]
     },
     "execution_count": 23,
     "metadata": {},
     "output_type": "execute_result"
    }
   ],
   "source": [
    "col = restaurants.columns\n",
    "col"
   ]
  },
  {
   "cell_type": "markdown",
   "metadata": {},
   "source": [
    "## 3.1 Merge Restaurants with Users and Reviews"
   ]
  },
  {
   "cell_type": "code",
   "execution_count": 24,
   "metadata": {},
   "outputs": [],
   "source": [
    "#importing the yelp reviews dataset\n",
    "datastr=open('yelp_academic_dataset_review.json','r')\n",
    "datajson=datastr.readlines()\n",
    "check=[json.loads(x) for x in datajson]\n",
    "ind=range(0,len(check))\n",
    "reviews=pd.DataFrame(check,index=ind,columns=check[0].keys())"
   ]
  },
  {
   "cell_type": "code",
   "execution_count": 25,
   "metadata": {},
   "outputs": [
    {
     "data": {
      "text/plain": [
       "Index(['review_id', 'user_id', 'business_id', 'stars', 'date', 'text',\n",
       "       'useful', 'funny', 'cool'],\n",
       "      dtype='object')"
      ]
     },
     "execution_count": 25,
     "metadata": {},
     "output_type": "execute_result"
    }
   ],
   "source": [
    "reviews.columns"
   ]
  },
  {
   "cell_type": "code",
   "execution_count": 26,
   "metadata": {},
   "outputs": [],
   "source": [
    "restaurant_reviews = reviews[reviews[\"business_id\"].isin(restaurants[\"business_id\"])]"
   ]
  },
  {
   "cell_type": "code",
   "execution_count": 27,
   "metadata": {},
   "outputs": [],
   "source": [
    "# User counts, max and min ratings\n",
    "user_rating_count = restaurant_reviews[['user_id','business_id']].groupby(['business_id']).count()\n",
    "user_rating_count = user_rating_count.rename(columns = {'business_id':'user_rating_count'})\n",
    "max_rating_restaurant = restaurant_reviews[['business_id','stars']].groupby(['business_id']).max()\n",
    "max_rating_restaurant = max_rating_restaurant.rename(columns = {'stars':'max_rating_rest'})\n",
    "min_rating_restaurant = restaurant_reviews[['business_id','stars']].groupby(['business_id']).min()\n",
    "min_rating_restaurant = min_rating_restaurant.rename(columns = {'stars':'min_rating_rest'})"
   ]
  },
  {
   "cell_type": "code",
   "execution_count": 28,
   "metadata": {},
   "outputs": [],
   "source": [
    "# Useful, funny, cool\n",
    "useful_mean = restaurant_reviews[['business_id','useful']].groupby(['business_id']).mean()\n",
    "useful_mean = useful_mean.rename(columns = {'business_id':'useful_mean'})\n",
    "funny_mean = restaurant_reviews[['business_id','funny']].groupby(['business_id']).mean()\n",
    "funny_mean = funny_mean.rename(columns = {'business_id':'funny_mean'})\n",
    "cool_mean = restaurant_reviews[['business_id','cool']].groupby(['business_id']).mean()\n",
    "cool_mean = cool_mean.rename(columns = {'business_id':'cool_mean'})"
   ]
  },
  {
   "cell_type": "code",
   "execution_count": 29,
   "metadata": {},
   "outputs": [],
   "source": [
    "restaurants = restaurants.merge(max_rating_restaurant, how = 'left', on = 'business_id')\n",
    "restaurants = restaurants.merge(min_rating_restaurant, how = 'left', on = 'business_id')\n",
    "restaurants = restaurants.merge(useful_mean, how = 'left', on = 'business_id')\n",
    "restaurants = restaurants.merge(funny_mean, how = 'left', on = 'business_id')\n",
    "restaurants = restaurants.merge(cool_mean, how = 'left', on = 'business_id')"
   ]
  },
  {
   "cell_type": "code",
   "execution_count": 30,
   "metadata": {},
   "outputs": [
    {
     "data": {
      "text/html": [
       "<div>\n",
       "<style scoped>\n",
       "    .dataframe tbody tr th:only-of-type {\n",
       "        vertical-align: middle;\n",
       "    }\n",
       "\n",
       "    .dataframe tbody tr th {\n",
       "        vertical-align: top;\n",
       "    }\n",
       "\n",
       "    .dataframe thead th {\n",
       "        text-align: right;\n",
       "    }\n",
       "</style>\n",
       "<table border=\"1\" class=\"dataframe\">\n",
       "  <thead>\n",
       "    <tr style=\"text-align: right;\">\n",
       "      <th></th>\n",
       "      <th>hours.Friday</th>\n",
       "      <th>attributes.RestaurantsAttire</th>\n",
       "      <th>attributes.BikeParking</th>\n",
       "      <th>state</th>\n",
       "      <th>categories</th>\n",
       "      <th>attributes.BusinessParking</th>\n",
       "      <th>attributes.Alcohol</th>\n",
       "      <th>attributes.GoodForDancing</th>\n",
       "      <th>attributes.BYOB</th>\n",
       "      <th>attributes.DietaryRestrictions</th>\n",
       "      <th>...</th>\n",
       "      <th>attributes.AcceptsInsurance</th>\n",
       "      <th>attributes</th>\n",
       "      <th>stars</th>\n",
       "      <th>city</th>\n",
       "      <th>country</th>\n",
       "      <th>max_rating_rest</th>\n",
       "      <th>min_rating_rest</th>\n",
       "      <th>useful</th>\n",
       "      <th>funny</th>\n",
       "      <th>cool</th>\n",
       "    </tr>\n",
       "  </thead>\n",
       "  <tbody>\n",
       "    <tr>\n",
       "      <th>0</th>\n",
       "      <td>11:0-21:0</td>\n",
       "      <td>casual</td>\n",
       "      <td>False</td>\n",
       "      <td>AB</td>\n",
       "      <td>Tours, Breweries, Pizza, Restaurants, Food, Ho...</td>\n",
       "      <td>{'garage': False, 'street': True, 'validated':...</td>\n",
       "      <td>NaN</td>\n",
       "      <td>NaN</td>\n",
       "      <td>NaN</td>\n",
       "      <td>NaN</td>\n",
       "      <td>...</td>\n",
       "      <td>NaN</td>\n",
       "      <td>{'BikeParking': 'False', 'BusinessAcceptsCredi...</td>\n",
       "      <td>4.0</td>\n",
       "      <td>Calgary</td>\n",
       "      <td>Canada</td>\n",
       "      <td>5</td>\n",
       "      <td>1</td>\n",
       "      <td>0.541667</td>\n",
       "      <td>0.250000</td>\n",
       "      <td>0.208333</td>\n",
       "    </tr>\n",
       "    <tr>\n",
       "      <th>1</th>\n",
       "      <td>17:0-23:0</td>\n",
       "      <td>casual</td>\n",
       "      <td>False</td>\n",
       "      <td>NV</td>\n",
       "      <td>Chicken Wings, Burgers, Caterers, Street Vendo...</td>\n",
       "      <td>{'garage': False, 'street': True, 'validated':...</td>\n",
       "      <td>none</td>\n",
       "      <td>NaN</td>\n",
       "      <td>NaN</td>\n",
       "      <td>NaN</td>\n",
       "      <td>...</td>\n",
       "      <td>NaN</td>\n",
       "      <td>{'Alcohol': 'none', 'BikeParking': 'False', 'B...</td>\n",
       "      <td>4.5</td>\n",
       "      <td>Henderson</td>\n",
       "      <td>USA</td>\n",
       "      <td>5</td>\n",
       "      <td>4</td>\n",
       "      <td>0.333333</td>\n",
       "      <td>0.000000</td>\n",
       "      <td>0.333333</td>\n",
       "    </tr>\n",
       "    <tr>\n",
       "      <th>2</th>\n",
       "      <td>10:0-22:0</td>\n",
       "      <td>casual</td>\n",
       "      <td>True</td>\n",
       "      <td>QC</td>\n",
       "      <td>Breakfast &amp; Brunch, Restaurants, French, Sandw...</td>\n",
       "      <td>{'garage': False, 'street': False, 'validated'...</td>\n",
       "      <td>beer_and_wine</td>\n",
       "      <td>NaN</td>\n",
       "      <td>NaN</td>\n",
       "      <td>NaN</td>\n",
       "      <td>...</td>\n",
       "      <td>NaN</td>\n",
       "      <td>{'Alcohol': 'beer_and_wine', 'Ambience': \"{'ro...</td>\n",
       "      <td>4.0</td>\n",
       "      <td>Montréal</td>\n",
       "      <td>Canada</td>\n",
       "      <td>5</td>\n",
       "      <td>1</td>\n",
       "      <td>0.200000</td>\n",
       "      <td>0.000000</td>\n",
       "      <td>0.400000</td>\n",
       "    </tr>\n",
       "    <tr>\n",
       "      <th>3</th>\n",
       "      <td>5:30-21:0</td>\n",
       "      <td>NaN</td>\n",
       "      <td>True</td>\n",
       "      <td>AZ</td>\n",
       "      <td>Coffee &amp; Tea, Food</td>\n",
       "      <td>{'garage': False, 'street': False, 'validated'...</td>\n",
       "      <td>NaN</td>\n",
       "      <td>NaN</td>\n",
       "      <td>NaN</td>\n",
       "      <td>NaN</td>\n",
       "      <td>...</td>\n",
       "      <td>NaN</td>\n",
       "      <td>{'BikeParking': 'True', 'BusinessAcceptsCredit...</td>\n",
       "      <td>4.0</td>\n",
       "      <td>Phoenix</td>\n",
       "      <td>USA</td>\n",
       "      <td>5</td>\n",
       "      <td>1</td>\n",
       "      <td>0.935484</td>\n",
       "      <td>0.548387</td>\n",
       "      <td>0.629032</td>\n",
       "    </tr>\n",
       "    <tr>\n",
       "      <th>4</th>\n",
       "      <td>NaN</td>\n",
       "      <td>NaN</td>\n",
       "      <td>NaN</td>\n",
       "      <td>ON</td>\n",
       "      <td>Food, Bakeries</td>\n",
       "      <td>{'garage': False, 'street': False, 'validated'...</td>\n",
       "      <td>NaN</td>\n",
       "      <td>NaN</td>\n",
       "      <td>NaN</td>\n",
       "      <td>NaN</td>\n",
       "      <td>...</td>\n",
       "      <td>NaN</td>\n",
       "      <td>{'BusinessParking': \"{'garage': False, 'street...</td>\n",
       "      <td>4.0</td>\n",
       "      <td>Toronto</td>\n",
       "      <td>Canada</td>\n",
       "      <td>5</td>\n",
       "      <td>3</td>\n",
       "      <td>1.142857</td>\n",
       "      <td>1.142857</td>\n",
       "      <td>1.285714</td>\n",
       "    </tr>\n",
       "  </tbody>\n",
       "</table>\n",
       "<p>5 rows × 67 columns</p>\n",
       "</div>"
      ],
      "text/plain": [
       "  hours.Friday attributes.RestaurantsAttire attributes.BikeParking state  \\\n",
       "0    11:0-21:0                       casual                  False    AB   \n",
       "1    17:0-23:0                       casual                  False    NV   \n",
       "2    10:0-22:0                       casual                   True    QC   \n",
       "3    5:30-21:0                          NaN                   True    AZ   \n",
       "4          NaN                          NaN                    NaN    ON   \n",
       "\n",
       "                                          categories  \\\n",
       "0  Tours, Breweries, Pizza, Restaurants, Food, Ho...   \n",
       "1  Chicken Wings, Burgers, Caterers, Street Vendo...   \n",
       "2  Breakfast & Brunch, Restaurants, French, Sandw...   \n",
       "3                                 Coffee & Tea, Food   \n",
       "4                                     Food, Bakeries   \n",
       "\n",
       "                          attributes.BusinessParking attributes.Alcohol  \\\n",
       "0  {'garage': False, 'street': True, 'validated':...                NaN   \n",
       "1  {'garage': False, 'street': True, 'validated':...               none   \n",
       "2  {'garage': False, 'street': False, 'validated'...      beer_and_wine   \n",
       "3  {'garage': False, 'street': False, 'validated'...                NaN   \n",
       "4  {'garage': False, 'street': False, 'validated'...                NaN   \n",
       "\n",
       "  attributes.GoodForDancing attributes.BYOB attributes.DietaryRestrictions  \\\n",
       "0                       NaN             NaN                            NaN   \n",
       "1                       NaN             NaN                            NaN   \n",
       "2                       NaN             NaN                            NaN   \n",
       "3                       NaN             NaN                            NaN   \n",
       "4                       NaN             NaN                            NaN   \n",
       "\n",
       "     ...    attributes.AcceptsInsurance  \\\n",
       "0    ...                            NaN   \n",
       "1    ...                            NaN   \n",
       "2    ...                            NaN   \n",
       "3    ...                            NaN   \n",
       "4    ...                            NaN   \n",
       "\n",
       "                                          attributes stars       city country  \\\n",
       "0  {'BikeParking': 'False', 'BusinessAcceptsCredi...   4.0    Calgary  Canada   \n",
       "1  {'Alcohol': 'none', 'BikeParking': 'False', 'B...   4.5  Henderson     USA   \n",
       "2  {'Alcohol': 'beer_and_wine', 'Ambience': \"{'ro...   4.0   Montréal  Canada   \n",
       "3  {'BikeParking': 'True', 'BusinessAcceptsCredit...   4.0    Phoenix     USA   \n",
       "4  {'BusinessParking': \"{'garage': False, 'street...   4.0    Toronto  Canada   \n",
       "\n",
       "   max_rating_rest min_rating_rest    useful     funny      cool  \n",
       "0                5               1  0.541667  0.250000  0.208333  \n",
       "1                5               4  0.333333  0.000000  0.333333  \n",
       "2                5               1  0.200000  0.000000  0.400000  \n",
       "3                5               1  0.935484  0.548387  0.629032  \n",
       "4                5               3  1.142857  1.142857  1.285714  \n",
       "\n",
       "[5 rows x 67 columns]"
      ]
     },
     "execution_count": 30,
     "metadata": {},
     "output_type": "execute_result"
    }
   ],
   "source": [
    "restaurants.head()"
   ]
  },
  {
   "cell_type": "markdown",
   "metadata": {},
   "source": [
    "### 3.1.2 Time-bound features"
   ]
  },
  {
   "cell_type": "code",
   "execution_count": 31,
   "metadata": {},
   "outputs": [],
   "source": [
    "reviews_date = reviews[['business_id','date']]"
   ]
  },
  {
   "cell_type": "code",
   "execution_count": 32,
   "metadata": {},
   "outputs": [
    {
     "name": "stderr",
     "output_type": "stream",
     "text": [
      "/usr/local/lib/python3.6/site-packages/pandas/core/generic.py:4405: SettingWithCopyWarning: \n",
      "A value is trying to be set on a copy of a slice from a DataFrame.\n",
      "Try using .loc[row_indexer,col_indexer] = value instead\n",
      "\n",
      "See the caveats in the documentation: http://pandas.pydata.org/pandas-docs/stable/indexing.html#indexing-view-versus-copy\n",
      "  self[name] = value\n"
     ]
    }
   ],
   "source": [
    "reviews_date.date = pd.to_datetime(reviews_date.date)"
   ]
  },
  {
   "cell_type": "code",
   "execution_count": 33,
   "metadata": {},
   "outputs": [],
   "source": [
    "reviews_date_earliest = reviews_date.groupby('business_id')['date'].min()"
   ]
  },
  {
   "cell_type": "code",
   "execution_count": 34,
   "metadata": {},
   "outputs": [],
   "source": [
    "reviews_date_earliest = reviews_date_earliest.to_frame()"
   ]
  },
  {
   "cell_type": "code",
   "execution_count": 35,
   "metadata": {},
   "outputs": [],
   "source": [
    "reviews_date_latest = reviews_date.groupby('business_id')['date'].max()\n",
    "reviews_date_latest = reviews_date_latest.to_frame()"
   ]
  },
  {
   "cell_type": "code",
   "execution_count": 36,
   "metadata": {},
   "outputs": [],
   "source": [
    "reviews_date = reviews_date_earliest.merge(reviews_date_latest, how = 'outer', on = 'business_id') "
   ]
  },
  {
   "cell_type": "code",
   "execution_count": 37,
   "metadata": {},
   "outputs": [],
   "source": [
    "reviews_date = reviews_date.rename(index=str, columns={\"date_x\": \"earliest_review_date\", \"date_y\": \"latest_review_date\"})"
   ]
  },
  {
   "cell_type": "code",
   "execution_count": 38,
   "metadata": {},
   "outputs": [],
   "source": [
    "reviews_date['date_difference'] = reviews_date['latest_review_date'] - reviews_date['earliest_review_date'] "
   ]
  },
  {
   "cell_type": "code",
   "execution_count": 39,
   "metadata": {},
   "outputs": [],
   "source": [
    "from datetime import datetime\n",
    "reviews_date['earliest_till_now'] = datetime.today() - reviews_date['earliest_review_date']\n",
    "reviews_date['latest_till_now'] = datetime.today() - reviews_date['latest_review_date']"
   ]
  },
  {
   "cell_type": "code",
   "execution_count": 40,
   "metadata": {},
   "outputs": [],
   "source": [
    "reviews_date['earliest_till_now'] = reviews_date['earliest_till_now'].astype('timedelta64[D]')"
   ]
  },
  {
   "cell_type": "code",
   "execution_count": 41,
   "metadata": {},
   "outputs": [],
   "source": [
    "reviews_date['latest_till_now'] = reviews_date['latest_till_now'].astype('timedelta64[D]')\n",
    "reviews_date['date_difference'] = reviews_date['date_difference'].astype('timedelta64[D]')"
   ]
  },
  {
   "cell_type": "code",
   "execution_count": 42,
   "metadata": {},
   "outputs": [
    {
     "data": {
      "text/html": [
       "<div>\n",
       "<style scoped>\n",
       "    .dataframe tbody tr th:only-of-type {\n",
       "        vertical-align: middle;\n",
       "    }\n",
       "\n",
       "    .dataframe tbody tr th {\n",
       "        vertical-align: top;\n",
       "    }\n",
       "\n",
       "    .dataframe thead th {\n",
       "        text-align: right;\n",
       "    }\n",
       "</style>\n",
       "<table border=\"1\" class=\"dataframe\">\n",
       "  <thead>\n",
       "    <tr style=\"text-align: right;\">\n",
       "      <th></th>\n",
       "      <th>earliest_review_date</th>\n",
       "      <th>latest_review_date</th>\n",
       "      <th>date_difference</th>\n",
       "      <th>earliest_till_now</th>\n",
       "      <th>latest_till_now</th>\n",
       "    </tr>\n",
       "    <tr>\n",
       "      <th>business_id</th>\n",
       "      <th></th>\n",
       "      <th></th>\n",
       "      <th></th>\n",
       "      <th></th>\n",
       "      <th></th>\n",
       "    </tr>\n",
       "  </thead>\n",
       "  <tbody>\n",
       "    <tr>\n",
       "      <th>--1UhMGODdWsrMastO9DZw</th>\n",
       "      <td>2016-06-04</td>\n",
       "      <td>2018-05-06</td>\n",
       "      <td>701.0</td>\n",
       "      <td>910.0</td>\n",
       "      <td>209.0</td>\n",
       "    </tr>\n",
       "    <tr>\n",
       "      <th>--6MefnULPED_I942VcFNA</th>\n",
       "      <td>2008-08-07</td>\n",
       "      <td>2018-05-21</td>\n",
       "      <td>3574.0</td>\n",
       "      <td>3768.0</td>\n",
       "      <td>194.0</td>\n",
       "    </tr>\n",
       "    <tr>\n",
       "      <th>--7zmmkVg-IMGaXbuVd0SQ</th>\n",
       "      <td>2014-12-30</td>\n",
       "      <td>2018-06-01</td>\n",
       "      <td>1249.0</td>\n",
       "      <td>1432.0</td>\n",
       "      <td>183.0</td>\n",
       "    </tr>\n",
       "    <tr>\n",
       "      <th>--8LPVSo5i0Oo61X01sV9A</th>\n",
       "      <td>2014-05-15</td>\n",
       "      <td>2018-02-10</td>\n",
       "      <td>1367.0</td>\n",
       "      <td>1661.0</td>\n",
       "      <td>294.0</td>\n",
       "    </tr>\n",
       "    <tr>\n",
       "      <th>--9QQLMTbFzLJ_oT-ON3Xw</th>\n",
       "      <td>2013-05-15</td>\n",
       "      <td>2018-02-17</td>\n",
       "      <td>1739.0</td>\n",
       "      <td>2026.0</td>\n",
       "      <td>287.0</td>\n",
       "    </tr>\n",
       "  </tbody>\n",
       "</table>\n",
       "</div>"
      ],
      "text/plain": [
       "                       earliest_review_date latest_review_date  \\\n",
       "business_id                                                      \n",
       "--1UhMGODdWsrMastO9DZw           2016-06-04         2018-05-06   \n",
       "--6MefnULPED_I942VcFNA           2008-08-07         2018-05-21   \n",
       "--7zmmkVg-IMGaXbuVd0SQ           2014-12-30         2018-06-01   \n",
       "--8LPVSo5i0Oo61X01sV9A           2014-05-15         2018-02-10   \n",
       "--9QQLMTbFzLJ_oT-ON3Xw           2013-05-15         2018-02-17   \n",
       "\n",
       "                        date_difference  earliest_till_now  latest_till_now  \n",
       "business_id                                                                  \n",
       "--1UhMGODdWsrMastO9DZw            701.0              910.0            209.0  \n",
       "--6MefnULPED_I942VcFNA           3574.0             3768.0            194.0  \n",
       "--7zmmkVg-IMGaXbuVd0SQ           1249.0             1432.0            183.0  \n",
       "--8LPVSo5i0Oo61X01sV9A           1367.0             1661.0            294.0  \n",
       "--9QQLMTbFzLJ_oT-ON3Xw           1739.0             2026.0            287.0  "
      ]
     },
     "execution_count": 42,
     "metadata": {},
     "output_type": "execute_result"
    }
   ],
   "source": [
    "reviews_date.head()"
   ]
  },
  {
   "cell_type": "code",
   "execution_count": 43,
   "metadata": {},
   "outputs": [],
   "source": [
    "restaurants = restaurants.merge(reviews_date, how = 'left', on = 'business_id')"
   ]
  },
  {
   "cell_type": "markdown",
   "metadata": {},
   "source": [
    "## 3.2 Ambience"
   ]
  },
  {
   "cell_type": "code",
   "execution_count": 44,
   "metadata": {
    "scrolled": true
   },
   "outputs": [
    {
     "data": {
      "text/plain": [
       "array([nan,\n",
       "       \"{'romantic': False, 'intimate': False, 'classy': False, 'hipster': False, 'touristy': False, 'trendy': False, 'upscale': False, 'casual': False}\",\n",
       "       \"{'romantic': False, 'intimate': False, 'classy': False, 'hipster': False, 'divey': False, 'touristy': False, 'trendy': False, 'upscale': False, 'casual': True}\",\n",
       "       \"{'romantic': False, 'intimate': False, 'classy': False, 'hipster': False, 'divey': False, 'touristy': False, 'trendy': False, 'upscale': False, 'casual': False}\",\n",
       "       \"{'romantic': False, 'intimate': False, 'classy': False, 'hipster': False, 'divey': True, 'touristy': False, 'trendy': False, 'upscale': False, 'casual': False}\",\n",
       "       \"{'romantic': False, 'intimate': False, 'classy': False, 'hipster': False, 'touristy': False, 'trendy': False, 'upscale': False, 'casual': True}\",\n",
       "       \"{'romantic': False, 'intimate': False, 'classy': False, 'hipster': False, 'touristy': False, 'trendy': True, 'upscale': False, 'casual': False}\",\n",
       "       \"{'romantic': False, 'intimate': False, 'classy': True, 'hipster': False, 'divey': False, 'touristy': False, 'trendy': True, 'upscale': True, 'casual': False}\",\n",
       "       \"{'romantic': False, 'intimate': False, 'classy': False, 'hipster': False, 'divey': False, 'touristy': True, 'trendy': False, 'upscale': False, 'casual': False}\",\n",
       "       \"{'romantic': False, 'intimate': False, 'classy': True, 'hipster': False, 'touristy': False, 'trendy': False, 'upscale': False, 'casual': False}\",\n",
       "       \"{'romantic': False, 'intimate': True, 'classy': False, 'hipster': False, 'divey': False, 'touristy': False, 'trendy': False, 'upscale': False, 'casual': False}\",\n",
       "       \"{'romantic': False, 'intimate': False, 'classy': True, 'hipster': False, 'divey': False, 'touristy': False, 'trendy': False, 'upscale': True, 'casual': False}\",\n",
       "       \"{'romantic': False, 'intimate': False, 'classy': False, 'hipster': True, 'touristy': False, 'trendy': False, 'upscale': False, 'casual': False}\",\n",
       "       \"{'romantic': False, 'intimate': True, 'classy': False, 'hipster': False, 'touristy': False, 'trendy': False, 'upscale': False, 'casual': False}\",\n",
       "       \"{'romantic': False, 'intimate': False, 'classy': False, 'hipster': True, 'touristy': False, 'trendy': False, 'upscale': False, 'casual': True}\",\n",
       "       \"{'romantic': False, 'intimate': False, 'classy': False, 'hipster': False, 'divey': False, 'touristy': False, 'trendy': True, 'upscale': False, 'casual': False}\",\n",
       "       \"{'romantic': False, 'intimate': False, 'classy': True, 'hipster': False, 'divey': False, 'touristy': False, 'trendy': False, 'upscale': False, 'casual': False}\",\n",
       "       \"{'romantic': False, 'intimate': False, 'classy': False, 'hipster': False, 'touristy': False, 'trendy': True, 'upscale': False, 'casual': True}\",\n",
       "       \"{'romantic': False, 'intimate': False, 'classy': False, 'hipster': False, 'divey': False, 'touristy': False, 'trendy': True, 'upscale': False, 'casual': True}\",\n",
       "       \"{'romantic': False, 'intimate': False, 'classy': False, 'hipster': True, 'divey': False, 'touristy': False, 'trendy': False, 'upscale': False, 'casual': True}\",\n",
       "       \"{'romantic': False, 'intimate': False, 'classy': False, 'hipster': False, 'divey': False, 'touristy': False, 'trendy': True, 'upscale': True, 'casual': False}\",\n",
       "       \"{'romantic': False, 'intimate': True, 'classy': True, 'hipster': False, 'touristy': False, 'trendy': False, 'upscale': False, 'casual': False}\",\n",
       "       \"{'romantic': False, 'intimate': False, 'classy': True, 'hipster': False, 'touristy': False, 'trendy': True, 'upscale': True, 'casual': False}\",\n",
       "       \"{'romantic': False, 'intimate': False, 'classy': False, 'hipster': True, 'divey': False, 'touristy': False, 'trendy': True, 'upscale': False, 'casual': False}\",\n",
       "       \"{'romantic': False, 'intimate': False, 'classy': False, 'hipster': False, 'divey': True, 'touristy': False, 'trendy': False, 'upscale': False, 'casual': True}\",\n",
       "       \"{'romantic': False, 'intimate': False, 'classy': False, 'hipster': False, 'touristy': True, 'trendy': False, 'upscale': False, 'casual': True}\",\n",
       "       \"{'romantic': True, 'intimate': False, 'classy': False, 'hipster': False, 'touristy': False, 'trendy': False, 'upscale': False, 'casual': False}\",\n",
       "       \"{'romantic': True, 'intimate': True, 'classy': False, 'hipster': False, 'divey': False, 'touristy': False, 'trendy': False, 'upscale': False, 'casual': False}\",\n",
       "       \"{'romantic': False, 'intimate': False, 'classy': False, 'hipster': True, 'divey': False, 'touristy': False, 'trendy': False, 'upscale': False, 'casual': False}\",\n",
       "       \"{'romantic': True, 'intimate': False, 'classy': True, 'hipster': False, 'touristy': False, 'trendy': False, 'upscale': False, 'casual': False}\",\n",
       "       \"{'romantic': True, 'intimate': True, 'classy': True, 'hipster': True, 'divey': False, 'touristy': False, 'trendy': True, 'upscale': False, 'casual': True}\",\n",
       "       \"{'romantic': True, 'intimate': False, 'classy': False, 'hipster': False, 'divey': False, 'touristy': False, 'trendy': False, 'upscale': True, 'casual': True}\",\n",
       "       \"{'romantic': False, 'intimate': False, 'classy': True, 'hipster': False, 'divey': False, 'touristy': False, 'trendy': True, 'upscale': False, 'casual': False}\",\n",
       "       \"{'romantic': False, 'intimate': False, 'classy': False, 'hipster': False, 'divey': False, 'touristy': True, 'trendy': False, 'upscale': False, 'casual': True}\",\n",
       "       \"{'romantic': True, 'intimate': False, 'classy': True, 'hipster': False, 'divey': False, 'touristy': False, 'trendy': True, 'upscale': False, 'casual': False}\",\n",
       "       \"{'romantic': False, 'intimate': False, 'classy': False, 'hipster': True, 'divey': False, 'touristy': False, 'trendy': True, 'upscale': False, 'casual': True}\",\n",
       "       \"{'romantic': False, 'intimate': False, 'classy': False, 'hipster': False, 'touristy': False, 'trendy': False, 'upscale': True, 'casual': False}\",\n",
       "       \"{'romantic': True, 'intimate': False, 'classy': False, 'hipster': False, 'divey': False, 'touristy': False, 'trendy': False, 'upscale': False, 'casual': False}\",\n",
       "       \"{'romantic': False, 'intimate': False, 'classy': True, 'hipster': False, 'divey': False, 'touristy': False, 'trendy': False, 'upscale': True, 'casual': True}\",\n",
       "       \"{'romantic': False, 'intimate': True, 'classy': True, 'hipster': False, 'divey': False, 'touristy': False, 'trendy': True, 'upscale': False, 'casual': True}\",\n",
       "       \"{'romantic': False, 'intimate': True, 'classy': True, 'hipster': False, 'divey': False, 'touristy': False, 'trendy': False, 'upscale': False, 'casual': False}\",\n",
       "       \"{'romantic': False, 'intimate': False, 'classy': True, 'hipster': False, 'divey': False, 'touristy': False, 'trendy': True, 'upscale': False, 'casual': True}\",\n",
       "       \"{'romantic': False, 'intimate': False, 'classy': False, 'hipster': True, 'touristy': False, 'trendy': True, 'upscale': False, 'casual': True}\",\n",
       "       \"{'romantic': False, 'intimate': True, 'classy': False, 'hipster': False, 'touristy': False, 'trendy': True, 'upscale': False, 'casual': True}\",\n",
       "       \"{'romantic': False, 'intimate': False, 'classy': False, 'hipster': False, 'divey': False, 'touristy': False, 'trendy': False, 'upscale': True, 'casual': True}\",\n",
       "       \"{'romantic': False, 'intimate': False, 'classy': False, 'hipster': False, 'divey': False, 'touristy': False, 'trendy': False, 'upscale': True, 'casual': False}\",\n",
       "       \"{'romantic': False, 'intimate': False, 'classy': False, 'hipster': True, 'touristy': False, 'trendy': True, 'upscale': False, 'casual': False}\",\n",
       "       \"{'romantic': False, 'intimate': False, 'classy': True, 'hipster': True, 'divey': False, 'touristy': False, 'trendy': True, 'upscale': True, 'casual': True}\",\n",
       "       \"{'romantic': False, 'intimate': False, 'classy': True, 'hipster': False, 'touristy': False, 'trendy': False, 'upscale': True, 'casual': False}\",\n",
       "       \"{'romantic': False, 'intimate': True, 'classy': False, 'hipster': True, 'divey': False, 'touristy': False, 'trendy': False, 'upscale': False, 'casual': True}\",\n",
       "       \"{'romantic': True, 'intimate': False, 'classy': False, 'hipster': False, 'touristy': False, 'trendy': False, 'upscale': False, 'casual': True}\",\n",
       "       \"{'romantic': False, 'intimate': True, 'classy': False, 'hipster': False, 'divey': False, 'touristy': False, 'trendy': False, 'upscale': False, 'casual': True}\",\n",
       "       \"{'romantic': True, 'intimate': True, 'classy': True, 'hipster': False, 'divey': False, 'touristy': False, 'trendy': False, 'upscale': False, 'casual': False}\",\n",
       "       \"{'romantic': False, 'intimate': False, 'classy': True, 'hipster': False, 'divey': False, 'touristy': False, 'trendy': False, 'upscale': False, 'casual': True}\",\n",
       "       \"{'romantic': False, 'intimate': True, 'classy': False, 'hipster': False, 'divey': False, 'touristy': False, 'trendy': True, 'upscale': False, 'casual': True}\",\n",
       "       \"{'romantic': True, 'intimate': False, 'classy': True, 'hipster': False, 'touristy': False, 'trendy': False, 'upscale': True, 'casual': False}\",\n",
       "       \"{'romantic': True, 'intimate': True, 'classy': True, 'hipster': False, 'divey': False, 'touristy': False, 'trendy': False, 'upscale': True, 'casual': False}\",\n",
       "       \"{'romantic': True, 'intimate': True, 'classy': False, 'hipster': False, 'touristy': False, 'trendy': False, 'upscale': False, 'casual': True}\",\n",
       "       \"{'romantic': True, 'intimate': False, 'classy': True, 'hipster': False, 'divey': False, 'touristy': False, 'trendy': False, 'upscale': True, 'casual': False}\",\n",
       "       \"{'romantic': True, 'intimate': False, 'classy': True, 'hipster': False, 'divey': False, 'touristy': False, 'trendy': False, 'upscale': False, 'casual': False}\",\n",
       "       \"{'romantic': True, 'intimate': True, 'classy': True, 'hipster': False, 'divey': False, 'touristy': False, 'trendy': False, 'upscale': False, 'casual': True}\",\n",
       "       \"{'romantic': False, 'intimate': False, 'classy': True, 'hipster': False, 'touristy': False, 'trendy': True, 'upscale': False, 'casual': False}\",\n",
       "       \"{'romantic': False, 'intimate': False, 'classy': False, 'hipster': False, 'divey': False, 'touristy': True, 'trendy': True, 'upscale': False, 'casual': True}\",\n",
       "       \"{'romantic': False, 'intimate': False, 'classy': False, 'hipster': False, 'touristy': True, 'trendy': True, 'upscale': False, 'casual': False}\",\n",
       "       \"{'romantic': True, 'intimate': True, 'classy': True, 'hipster': False, 'touristy': False, 'trendy': True, 'upscale': True, 'casual': False}\",\n",
       "       \"{'romantic': True, 'intimate': True, 'classy': False, 'hipster': False, 'touristy': False, 'trendy': False, 'upscale': False, 'casual': False}\",\n",
       "       \"{'romantic': False, 'intimate': True, 'classy': False, 'hipster': False, 'touristy': False, 'trendy': False, 'upscale': False, 'casual': True}\",\n",
       "       \"{'romantic': False, 'intimate': True, 'classy': True, 'hipster': False, 'divey': False, 'touristy': False, 'trendy': False, 'upscale': True, 'casual': False}\",\n",
       "       \"{'romantic': False, 'intimate': False, 'classy': False, 'hipster': False, 'divey': True, 'touristy': False, 'trendy': True, 'upscale': False, 'casual': True}\",\n",
       "       \"{'romantic': False, 'intimate': False, 'classy': False, 'hipster': False, 'touristy': True, 'trendy': True, 'upscale': False, 'casual': True}\",\n",
       "       \"{'romantic': False, 'intimate': False, 'classy': False, 'hipster': False, 'touristy': False, 'trendy': True, 'upscale': True, 'casual': False}\",\n",
       "       \"{'romantic': False, 'intimate': True, 'classy': False, 'hipster': True, 'divey': False, 'touristy': False, 'trendy': True, 'upscale': False, 'casual': True}\",\n",
       "       \"{'romantic': True, 'intimate': False, 'classy': True, 'hipster': False, 'touristy': False, 'trendy': True, 'upscale': True, 'casual': False}\",\n",
       "       \"{'romantic': False, 'intimate': True, 'classy': True, 'hipster': False, 'divey': False, 'touristy': False, 'trendy': True, 'upscale': True, 'casual': True}\",\n",
       "       \"{'romantic': False, 'intimate': True, 'classy': True, 'hipster': False, 'touristy': False, 'trendy': False, 'upscale': True, 'casual': False}\",\n",
       "       \"{'romantic': False, 'intimate': True, 'classy': True, 'hipster': False, 'divey': False, 'touristy': False, 'trendy': True, 'upscale': True, 'casual': False}\",\n",
       "       \"{'romantic': True, 'intimate': False, 'classy': False, 'hipster': False, 'divey': False, 'touristy': False, 'trendy': False, 'upscale': False, 'casual': True}\",\n",
       "       \"{'romantic': False, 'intimate': False, 'classy': False, 'hipster': True, 'divey': True, 'touristy': False, 'trendy': True, 'upscale': False, 'casual': True}\",\n",
       "       \"{'romantic': True, 'intimate': True, 'classy': True, 'hipster': False, 'touristy': False, 'trendy': False, 'upscale': True, 'casual': False}\",\n",
       "       \"{'romantic': True, 'intimate': True, 'classy': True, 'hipster': False, 'touristy': False, 'trendy': True, 'upscale': False, 'casual': False}\",\n",
       "       \"{'romantic': True, 'intimate': False, 'classy': False, 'hipster': True, 'divey': False, 'touristy': False, 'trendy': True, 'upscale': False, 'casual': True}\",\n",
       "       \"{'romantic': False, 'intimate': True, 'classy': False, 'hipster': False, 'touristy': False, 'trendy': True, 'upscale': False, 'casual': False}\",\n",
       "       \"{'romantic': False, 'intimate': False, 'classy': False, 'hipster': True, 'divey': True, 'touristy': False, 'trendy': False, 'upscale': False, 'casual': True}\",\n",
       "       \"{'romantic': True, 'intimate': False, 'classy': True, 'hipster': False, 'divey': False, 'touristy': False, 'trendy': False, 'upscale': False, 'casual': True}\",\n",
       "       \"{'romantic': True, 'intimate': False, 'classy': False, 'hipster': False, 'touristy': False, 'trendy': True, 'upscale': False, 'casual': False}\",\n",
       "       \"{'romantic': True, 'intimate': True, 'classy': True, 'hipster': False, 'divey': False, 'touristy': False, 'trendy': True, 'upscale': True, 'casual': True}\",\n",
       "       \"{'romantic': False, 'intimate': False, 'classy': True, 'hipster': True, 'touristy': False, 'trendy': False, 'upscale': False, 'casual': False}\",\n",
       "       \"{'romantic': False, 'intimate': True, 'classy': False, 'hipster': True, 'divey': False, 'touristy': False, 'trendy': True, 'upscale': False, 'casual': False}\",\n",
       "       \"{'romantic': True, 'intimate': True, 'classy': False, 'hipster': False, 'divey': False, 'touristy': False, 'trendy': False, 'upscale': False, 'casual': True}\",\n",
       "       \"{'romantic': True, 'intimate': True, 'classy': False, 'hipster': False, 'divey': False, 'touristy': False, 'trendy': True, 'upscale': False, 'casual': True}\",\n",
       "       \"{'romantic': True, 'intimate': False, 'classy': False, 'hipster': False, 'touristy': True, 'trendy': False, 'upscale': False, 'casual': False}\",\n",
       "       \"{'romantic': False, 'intimate': False, 'classy': True, 'hipster': False, 'touristy': False, 'trendy': True, 'upscale': True, 'casual': True}\",\n",
       "       \"{'romantic': False, 'intimate': True, 'classy': False, 'hipster': True, 'touristy': False, 'trendy': True, 'upscale': False, 'casual': True}\",\n",
       "       \"{'romantic': True, 'intimate': True, 'classy': True, 'hipster': False, 'touristy': False, 'trendy': False, 'upscale': False, 'casual': True}\",\n",
       "       \"{'romantic': True, 'intimate': True, 'classy': False, 'hipster': False, 'touristy': False, 'trendy': False, 'upscale': True, 'casual': False}\",\n",
       "       \"{'romantic': False, 'intimate': False, 'classy': True, 'hipster': False, 'touristy': False, 'trendy': True, 'upscale': False, 'casual': True}\",\n",
       "       \"{'romantic': False, 'intimate': False, 'classy': True, 'hipster': False, 'touristy': False, 'trendy': False, 'upscale': False, 'casual': True}\",\n",
       "       \"{'romantic': False, 'intimate': False, 'classy': False, 'hipster': False, 'touristy': True, 'trendy': False, 'upscale': False, 'casual': False}\",\n",
       "       \"{'romantic': True, 'intimate': True, 'classy': True, 'hipster': False, 'touristy': False, 'trendy': False, 'upscale': False, 'casual': False}\",\n",
       "       \"{'romantic': False, 'intimate': True, 'classy': True, 'hipster': False, 'divey': False, 'touristy': False, 'trendy': False, 'upscale': False, 'casual': True}\",\n",
       "       \"{'romantic': True, 'intimate': True, 'classy': True, 'hipster': False, 'divey': False, 'touristy': False, 'trendy': True, 'upscale': False, 'casual': True}\",\n",
       "       \"{'romantic': True, 'intimate': True, 'classy': True, 'hipster': False, 'divey': False, 'touristy': False, 'trendy': True, 'upscale': True, 'casual': False}\",\n",
       "       \"{'romantic': False, 'intimate': False, 'classy': False, 'hipster': True, 'divey': True, 'touristy': False, 'trendy': False, 'upscale': False, 'casual': False}\",\n",
       "       \"{'romantic': True, 'intimate': False, 'classy': False, 'hipster': False, 'divey': False, 'touristy': False, 'trendy': True, 'upscale': False, 'casual': True}\",\n",
       "       \"{'romantic': True, 'intimate': True, 'classy': True, 'hipster': False, 'divey': False, 'touristy': False, 'trendy': True, 'upscale': False, 'casual': False}\",\n",
       "       \"{'romantic': False, 'intimate': False, 'classy': True, 'hipster': True, 'divey': False, 'touristy': False, 'trendy': True, 'upscale': False, 'casual': True}\",\n",
       "       \"{'romantic': False, 'intimate': True, 'classy': False, 'hipster': False, 'touristy': False, 'trendy': False, 'upscale': True, 'casual': True}\",\n",
       "       \"{'romantic': False, 'intimate': True, 'classy': False, 'hipster': False, 'divey': False, 'touristy': False, 'trendy': True, 'upscale': False, 'casual': False}\",\n",
       "       \"{'romantic': False, 'intimate': False, 'classy': True, 'hipster': False, 'divey': False, 'touristy': True, 'trendy': False, 'upscale': False, 'casual': True}\",\n",
       "       \"{'romantic': True, 'intimate': False, 'classy': False, 'hipster': False, 'divey': True, 'touristy': False, 'trendy': False, 'upscale': False, 'casual': False}\",\n",
       "       \"{'romantic': True, 'intimate': False, 'classy': True, 'hipster': False, 'divey': False, 'touristy': True, 'trendy': False, 'upscale': False, 'casual': True}\",\n",
       "       \"{'romantic': False, 'intimate': False, 'classy': False, 'hipster': True, 'touristy': False, 'trendy': True, 'upscale': True, 'casual': False}\",\n",
       "       \"{'romantic': False, 'intimate': False, 'classy': True, 'hipster': False, 'divey': False, 'touristy': False, 'trendy': True, 'upscale': True, 'casual': True}\",\n",
       "       \"{'romantic': False, 'intimate': True, 'classy': False, 'hipster': False, 'touristy': False, 'trendy': False, 'upscale': True, 'casual': False}\",\n",
       "       \"{'romantic': False, 'intimate': True, 'classy': False, 'hipster': False, 'divey': False, 'touristy': False, 'trendy': True, 'upscale': True, 'casual': False}\",\n",
       "       \"{'romantic': True, 'intimate': False, 'classy': True, 'hipster': False, 'divey': False, 'touristy': False, 'trendy': True, 'upscale': False, 'casual': True}\",\n",
       "       \"{'romantic': False, 'intimate': True, 'classy': False, 'hipster': False, 'divey': True, 'touristy': False, 'trendy': False, 'upscale': False, 'casual': False}\",\n",
       "       \"{'romantic': False, 'intimate': True, 'classy': True, 'hipster': False, 'touristy': False, 'trendy': True, 'upscale': False, 'casual': False}\",\n",
       "       \"{'romantic': False, 'intimate': True, 'classy': False, 'hipster': False, 'divey': False, 'touristy': False, 'trendy': False, 'upscale': True, 'casual': False}\",\n",
       "       \"{'romantic': True, 'intimate': True, 'classy': True, 'hipster': False, 'touristy': False, 'trendy': False, 'upscale': True, 'casual': True}\",\n",
       "       \"{'romantic': True, 'intimate': False, 'classy': False, 'hipster': False, 'divey': False, 'touristy': False, 'trendy': False, 'upscale': True, 'casual': False}\",\n",
       "       \"{'romantic': True, 'intimate': False, 'classy': False, 'hipster': False, 'divey': False, 'touristy': False, 'trendy': True, 'upscale': True, 'casual': False}\",\n",
       "       \"{'romantic': True, 'intimate': True, 'classy': False, 'hipster': False, 'divey': False, 'touristy': False, 'trendy': True, 'upscale': False, 'casual': False}\",\n",
       "       \"{'romantic': True, 'intimate': False, 'classy': True, 'hipster': False, 'touristy': True, 'trendy': False, 'upscale': False, 'casual': True}\",\n",
       "       \"{'romantic': True, 'intimate': True, 'classy': False, 'hipster': False, 'divey': False, 'touristy': False, 'trendy': False, 'upscale': True, 'casual': False}\",\n",
       "       \"{'romantic': True, 'intimate': False, 'classy': True, 'hipster': False, 'divey': False, 'touristy': False, 'trendy': True, 'upscale': True, 'casual': False}\",\n",
       "       \"{'romantic': False, 'intimate': False, 'classy': True, 'hipster': True, 'divey': False, 'touristy': True, 'trendy': True, 'upscale': False, 'casual': True}\",\n",
       "       \"{'romantic': True, 'intimate': False, 'classy': True, 'hipster': False, 'touristy': False, 'trendy': False, 'upscale': False, 'casual': True}\",\n",
       "       \"{'romantic': True, 'intimate': False, 'classy': False, 'hipster': False, 'touristy': False, 'trendy': True, 'upscale': False, 'casual': True}\",\n",
       "       \"{'romantic': True, 'intimate': False, 'classy': True, 'hipster': False, 'divey': False, 'touristy': False, 'trendy': True, 'upscale': True, 'casual': True}\",\n",
       "       \"{'romantic': True, 'intimate': False, 'classy': True, 'hipster': False, 'touristy': False, 'trendy': True, 'upscale': False, 'casual': False}\",\n",
       "       \"{'romantic': False, 'intimate': True, 'classy': False, 'hipster': True, 'touristy': False, 'trendy': False, 'upscale': False, 'casual': False}\",\n",
       "       \"{'romantic': True, 'intimate': False, 'classy': False, 'hipster': False, 'touristy': False, 'trendy': False, 'upscale': True, 'casual': False}\",\n",
       "       \"{'romantic': False, 'intimate': False, 'classy': False, 'hipster': False, 'touristy': False, 'trendy': True, 'upscale': True, 'casual': True}\",\n",
       "       \"{'romantic': False, 'intimate': True, 'classy': True, 'hipster': False, 'touristy': False, 'trendy': False, 'upscale': False, 'casual': True}\",\n",
       "       \"{'romantic': False, 'intimate': False, 'classy': False, 'hipster': False, 'touristy': False, 'trendy': False, 'upscale': True, 'casual': True}\",\n",
       "       \"{'romantic': False, 'intimate': True, 'classy': True, 'hipster': False, 'divey': False, 'touristy': False, 'trendy': True, 'upscale': False, 'casual': False}\",\n",
       "       \"{'romantic': False, 'intimate': True, 'classy': False, 'hipster': True, 'divey': False, 'touristy': False, 'trendy': False, 'upscale': False, 'casual': False}\",\n",
       "       \"{'romantic': True, 'intimate': False, 'classy': False, 'hipster': True, 'touristy': False, 'trendy': False, 'upscale': False, 'casual': False}\",\n",
       "       \"{'romantic': True, 'intimate': False, 'classy': True, 'hipster': True, 'divey': False, 'touristy': False, 'trendy': True, 'upscale': False, 'casual': True}\",\n",
       "       \"{'romantic': True, 'intimate': False, 'classy': False, 'hipster': False, 'divey': False, 'touristy': False, 'trendy': True, 'upscale': False, 'casual': False}\",\n",
       "       \"{'romantic': False, 'intimate': False, 'classy': False, 'hipster': False, 'divey': True, 'touristy': True, 'trendy': False, 'upscale': False, 'casual': True}\",\n",
       "       \"{'romantic': True, 'intimate': True, 'classy': False, 'hipster': False, 'touristy': False, 'trendy': True, 'upscale': False, 'casual': False}\",\n",
       "       \"{'romantic': False, 'intimate': False, 'classy': True, 'hipster': True, 'divey': False, 'touristy': False, 'trendy': False, 'upscale': False, 'casual': True}\",\n",
       "       \"{'romantic': False, 'intimate': True, 'classy': True, 'hipster': True, 'divey': False, 'touristy': False, 'trendy': True, 'upscale': False, 'casual': True}\",\n",
       "       \"{'romantic': False, 'intimate': True, 'classy': False, 'hipster': False, 'touristy': True, 'trendy': False, 'upscale': False, 'casual': False}\",\n",
       "       \"{'romantic': False, 'intimate': False, 'classy': True, 'hipster': True, 'divey': False, 'touristy': False, 'trendy': False, 'upscale': True, 'casual': True}\",\n",
       "       \"{'romantic': False, 'intimate': True, 'classy': False, 'hipster': False, 'divey': False, 'touristy': False, 'trendy': True, 'upscale': True, 'casual': True}\",\n",
       "       \"{'romantic': True, 'intimate': True, 'classy': True, 'hipster': True, 'divey': False, 'touristy': False, 'trendy': True, 'upscale': True, 'casual': True}\",\n",
       "       \"{'romantic': False, 'intimate': False, 'classy': True, 'hipster': False, 'divey': True, 'touristy': False, 'trendy': True, 'upscale': False, 'casual': False}\",\n",
       "       \"{'romantic': False, 'intimate': False, 'classy': True, 'hipster': False, 'divey': True, 'touristy': False, 'trendy': True, 'upscale': False, 'casual': True}\",\n",
       "       \"{'romantic': False, 'intimate': False, 'classy': False, 'hipster': False, 'divey': False, 'touristy': False, 'trendy': True, 'upscale': True, 'casual': True}\",\n",
       "       \"{'romantic': False, 'intimate': True, 'classy': False, 'hipster': True, 'touristy': False, 'trendy': True, 'upscale': False, 'casual': False}\",\n",
       "       \"{'romantic': False, 'intimate': False, 'classy': True, 'hipster': True, 'divey': False, 'touristy': False, 'trendy': True, 'upscale': True, 'casual': False}\",\n",
       "       \"{'romantic': False, 'intimate': True, 'classy': True, 'hipster': True, 'divey': False, 'touristy': False, 'trendy': True, 'upscale': True, 'casual': False}\",\n",
       "       \"{'romantic': False, 'intimate': False, 'classy': False, 'hipster': True, 'divey': False, 'touristy': True, 'trendy': False, 'upscale': False, 'casual': True}\",\n",
       "       \"{'romantic': True, 'intimate': True, 'classy': True, 'hipster': False, 'touristy': False, 'trendy': True, 'upscale': False, 'casual': True}\",\n",
       "       \"{'romantic': False, 'intimate': True, 'classy': False, 'hipster': True, 'touristy': False, 'trendy': False, 'upscale': False, 'casual': True}\",\n",
       "       \"{'romantic': True, 'intimate': True, 'classy': False, 'hipster': False, 'divey': False, 'touristy': False, 'trendy': False, 'upscale': True, 'casual': True}\",\n",
       "       \"{'romantic': False, 'intimate': False, 'classy': False, 'hipster': False, 'divey': False, 'touristy': True, 'trendy': True, 'upscale': False, 'casual': False}\",\n",
       "       \"{'romantic': True, 'intimate': False, 'classy': False, 'hipster': False, 'divey': False, 'touristy': False, 'trendy': True, 'upscale': True, 'casual': True}\",\n",
       "       \"{'romantic': False, 'intimate': True, 'classy': False, 'hipster': True, 'divey': False, 'touristy': False, 'trendy': True, 'upscale': True, 'casual': False}\",\n",
       "       \"{'romantic': True, 'intimate': True, 'classy': True, 'hipster': False, 'divey': False, 'touristy': True, 'trendy': False, 'upscale': False, 'casual': False}\",\n",
       "       \"{'romantic': False, 'intimate': False, 'classy': True, 'hipster': False, 'divey': False, 'touristy': True, 'trendy': True, 'upscale': False, 'casual': True}\",\n",
       "       \"{'romantic': False, 'intimate': False, 'classy': False, 'hipster': True, 'touristy': True, 'trendy': True, 'upscale': False, 'casual': True}\",\n",
       "       \"{'romantic': True, 'intimate': False, 'classy': False, 'hipster': False, 'touristy': True, 'trendy': False, 'upscale': False, 'casual': True}\",\n",
       "       \"{'romantic': False, 'intimate': False, 'classy': True, 'hipster': False, 'divey': False, 'touristy': True, 'trendy': True, 'upscale': True, 'casual': False}\",\n",
       "       \"{'romantic': False, 'intimate': True, 'classy': False, 'hipster': False, 'divey': True, 'touristy': False, 'trendy': False, 'upscale': False, 'casual': True}\",\n",
       "       \"{'romantic': True, 'intimate': True, 'classy': True, 'hipster': False, 'divey': False, 'touristy': False, 'trendy': False, 'upscale': True, 'casual': True}\"],\n",
       "      dtype=object)"
      ]
     },
     "execution_count": 44,
     "metadata": {},
     "output_type": "execute_result"
    }
   ],
   "source": [
    "# Understand the ambience\n",
    "restaurants['attributes.Ambience'].unique()"
   ]
  },
  {
   "cell_type": "code",
   "execution_count": 45,
   "metadata": {},
   "outputs": [],
   "source": [
    "def ambience_extract(row):\n",
    "    ambience_list = list()\n",
    "    import ast\n",
    "    if pd.isnull(row['attributes.Ambience']):\n",
    "        return None\n",
    "    else:\n",
    "        for key, value in ast.literal_eval(row['attributes.Ambience']).items():\n",
    "            if value == True:\n",
    "                ambience_list.append(key)\n",
    "        return \",\".join(ambience_list)"
   ]
  },
  {
   "cell_type": "code",
   "execution_count": 46,
   "metadata": {},
   "outputs": [],
   "source": [
    "restaurants['Ambience'] = restaurants.apply(lambda row: ambience_extract(row),axis=1)"
   ]
  },
  {
   "cell_type": "code",
   "execution_count": 47,
   "metadata": {},
   "outputs": [],
   "source": [
    "ambience_list = restaurants['Ambience'].tolist()\n",
    "ambience_list = [x for x in ambience_list if x is not None and x != '']"
   ]
  },
  {
   "cell_type": "code",
   "execution_count": 48,
   "metadata": {},
   "outputs": [],
   "source": [
    "cat_all_am = ','.join(ambience_list)"
   ]
  },
  {
   "cell_type": "code",
   "execution_count": 49,
   "metadata": {},
   "outputs": [
    {
     "data": {
      "text/plain": [
       "casual      22192\n",
       "trendy       2428\n",
       "classy       1061\n",
       "divey        1057\n",
       "hipster      1043\n",
       "intimate      672\n",
       "romantic      599\n",
       "upscale       494\n",
       "touristy      229\n",
       "Name: Ambience, dtype: int64"
      ]
     },
     "execution_count": 49,
     "metadata": {},
     "output_type": "execute_result"
    }
   ],
   "source": [
    "cat_all_am = pd.DataFrame(cat_all_am.split(','), columns=['Ambience'])\n",
    "cat_all_am_count = cat_all_am.Ambience.value_counts().sort_values(ascending = False)\n",
    "cat_all_am_count"
   ]
  },
  {
   "cell_type": "markdown",
   "metadata": {},
   "source": [
    "We create dummy variables for 'casual', 'trendy' and 'Others'"
   ]
  },
  {
   "cell_type": "code",
   "execution_count": 50,
   "metadata": {},
   "outputs": [],
   "source": [
    "def ambience_casual(row):\n",
    "    if row['Ambience'] is not None and row['Ambience'] != '':\n",
    "        if 'casual' in row['Ambience'].split(','):\n",
    "            return 1\n",
    "        else:\n",
    "            return 0\n",
    "    else:\n",
    "        return 0\n",
    "restaurants['ambience_casual'] = restaurants.apply(lambda row: ambience_casual(row),axis=1)"
   ]
  },
  {
   "cell_type": "code",
   "execution_count": 51,
   "metadata": {},
   "outputs": [],
   "source": [
    "def ambience_trendy(row):\n",
    "    if row['Ambience'] is not None and row['Ambience'] != '':\n",
    "        if 'trendy' in row['Ambience'].split(','):\n",
    "            return 1\n",
    "        else:\n",
    "            return 0\n",
    "    else:\n",
    "        return 0\n",
    "restaurants['ambience_trendy'] = restaurants.apply(lambda row: ambience_trendy(row),axis=1)"
   ]
  },
  {
   "cell_type": "code",
   "execution_count": 52,
   "metadata": {},
   "outputs": [],
   "source": [
    "ambience_others_list = ['romantic', 'intimate', 'classy', 'hipster', 'touristy', 'upscale', 'divey']\n",
    "def ambience_others(row):\n",
    "    if row['Ambience'] is not None and row['Ambience'] != '':\n",
    "        if (set(ambience_others_list) & set(row['Ambience'].split(','))):\n",
    "            return 1\n",
    "        else:\n",
    "            return 0\n",
    "    else:\n",
    "        return 0\n",
    "restaurants['ambience_others'] = restaurants.apply(lambda row: ambience_others(row),axis=1)"
   ]
  },
  {
   "cell_type": "markdown",
   "metadata": {},
   "source": [
    "## 3.3 Food categories"
   ]
  },
  {
   "cell_type": "markdown",
   "metadata": {},
   "source": [
    "Food label will include:\n",
    "1. American Food\n",
    "2. Asian Food\n",
    "3. European Food \n",
    "4. Sandwich\n",
    "5. Burgers\n",
    "6. Restaurants"
   ]
  },
  {
   "cell_type": "code",
   "execution_count": 53,
   "metadata": {},
   "outputs": [],
   "source": [
    "american_food = ['American(Traditional)', 'American(New)']\n",
    "asian_food = ['Chinese','Malaysian','Japanese','AsianFusion','SushiBars','PanAsian','Poke','Indian','Thai',\n",
    "             'Szechuan','Vietnamese','Korean','Cantonese','Dim Sum','Taiwanese','Filipino','Ramen','Noodles']\n",
    "european_food = ['Italian','Mediterranean','British','Delicatessen','French','Greek','Polish','Irish','German',\n",
    "                'Spanish','Portuguese']"
   ]
  },
  {
   "cell_type": "code",
   "execution_count": 54,
   "metadata": {},
   "outputs": [],
   "source": [
    "def american_food_label(row):\n",
    "    if bool(set(row['categories'].replace(\" \",\"\").split(',')) & set(american_food)):\n",
    "        return 1\n",
    "    else:\n",
    "        return 0\n",
    "restaurants['american_food'] = restaurants.apply(lambda row: american_food_label(row),axis=1)"
   ]
  },
  {
   "cell_type": "code",
   "execution_count": 55,
   "metadata": {},
   "outputs": [],
   "source": [
    "def asian_food_label(row):\n",
    "    if bool(set(row['categories'].replace(\" \",\"\").split(',')) & set(asian_food)):\n",
    "        return 1\n",
    "    else:\n",
    "        return 0\n",
    "restaurants['asian_food'] = restaurants.apply(lambda row: asian_food_label(row),axis=1)"
   ]
  },
  {
   "cell_type": "code",
   "execution_count": 56,
   "metadata": {},
   "outputs": [],
   "source": [
    "def european_food_label(row):\n",
    "    if bool(set(row['categories'].replace(\" \",\"\").split(',')) & set(european_food)):\n",
    "        return 1\n",
    "    else:\n",
    "        return 0\n",
    "restaurants['european_food'] = restaurants.apply(lambda row: european_food_label(row),axis=1)"
   ]
  },
  {
   "cell_type": "code",
   "execution_count": 57,
   "metadata": {},
   "outputs": [],
   "source": [
    "def sandwich_label(row):\n",
    "    if \"Sandwiches\" in (row['categories'].replace(\" \",\"\").split(',')):\n",
    "        return 1\n",
    "    else:\n",
    "        return 0\n",
    "restaurants['sandwich'] = restaurants.apply(lambda row: sandwich_label(row),axis=1)"
   ]
  },
  {
   "cell_type": "code",
   "execution_count": 58,
   "metadata": {},
   "outputs": [],
   "source": [
    "def burger_label(row):\n",
    "    if \"Burgers\" in (row['categories'].replace(\" \",\"\").split(',')):\n",
    "        return 1\n",
    "    else:\n",
    "        return 0\n",
    "restaurants['burger'] = restaurants.apply(lambda row: burger_label(row),axis=1)"
   ]
  },
  {
   "cell_type": "code",
   "execution_count": 59,
   "metadata": {},
   "outputs": [],
   "source": [
    "def restaurant_label(row):\n",
    "    if \"Restaurants\" in (row['categories'].replace(\" \",\"\").split(',')):\n",
    "        return 1\n",
    "    else:\n",
    "        return 0\n",
    "restaurants['restaurant'] = restaurants.apply(lambda row: restaurant_label(row),axis=1)"
   ]
  },
  {
   "cell_type": "markdown",
   "metadata": {},
   "source": [
    "## 3.4 Continuous Features"
   ]
  },
  {
   "cell_type": "code",
   "execution_count": 60,
   "metadata": {},
   "outputs": [
    {
     "data": {
      "text/plain": [
       "array([nan, '18plus', '21plus', 'allages', '19plus'], dtype=object)"
      ]
     },
     "execution_count": 60,
     "metadata": {},
     "output_type": "execute_result"
    }
   ],
   "source": [
    "restaurants['attributes.AgesAllowed'].unique()"
   ]
  },
  {
   "cell_type": "code",
   "execution_count": 61,
   "metadata": {},
   "outputs": [
    {
     "data": {
      "text/plain": [
       "LabelEncoder()"
      ]
     },
     "execution_count": 61,
     "metadata": {},
     "output_type": "execute_result"
    }
   ],
   "source": [
    "from sklearn import preprocessing\n",
    "le = preprocessing.LabelEncoder()\n",
    "restaurants['attributes.AgesAllowed'].fillna('0',inplace=True)\n",
    "le.fit(['0',\"allages\", \"18plus\", \"19plus\", \"21plus\"])"
   ]
  },
  {
   "cell_type": "code",
   "execution_count": 62,
   "metadata": {},
   "outputs": [
    {
     "data": {
      "text/plain": [
       "array(['0', '19plus', '18plus'], dtype='<U7')"
      ]
     },
     "execution_count": 62,
     "metadata": {},
     "output_type": "execute_result"
    }
   ],
   "source": [
    "le.inverse_transform([0, 2, 1])"
   ]
  },
  {
   "cell_type": "code",
   "execution_count": 63,
   "metadata": {},
   "outputs": [],
   "source": [
    "restaurants['attributes.AgesAllowed'] = le.transform(restaurants['attributes.AgesAllowed']) "
   ]
  },
  {
   "cell_type": "markdown",
   "metadata": {},
   "source": [
    "## 3.5 Categorical Features"
   ]
  },
  {
   "cell_type": "markdown",
   "metadata": {},
   "source": [
    "We will only extract three more features:\n",
    "1. Business Parking: Yes/No\n",
    "2. GoodForMeal: breakfast_brunch or dinner\n",
    "3. Music: background_music or no_music"
   ]
  },
  {
   "cell_type": "markdown",
   "metadata": {},
   "source": [
    "BUSINESS PARKING"
   ]
  },
  {
   "cell_type": "code",
   "execution_count": 380,
   "metadata": {},
   "outputs": [],
   "source": [
    "def bp_extract(row):\n",
    "    bp = list()\n",
    "    import ast\n",
    "    if pd.isnull(row['attributes.BusinessParking']):\n",
    "        return 0\n",
    "    else:\n",
    "        for key, value in ast.literal_eval(row['attributes.BusinessParking']).items():\n",
    "            if value == True:\n",
    "                bp.append(key)\n",
    "        if bp:\n",
    "            return 1\n",
    "        else:\n",
    "            return 0\n",
    "restaurants['business_parking'] = restaurants.apply(lambda row: bp_extract(row),axis=1)"
   ]
  },
  {
   "cell_type": "markdown",
   "metadata": {},
   "source": [
    "GOOD FOR MEAL"
   ]
  },
  {
   "cell_type": "code",
   "execution_count": 384,
   "metadata": {},
   "outputs": [],
   "source": [
    "def meal_extract(row):\n",
    "    meal = list()\n",
    "    import ast\n",
    "    if pd.isnull(row['attributes.GoodForMeal']):\n",
    "        return 'Others'\n",
    "    else:\n",
    "        for key, value in ast.literal_eval(row['attributes.GoodForMeal']).items():\n",
    "            if value == True:\n",
    "                meal.append(key)\n",
    "        if ('breakfast' in meal) or ('brunch' in meal):\n",
    "            return 'breakfast_brunch'\n",
    "        elif ('dinner' in meal):\n",
    "            return 'dinner'\n",
    "        else:\n",
    "            return 'Others'\n",
    "restaurants['meal'] = restaurants.apply(lambda row: meal_extract(row),axis=1)"
   ]
  },
  {
   "cell_type": "code",
   "execution_count": 387,
   "metadata": {},
   "outputs": [],
   "source": [
    "def breakfast_brunch_label(row):\n",
    "    if row['meal'] == 'breakfast_brunch':\n",
    "        return 1\n",
    "    else:\n",
    "        return 0\n",
    "restaurants['breakfast_brunch'] = restaurants.apply(lambda row: breakfast_brunch_label(row),axis=1)"
   ]
  },
  {
   "cell_type": "code",
   "execution_count": 388,
   "metadata": {},
   "outputs": [],
   "source": [
    "def dinner_label(row):\n",
    "    if row['meal'] == 'dinner':\n",
    "        return 1\n",
    "    else:\n",
    "        return 0\n",
    "restaurants['dinner'] = restaurants.apply(lambda row: dinner_label(row),axis=1)"
   ]
  },
  {
   "cell_type": "markdown",
   "metadata": {},
   "source": [
    "MUSIC"
   ]
  },
  {
   "cell_type": "code",
   "execution_count": 391,
   "metadata": {},
   "outputs": [],
   "source": [
    "def music_extract(row):\n",
    "    music = list()\n",
    "    import ast\n",
    "    if pd.isnull(row['attributes.Music']):\n",
    "        return 'Others'\n",
    "    else:\n",
    "        for key, value in ast.literal_eval(row['attributes.Music']).items():\n",
    "            if value == True:\n",
    "                music.append(key)\n",
    "        if 'background_music' in music:\n",
    "            return 'background_music'\n",
    "        elif 'no_music' in music:\n",
    "            return 'no_music'\n",
    "        else:\n",
    "            return 'Others'\n",
    "restaurants['music'] = restaurants.apply(lambda row: music_extract(row),axis=1)"
   ]
  },
  {
   "cell_type": "code",
   "execution_count": 392,
   "metadata": {},
   "outputs": [],
   "source": [
    "def background_music_label(row):\n",
    "    if row['music'] == 'background_music':\n",
    "        return 1\n",
    "    else:\n",
    "        return 0\n",
    "restaurants['background_music'] = restaurants.apply(lambda row: background_music_label(row),axis=1)"
   ]
  },
  {
   "cell_type": "code",
   "execution_count": 393,
   "metadata": {},
   "outputs": [],
   "source": [
    "def no_music_label(row):\n",
    "    if row['music'] == 'no_music':\n",
    "        return 1\n",
    "    else:\n",
    "        return 0\n",
    "restaurants['no_music'] = restaurants.apply(lambda row: no_music_label(row),axis=1)"
   ]
  },
  {
   "cell_type": "markdown",
   "metadata": {},
   "source": [
    "## 3.6 Create Dummy Variables for features"
   ]
  },
  {
   "cell_type": "code",
   "execution_count": 394,
   "metadata": {},
   "outputs": [],
   "source": [
    "cols_dummy = ['attributes.RestaurantsAttire','attributes.Alcohol',\n",
    "        'attributes.RestaurantsReservations','attributes.GoodForKids','attributes.Smoking',\n",
    "        'attributes.NoiseLevel','attributes.Open24Hours',\n",
    "        'attributes.ByAppointmentOnly','attributes.RestaurantsDelivery',\n",
    "        'attributes.RestaurantsGoodForGroups','attributes.RestaurantsTableService','attributes.WiFi',\n",
    "        'attributes.DogsAllowed','attributes.BusinessAcceptsCreditCards',\n",
    "        'attributes.DriveThru','attributes.Caters','attributes.RestaurantsTakeOut',\n",
    "        'attributes.WheelchairAccessible','attributes.HasTV','attributes.HappyHour',\n",
    "        'attributes.CoatCheck','attributes.OutdoorSeating','is_open','attributes.AcceptsInsurance']"
   ]
  },
  {
   "cell_type": "code",
   "execution_count": 395,
   "metadata": {},
   "outputs": [],
   "source": [
    "res_full = pd.get_dummies(data=restaurants, columns = cols_dummy)"
   ]
  },
  {
   "cell_type": "code",
   "execution_count": 396,
   "metadata": {
    "scrolled": false
   },
   "outputs": [
    {
     "data": {
      "text/plain": [
       "['hours.Friday',\n",
       " 'attributes.BikeParking',\n",
       " 'state',\n",
       " 'categories',\n",
       " 'attributes.BusinessParking',\n",
       " 'attributes.GoodForDancing',\n",
       " 'attributes.BYOB',\n",
       " 'attributes.DietaryRestrictions',\n",
       " 'hours.Sunday',\n",
       " 'attributes.BYOBCorkage',\n",
       " 'latitude',\n",
       " 'attributes.BusinessAcceptsBitcoin',\n",
       " 'attributes.GoodForMeal',\n",
       " 'attributes.BestNights',\n",
       " 'attributes.Corkage',\n",
       " 'attributes.Music',\n",
       " 'hours.Wednesday',\n",
       " 'longitude',\n",
       " 'neighborhood',\n",
       " 'attributes.HairSpecializesIn',\n",
       " 'hours.Thursday',\n",
       " 'attributes.AgesAllowed',\n",
       " 'business_id',\n",
       " 'postal_code',\n",
       " 'hours',\n",
       " 'review_count',\n",
       " 'name',\n",
       " 'hours.Saturday',\n",
       " 'attributes.Ambience',\n",
       " 'attributes.RestaurantsCounterService',\n",
       " 'address',\n",
       " 'attributes.RestaurantsPriceRange2',\n",
       " 'hours.Tuesday',\n",
       " 'hours.Monday',\n",
       " 'attributes',\n",
       " 'stars',\n",
       " 'city',\n",
       " 'country',\n",
       " 'max_rating_rest',\n",
       " 'min_rating_rest',\n",
       " 'useful',\n",
       " 'funny',\n",
       " 'cool',\n",
       " 'earliest_review_date',\n",
       " 'latest_review_date',\n",
       " 'date_difference',\n",
       " 'earliest_till_now',\n",
       " 'latest_till_now',\n",
       " 'Ambience',\n",
       " 'ambience_casual',\n",
       " 'ambience_trendy',\n",
       " 'ambience_others',\n",
       " 'american_food',\n",
       " 'asian_food',\n",
       " 'european_food',\n",
       " 'sandwich',\n",
       " 'burger',\n",
       " 'restaurant',\n",
       " 'business_parking',\n",
       " 'meal',\n",
       " 'breakfast_brunch',\n",
       " 'dinner',\n",
       " 'music',\n",
       " 'background_music',\n",
       " 'no_music',\n",
       " 'attributes.RestaurantsAttire_casual',\n",
       " 'attributes.RestaurantsAttire_dressy',\n",
       " 'attributes.RestaurantsAttire_formal',\n",
       " 'attributes.Alcohol_beer_and_wine',\n",
       " 'attributes.Alcohol_full_bar',\n",
       " 'attributes.Alcohol_none',\n",
       " 'attributes.RestaurantsReservations_False',\n",
       " 'attributes.RestaurantsReservations_True',\n",
       " 'attributes.GoodForKids_False',\n",
       " 'attributes.GoodForKids_True',\n",
       " 'attributes.Smoking_no',\n",
       " 'attributes.Smoking_outdoor',\n",
       " 'attributes.Smoking_yes',\n",
       " 'attributes.NoiseLevel_average',\n",
       " 'attributes.NoiseLevel_loud',\n",
       " 'attributes.NoiseLevel_quiet',\n",
       " 'attributes.NoiseLevel_very_loud',\n",
       " 'attributes.Open24Hours_False',\n",
       " 'attributes.Open24Hours_True',\n",
       " 'attributes.ByAppointmentOnly_False',\n",
       " 'attributes.ByAppointmentOnly_True',\n",
       " 'attributes.RestaurantsDelivery_False',\n",
       " 'attributes.RestaurantsDelivery_True',\n",
       " 'attributes.RestaurantsGoodForGroups_False',\n",
       " 'attributes.RestaurantsGoodForGroups_True',\n",
       " 'attributes.RestaurantsTableService_False',\n",
       " 'attributes.RestaurantsTableService_True',\n",
       " 'attributes.WiFi_free',\n",
       " 'attributes.WiFi_no',\n",
       " 'attributes.WiFi_paid',\n",
       " 'attributes.DogsAllowed_False',\n",
       " 'attributes.DogsAllowed_True',\n",
       " 'attributes.BusinessAcceptsCreditCards_False',\n",
       " 'attributes.BusinessAcceptsCreditCards_True',\n",
       " 'attributes.DriveThru_False',\n",
       " 'attributes.DriveThru_True',\n",
       " 'attributes.Caters_False',\n",
       " 'attributes.Caters_True',\n",
       " 'attributes.RestaurantsTakeOut_False',\n",
       " 'attributes.RestaurantsTakeOut_True',\n",
       " 'attributes.WheelchairAccessible_False',\n",
       " 'attributes.WheelchairAccessible_True',\n",
       " 'attributes.HasTV_False',\n",
       " 'attributes.HasTV_True',\n",
       " 'attributes.HappyHour_False',\n",
       " 'attributes.HappyHour_True',\n",
       " 'attributes.CoatCheck_False',\n",
       " 'attributes.CoatCheck_True',\n",
       " 'attributes.OutdoorSeating_False',\n",
       " 'attributes.OutdoorSeating_True',\n",
       " 'is_open_0',\n",
       " 'is_open_1',\n",
       " 'attributes.AcceptsInsurance_False',\n",
       " 'attributes.AcceptsInsurance_True']"
      ]
     },
     "execution_count": 396,
     "metadata": {},
     "output_type": "execute_result"
    }
   ],
   "source": [
    "res_full.columns.values.tolist()"
   ]
  },
  {
   "cell_type": "markdown",
   "metadata": {},
   "source": [
    "## 3.10 Final Feature Selection"
   ]
  },
  {
   "cell_type": "code",
   "execution_count": 397,
   "metadata": {},
   "outputs": [],
   "source": [
    "cols_ml = ['review_count',\n",
    " 'attributes.RestaurantsAttire_casual',\n",
    " 'attributes.RestaurantsAttire_dressy',\n",
    " 'attributes.RestaurantsAttire_formal',\n",
    " 'attributes.Alcohol_full_bar',\n",
    " 'attributes.RestaurantsReservations_True',\n",
    " 'attributes.GoodForKids_True',\n",
    " 'attributes.Smoking_outdoor',\n",
    " 'attributes.Smoking_yes',\n",
    " 'attributes.NoiseLevel_very_loud',\n",
    " 'attributes.Open24Hours_True',\n",
    " 'attributes.ByAppointmentOnly_True',\n",
    " 'attributes.RestaurantsGoodForGroups_True',\n",
    " 'attributes.WiFi_free',\n",
    " 'attributes.DogsAllowed_True',\n",
    " 'attributes.BusinessAcceptsCreditCards_True',\n",
    " 'attributes.DriveThru_True',\n",
    " 'attributes.Caters_True',\n",
    " 'attributes.RestaurantsPriceRange2',\n",
    " 'attributes.RestaurantsTakeOut_True',\n",
    " 'attributes.HappyHour_True',\n",
    " 'attributes.CoatCheck_True',\n",
    " 'attributes.OutdoorSeating_True',\n",
    " 'ambience_casual',\n",
    " 'ambience_trendy',\n",
    " 'ambience_others',\n",
    " 'attributes.AgesAllowed',\n",
    " 'max_rating_rest',\n",
    " 'min_rating_rest',\n",
    " 'useful','funny','cool',\n",
    " 'american_food','asian_food','european_food',\n",
    " 'sandwich','burger','restaurant',\n",
    " 'date_difference','earliest_till_now','latest_till_now',\n",
    " 'no_music','background_music',\n",
    " 'business_parking','breakfast_brunch','dinner']"
   ]
  },
  {
   "cell_type": "markdown",
   "metadata": {},
   "source": [
    "# 4. Machine Learning Models"
   ]
  },
  {
   "cell_type": "markdown",
   "metadata": {},
   "source": [
    "* Logistic Regression\n",
    "* Random Forest\n",
    "* Bootstrapping\n",
    "* XGBoost"
   ]
  },
  {
   "cell_type": "markdown",
   "metadata": {},
   "source": [
    "## 4.0 Preprocessing"
   ]
  },
  {
   "cell_type": "code",
   "execution_count": 398,
   "metadata": {},
   "outputs": [],
   "source": [
    "X = res_full[cols_ml]\n",
    "y = res_full['stars']"
   ]
  },
  {
   "cell_type": "code",
   "execution_count": 399,
   "metadata": {},
   "outputs": [
    {
     "name": "stderr",
     "output_type": "stream",
     "text": [
      "/usr/local/lib/python3.6/site-packages/pandas/core/frame.py:3790: SettingWithCopyWarning: \n",
      "A value is trying to be set on a copy of a slice from a DataFrame\n",
      "\n",
      "See the caveats in the documentation: http://pandas.pydata.org/pandas-docs/stable/indexing.html#indexing-view-versus-copy\n",
      "  downcast=downcast, **kwargs)\n"
     ]
    }
   ],
   "source": [
    "X.fillna(0,inplace=True)"
   ]
  },
  {
   "cell_type": "markdown",
   "metadata": {},
   "source": [
    "Backward elimination using p-value for regression"
   ]
  },
  {
   "cell_type": "code",
   "execution_count": 400,
   "metadata": {},
   "outputs": [
    {
     "name": "stdout",
     "output_type": "stream",
     "text": [
      "                              Results: Ordinary least squares\n",
      "===========================================================================================\n",
      "Model:                       OLS                     Adj. R-squared:            0.979      \n",
      "Dependent Variable:          stars                   AIC:                       116204.1885\n",
      "Date:                        2018-12-02 01:23        BIC:                       116610.1145\n",
      "No. Observations:            75026                   Log-Likelihood:            -58058.    \n",
      "Df Model:                    44                      F-statistic:               7.803e+04  \n",
      "Df Residuals:                74982                   Prob (F-statistic):        0.00       \n",
      "R-squared:                   0.979                   Scale:                     0.27538    \n",
      "-------------------------------------------------------------------------------------------\n",
      "                                            Coef.  Std.Err.    t     P>|t|   [0.025  0.975]\n",
      "-------------------------------------------------------------------------------------------\n",
      "review_count                                0.0005   0.0000  32.4012 0.0000  0.0004  0.0005\n",
      "attributes.RestaurantsAttire_casual         0.0092   0.0082   1.1221 0.2618 -0.0069  0.0253\n",
      "attributes.RestaurantsAttire_dressy         0.1198   0.0172   6.9466 0.0000  0.0860  0.1536\n",
      "attributes.RestaurantsAttire_formal         0.0578   0.0477   1.2108 0.2260 -0.0357  0.1513\n",
      "attributes.Alcohol_full_bar                -0.0907   0.0065 -14.0469 0.0000 -0.1033 -0.0780\n",
      "attributes.RestaurantsReservations_True    -0.0014   0.0057  -0.2396 0.8106 -0.0126  0.0098\n",
      "attributes.GoodForKids_True                -0.0213   0.0064  -3.3425 0.0008 -0.0339 -0.0088\n",
      "attributes.Smoking_outdoor                 -0.0065   0.0117  -0.5549 0.5790 -0.0293  0.0164\n",
      "attributes.Smoking_yes                      0.0892   0.0183   4.8775 0.0000  0.0533  0.1250\n",
      "attributes.NoiseLevel_very_loud            -0.2177   0.0139 -15.6396 0.0000 -0.2450 -0.1904\n",
      "attributes.Open24Hours_True                -0.1878   0.0976  -1.9233 0.0544 -0.3791  0.0036\n",
      "attributes.ByAppointmentOnly_True           0.1563   0.0474   3.2985 0.0010  0.0634  0.2492\n",
      "attributes.RestaurantsGoodForGroups_True    0.0210   0.0061   3.4608 0.0005  0.0091  0.0329\n",
      "attributes.WiFi_free                       -0.0020   0.0047  -0.4209 0.6738 -0.0113  0.0073\n",
      "attributes.DogsAllowed_True                 0.1386   0.0132  10.4972 0.0000  0.1127  0.1645\n",
      "attributes.BusinessAcceptsCreditCards_True -0.0251   0.0057  -4.4095 0.0000 -0.0363 -0.0140\n",
      "attributes.DriveThru_True                  -0.5373   0.0118 -45.4522 0.0000 -0.5605 -0.5142\n",
      "attributes.Caters_True                      0.0853   0.0049  17.3323 0.0000  0.0757  0.0950\n",
      "attributes.RestaurantsPriceRange2           0.0034   0.0030   1.1207 0.2624 -0.0025  0.0093\n",
      "attributes.RestaurantsTakeOut_True         -0.0009   0.0057  -0.1512 0.8798 -0.0121  0.0103\n",
      "attributes.HappyHour_True                  -0.0120   0.0093  -1.2965 0.1948 -0.0302  0.0061\n",
      "attributes.CoatCheck_True                  -0.0123   0.0191  -0.6441 0.5195 -0.0496  0.0251\n",
      "attributes.OutdoorSeating_True              0.0294   0.0049   6.0014 0.0000  0.0198  0.0390\n",
      "ambience_casual                             0.0994   0.0059  16.8590 0.0000  0.0878  0.1109\n",
      "ambience_trendy                             0.1145   0.0116   9.8665 0.0000  0.0917  0.1372\n",
      "ambience_others                             0.2257   0.0090  25.1026 0.0000  0.2081  0.2433\n",
      "attributes.AgesAllowed                     -0.0697   0.0129  -5.4099 0.0000 -0.0950 -0.0445\n",
      "max_rating_rest                             0.6111   0.0019 320.6124 0.0000  0.6074  0.6148\n",
      "min_rating_rest                             0.4215   0.0022 193.4848 0.0000  0.4173  0.4258\n",
      "useful                                     -0.0349   0.0028 -12.2372 0.0000 -0.0404 -0.0293\n",
      "funny                                      -0.0986   0.0039 -25.3001 0.0000 -0.1062 -0.0910\n",
      "cool                                        0.1643   0.0041  40.5526 0.0000  0.1564  0.1722\n",
      "american_food                              -0.0548   0.0065  -8.4689 0.0000 -0.0675 -0.0421\n",
      "asian_food                                  0.0003   0.0062   0.0472 0.9623 -0.0119  0.0125\n",
      "european_food                               0.0591   0.0067   8.8258 0.0000  0.0459  0.0722\n",
      "sandwich                                    0.0073   0.0071   1.0264 0.3047 -0.0066  0.0211\n",
      "burger                                     -0.1195   0.0085 -14.0717 0.0000 -0.1362 -0.1029\n",
      "restaurant                                 -0.0988   0.0077 -12.8229 0.0000 -0.1138 -0.0837\n",
      "date_difference                            -0.0000   0.0000 -14.3321 0.0000 -0.0000 -0.0000\n",
      "earliest_till_now                          -0.0000   0.0000 -35.0732 0.0000 -0.0001 -0.0000\n",
      "latest_till_now                            -0.0000   0.0000 -14.0591 0.0000 -0.0000 -0.0000\n",
      "no_music                                   -0.0000   0.0000  -4.1077 0.0000 -0.0000 -0.0000\n",
      "background_music                            0.0054   0.0137   0.3964 0.6918 -0.0214  0.0322\n",
      "business_parking                            0.1638   0.0049  33.2611 0.0000  0.1541  0.1734\n",
      "breakfast_brunch                            0.0432   0.0081   5.3138 0.0000  0.0273  0.0591\n",
      "dinner                                      0.0884   0.0065  13.6026 0.0000  0.0757  0.1012\n",
      "-------------------------------------------------------------------------------------------\n",
      "Omnibus:                   2404.557           Durbin-Watson:              1.996            \n",
      "Prob(Omnibus):             0.000              Jarque-Bera (JB):           4483.591         \n",
      "Skew:                      -0.254             Prob(JB):                   0.000            \n",
      "Kurtosis:                  4.084              Condition No.:              10991486903744082\n",
      "===========================================================================================\n",
      "* The condition number is large (1e+16). This might indicate             strong\n",
      "multicollinearity or other numerical problems.\n"
     ]
    }
   ],
   "source": [
    "import statsmodels.api as sm\n",
    "OLS_model=sm.OLS(y,X)\n",
    "result=OLS_model.fit()\n",
    "print(result.summary2())"
   ]
  },
  {
   "cell_type": "markdown",
   "metadata": {},
   "source": [
    "Eliminate features with p < 0.05"
   ]
  },
  {
   "cell_type": "code",
   "execution_count": 402,
   "metadata": {},
   "outputs": [],
   "source": [
    "cols_ml = ['review_count',\n",
    " 'attributes.RestaurantsAttire_dressy',\n",
    " 'attributes.Alcohol_full_bar',\n",
    " 'attributes.GoodForKids_True',\n",
    " 'attributes.Smoking_yes',\n",
    " 'attributes.NoiseLevel_very_loud',\n",
    " 'attributes.ByAppointmentOnly_True',\n",
    " 'attributes.RestaurantsGoodForGroups_True',\n",
    " 'attributes.DogsAllowed_True',\n",
    " 'attributes.BusinessAcceptsCreditCards_True',\n",
    " 'attributes.DriveThru_True',\n",
    " 'attributes.Caters_True',\n",
    " 'attributes.OutdoorSeating_True',\n",
    " 'ambience_casual',\n",
    " 'ambience_trendy',\n",
    " 'ambience_others',\n",
    " 'attributes.AgesAllowed',\n",
    " 'max_rating_rest',\n",
    " 'min_rating_rest',\n",
    " 'useful','funny','cool',\n",
    " 'american_food','european_food',\n",
    " 'burger','restaurant',\n",
    " 'date_difference','earliest_till_now','latest_till_now',\n",
    " 'no_music',\n",
    " 'business_parking','breakfast_brunch','dinner']"
   ]
  },
  {
   "cell_type": "code",
   "execution_count": 403,
   "metadata": {},
   "outputs": [],
   "source": [
    "X = res_full[cols_ml]\n",
    "y = res_full['stars']\n",
    "X.fillna(0,inplace=True)"
   ]
  },
  {
   "cell_type": "code",
   "execution_count": 404,
   "metadata": {},
   "outputs": [],
   "source": [
    "from sklearn.model_selection import train_test_split\n",
    "train_X, test_X, train_y, test_y = train_test_split(X, y, test_size = 0.3)"
   ]
  },
  {
   "cell_type": "markdown",
   "metadata": {},
   "source": [
    "## 4.1 Linear Regression"
   ]
  },
  {
   "cell_type": "code",
   "execution_count": 405,
   "metadata": {},
   "outputs": [
    {
     "data": {
      "text/plain": [
       "LinearRegression(copy_X=True, fit_intercept=True, n_jobs=None,\n",
       "         normalize=False)"
      ]
     },
     "execution_count": 405,
     "metadata": {},
     "output_type": "execute_result"
    }
   ],
   "source": [
    "from sklearn import linear_model\n",
    "model = linear_model.LinearRegression()\n",
    "model.fit(train_X, train_y)"
   ]
  },
  {
   "cell_type": "code",
   "execution_count": 406,
   "metadata": {},
   "outputs": [
    {
     "data": {
      "text/plain": [
       "array([3.49636761, 3.40040509, 3.62092511, ..., 3.49236981, 3.61184613,\n",
       "       3.3292632 ])"
      ]
     },
     "execution_count": 406,
     "metadata": {},
     "output_type": "execute_result"
    }
   ],
   "source": [
    "pred_y  = model.predict(test_X)\n",
    "pred_y"
   ]
  },
  {
   "cell_type": "code",
   "execution_count": 407,
   "metadata": {},
   "outputs": [
    {
     "name": "stdout",
     "output_type": "stream",
     "text": [
      "Coefficients: \n",
      " [ 5.44052146e-04  1.19486286e-01 -9.05981417e-02 -1.57302573e-02\n",
      "  8.93509439e-02 -2.16076092e-01  1.97714211e-01  2.04142793e-02\n",
      "  1.25303085e-01 -1.38926769e-02 -5.22112168e-01  8.69019176e-02\n",
      "  2.54945035e-02  9.57901679e-02  1.07603827e-01  2.29898601e-01\n",
      " -6.20925925e-02  6.15301946e-01  4.16313568e-01 -3.98113393e-02\n",
      " -1.70948863e-01  2.06871593e-01 -5.80112480e-02  6.22766683e-02\n",
      " -1.15260302e-01 -9.77599948e-02  3.07927626e+08 -3.07927626e+08\n",
      "  3.07927626e+08 -3.54264530e+00  1.63524415e-01  3.88780118e-02\n",
      "  7.70746998e-02]\n",
      "Mean squared error: 0.29\n",
      "Variance score: 0.57\n"
     ]
    }
   ],
   "source": [
    "from sklearn.metrics import mean_squared_error, r2_score\n",
    "\n",
    "# The coefficients\n",
    "print('Coefficients: \\n', model.coef_)\n",
    "# The mean squared error\n",
    "print(\"Mean squared error: %.2f\"\n",
    "      % mean_squared_error(test_y, pred_y))\n",
    "# Explained variance score: 1 is perfect prediction\n",
    "print('Variance score: %.2f' % r2_score(test_y, pred_y))"
   ]
  },
  {
   "cell_type": "markdown",
   "metadata": {},
   "source": [
    "## 4.1.1 Try to classify the successful restaurant using the result above"
   ]
  },
  {
   "cell_type": "code",
   "execution_count": 408,
   "metadata": {},
   "outputs": [],
   "source": [
    "res_full['success'] = np.where(restaurants['stars'] >= 3.5,1,0)"
   ]
  },
  {
   "cell_type": "code",
   "execution_count": 409,
   "metadata": {},
   "outputs": [
    {
     "name": "stderr",
     "output_type": "stream",
     "text": [
      "/usr/local/lib/python3.6/site-packages/pandas/core/frame.py:3790: SettingWithCopyWarning: \n",
      "A value is trying to be set on a copy of a slice from a DataFrame\n",
      "\n",
      "See the caveats in the documentation: http://pandas.pydata.org/pandas-docs/stable/indexing.html#indexing-view-versus-copy\n",
      "  downcast=downcast, **kwargs)\n"
     ]
    }
   ],
   "source": [
    "X = res_full[cols_ml]\n",
    "y = res_full['success']\n",
    "X.fillna(0,inplace=True)\n",
    "train_X, test_X, train_y, test_y = train_test_split(X,y,test_size = 0.3, random_state = 11)"
   ]
  },
  {
   "cell_type": "code",
   "execution_count": 410,
   "metadata": {},
   "outputs": [
    {
     "data": {
      "text/plain": [
       "array([0., 0., 0., ..., 0., 0., 0.])"
      ]
     },
     "execution_count": 410,
     "metadata": {},
     "output_type": "execute_result"
    }
   ],
   "source": [
    "def get_classification(predictions, threshold):\n",
    "    classes = np.zeros_like(predictions)\n",
    "    for i in range(len(classes)):\n",
    "        if predictions[i] > threshold:\n",
    "            classes[i] = 1\n",
    "    return classes\n",
    "get_classification(pred_y, 4)"
   ]
  },
  {
   "cell_type": "code",
   "execution_count": 411,
   "metadata": {},
   "outputs": [
    {
     "name": "stdout",
     "output_type": "stream",
     "text": [
      "6674 1264 12335 2235\n"
     ]
    }
   ],
   "source": [
    "from sklearn.metrics import confusion_matrix\n",
    "tn, fp, fn, tp = confusion_matrix(test_y, get_classification(pred_y,4)).ravel()\n",
    "print(tn, fp, fn, tp)"
   ]
  },
  {
   "cell_type": "code",
   "execution_count": 412,
   "metadata": {},
   "outputs": [
    {
     "name": "stdout",
     "output_type": "stream",
     "text": [
      "0.39581482139683666\n"
     ]
    }
   ],
   "source": [
    "accuracy = (tp+tn)/(tp+tn+fp+fn)\n",
    "print(accuracy)"
   ]
  },
  {
   "cell_type": "code",
   "execution_count": 413,
   "metadata": {},
   "outputs": [
    {
     "data": {
      "image/png": "[encoded data removed]",
      "text/plain": [
       "<Figure size 432x288 with 1 Axes>"
      ]
     },
     "metadata": {
      "needs_background": "light"
     },
     "output_type": "display_data"
    }
   ],
   "source": [
    "from sklearn.metrics import roc_curve, auc\n",
    "testing_predictions = model.predict(test_X)\n",
    "(fpr, tpr, thresholds) = roc_curve(test_y,testing_predictions)\n",
    "\n",
    "area = auc(fpr,tpr)\n",
    "plt.clf() #Clear the current figure\n",
    "plt.plot(fpr,tpr,label=\"Out-Sample ROC Curve with area = %1.2f\"%area)\n",
    "\n",
    "plt.plot([0, 1], [0, 1], 'k')\n",
    "plt.xlim([0.0, 1.0])\n",
    "plt.ylim([0.0, 1.0])\n",
    "plt.xlabel('False Positive Rate')\n",
    "plt.ylabel('True Positive Rate')\n",
    "plt.title('ROC Curve')\n",
    "plt.legend(loc=\"lower right\")\n",
    "plt.show()"
   ]
  },
  {
   "cell_type": "markdown",
   "metadata": {},
   "source": [
    "## 4.2 Logistic Regression"
   ]
  },
  {
   "cell_type": "code",
   "execution_count": 414,
   "metadata": {},
   "outputs": [
    {
     "name": "stderr",
     "output_type": "stream",
     "text": [
      "/usr/local/lib/python3.6/site-packages/sklearn/linear_model/logistic.py:433: FutureWarning: Default solver will be changed to 'lbfgs' in 0.22. Specify a solver to silence this warning.\n",
      "  FutureWarning)\n"
     ]
    }
   ],
   "source": [
    "from sklearn.linear_model import LogisticRegression\n",
    "logr = LogisticRegression().fit(train_X,train_y)"
   ]
  },
  {
   "cell_type": "code",
   "execution_count": 415,
   "metadata": {},
   "outputs": [
    {
     "name": "stdout",
     "output_type": "stream",
     "text": [
      "logr training set accuracy: 0.790\n"
     ]
    }
   ],
   "source": [
    "trainset_acc = logr.score(train_X,train_y)\n",
    "print('logr training set accuracy: {:.3f}'.format(trainset_acc))"
   ]
  },
  {
   "cell_type": "code",
   "execution_count": 416,
   "metadata": {},
   "outputs": [
    {
     "name": "stderr",
     "output_type": "stream",
     "text": [
      "/usr/local/lib/python3.6/site-packages/sklearn/linear_model/logistic.py:433: FutureWarning: Default solver will be changed to 'lbfgs' in 0.22. Specify a solver to silence this warning.\n",
      "  FutureWarning)\n",
      "/usr/local/lib/python3.6/site-packages/sklearn/linear_model/logistic.py:433: FutureWarning: Default solver will be changed to 'lbfgs' in 0.22. Specify a solver to silence this warning.\n",
      "  FutureWarning)\n",
      "/usr/local/lib/python3.6/site-packages/sklearn/linear_model/logistic.py:433: FutureWarning: Default solver will be changed to 'lbfgs' in 0.22. Specify a solver to silence this warning.\n",
      "  FutureWarning)\n",
      "/usr/local/lib/python3.6/site-packages/sklearn/linear_model/logistic.py:433: FutureWarning: Default solver will be changed to 'lbfgs' in 0.22. Specify a solver to silence this warning.\n",
      "  FutureWarning)\n",
      "/usr/local/lib/python3.6/site-packages/sklearn/linear_model/logistic.py:433: FutureWarning: Default solver will be changed to 'lbfgs' in 0.22. Specify a solver to silence this warning.\n",
      "  FutureWarning)\n",
      "/usr/local/lib/python3.6/site-packages/sklearn/linear_model/logistic.py:433: FutureWarning: Default solver will be changed to 'lbfgs' in 0.22. Specify a solver to silence this warning.\n",
      "  FutureWarning)\n",
      "/usr/local/lib/python3.6/site-packages/sklearn/linear_model/logistic.py:433: FutureWarning: Default solver will be changed to 'lbfgs' in 0.22. Specify a solver to silence this warning.\n",
      "  FutureWarning)\n",
      "/usr/local/lib/python3.6/site-packages/sklearn/linear_model/logistic.py:433: FutureWarning: Default solver will be changed to 'lbfgs' in 0.22. Specify a solver to silence this warning.\n",
      "  FutureWarning)\n",
      "/usr/local/lib/python3.6/site-packages/sklearn/linear_model/logistic.py:433: FutureWarning: Default solver will be changed to 'lbfgs' in 0.22. Specify a solver to silence this warning.\n",
      "  FutureWarning)\n",
      "/usr/local/lib/python3.6/site-packages/sklearn/linear_model/logistic.py:433: FutureWarning: Default solver will be changed to 'lbfgs' in 0.22. Specify a solver to silence this warning.\n",
      "  FutureWarning)\n",
      "/usr/local/lib/python3.6/site-packages/sklearn/linear_model/logistic.py:433: FutureWarning: Default solver will be changed to 'lbfgs' in 0.22. Specify a solver to silence this warning.\n",
      "  FutureWarning)\n",
      "/usr/local/lib/python3.6/site-packages/sklearn/linear_model/logistic.py:433: FutureWarning: Default solver will be changed to 'lbfgs' in 0.22. Specify a solver to silence this warning.\n",
      "  FutureWarning)\n",
      "/usr/local/lib/python3.6/site-packages/sklearn/linear_model/logistic.py:433: FutureWarning: Default solver will be changed to 'lbfgs' in 0.22. Specify a solver to silence this warning.\n",
      "  FutureWarning)\n",
      "/usr/local/lib/python3.6/site-packages/sklearn/linear_model/logistic.py:433: FutureWarning: Default solver will be changed to 'lbfgs' in 0.22. Specify a solver to silence this warning.\n",
      "  FutureWarning)\n"
     ]
    },
    {
     "name": "stdout",
     "output_type": "stream",
     "text": [
      "[False  True  True False False  True  True False  True  True  True  True\n",
      " False  True  True  True False  True  True False  True  True False  True\n",
      "  True  True False False False False  True False  True]\n",
      "[10  1  1  8  2  1  1  7  1  1  1  1  9  1  1  1  6  1  1  5  1  1  3  1\n",
      "  1  1 13 11 12 14  1  4  1]\n"
     ]
    }
   ],
   "source": [
    "# Recursive Feature Elimination\n",
    "from sklearn.feature_selection import RFE\n",
    "from sklearn.linear_model import LogisticRegression\n",
    "logreg = LogisticRegression()\n",
    "rfe = RFE(logreg, 20)\n",
    "rfe = rfe.fit(train_X, train_y)\n",
    "print(rfe.support_)\n",
    "print(rfe.ranking_)"
   ]
  },
  {
   "cell_type": "code",
   "execution_count": 418,
   "metadata": {},
   "outputs": [],
   "source": [
    "rfe_rank = rfe.support_"
   ]
  },
  {
   "cell_type": "code",
   "execution_count": 419,
   "metadata": {},
   "outputs": [],
   "source": [
    "from itertools import compress\n",
    "cols_log = list(compress(cols_ml, rfe_rank))"
   ]
  },
  {
   "cell_type": "code",
   "execution_count": 420,
   "metadata": {},
   "outputs": [
    {
     "data": {
      "text/plain": [
       "['attributes.RestaurantsAttire_dressy',\n",
       " 'attributes.Alcohol_full_bar',\n",
       " 'attributes.NoiseLevel_very_loud',\n",
       " 'attributes.ByAppointmentOnly_True',\n",
       " 'attributes.DogsAllowed_True',\n",
       " 'attributes.BusinessAcceptsCreditCards_True',\n",
       " 'attributes.DriveThru_True',\n",
       " 'attributes.Caters_True',\n",
       " 'ambience_casual',\n",
       " 'ambience_trendy',\n",
       " 'ambience_others',\n",
       " 'max_rating_rest',\n",
       " 'min_rating_rest',\n",
       " 'funny',\n",
       " 'cool',\n",
       " 'european_food',\n",
       " 'burger',\n",
       " 'restaurant',\n",
       " 'business_parking',\n",
       " 'dinner']"
      ]
     },
     "execution_count": 420,
     "metadata": {},
     "output_type": "execute_result"
    }
   ],
   "source": [
    "cols_log"
   ]
  },
  {
   "cell_type": "code",
   "execution_count": 421,
   "metadata": {},
   "outputs": [],
   "source": [
    "X = X[cols_log]"
   ]
  },
  {
   "cell_type": "code",
   "execution_count": 422,
   "metadata": {},
   "outputs": [
    {
     "name": "stdout",
     "output_type": "stream",
     "text": [
      "Optimization terminated successfully.\n",
      "         Current function value: 0.505185\n",
      "         Iterations 7\n",
      "                                      Results: Logit\n",
      "===========================================================================================\n",
      "Model:                        Logit                    Pseudo R-squared:         0.222     \n",
      "Dependent Variable:           success                  AIC:                      75843.9544\n",
      "Date:                         2018-12-02 01:29         BIC:                      76028.4662\n",
      "No. Observations:             75026                    Log-Likelihood:           -37902.   \n",
      "Df Model:                     19                       LL-Null:                  -48690.   \n",
      "Df Residuals:                 75006                    LLR p-value:              0.0000    \n",
      "Converged:                    1.0000                   Scale:                    1.0000    \n",
      "No. Iterations:               7.0000                                                       \n",
      "-------------------------------------------------------------------------------------------\n",
      "                                            Coef.  Std.Err.    z     P>|z|   [0.025  0.975]\n",
      "-------------------------------------------------------------------------------------------\n",
      "attributes.RestaurantsAttire_dressy         0.6200   0.0785   7.8988 0.0000  0.4662  0.7739\n",
      "attributes.Alcohol_full_bar                -0.2024   0.0227  -8.9350 0.0000 -0.2468 -0.1580\n",
      "attributes.NoiseLevel_very_loud            -0.7574   0.0610 -12.4157 0.0000 -0.8769 -0.6378\n",
      "attributes.ByAppointmentOnly_True           0.5168   0.2591   1.9948 0.0461  0.0090  1.0246\n",
      "attributes.DogsAllowed_True                 0.8484   0.0780  10.8770 0.0000  0.6955  1.0013\n",
      "attributes.BusinessAcceptsCreditCards_True -0.6602   0.0259 -25.4593 0.0000 -0.7110 -0.6093\n",
      "attributes.DriveThru_True                  -1.1932   0.0567 -21.0286 0.0000 -1.3044 -1.0820\n",
      "attributes.Caters_True                      0.4246   0.0217  19.5279 0.0000  0.3819  0.4672\n",
      "ambience_casual                             0.6220   0.0242  25.6751 0.0000  0.5746  0.6695\n",
      "ambience_trendy                             0.9429   0.0627  15.0489 0.0000  0.8201  1.0657\n",
      "ambience_others                             1.1081   0.0471  23.5257 0.0000  1.0158  1.2004\n",
      "max_rating_rest                            -0.0493   0.0078  -6.3458 0.0000 -0.0646 -0.0341\n",
      "min_rating_rest                             1.1494   0.0176  65.4110 0.0000  1.1150  1.1839\n",
      "funny                                      -1.3718   0.0289 -47.4233 0.0000 -1.4285 -1.3151\n",
      "cool                                        1.1749   0.0265  44.2799 0.0000  1.1229  1.2269\n",
      "european_food                               0.2552   0.0299   8.5408 0.0000  0.1967  0.3138\n",
      "burger                                     -0.3653   0.0367  -9.9397 0.0000 -0.4373 -0.2932\n",
      "restaurant                                 -0.8273   0.0242 -34.2289 0.0000 -0.8747 -0.7800\n",
      "business_parking                            0.4737   0.0217  21.8459 0.0000  0.4312  0.5162\n",
      "dinner                                      0.4466   0.0259  17.2682 0.0000  0.3959  0.4973\n",
      "===========================================================================================\n",
      "\n"
     ]
    }
   ],
   "source": [
    "import statsmodels.api as sm\n",
    "logit_model=sm.Logit(y,X)\n",
    "result=logit_model.fit()\n",
    "print(result.summary2())"
   ]
  },
  {
   "cell_type": "code",
   "execution_count": 423,
   "metadata": {},
   "outputs": [
    {
     "name": "stderr",
     "output_type": "stream",
     "text": [
      "/usr/local/lib/python3.6/site-packages/sklearn/linear_model/logistic.py:433: FutureWarning: Default solver will be changed to 'lbfgs' in 0.22. Specify a solver to silence this warning.\n",
      "  FutureWarning)\n"
     ]
    },
    {
     "data": {
      "text/plain": [
       "LogisticRegression(C=1.0, class_weight=None, dual=False, fit_intercept=True,\n",
       "          intercept_scaling=1, max_iter=100, multi_class='warn',\n",
       "          n_jobs=None, penalty='l2', random_state=None, solver='warn',\n",
       "          tol=0.0001, verbose=0, warm_start=False)"
      ]
     },
     "execution_count": 423,
     "metadata": {},
     "output_type": "execute_result"
    }
   ],
   "source": [
    "from sklearn.linear_model import LogisticRegression\n",
    "from sklearn import metrics\n",
    "\n",
    "X_train, X_test, y_train, y_test = train_test_split(X, y, test_size=0.3, random_state=0)\n",
    "\n",
    "logreg = LogisticRegression()\n",
    "logreg.fit(X_train, y_train)"
   ]
  },
  {
   "cell_type": "code",
   "execution_count": 424,
   "metadata": {},
   "outputs": [
    {
     "name": "stdout",
     "output_type": "stream",
     "text": [
      "Accuracy of logistic regression classifier on test set: 0.79\n"
     ]
    }
   ],
   "source": [
    "y_pred = logreg.predict(X_test)\n",
    "print('Accuracy of logistic regression classifier on test set: {:.2f}'.format(logreg.score(X_test, y_test)))"
   ]
  },
  {
   "cell_type": "code",
   "execution_count": 425,
   "metadata": {},
   "outputs": [
    {
     "data": {
      "image/png": "[encoded data removed]",
      "text/plain": [
       "<Figure size 432x288 with 1 Axes>"
      ]
     },
     "metadata": {
      "needs_background": "light"
     },
     "output_type": "display_data"
    }
   ],
   "source": [
    "from sklearn.metrics import roc_auc_score\n",
    "from sklearn.metrics import roc_curve\n",
    "\n",
    "logit_roc_auc = roc_auc_score(y_test, logreg.predict(X_test))\n",
    "fpr, tpr, thresholds = roc_curve(y_test, logreg.predict_proba(X_test)[:,1])\n",
    "plt.figure()\n",
    "plt.plot(fpr, tpr, label='Logistic Regression (area = %0.2f)' % logit_roc_auc)\n",
    "plt.plot([0, 1], [0, 1],'b--')\n",
    "plt.xlim([0.0, 1.0])\n",
    "plt.ylim([0.0, 1.05])\n",
    "plt.xlabel('False Positive Rate')\n",
    "plt.ylabel('True Positive Rate')\n",
    "plt.title('Receiver operating characteristic')\n",
    "plt.legend(loc=\"lower right\")\n",
    "plt.savefig('Log_ROC')\n",
    "plt.show()"
   ]
  },
  {
   "cell_type": "markdown",
   "metadata": {},
   "source": [
    "## 4.3 Decision Trees"
   ]
  },
  {
   "cell_type": "code",
   "execution_count": 426,
   "metadata": {},
   "outputs": [
    {
     "data": {
      "text/plain": [
       "DecisionTreeClassifier(class_weight=None, criterion='entropy', max_depth=5,\n",
       "            max_features=None, max_leaf_nodes=None,\n",
       "            min_impurity_decrease=0.0, min_impurity_split=None,\n",
       "            min_samples_leaf=1, min_samples_split=2,\n",
       "            min_weight_fraction_leaf=0.0, presort=False, random_state=None,\n",
       "            splitter='best')"
      ]
     },
     "execution_count": 426,
     "metadata": {},
     "output_type": "execute_result"
    }
   ],
   "source": [
    "from sklearn.tree import DecisionTreeClassifier\n",
    "from sklearn import tree\n",
    "\n",
    "model = tree.DecisionTreeClassifier(max_depth = 5,criterion='entropy')\n",
    "model.fit(train_X, train_y)"
   ]
  },
  {
   "cell_type": "code",
   "execution_count": 427,
   "metadata": {},
   "outputs": [
    {
     "name": "stdout",
     "output_type": "stream",
     "text": [
      "[[10594  4196]\n",
      " [ 7914 29814]]\n",
      "[[ 4488  1872]\n",
      " [ 3450 12698]]\n"
     ]
    }
   ],
   "source": [
    "from sklearn.metrics import confusion_matrix\n",
    "p_train=model.predict(train_X)\n",
    "p_test = model.predict(test_X)\n",
    "print(confusion_matrix(p_train,np.array(train_y)))\n",
    "print(confusion_matrix(p_test,np.array(test_y)))"
   ]
  },
  {
   "cell_type": "code",
   "execution_count": 428,
   "metadata": {},
   "outputs": [],
   "source": [
    "cm = confusion_matrix(p_test,np.array(test_y))"
   ]
  },
  {
   "cell_type": "code",
   "execution_count": 429,
   "metadata": {},
   "outputs": [
    {
     "name": "stdout",
     "output_type": "stream",
     "text": [
      "Accuracy is 0.76355073751555\n"
     ]
    }
   ],
   "source": [
    "Accuracy = (cm[0,0] + cm[1,1])/(cm[0,0] + cm[0,1] + cm[1,0] + cm[1,1])\n",
    "print(f'Accuracy is {Accuracy}') "
   ]
  },
  {
   "cell_type": "code",
   "execution_count": 430,
   "metadata": {},
   "outputs": [
    {
     "data": {
      "image/png": "[encoded data removed]",
      "text/plain": [
       "<Figure size 432x288 with 1 Axes>"
      ]
     },
     "metadata": {
      "needs_background": "light"
     },
     "output_type": "display_data"
    }
   ],
   "source": [
    "from sklearn.metrics import roc_curve,auc\n",
    "import pylab as pl\n",
    "%matplotlib inline\n",
    "(fpr, tpr, thresholds) = roc_curve(test_y,p_test)\n",
    "area = auc(fpr,tpr)\n",
    "pl.clf() #Clear the current figure\n",
    "pl.plot(fpr,tpr,label=\"Out-Sample ROC Curve with area = %1.2f\"%area)\n",
    "\n",
    "pl.plot([0, 1], [0, 1], 'k') #This plots the random (equal probability line)\n",
    "pl.xlim([0.0, 1.0])\n",
    "pl.ylim([0.0, 1.0])\n",
    "pl.xlabel('False Positive Rate')\n",
    "pl.ylabel('True Positive Rate')\n",
    "pl.title('ROC')\n",
    "pl.legend(loc=\"lower right\")\n",
    "pl.show()"
   ]
  },
  {
   "cell_type": "markdown",
   "metadata": {},
   "source": [
    "## 4.4 Random Forest"
   ]
  },
  {
   "cell_type": "code",
   "execution_count": 431,
   "metadata": {},
   "outputs": [
    {
     "data": {
      "text/plain": [
       "RandomForestClassifier(bootstrap=True, class_weight=None, criterion='gini',\n",
       "            max_depth=None, max_features='auto', max_leaf_nodes=None,\n",
       "            min_impurity_decrease=0.0, min_impurity_split=None,\n",
       "            min_samples_leaf=1, min_samples_split=2,\n",
       "            min_weight_fraction_leaf=0.0, n_estimators=10, n_jobs=None,\n",
       "            oob_score=False, random_state=None, verbose=0,\n",
       "            warm_start=False)"
      ]
     },
     "execution_count": 431,
     "metadata": {},
     "output_type": "execute_result"
    }
   ],
   "source": [
    "from sklearn.ensemble import RandomForestClassifier\n",
    "rf = RandomForestClassifier(n_estimators=10)\n",
    "\n",
    "X_train, X_test, y_train, y_test = train_test_split(X, y, test_size=0.3, random_state=0)\n",
    "rf.fit(train_X, train_y)"
   ]
  },
  {
   "cell_type": "code",
   "execution_count": 432,
   "metadata": {},
   "outputs": [
    {
     "data": {
      "text/plain": [
       "0.7713257508441443"
      ]
     },
     "execution_count": 432,
     "metadata": {},
     "output_type": "execute_result"
    }
   ],
   "source": [
    "rf.score(test_X,test_y)"
   ]
  },
  {
   "cell_type": "code",
   "execution_count": 433,
   "metadata": {},
   "outputs": [
    {
     "data": {
      "text/plain": [
       "array([0.08404203, 0.00186888, 0.01009143, 0.00957012, 0.0015316 ,\n",
       "       0.00426114, 0.0003129 , 0.00905594, 0.00223444, 0.00854999,\n",
       "       0.0209751 , 0.01151838, 0.01093585, 0.00787273, 0.00417084,\n",
       "       0.00619406, 0.0007513 , 0.11083699, 0.11887251, 0.07879415,\n",
       "       0.0799199 , 0.09404061, 0.00869191, 0.00757471, 0.00740586,\n",
       "       0.00673401, 0.08210178, 0.08317624, 0.08624543, 0.        ,\n",
       "       0.02467103, 0.00514255, 0.01185558])"
      ]
     },
     "execution_count": 433,
     "metadata": {},
     "output_type": "execute_result"
    }
   ],
   "source": [
    "rf.feature_importances_"
   ]
  },
  {
   "cell_type": "code",
   "execution_count": 434,
   "metadata": {},
   "outputs": [],
   "source": [
    "import matplotlib.pyplot as plt\n",
    "%matplotlib inline\n",
    "\n",
    "importances = rf.feature_importances_\n",
    "indices = np.argsort(importances)"
   ]
  },
  {
   "cell_type": "code",
   "execution_count": 435,
   "metadata": {},
   "outputs": [],
   "source": [
    "importances_series = list(zip(cols_log, importances*100))"
   ]
  },
  {
   "cell_type": "code",
   "execution_count": 436,
   "metadata": {},
   "outputs": [],
   "source": [
    "importances_series = list(zip(*importances_series))\n",
    "importances_series = pd.Series(importances_series[1], index = importances_series[0])"
   ]
  },
  {
   "cell_type": "code",
   "execution_count": 437,
   "metadata": {},
   "outputs": [
    {
     "data": {
      "text/plain": [
       "business_parking                              11.887251\n",
       "restaurant                                    11.083699\n",
       "attributes.RestaurantsAttire_dressy            8.404203\n",
       "dinner                                         7.879415\n",
       "ambience_others                                2.097510\n",
       "max_rating_rest                                1.151838\n",
       "min_rating_rest                                1.093585\n",
       "attributes.NoiseLevel_very_loud                1.009143\n",
       "attributes.ByAppointmentOnly_True              0.957012\n",
       "attributes.Caters_True                         0.905594\n",
       "ambience_trendy                                0.854999\n",
       "funny                                          0.787273\n",
       "european_food                                  0.619406\n",
       "attributes.BusinessAcceptsCreditCards_True     0.426114\n",
       "cool                                           0.417084\n",
       "ambience_casual                                0.223444\n",
       "attributes.Alcohol_full_bar                    0.186888\n",
       "attributes.DogsAllowed_True                    0.153160\n",
       "burger                                         0.075130\n",
       "attributes.DriveThru_True                      0.031290\n",
       "dtype: float64"
      ]
     },
     "execution_count": 437,
     "metadata": {},
     "output_type": "execute_result"
    }
   ],
   "source": [
    "importances_series = importances_series.sort_values(ascending=False)\n",
    "importances_series"
   ]
  },
  {
   "cell_type": "code",
   "execution_count": 438,
   "metadata": {},
   "outputs": [
    {
     "data": {
      "text/plain": [
       "Text(0.5, 0, 'Features')"
      ]
     },
     "execution_count": 438,
     "metadata": {},
     "output_type": "execute_result"
    },
    {
     "data": {
      "image/png": "[encoded data removed]",
      "text/plain": [
       "<Figure size 720x720 with 1 Axes>"
      ]
     },
     "metadata": {
      "needs_background": "light"
     },
     "output_type": "display_data"
    }
   ],
   "source": [
    "plt.figure(figsize=(10,10))\n",
    "ax = sns.barplot(importances_series.index, importances_series.values, alpha=0.8)\n",
    "plt.title(\"Feature Importance\",fontsize=25)\n",
    "locs, labels = plt.xticks()\n",
    "plt.setp(labels, rotation=80)\n",
    "plt.ylabel('Importance', fontsize=12)\n",
    "plt.xlabel('Features', fontsize=12)"
   ]
  },
  {
   "cell_type": "markdown",
   "metadata": {},
   "source": [
    "## 4.5 Bootstrapping"
   ]
  },
  {
   "cell_type": "code",
   "execution_count": 439,
   "metadata": {},
   "outputs": [
    {
     "data": {
      "text/plain": [
       "BaggingClassifier(base_estimator=None, bootstrap=True,\n",
       "         bootstrap_features=False, max_features=1.0, max_samples=1.0,\n",
       "         n_estimators=10, n_jobs=None, oob_score=False, random_state=None,\n",
       "         verbose=0, warm_start=False)"
      ]
     },
     "execution_count": 439,
     "metadata": {},
     "output_type": "execute_result"
    }
   ],
   "source": [
    "from sklearn.ensemble import BaggingClassifier\n",
    "model=BaggingClassifier()\n",
    "model.fit(train_X,np.ravel(train_y))"
   ]
  },
  {
   "cell_type": "code",
   "execution_count": 440,
   "metadata": {},
   "outputs": [
    {
     "data": {
      "text/plain": [
       "0.76897103252177"
      ]
     },
     "execution_count": 440,
     "metadata": {},
     "output_type": "execute_result"
    }
   ],
   "source": [
    "model.score(test_X, test_y)"
   ]
  }
 ],
 "metadata": {
  "kernelspec": {
   "display_name": "Python 3",
   "language": "python",
   "name": "python3"
  },
  "language_info": {
   "codemirror_mode": {
    "name": "ipython",
    "version": 3
   },
   "file_extension": ".py",
   "mimetype": "text/x-python",
   "name": "python",
   "nbconvert_exporter": "python",
   "pygments_lexer": "ipython3",
   "version": "3.6.3"
  }
 },
 "nbformat": 4,
 "nbformat_minor": 2
}
