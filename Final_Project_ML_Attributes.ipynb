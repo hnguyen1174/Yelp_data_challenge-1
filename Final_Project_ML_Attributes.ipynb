{
 "cells": [
  {
   "cell_type": "code",
   "execution_count": 1,
   "metadata": {},
   "outputs": [],
   "source": [
    "# import necessary libraries\n",
    "import numpy as np\n",
    "import pandas as pd\n",
    "import matplotlib.pyplot as plt\n",
    "%matplotlib inline\n",
    "import seaborn as sns\n",
    "import networkx as nx\n",
    "\n",
    "color = sns.color_palette()"
   ]
  },
  {
   "cell_type": "markdown",
   "metadata": {},
   "source": [
    "# 1. Setting Up"
   ]
  },
  {
   "cell_type": "code",
   "execution_count": 3,
   "metadata": {},
   "outputs": [],
   "source": [
    "# Import necessary libraries\n",
    "\n",
    "#misc\n",
    "import gc\n",
    "import time\n",
    "import warnings\n",
    "import json\n",
    "import os\n",
    "import ast\n",
    "\n",
    "import numpy as np\n",
    "import pandas as pd\n",
    "\n",
    "# Plotting\n",
    "import matplotlib.pyplot as plt\n",
    "%matplotlib inline\n",
    "import seaborn as sns\n",
    "color = sns.color_palette()"
   ]
  },
  {
   "cell_type": "markdown",
   "metadata": {},
   "source": [
    "Load the business dataset"
   ]
  },
  {
   "cell_type": "code",
   "execution_count": 2,
   "metadata": {},
   "outputs": [
    {
     "name": "stdout",
     "output_type": "stream",
     "text": [
      "<class 'pandas.core.frame.DataFrame'>\n",
      "RangeIndex: 188593 entries, 0 to 188592\n",
      "Data columns (total 61 columns):\n",
      "hours.Friday                             141796 non-null object\n",
      "attributes.RestaurantsAttire             48182 non-null object\n",
      "attributes.BikeParking                   84891 non-null object\n",
      "state                                    188593 non-null object\n",
      "categories                               188052 non-null object\n",
      "attributes.BusinessParking               103424 non-null object\n",
      "attributes.Alcohol                       47892 non-null object\n",
      "attributes.GoodForDancing                9162 non-null object\n",
      "attributes.BYOB                          911 non-null object\n",
      "attributes.DietaryRestrictions           138 non-null object\n",
      "attributes.RestaurantsReservations       51363 non-null object\n",
      "attributes.GoodForKids                   64931 non-null object\n",
      "attributes.Smoking                       8113 non-null object\n",
      "hours.Sunday                             93387 non-null object\n",
      "attributes.BYOBCorkage                   1409 non-null object\n",
      "latitude                                 188587 non-null float64\n",
      "attributes.BusinessAcceptsBitcoin        12674 non-null object\n",
      "attributes.GoodForMeal                   47483 non-null object\n",
      "attributes.BestNights                    6844 non-null object\n",
      "attributes.NoiseLevel                    43710 non-null object\n",
      "attributes.Corkage                       657 non-null object\n",
      "attributes.Music                         8807 non-null object\n",
      "hours.Wednesday                          141843 non-null object\n",
      "attributes.Open24Hours                   352 non-null object\n",
      "longitude                                188587 non-null float64\n",
      "neighborhood                             68655 non-null object\n",
      "attributes.HairSpecializesIn             1881 non-null object\n",
      "hours.Thursday                           142359 non-null object\n",
      "attributes.AgesAllowed                   397 non-null object\n",
      "attributes.ByAppointmentOnly             45423 non-null object\n",
      "business_id                              188593 non-null object\n",
      "attributes.RestaurantsDelivery           51668 non-null object\n",
      "attributes.RestaurantsGoodForGroups      53839 non-null object\n",
      "postal_code                              187912 non-null object\n",
      "attributes.RestaurantsTableService       43325 non-null object\n",
      "attributes.WiFi                          49026 non-null object\n",
      "hours                                    143791 non-null object\n",
      "attributes.DogsAllowed                   13681 non-null object\n",
      "review_count                             188593 non-null int64\n",
      "name                                     188593 non-null object\n",
      "attributes.BusinessAcceptsCreditCards    140391 non-null object\n",
      "hours.Saturday                           125376 non-null object\n",
      "attributes.Ambience                      47577 non-null object\n",
      "attributes.RestaurantsCounterService     397 non-null object\n",
      "attributes.DriveThru                     6754 non-null object\n",
      "attributes.Caters                        40038 non-null object\n",
      "address                                  180970 non-null object\n",
      "attributes.RestaurantsPriceRange2        107120 non-null float64\n",
      "attributes.RestaurantsTakeOut            61206 non-null object\n",
      "hours.Tuesday                            140607 non-null object\n",
      "attributes.WheelchairAccessible          52023 non-null object\n",
      "attributes.HasTV                         47533 non-null object\n",
      "attributes.HappyHour                     9285 non-null object\n",
      "hours.Monday                             132761 non-null object\n",
      "attributes.CoatCheck                     8531 non-null object\n",
      "attributes.OutdoorSeating                54181 non-null object\n",
      "is_open                                  188593 non-null int64\n",
      "attributes.AcceptsInsurance              11671 non-null object\n",
      "attributes                               162807 non-null object\n",
      "stars                                    188593 non-null float64\n",
      "city                                     188583 non-null object\n",
      "dtypes: float64(4), int64(2), object(55)\n",
      "memory usage: 87.8+ MB\n"
     ]
    }
   ],
   "source": [
    "business = pd.read_csv('/home/han2114/final_project_tools_analytics/yelp_academic_dataset_business_full.csv')\n",
    "business.info()"
   ]
  },
  {
   "cell_type": "code",
   "execution_count": 4,
   "metadata": {},
   "outputs": [
    {
     "name": "stdout",
     "output_type": "stream",
     "text": [
      "There are  1305  different types/categories of Businesses in Yelp!\n"
     ]
    }
   ],
   "source": [
    "cat_all = ','.join(business['categories'].dropna()).replace(\" \", \"\")\n",
    "cat_all = pd.DataFrame(cat_all.split(','), columns=['category'])\n",
    "cat_all_count = cat_all.category.value_counts().sort_values(ascending = False)\n",
    "print(\"There are \",len(cat_all_count),\" different types/categories of Businesses in Yelp!\")"
   ]
  },
  {
   "cell_type": "code",
   "execution_count": 5,
   "metadata": {},
   "outputs": [
    {
     "data": {
      "text/plain": [
       "Restaurants                 57173\n",
       "Shopping                    30231\n",
       "Food                        27118\n",
       "Beauty&Spas                 18967\n",
       "HomeServices                18634\n",
       "Health&Medical              16157\n",
       "LocalServices               12906\n",
       "Automotive                  12656\n",
       "Nightlife                   12438\n",
       "Bars                        10853\n",
       "EventPlanning&Services       9774\n",
       "ActiveLife                   9119\n",
       "Fashion                      7406\n",
       "Coffee&Tea                   6936\n",
       "Sandwiches                   6912\n",
       "HairSalons                   6825\n",
       "FastFood                     6812\n",
       "American(Traditional)        6659\n",
       "Pizza                        6603\n",
       "Home&Garden                  6020\n",
       "AutoRepair                   5877\n",
       "Hotels&Travel                5808\n",
       "Arts&Entertainment           5794\n",
       "ProfessionalServices         5620\n",
       "Doctors                      5450\n",
       "RealEstate                   5295\n",
       "Burgers                      5126\n",
       "Breakfast&Brunch             5023\n",
       "NailSalons                   4839\n",
       "Fitness&Instruction          4559\n",
       "                            ...  \n",
       "StreetArt                       1\n",
       "RotisserieChicken               1\n",
       "ElectricitySuppliers            1\n",
       "Playsets                        1\n",
       "Rodeo                           1\n",
       "SaunaInstallation&Repair        1\n",
       "Bulgarian                       1\n",
       "Tonkatsu                        1\n",
       "JapaneseSweets                  1\n",
       "Osteopaths                      1\n",
       "Flyboarding                     1\n",
       "Hainan                          1\n",
       "BeachBars                       1\n",
       "Otologists                      1\n",
       "GeneralFestivals                1\n",
       "TraditionalNorwegian            1\n",
       "HybridCarRepair                 1\n",
       "BeerHall                        1\n",
       "Soba                            1\n",
       "SignatureCuisine                1\n",
       "Czech/Slovakian                 1\n",
       "Backshop                        1\n",
       "MarketStalls                    1\n",
       "BeachVolleyball                 1\n",
       "SportEquipmentHire              1\n",
       "Pensions                        1\n",
       "DialysisClinics                 1\n",
       "WaterSuppliers                  1\n",
       "Tempura                         1\n",
       "SerboCroatian                   1\n",
       "Name: category, Length: 1305, dtype: int64"
      ]
     },
     "execution_count": 5,
     "metadata": {},
     "output_type": "execute_result"
    }
   ],
   "source": [
    "cat_all_count"
   ]
  },
  {
   "cell_type": "code",
   "execution_count": 6,
   "metadata": {},
   "outputs": [],
   "source": [
    "tfile = open('cat_all_count.txt', 'a')\n",
    "tfile.write(cat_all_count.to_string())\n",
    "tfile.close()"
   ]
  },
  {
   "cell_type": "code",
   "execution_count": 7,
   "metadata": {},
   "outputs": [],
   "source": [
    "food_masks = ['Restaurants', 'Food','Sandwiches', 'FastFood', 'Breakfast&Brunch', 'SpecialtyFood', 'Burgers',\n",
    "                    'American(Traditional)', 'American(New)','Pizza', 'Italian','African','Falafel','Turkish',\n",
    "                    'Desserts', 'Bakeries', 'Salad','ChickenWings', 'Mexican','Seafood','Chinese','Malaysian',\n",
    "                    'IceCream&FrozenYogurt', 'Delis', 'Japanese', 'Bars', 'Canadian(New)', 'AsianFusion',\n",
    "                    'Mediterranean', 'SushiBars','JuiceBars&Smoothies','Steakhouses','Coffee&Tea','Pretzels','PanAsian',\n",
    "                    'Barbeque','Beer','Wine&Spirits','SportsBars', 'Pubs','British','Poke','Delicatessen',\n",
    "                     'Lounges', 'WineBars', 'CocktailBars', 'Diners','Patisserie/CakeShop','Kosher','Afghan',\n",
    "                     'Vegetarian', 'EthnicFood', 'MiddleEastern','Persian/Iranian','FoodCourt','IrishPub',\n",
    "                     'Gluten-Free','ComfortFood','Indian','Soup','Vegan', 'Thai','FoodTrucks','Szechuan',\n",
    "                     'French','Greek','Buffets','Vietnamese','HotDogs','DiveBars','Tex-Mex','HotPot','Polish','Moroccan',\n",
    "                     'ImportedFood','Gastropubs','Bagels','BeerBar','Halal','Korean','Donuts','Tapas/SmallPlates',\n",
    "                     'Breweries','Southern','LatinAmerican','Do-It-YourselfFood','InternetCafes','Cantonese',\n",
    "                     'BubbleTea','TapasBars','Caribbean','Lebanese','CoffeeRoasteries','Gelato','Brazilian',\n",
    "                     'Pakistani','FoodStands','Hawaiian','Dim Sum','Tacos','SoulFood','Creperies','Ethiopian',\n",
    "                     'Fish&Chips','Cajun/Creole','Irish','ShavedIce','InternetCafes','Bistros','Peruvian','Waffles',\n",
    "                     'ModernEuropean','Taiwanese','Filipino','Cheesesteaks','German','Brasseries','Cuban',\n",
    "                     'Wineries','Ramen','Spanish','Poutineries','TeaRooms','Noodles','Cupcakes','Portuguese']"
   ]
  },
  {
   "cell_type": "code",
   "execution_count": 8,
   "metadata": {},
   "outputs": [],
   "source": [
    "bus_cats = business['categories']\n",
    "index_food_masks = list()\n",
    "NaN_list = list()\n",
    "for index, bus_cat in enumerate(bus_cats):\n",
    "    if pd.isnull(bus_cat) == True:\n",
    "        NaN_list.append(index)\n",
    "    else:\n",
    "        if bool(set(bus_cat.replace(\" \",\"\").split(',')) & set(food_masks)):\n",
    "            index_food_masks.append(index)"
   ]
  },
  {
   "cell_type": "code",
   "execution_count": 9,
   "metadata": {},
   "outputs": [],
   "source": [
    "restaurants = business.iloc[index_food_masks]"
   ]
  },
  {
   "cell_type": "code",
   "execution_count": 10,
   "metadata": {},
   "outputs": [
    {
     "name": "stdout",
     "output_type": "stream",
     "text": [
      "There are  835  different types/categories of Restaurants in Yelp!\n"
     ]
    }
   ],
   "source": [
    "cat_all_res = ','.join(restaurants['categories']).replace(\" \", \"\")\n",
    "cat_all_res = pd.DataFrame(cat_all_res.split(','), columns=['category'])\n",
    "cat_all_res_count = cat_all_res.category.value_counts().sort_values(ascending = False)\n",
    "print(\"There are \",len(cat_all_res_count),\" different types/categories of Restaurants in Yelp!\")"
   ]
  },
  {
   "cell_type": "code",
   "execution_count": 11,
   "metadata": {},
   "outputs": [],
   "source": [
    "USA_mask = ['AZ','NV','OH','NC','PA','WI','IL','SC','IN','OR','NY','MO','FL','AL','VA','CA']\n",
    "CAN_mask = ['ON','QC','AB','BC']\n",
    "UK_mask = ['NYK','XGM','NLK','XMS','CMA','WHT']\n",
    "GER_mask = ['NI','BY','HE','ST','RP','NW']\n",
    "location_mask = USA_mask + CAN_mask + UK_mask + GER_mask"
   ]
  },
  {
   "cell_type": "code",
   "execution_count": 12,
   "metadata": {},
   "outputs": [],
   "source": [
    "index_location_mask = list()\n",
    "state = restaurants['state']\n",
    "for index, state in enumerate(state):\n",
    "    if state in location_mask:\n",
    "        index_location_mask.append(index)"
   ]
  },
  {
   "cell_type": "code",
   "execution_count": 13,
   "metadata": {},
   "outputs": [],
   "source": [
    "restaurants = restaurants.iloc[index_location_mask]"
   ]
  },
  {
   "cell_type": "code",
   "execution_count": 14,
   "metadata": {},
   "outputs": [],
   "source": [
    "def label_country (row):\n",
    "    if row['state'] in  USA_mask:\n",
    "          return 'USA'\n",
    "    if row['state'] in  CAN_mask:\n",
    "          return 'Canada'\n",
    "    if row['state'] in  UK_mask:\n",
    "          return 'UK'\n",
    "    if row['state'] in  GER_mask:\n",
    "          return 'Germany'\n",
    "\n",
    "restaurants['country'] = restaurants.apply(lambda row: label_country(row),axis=1)"
   ]
  },
  {
   "cell_type": "markdown",
   "metadata": {},
   "source": [
    "# 2. Exploratory Data Analysis"
   ]
  },
  {
   "cell_type": "markdown",
   "metadata": {},
   "source": [
    "### 2A. Rating Distributions"
   ]
  },
  {
   "cell_type": "code",
   "execution_count": 15,
   "metadata": {},
   "outputs": [
    {
     "data": {
      "text/plain": [
       "1.0      540\n",
       "1.5     1540\n",
       "2.0     4065\n",
       "2.5     7400\n",
       "3.0    12984\n",
       "3.5    17410\n",
       "4.0    18145\n",
       "4.5    10069\n",
       "5.0     3199\n",
       "Name: stars, dtype: int64"
      ]
     },
     "execution_count": 15,
     "metadata": {},
     "output_type": "execute_result"
    }
   ],
   "source": [
    "# Get the distribution of the ratings\n",
    "rating_dist = restaurants['stars'].value_counts().sort_index()\n",
    "rating_dist"
   ]
  },
  {
   "cell_type": "code",
   "execution_count": 16,
   "metadata": {},
   "outputs": [
    {
     "data": {
      "image/png": "[encoded data removed]",
      "text/plain": [
       "<Figure size 1080x1080 with 1 Axes>"
      ]
     },
     "metadata": {
      "needs_background": "light"
     },
     "output_type": "display_data"
    }
   ],
   "source": [
    "plt.figure(figsize=(15,15))\n",
    "ax = sns.barplot(rating_dist.index, rating_dist.values, alpha=0.8)\n",
    "plt.title(\"Rating Distribution\")\n",
    "plt.ylabel('Number of business', fontsize=15)\n",
    "plt.xlabel('Rating', fontsize=15)\n",
    "\n",
    "rects = ax.patches\n",
    "labels = rating_dist.values\n",
    "for rect, label in zip(rects, labels):\n",
    "    height = rect.get_height()\n",
    "    ax.text(rect.get_x() + rect.get_width()/2, height + 5, label, ha='center', va='bottom')\n",
    "plt.show()"
   ]
  },
  {
   "cell_type": "code",
   "execution_count": 17,
   "metadata": {},
   "outputs": [
    {
     "data": {
      "image/png": "[encoded data removed]",
      "text/plain": [
       "<Figure size 864x864 with 1 Axes>"
      ]
     },
     "metadata": {},
     "output_type": "display_data"
    }
   ],
   "source": [
    "plt.figure(figsize=(12,12))\n",
    "labels = (np.array(rating_dist.index))\n",
    "sizes = (np.array((rating_dist / rating_dist.sum())*100))\n",
    "plt.pie(sizes, labels=labels, \n",
    "        autopct= '%1.1f%%', startangle = 200)\n",
    "plt.title(\"Rating Share\", fontsize=15)\n",
    "plt.show()"
   ]
  },
  {
   "cell_type": "code",
   "execution_count": 18,
   "metadata": {
    "scrolled": true
   },
   "outputs": [
    {
     "data": {
      "image/png": "[encoded data removed]",
      "text/plain": [
       "<Figure size 1152x288 with 1 Axes>"
      ]
     },
     "metadata": {
      "needs_background": "light"
     },
     "output_type": "display_data"
    }
   ],
   "source": [
    "x = cat_all_res_count.iloc[0:20]\n",
    "\n",
    "plt.figure(figsize=(16,4))\n",
    "ax = sns.barplot(x.index, x.values, alpha=0.8)\n",
    "plt.title(\"What are the top categories?\",fontsize=25)\n",
    "locs, labels = plt.xticks()\n",
    "plt.setp(labels, rotation=80)\n",
    "plt.ylabel('# businesses', fontsize=12)\n",
    "plt.xlabel('Category', fontsize=12)\n",
    "\n",
    "rects = ax.patches\n",
    "labels = x.values\n",
    "for rect, label in zip(rects, labels):\n",
    "    height = rect.get_height()\n",
    "    ax.text(rect.get_x() + rect.get_width()/2, height + 5, label, ha='center', va='bottom')\n",
    "\n",
    "plt.show()"
   ]
  },
  {
   "cell_type": "code",
   "execution_count": 19,
   "metadata": {},
   "outputs": [
    {
     "data": {
      "image/png": "[encoded data removed]",
      "text/plain": [
       "<Figure size 1152x288 with 1 Axes>"
      ]
     },
     "metadata": {
      "needs_background": "light"
     },
     "output_type": "display_data"
    }
   ],
   "source": [
    "# Location distribution\n",
    "\n",
    "city_count = restaurants['city'].value_counts().sort_values(ascending=False)\n",
    "plt.figure(figsize=(16,4))\n",
    "ax = sns.barplot(city_count[0:20].index, city_count[0:20].values, alpha=0.8)\n",
    "plt.title(\"Which city has the most reviews?\")\n",
    "locs, labels = plt.xticks()\n",
    "plt.setp(labels, rotation=45)\n",
    "plt.ylabel('# restaurants', fontsize=12)\n",
    "plt.xlabel('City', fontsize=12)\n",
    "\n",
    "rects = ax.patches\n",
    "labels = city_count.values\n",
    "for rect, label in zip(rects, labels):\n",
    "    height = rect.get_height()\n",
    "    ax.text(rect.get_x() + rect.get_width()/2, height + 5, label, ha='center', va='bottom')\n",
    "\n",
    "plt.show()"
   ]
  },
  {
   "cell_type": "code",
   "execution_count": 20,
   "metadata": {},
   "outputs": [
    {
     "data": {
      "image/png": "[encoded data removed]",
      "text/plain": [
       "<Figure size 1152x288 with 1 Axes>"
      ]
     },
     "metadata": {
      "needs_background": "light"
     },
     "output_type": "display_data"
    }
   ],
   "source": [
    "# Country distribution\n",
    "\n",
    "country_count = restaurants['country'].value_counts().sort_values(ascending=False)\n",
    "plt.figure(figsize=(16,4))\n",
    "ax = sns.barplot(country_count.index, country_count.values, alpha=0.8)\n",
    "plt.title(\"Which country has the most reviews?\")\n",
    "locs, labels = plt.xticks()\n",
    "plt.setp(labels, rotation=45)\n",
    "plt.ylabel('# restaurants', fontsize=12)\n",
    "plt.xlabel('Country', fontsize=12)\n",
    "\n",
    "rects = ax.patches\n",
    "labels = country_count.values\n",
    "for rect, label in zip(rects, labels):\n",
    "    height = rect.get_height()\n",
    "    ax.text(rect.get_x() + rect.get_width()/2, height + 5, label, ha='center', va='bottom')\n",
    "\n",
    "plt.show()"
   ]
  },
  {
   "cell_type": "code",
   "execution_count": 21,
   "metadata": {},
   "outputs": [
    {
     "data": {
      "text/plain": [
       "1746"
      ]
     },
     "execution_count": 21,
     "metadata": {},
     "output_type": "execute_result"
    }
   ],
   "source": [
    "# Top restaurants by number of reviews\n",
    "\n",
    "top_res = restaurants[restaurants['stars'] == 5.0]\n",
    "top_res.loc[top_res['review_count'].idxmax()]['review_count']"
   ]
  },
  {
   "cell_type": "markdown",
   "metadata": {},
   "source": [
    "# 3. Feature Selection"
   ]
  },
  {
   "cell_type": "markdown",
   "metadata": {},
   "source": [
    "## 3.0 We hypothesize that the following features are important"
   ]
  },
  {
   "cell_type": "markdown",
   "metadata": {},
   "source": [
    "Review and User-related features\n",
    "\n",
    "1. Review Count\n",
    "2. Star Rating\n",
    "3. Number of users who wrote reviews\n",
    "4. Maximum number of stars\n",
    "5. Minimum number of stars\n",
    "6. Number of reviews voted as 'cool'\n",
    "7. Number of reviews voted as 'funny'\n",
    "8. Number of reviews voted as 'useful'\n",
    "9. Time since first/last reviews\n",
    "10. Time between first and last reviews\n",
    "11. Max number of review in a single day\n"
   ]
  },
  {
   "cell_type": "markdown",
   "metadata": {},
   "source": [
    "Business Attributes Feature:\n",
    "    \n",
    "1. Hours\n",
    "2. Categories\n",
    "3. Business Parking\n",
    "4. Restaurant Reservations\n",
    "5. Good for Kids\n",
    "6. Smoking\n",
    "7. Good for Meal\n",
    "8. Noise Level\n",
    "9. Music\n",
    "10. Ages Allowed\n",
    "11. Restaurants Good for Groups\n",
    "12. WiFi\n",
    "13. Business Accepts Credit Cards\n",
    "14. Ambience\n",
    "15. Restaurant Price Range\n",
    "16. Happy Hour\n",
    "17. Outdoors Seating"
   ]
  },
  {
   "cell_type": "code",
   "execution_count": 34,
   "metadata": {},
   "outputs": [
    {
     "data": {
      "text/plain": [
       "Index(['hours.Friday', 'attributes.RestaurantsAttire',\n",
       "       'attributes.BikeParking', 'state', 'categories',\n",
       "       'attributes.BusinessParking', 'attributes.Alcohol',\n",
       "       'attributes.GoodForDancing', 'attributes.BYOB',\n",
       "       'attributes.DietaryRestrictions', 'attributes.RestaurantsReservations',\n",
       "       'attributes.GoodForKids', 'attributes.Smoking', 'hours.Sunday',\n",
       "       'attributes.BYOBCorkage', 'latitude',\n",
       "       'attributes.BusinessAcceptsBitcoin', 'attributes.GoodForMeal',\n",
       "       'attributes.BestNights', 'attributes.NoiseLevel', 'attributes.Corkage',\n",
       "       'attributes.Music', 'hours.Wednesday', 'attributes.Open24Hours',\n",
       "       'longitude', 'neighborhood', 'attributes.HairSpecializesIn',\n",
       "       'hours.Thursday', 'attributes.AgesAllowed',\n",
       "       'attributes.ByAppointmentOnly', 'business_id',\n",
       "       'attributes.RestaurantsDelivery', 'attributes.RestaurantsGoodForGroups',\n",
       "       'postal_code', 'attributes.RestaurantsTableService', 'attributes.WiFi',\n",
       "       'hours', 'attributes.DogsAllowed', 'review_count', 'name',\n",
       "       'attributes.BusinessAcceptsCreditCards', 'hours.Saturday',\n",
       "       'attributes.Ambience', 'attributes.RestaurantsCounterService',\n",
       "       'attributes.DriveThru', 'attributes.Caters', 'address',\n",
       "       'attributes.RestaurantsPriceRange2', 'attributes.RestaurantsTakeOut',\n",
       "       'hours.Tuesday', 'attributes.WheelchairAccessible', 'attributes.HasTV',\n",
       "       'attributes.HappyHour', 'hours.Monday', 'attributes.CoatCheck',\n",
       "       'attributes.OutdoorSeating', 'is_open', 'attributes.AcceptsInsurance',\n",
       "       'attributes', 'stars', 'city', 'country', 'Ambience'],\n",
       "      dtype='object')"
      ]
     },
     "execution_count": 34,
     "metadata": {},
     "output_type": "execute_result"
    }
   ],
   "source": [
    "col"
   ]
  },
  {
   "cell_type": "markdown",
   "metadata": {},
   "source": [
    "## 3.1 Merge Restaurants with Users and Reviews"
   ]
  },
  {
   "cell_type": "code",
   "execution_count": 35,
   "metadata": {},
   "outputs": [],
   "source": [
    "#importing the yelp reviews dataset\n",
    "datastr=open('yelp_academic_dataset_review.json','r')\n",
    "datajson=datastr.readlines()\n",
    "check=[json.loads(x) for x in datajson]\n",
    "ind=range(0,len(check))\n",
    "reviews=pd.DataFrame(check,index=ind,columns=check[0].keys())"
   ]
  },
  {
   "cell_type": "code",
   "execution_count": 43,
   "metadata": {},
   "outputs": [
    {
     "data": {
      "text/plain": [
       "Index(['review_id', 'user_id', 'business_id', 'stars', 'date', 'text',\n",
       "       'useful', 'funny', 'cool'],\n",
       "      dtype='object')"
      ]
     },
     "execution_count": 43,
     "metadata": {},
     "output_type": "execute_result"
    }
   ],
   "source": [
    "reviews.columns"
   ]
  },
  {
   "cell_type": "code",
   "execution_count": 44,
   "metadata": {},
   "outputs": [],
   "source": [
    "restaurant_reviews = reviews[reviews[\"business_id\"].isin(restaurants[\"business_id\"])]"
   ]
  },
  {
   "cell_type": "code",
   "execution_count": 100,
   "metadata": {},
   "outputs": [],
   "source": [
    "# User counts, max and min ratings\n",
    "user_rating_count = restaurant_reviews[['user_id','business_id']].groupby(['business_id']).count()\n",
    "user_rating_count = user_rating_count.rename(columns = {'business_id':'user_rating_count'})\n",
    "max_rating_restaurant = restaurant_reviews[['business_id','stars']].groupby(['business_id']).max()\n",
    "max_rating_restaurant = max_rating_restaurant.rename(columns = {'stars':'max_rating_rest'})\n",
    "min_rating_restaurant = restaurant_reviews[['business_id','stars']].groupby(['business_id']).min()\n",
    "min_rating_restaurant = min_rating_restaurant.rename(columns = {'stars':'min_rating_rest'})"
   ]
  },
  {
   "cell_type": "code",
   "execution_count": 74,
   "metadata": {},
   "outputs": [],
   "source": [
    "# Useful, funny, cool\n",
    "useful_mean = restaurant_reviews[['business_id','useful']].groupby(['business_id']).mean()\n",
    "useful_mean = useful_mean.rename(columns = {'business_id':'useful_mean'})\n",
    "funny_mean = restaurant_reviews[['business_id','funny']].groupby(['business_id']).mean()\n",
    "funny_mean = funny_mean.rename(columns = {'business_id':'funny_mean'})\n",
    "cool_mean = restaurant_reviews[['business_id','cool']].groupby(['business_id']).mean()\n",
    "cool_mean = cool_mean.rename(columns = {'business_id':'cool_mean'})"
   ]
  },
  {
   "cell_type": "code",
   "execution_count": 101,
   "metadata": {},
   "outputs": [],
   "source": [
    "restaurants = restaurants.merge(user_rating_count, how = 'left', on = 'business_id')"
   ]
  },
  {
   "cell_type": "code",
   "execution_count": 105,
   "metadata": {},
   "outputs": [],
   "source": [
    "user_rating_count = restaurant_reviews[['user_id','business_id']]"
   ]
  },
  {
   "cell_type": "code",
   "execution_count": 104,
   "metadata": {},
   "outputs": [
    {
     "data": {
      "text/plain": [
       "<pandas.core.groupby.groupby.DataFrameGroupBy object at 0x7fe4156c00f0>"
      ]
     },
     "execution_count": 104,
     "metadata": {},
     "output_type": "execute_result"
    }
   ],
   "source": [
    "user_rating_count = "
   ]
  },
  {
   "cell_type": "markdown",
   "metadata": {},
   "source": [
    "## 3.2 Ambience"
   ]
  },
  {
   "cell_type": "code",
   "execution_count": 108,
   "metadata": {
    "scrolled": true
   },
   "outputs": [
    {
     "data": {
      "text/plain": [
       "array([nan,\n",
       "       \"{'romantic': False, 'intimate': False, 'classy': False, 'hipster': False, 'touristy': False, 'trendy': False, 'upscale': False, 'casual': False}\",\n",
       "       \"{'romantic': False, 'intimate': False, 'classy': False, 'hipster': False, 'divey': False, 'touristy': False, 'trendy': False, 'upscale': False, 'casual': True}\",\n",
       "       \"{'romantic': False, 'intimate': False, 'classy': False, 'hipster': False, 'divey': False, 'touristy': False, 'trendy': False, 'upscale': False, 'casual': False}\",\n",
       "       \"{'romantic': False, 'intimate': False, 'classy': False, 'hipster': False, 'divey': True, 'touristy': False, 'trendy': False, 'upscale': False, 'casual': False}\",\n",
       "       \"{'romantic': False, 'intimate': False, 'classy': False, 'hipster': False, 'touristy': False, 'trendy': False, 'upscale': False, 'casual': True}\",\n",
       "       \"{'romantic': False, 'intimate': False, 'classy': False, 'hipster': False, 'touristy': False, 'trendy': True, 'upscale': False, 'casual': False}\",\n",
       "       \"{'romantic': False, 'intimate': False, 'classy': True, 'hipster': False, 'divey': False, 'touristy': False, 'trendy': True, 'upscale': True, 'casual': False}\",\n",
       "       \"{'romantic': False, 'intimate': False, 'classy': False, 'hipster': False, 'divey': False, 'touristy': True, 'trendy': False, 'upscale': False, 'casual': False}\",\n",
       "       \"{'romantic': False, 'intimate': False, 'classy': True, 'hipster': False, 'touristy': False, 'trendy': False, 'upscale': False, 'casual': False}\",\n",
       "       \"{'romantic': False, 'intimate': True, 'classy': False, 'hipster': False, 'divey': False, 'touristy': False, 'trendy': False, 'upscale': False, 'casual': False}\",\n",
       "       \"{'romantic': False, 'intimate': False, 'classy': True, 'hipster': False, 'divey': False, 'touristy': False, 'trendy': False, 'upscale': True, 'casual': False}\",\n",
       "       \"{'romantic': False, 'intimate': False, 'classy': False, 'hipster': True, 'touristy': False, 'trendy': False, 'upscale': False, 'casual': False}\",\n",
       "       \"{'romantic': False, 'intimate': True, 'classy': False, 'hipster': False, 'touristy': False, 'trendy': False, 'upscale': False, 'casual': False}\",\n",
       "       \"{'romantic': False, 'intimate': False, 'classy': False, 'hipster': True, 'touristy': False, 'trendy': False, 'upscale': False, 'casual': True}\",\n",
       "       \"{'romantic': False, 'intimate': False, 'classy': False, 'hipster': False, 'divey': False, 'touristy': False, 'trendy': True, 'upscale': False, 'casual': False}\",\n",
       "       \"{'romantic': False, 'intimate': False, 'classy': True, 'hipster': False, 'divey': False, 'touristy': False, 'trendy': False, 'upscale': False, 'casual': False}\",\n",
       "       \"{'romantic': False, 'intimate': False, 'classy': False, 'hipster': False, 'touristy': False, 'trendy': True, 'upscale': False, 'casual': True}\",\n",
       "       \"{'romantic': False, 'intimate': False, 'classy': False, 'hipster': False, 'divey': False, 'touristy': False, 'trendy': True, 'upscale': False, 'casual': True}\",\n",
       "       \"{'romantic': False, 'intimate': False, 'classy': False, 'hipster': True, 'divey': False, 'touristy': False, 'trendy': False, 'upscale': False, 'casual': True}\",\n",
       "       \"{'romantic': False, 'intimate': False, 'classy': False, 'hipster': False, 'divey': False, 'touristy': False, 'trendy': True, 'upscale': True, 'casual': False}\",\n",
       "       \"{'romantic': False, 'intimate': True, 'classy': True, 'hipster': False, 'touristy': False, 'trendy': False, 'upscale': False, 'casual': False}\",\n",
       "       \"{'romantic': False, 'intimate': False, 'classy': True, 'hipster': False, 'touristy': False, 'trendy': True, 'upscale': True, 'casual': False}\",\n",
       "       \"{'romantic': False, 'intimate': False, 'classy': False, 'hipster': True, 'divey': False, 'touristy': False, 'trendy': True, 'upscale': False, 'casual': False}\",\n",
       "       \"{'romantic': False, 'intimate': False, 'classy': False, 'hipster': False, 'divey': True, 'touristy': False, 'trendy': False, 'upscale': False, 'casual': True}\",\n",
       "       \"{'romantic': False, 'intimate': False, 'classy': False, 'hipster': False, 'touristy': True, 'trendy': False, 'upscale': False, 'casual': True}\",\n",
       "       \"{'romantic': True, 'intimate': False, 'classy': False, 'hipster': False, 'touristy': False, 'trendy': False, 'upscale': False, 'casual': False}\",\n",
       "       \"{'romantic': True, 'intimate': True, 'classy': False, 'hipster': False, 'divey': False, 'touristy': False, 'trendy': False, 'upscale': False, 'casual': False}\",\n",
       "       \"{'romantic': False, 'intimate': False, 'classy': False, 'hipster': True, 'divey': False, 'touristy': False, 'trendy': False, 'upscale': False, 'casual': False}\",\n",
       "       \"{'romantic': True, 'intimate': False, 'classy': True, 'hipster': False, 'touristy': False, 'trendy': False, 'upscale': False, 'casual': False}\",\n",
       "       \"{'romantic': True, 'intimate': True, 'classy': True, 'hipster': True, 'divey': False, 'touristy': False, 'trendy': True, 'upscale': False, 'casual': True}\",\n",
       "       \"{'romantic': True, 'intimate': False, 'classy': False, 'hipster': False, 'divey': False, 'touristy': False, 'trendy': False, 'upscale': True, 'casual': True}\",\n",
       "       \"{'romantic': False, 'intimate': False, 'classy': True, 'hipster': False, 'divey': False, 'touristy': False, 'trendy': True, 'upscale': False, 'casual': False}\",\n",
       "       \"{'romantic': False, 'intimate': False, 'classy': False, 'hipster': False, 'divey': False, 'touristy': True, 'trendy': False, 'upscale': False, 'casual': True}\",\n",
       "       \"{'romantic': True, 'intimate': False, 'classy': True, 'hipster': False, 'divey': False, 'touristy': False, 'trendy': True, 'upscale': False, 'casual': False}\",\n",
       "       \"{'romantic': False, 'intimate': False, 'classy': False, 'hipster': True, 'divey': False, 'touristy': False, 'trendy': True, 'upscale': False, 'casual': True}\",\n",
       "       \"{'romantic': False, 'intimate': False, 'classy': False, 'hipster': False, 'touristy': False, 'trendy': False, 'upscale': True, 'casual': False}\",\n",
       "       \"{'romantic': True, 'intimate': False, 'classy': False, 'hipster': False, 'divey': False, 'touristy': False, 'trendy': False, 'upscale': False, 'casual': False}\",\n",
       "       \"{'romantic': False, 'intimate': False, 'classy': True, 'hipster': False, 'divey': False, 'touristy': False, 'trendy': False, 'upscale': True, 'casual': True}\",\n",
       "       \"{'romantic': False, 'intimate': True, 'classy': True, 'hipster': False, 'divey': False, 'touristy': False, 'trendy': True, 'upscale': False, 'casual': True}\",\n",
       "       \"{'romantic': False, 'intimate': True, 'classy': True, 'hipster': False, 'divey': False, 'touristy': False, 'trendy': False, 'upscale': False, 'casual': False}\",\n",
       "       \"{'romantic': False, 'intimate': False, 'classy': True, 'hipster': False, 'divey': False, 'touristy': False, 'trendy': True, 'upscale': False, 'casual': True}\",\n",
       "       \"{'romantic': False, 'intimate': False, 'classy': False, 'hipster': True, 'touristy': False, 'trendy': True, 'upscale': False, 'casual': True}\",\n",
       "       \"{'romantic': False, 'intimate': True, 'classy': False, 'hipster': False, 'touristy': False, 'trendy': True, 'upscale': False, 'casual': True}\",\n",
       "       \"{'romantic': False, 'intimate': False, 'classy': False, 'hipster': False, 'divey': False, 'touristy': False, 'trendy': False, 'upscale': True, 'casual': True}\",\n",
       "       \"{'romantic': False, 'intimate': False, 'classy': False, 'hipster': False, 'divey': False, 'touristy': False, 'trendy': False, 'upscale': True, 'casual': False}\",\n",
       "       \"{'romantic': False, 'intimate': False, 'classy': False, 'hipster': True, 'touristy': False, 'trendy': True, 'upscale': False, 'casual': False}\",\n",
       "       \"{'romantic': False, 'intimate': False, 'classy': True, 'hipster': True, 'divey': False, 'touristy': False, 'trendy': True, 'upscale': True, 'casual': True}\",\n",
       "       \"{'romantic': False, 'intimate': False, 'classy': True, 'hipster': False, 'touristy': False, 'trendy': False, 'upscale': True, 'casual': False}\",\n",
       "       \"{'romantic': False, 'intimate': True, 'classy': False, 'hipster': True, 'divey': False, 'touristy': False, 'trendy': False, 'upscale': False, 'casual': True}\",\n",
       "       \"{'romantic': True, 'intimate': False, 'classy': False, 'hipster': False, 'touristy': False, 'trendy': False, 'upscale': False, 'casual': True}\",\n",
       "       \"{'romantic': False, 'intimate': True, 'classy': False, 'hipster': False, 'divey': False, 'touristy': False, 'trendy': False, 'upscale': False, 'casual': True}\",\n",
       "       \"{'romantic': True, 'intimate': True, 'classy': True, 'hipster': False, 'divey': False, 'touristy': False, 'trendy': False, 'upscale': False, 'casual': False}\",\n",
       "       \"{'romantic': False, 'intimate': False, 'classy': True, 'hipster': False, 'divey': False, 'touristy': False, 'trendy': False, 'upscale': False, 'casual': True}\",\n",
       "       \"{'romantic': False, 'intimate': True, 'classy': False, 'hipster': False, 'divey': False, 'touristy': False, 'trendy': True, 'upscale': False, 'casual': True}\",\n",
       "       \"{'romantic': True, 'intimate': False, 'classy': True, 'hipster': False, 'touristy': False, 'trendy': False, 'upscale': True, 'casual': False}\",\n",
       "       \"{'romantic': True, 'intimate': True, 'classy': True, 'hipster': False, 'divey': False, 'touristy': False, 'trendy': False, 'upscale': True, 'casual': False}\",\n",
       "       \"{'romantic': True, 'intimate': True, 'classy': False, 'hipster': False, 'touristy': False, 'trendy': False, 'upscale': False, 'casual': True}\",\n",
       "       \"{'romantic': True, 'intimate': False, 'classy': True, 'hipster': False, 'divey': False, 'touristy': False, 'trendy': False, 'upscale': True, 'casual': False}\",\n",
       "       \"{'romantic': True, 'intimate': False, 'classy': True, 'hipster': False, 'divey': False, 'touristy': False, 'trendy': False, 'upscale': False, 'casual': False}\",\n",
       "       \"{'romantic': True, 'intimate': True, 'classy': True, 'hipster': False, 'divey': False, 'touristy': False, 'trendy': False, 'upscale': False, 'casual': True}\",\n",
       "       \"{'romantic': False, 'intimate': False, 'classy': True, 'hipster': False, 'touristy': False, 'trendy': True, 'upscale': False, 'casual': False}\",\n",
       "       \"{'romantic': False, 'intimate': False, 'classy': False, 'hipster': False, 'divey': False, 'touristy': True, 'trendy': True, 'upscale': False, 'casual': True}\",\n",
       "       \"{'romantic': False, 'intimate': False, 'classy': False, 'hipster': False, 'touristy': True, 'trendy': True, 'upscale': False, 'casual': False}\",\n",
       "       \"{'romantic': True, 'intimate': True, 'classy': True, 'hipster': False, 'touristy': False, 'trendy': True, 'upscale': True, 'casual': False}\",\n",
       "       \"{'romantic': True, 'intimate': True, 'classy': False, 'hipster': False, 'touristy': False, 'trendy': False, 'upscale': False, 'casual': False}\",\n",
       "       \"{'romantic': False, 'intimate': True, 'classy': False, 'hipster': False, 'touristy': False, 'trendy': False, 'upscale': False, 'casual': True}\",\n",
       "       \"{'romantic': False, 'intimate': True, 'classy': True, 'hipster': False, 'divey': False, 'touristy': False, 'trendy': False, 'upscale': True, 'casual': False}\",\n",
       "       \"{'romantic': False, 'intimate': False, 'classy': False, 'hipster': False, 'divey': True, 'touristy': False, 'trendy': True, 'upscale': False, 'casual': True}\",\n",
       "       \"{'romantic': False, 'intimate': False, 'classy': False, 'hipster': False, 'touristy': True, 'trendy': True, 'upscale': False, 'casual': True}\",\n",
       "       \"{'romantic': False, 'intimate': False, 'classy': False, 'hipster': False, 'touristy': False, 'trendy': True, 'upscale': True, 'casual': False}\",\n",
       "       \"{'romantic': False, 'intimate': True, 'classy': False, 'hipster': True, 'divey': False, 'touristy': False, 'trendy': True, 'upscale': False, 'casual': True}\",\n",
       "       \"{'romantic': True, 'intimate': False, 'classy': True, 'hipster': False, 'touristy': False, 'trendy': True, 'upscale': True, 'casual': False}\",\n",
       "       \"{'romantic': False, 'intimate': True, 'classy': True, 'hipster': False, 'divey': False, 'touristy': False, 'trendy': True, 'upscale': True, 'casual': True}\",\n",
       "       \"{'romantic': False, 'intimate': True, 'classy': True, 'hipster': False, 'touristy': False, 'trendy': False, 'upscale': True, 'casual': False}\",\n",
       "       \"{'romantic': False, 'intimate': True, 'classy': True, 'hipster': False, 'divey': False, 'touristy': False, 'trendy': True, 'upscale': True, 'casual': False}\",\n",
       "       \"{'romantic': True, 'intimate': False, 'classy': False, 'hipster': False, 'divey': False, 'touristy': False, 'trendy': False, 'upscale': False, 'casual': True}\",\n",
       "       \"{'romantic': False, 'intimate': False, 'classy': False, 'hipster': True, 'divey': True, 'touristy': False, 'trendy': True, 'upscale': False, 'casual': True}\",\n",
       "       \"{'romantic': True, 'intimate': True, 'classy': True, 'hipster': False, 'touristy': False, 'trendy': False, 'upscale': True, 'casual': False}\",\n",
       "       \"{'romantic': True, 'intimate': True, 'classy': True, 'hipster': False, 'touristy': False, 'trendy': True, 'upscale': False, 'casual': False}\",\n",
       "       \"{'romantic': True, 'intimate': False, 'classy': False, 'hipster': True, 'divey': False, 'touristy': False, 'trendy': True, 'upscale': False, 'casual': True}\",\n",
       "       \"{'romantic': False, 'intimate': True, 'classy': False, 'hipster': False, 'touristy': False, 'trendy': True, 'upscale': False, 'casual': False}\",\n",
       "       \"{'romantic': False, 'intimate': False, 'classy': False, 'hipster': True, 'divey': True, 'touristy': False, 'trendy': False, 'upscale': False, 'casual': True}\",\n",
       "       \"{'romantic': True, 'intimate': False, 'classy': True, 'hipster': False, 'divey': False, 'touristy': False, 'trendy': False, 'upscale': False, 'casual': True}\",\n",
       "       \"{'romantic': True, 'intimate': False, 'classy': False, 'hipster': False, 'touristy': False, 'trendy': True, 'upscale': False, 'casual': False}\",\n",
       "       \"{'romantic': True, 'intimate': True, 'classy': True, 'hipster': False, 'divey': False, 'touristy': False, 'trendy': True, 'upscale': True, 'casual': True}\",\n",
       "       \"{'romantic': False, 'intimate': False, 'classy': True, 'hipster': True, 'touristy': False, 'trendy': False, 'upscale': False, 'casual': False}\",\n",
       "       \"{'romantic': False, 'intimate': True, 'classy': False, 'hipster': True, 'divey': False, 'touristy': False, 'trendy': True, 'upscale': False, 'casual': False}\",\n",
       "       \"{'romantic': True, 'intimate': True, 'classy': False, 'hipster': False, 'divey': False, 'touristy': False, 'trendy': False, 'upscale': False, 'casual': True}\",\n",
       "       \"{'romantic': True, 'intimate': True, 'classy': False, 'hipster': False, 'divey': False, 'touristy': False, 'trendy': True, 'upscale': False, 'casual': True}\",\n",
       "       \"{'romantic': True, 'intimate': False, 'classy': False, 'hipster': False, 'touristy': True, 'trendy': False, 'upscale': False, 'casual': False}\",\n",
       "       \"{'romantic': False, 'intimate': False, 'classy': True, 'hipster': False, 'touristy': False, 'trendy': True, 'upscale': True, 'casual': True}\",\n",
       "       \"{'romantic': False, 'intimate': True, 'classy': False, 'hipster': True, 'touristy': False, 'trendy': True, 'upscale': False, 'casual': True}\",\n",
       "       \"{'romantic': True, 'intimate': True, 'classy': True, 'hipster': False, 'touristy': False, 'trendy': False, 'upscale': False, 'casual': True}\",\n",
       "       \"{'romantic': True, 'intimate': True, 'classy': False, 'hipster': False, 'touristy': False, 'trendy': False, 'upscale': True, 'casual': False}\",\n",
       "       \"{'romantic': False, 'intimate': False, 'classy': True, 'hipster': False, 'touristy': False, 'trendy': True, 'upscale': False, 'casual': True}\",\n",
       "       \"{'romantic': False, 'intimate': False, 'classy': True, 'hipster': False, 'touristy': False, 'trendy': False, 'upscale': False, 'casual': True}\",\n",
       "       \"{'romantic': False, 'intimate': False, 'classy': False, 'hipster': False, 'touristy': True, 'trendy': False, 'upscale': False, 'casual': False}\",\n",
       "       \"{'romantic': True, 'intimate': True, 'classy': True, 'hipster': False, 'touristy': False, 'trendy': False, 'upscale': False, 'casual': False}\",\n",
       "       \"{'romantic': False, 'intimate': True, 'classy': True, 'hipster': False, 'divey': False, 'touristy': False, 'trendy': False, 'upscale': False, 'casual': True}\",\n",
       "       \"{'romantic': True, 'intimate': True, 'classy': True, 'hipster': False, 'divey': False, 'touristy': False, 'trendy': True, 'upscale': False, 'casual': True}\",\n",
       "       \"{'romantic': True, 'intimate': True, 'classy': True, 'hipster': False, 'divey': False, 'touristy': False, 'trendy': True, 'upscale': True, 'casual': False}\",\n",
       "       \"{'romantic': False, 'intimate': False, 'classy': False, 'hipster': True, 'divey': True, 'touristy': False, 'trendy': False, 'upscale': False, 'casual': False}\",\n",
       "       \"{'romantic': True, 'intimate': False, 'classy': False, 'hipster': False, 'divey': False, 'touristy': False, 'trendy': True, 'upscale': False, 'casual': True}\",\n",
       "       \"{'romantic': True, 'intimate': True, 'classy': True, 'hipster': False, 'divey': False, 'touristy': False, 'trendy': True, 'upscale': False, 'casual': False}\",\n",
       "       \"{'romantic': False, 'intimate': False, 'classy': True, 'hipster': True, 'divey': False, 'touristy': False, 'trendy': True, 'upscale': False, 'casual': True}\",\n",
       "       \"{'romantic': False, 'intimate': True, 'classy': False, 'hipster': False, 'touristy': False, 'trendy': False, 'upscale': True, 'casual': True}\",\n",
       "       \"{'romantic': False, 'intimate': True, 'classy': False, 'hipster': False, 'divey': False, 'touristy': False, 'trendy': True, 'upscale': False, 'casual': False}\",\n",
       "       \"{'romantic': False, 'intimate': False, 'classy': True, 'hipster': False, 'divey': False, 'touristy': True, 'trendy': False, 'upscale': False, 'casual': True}\",\n",
       "       \"{'romantic': True, 'intimate': False, 'classy': False, 'hipster': False, 'divey': True, 'touristy': False, 'trendy': False, 'upscale': False, 'casual': False}\",\n",
       "       \"{'romantic': True, 'intimate': False, 'classy': True, 'hipster': False, 'divey': False, 'touristy': True, 'trendy': False, 'upscale': False, 'casual': True}\",\n",
       "       \"{'romantic': False, 'intimate': False, 'classy': False, 'hipster': True, 'touristy': False, 'trendy': True, 'upscale': True, 'casual': False}\",\n",
       "       \"{'romantic': False, 'intimate': False, 'classy': True, 'hipster': False, 'divey': False, 'touristy': False, 'trendy': True, 'upscale': True, 'casual': True}\",\n",
       "       \"{'romantic': False, 'intimate': True, 'classy': False, 'hipster': False, 'touristy': False, 'trendy': False, 'upscale': True, 'casual': False}\",\n",
       "       \"{'romantic': False, 'intimate': True, 'classy': False, 'hipster': False, 'divey': False, 'touristy': False, 'trendy': True, 'upscale': True, 'casual': False}\",\n",
       "       \"{'romantic': True, 'intimate': False, 'classy': True, 'hipster': False, 'divey': False, 'touristy': False, 'trendy': True, 'upscale': False, 'casual': True}\",\n",
       "       \"{'romantic': False, 'intimate': True, 'classy': False, 'hipster': False, 'divey': True, 'touristy': False, 'trendy': False, 'upscale': False, 'casual': False}\",\n",
       "       \"{'romantic': False, 'intimate': True, 'classy': True, 'hipster': False, 'touristy': False, 'trendy': True, 'upscale': False, 'casual': False}\",\n",
       "       \"{'romantic': False, 'intimate': True, 'classy': False, 'hipster': False, 'divey': False, 'touristy': False, 'trendy': False, 'upscale': True, 'casual': False}\",\n",
       "       \"{'romantic': True, 'intimate': True, 'classy': True, 'hipster': False, 'touristy': False, 'trendy': False, 'upscale': True, 'casual': True}\",\n",
       "       \"{'romantic': True, 'intimate': False, 'classy': False, 'hipster': False, 'divey': False, 'touristy': False, 'trendy': False, 'upscale': True, 'casual': False}\",\n",
       "       \"{'romantic': True, 'intimate': False, 'classy': False, 'hipster': False, 'divey': False, 'touristy': False, 'trendy': True, 'upscale': True, 'casual': False}\",\n",
       "       \"{'romantic': True, 'intimate': True, 'classy': False, 'hipster': False, 'divey': False, 'touristy': False, 'trendy': True, 'upscale': False, 'casual': False}\",\n",
       "       \"{'romantic': True, 'intimate': False, 'classy': True, 'hipster': False, 'touristy': True, 'trendy': False, 'upscale': False, 'casual': True}\",\n",
       "       \"{'romantic': True, 'intimate': True, 'classy': False, 'hipster': False, 'divey': False, 'touristy': False, 'trendy': False, 'upscale': True, 'casual': False}\",\n",
       "       \"{'romantic': True, 'intimate': False, 'classy': True, 'hipster': False, 'divey': False, 'touristy': False, 'trendy': True, 'upscale': True, 'casual': False}\",\n",
       "       \"{'romantic': False, 'intimate': False, 'classy': True, 'hipster': True, 'divey': False, 'touristy': True, 'trendy': True, 'upscale': False, 'casual': True}\",\n",
       "       \"{'romantic': True, 'intimate': False, 'classy': True, 'hipster': False, 'touristy': False, 'trendy': False, 'upscale': False, 'casual': True}\",\n",
       "       \"{'romantic': True, 'intimate': False, 'classy': False, 'hipster': False, 'touristy': False, 'trendy': True, 'upscale': False, 'casual': True}\",\n",
       "       \"{'romantic': True, 'intimate': False, 'classy': True, 'hipster': False, 'divey': False, 'touristy': False, 'trendy': True, 'upscale': True, 'casual': True}\",\n",
       "       \"{'romantic': True, 'intimate': False, 'classy': True, 'hipster': False, 'touristy': False, 'trendy': True, 'upscale': False, 'casual': False}\",\n",
       "       \"{'romantic': False, 'intimate': True, 'classy': False, 'hipster': True, 'touristy': False, 'trendy': False, 'upscale': False, 'casual': False}\",\n",
       "       \"{'romantic': True, 'intimate': False, 'classy': False, 'hipster': False, 'touristy': False, 'trendy': False, 'upscale': True, 'casual': False}\",\n",
       "       \"{'romantic': False, 'intimate': False, 'classy': False, 'hipster': False, 'touristy': False, 'trendy': True, 'upscale': True, 'casual': True}\",\n",
       "       \"{'romantic': False, 'intimate': True, 'classy': True, 'hipster': False, 'touristy': False, 'trendy': False, 'upscale': False, 'casual': True}\",\n",
       "       \"{'romantic': False, 'intimate': False, 'classy': False, 'hipster': False, 'touristy': False, 'trendy': False, 'upscale': True, 'casual': True}\",\n",
       "       \"{'romantic': False, 'intimate': True, 'classy': True, 'hipster': False, 'divey': False, 'touristy': False, 'trendy': True, 'upscale': False, 'casual': False}\",\n",
       "       \"{'romantic': False, 'intimate': True, 'classy': False, 'hipster': True, 'divey': False, 'touristy': False, 'trendy': False, 'upscale': False, 'casual': False}\",\n",
       "       \"{'romantic': True, 'intimate': False, 'classy': False, 'hipster': True, 'touristy': False, 'trendy': False, 'upscale': False, 'casual': False}\",\n",
       "       \"{'romantic': True, 'intimate': False, 'classy': True, 'hipster': True, 'divey': False, 'touristy': False, 'trendy': True, 'upscale': False, 'casual': True}\",\n",
       "       \"{'romantic': True, 'intimate': False, 'classy': False, 'hipster': False, 'divey': False, 'touristy': False, 'trendy': True, 'upscale': False, 'casual': False}\",\n",
       "       \"{'romantic': False, 'intimate': False, 'classy': False, 'hipster': False, 'divey': True, 'touristy': True, 'trendy': False, 'upscale': False, 'casual': True}\",\n",
       "       \"{'romantic': True, 'intimate': True, 'classy': False, 'hipster': False, 'touristy': False, 'trendy': True, 'upscale': False, 'casual': False}\",\n",
       "       \"{'romantic': False, 'intimate': False, 'classy': True, 'hipster': True, 'divey': False, 'touristy': False, 'trendy': False, 'upscale': False, 'casual': True}\",\n",
       "       \"{'romantic': False, 'intimate': True, 'classy': True, 'hipster': True, 'divey': False, 'touristy': False, 'trendy': True, 'upscale': False, 'casual': True}\",\n",
       "       \"{'romantic': False, 'intimate': True, 'classy': False, 'hipster': False, 'touristy': True, 'trendy': False, 'upscale': False, 'casual': False}\",\n",
       "       \"{'romantic': False, 'intimate': False, 'classy': True, 'hipster': True, 'divey': False, 'touristy': False, 'trendy': False, 'upscale': True, 'casual': True}\",\n",
       "       \"{'romantic': False, 'intimate': True, 'classy': False, 'hipster': False, 'divey': False, 'touristy': False, 'trendy': True, 'upscale': True, 'casual': True}\",\n",
       "       \"{'romantic': True, 'intimate': True, 'classy': True, 'hipster': True, 'divey': False, 'touristy': False, 'trendy': True, 'upscale': True, 'casual': True}\",\n",
       "       \"{'romantic': False, 'intimate': False, 'classy': True, 'hipster': False, 'divey': True, 'touristy': False, 'trendy': True, 'upscale': False, 'casual': False}\",\n",
       "       \"{'romantic': False, 'intimate': False, 'classy': True, 'hipster': False, 'divey': True, 'touristy': False, 'trendy': True, 'upscale': False, 'casual': True}\",\n",
       "       \"{'romantic': False, 'intimate': False, 'classy': False, 'hipster': False, 'divey': False, 'touristy': False, 'trendy': True, 'upscale': True, 'casual': True}\",\n",
       "       \"{'romantic': False, 'intimate': True, 'classy': False, 'hipster': True, 'touristy': False, 'trendy': True, 'upscale': False, 'casual': False}\",\n",
       "       \"{'romantic': False, 'intimate': False, 'classy': True, 'hipster': True, 'divey': False, 'touristy': False, 'trendy': True, 'upscale': True, 'casual': False}\",\n",
       "       \"{'romantic': False, 'intimate': True, 'classy': True, 'hipster': True, 'divey': False, 'touristy': False, 'trendy': True, 'upscale': True, 'casual': False}\",\n",
       "       \"{'romantic': False, 'intimate': False, 'classy': False, 'hipster': True, 'divey': False, 'touristy': True, 'trendy': False, 'upscale': False, 'casual': True}\",\n",
       "       \"{'romantic': True, 'intimate': True, 'classy': True, 'hipster': False, 'touristy': False, 'trendy': True, 'upscale': False, 'casual': True}\",\n",
       "       \"{'romantic': False, 'intimate': True, 'classy': False, 'hipster': True, 'touristy': False, 'trendy': False, 'upscale': False, 'casual': True}\",\n",
       "       \"{'romantic': True, 'intimate': True, 'classy': False, 'hipster': False, 'divey': False, 'touristy': False, 'trendy': False, 'upscale': True, 'casual': True}\",\n",
       "       \"{'romantic': False, 'intimate': False, 'classy': False, 'hipster': False, 'divey': False, 'touristy': True, 'trendy': True, 'upscale': False, 'casual': False}\",\n",
       "       \"{'romantic': True, 'intimate': False, 'classy': False, 'hipster': False, 'divey': False, 'touristy': False, 'trendy': True, 'upscale': True, 'casual': True}\",\n",
       "       \"{'romantic': False, 'intimate': True, 'classy': False, 'hipster': True, 'divey': False, 'touristy': False, 'trendy': True, 'upscale': True, 'casual': False}\",\n",
       "       \"{'romantic': True, 'intimate': True, 'classy': True, 'hipster': False, 'divey': False, 'touristy': True, 'trendy': False, 'upscale': False, 'casual': False}\",\n",
       "       \"{'romantic': False, 'intimate': False, 'classy': True, 'hipster': False, 'divey': False, 'touristy': True, 'trendy': True, 'upscale': False, 'casual': True}\",\n",
       "       \"{'romantic': False, 'intimate': False, 'classy': False, 'hipster': True, 'touristy': True, 'trendy': True, 'upscale': False, 'casual': True}\",\n",
       "       \"{'romantic': False, 'intimate': False, 'classy': True, 'hipster': False, 'divey': False, 'touristy': True, 'trendy': True, 'upscale': True, 'casual': False}\",\n",
       "       \"{'romantic': False, 'intimate': True, 'classy': False, 'hipster': False, 'divey': True, 'touristy': False, 'trendy': False, 'upscale': False, 'casual': True}\",\n",
       "       \"{'romantic': True, 'intimate': True, 'classy': True, 'hipster': False, 'divey': False, 'touristy': False, 'trendy': False, 'upscale': True, 'casual': True}\"],\n",
       "      dtype=object)"
      ]
     },
     "execution_count": 108,
     "metadata": {},
     "output_type": "execute_result"
    }
   ],
   "source": [
    "# Understand the ambience\n",
    "restaurants['attributes.Ambience'].unique()"
   ]
  },
  {
   "cell_type": "code",
   "execution_count": 110,
   "metadata": {},
   "outputs": [],
   "source": [
    "def ambience_extract(row):\n",
    "    ambience_list = list()\n",
    "    import ast\n",
    "    if pd.isnull(row['attributes.Ambience']):\n",
    "        return None\n",
    "    else:\n",
    "        for key, value in ast.literal_eval(row['attributes.Ambience']).items():\n",
    "            if value == True:\n",
    "                ambience_list.append(key)\n",
    "        return \",\".join(ambience_list)"
   ]
  },
  {
   "cell_type": "code",
   "execution_count": 111,
   "metadata": {},
   "outputs": [],
   "source": [
    "restaurants['Ambience'] = restaurants.apply(lambda row: ambience_extract(row),axis=1)"
   ]
  },
  {
   "cell_type": "code",
   "execution_count": 112,
   "metadata": {},
   "outputs": [],
   "source": [
    "ambience_list = restaurants['Ambience'].tolist()\n",
    "ambience_list = [x for x in ambience_list if x is not None and x != '']"
   ]
  },
  {
   "cell_type": "code",
   "execution_count": 113,
   "metadata": {},
   "outputs": [],
   "source": [
    "cat_all_am = ','.join(ambience_list)"
   ]
  },
  {
   "cell_type": "code",
   "execution_count": 114,
   "metadata": {},
   "outputs": [
    {
     "data": {
      "text/plain": [
       "casual      22191\n",
       "trendy       2428\n",
       "classy       1061\n",
       "divey        1057\n",
       "hipster      1043\n",
       "intimate      672\n",
       "romantic      600\n",
       "upscale       494\n",
       "touristy      228\n",
       "Name: Ambience, dtype: int64"
      ]
     },
     "execution_count": 114,
     "metadata": {},
     "output_type": "execute_result"
    }
   ],
   "source": [
    "cat_all_am = pd.DataFrame(cat_all_am.split(','), columns=['Ambience'])\n",
    "cat_all_am_count = cat_all_am.Ambience.value_counts().sort_values(ascending = False)\n",
    "cat_all_am_count"
   ]
  },
  {
   "cell_type": "markdown",
   "metadata": {},
   "source": [
    "We create dummy variables for 'casual', 'trendy' and 'Others'"
   ]
  },
  {
   "cell_type": "code",
   "execution_count": 120,
   "metadata": {},
   "outputs": [],
   "source": [
    "def ambience_casual(row):\n",
    "    if row['Ambience'] is not None and row['Ambience'] != '':\n",
    "        if 'casual' in row['Ambience'].split(','):\n",
    "            return 1\n",
    "        else:\n",
    "            return 0\n",
    "    else:\n",
    "        return 0\n",
    "restaurants['ambience_casual'] = restaurants.apply(lambda row: ambience_casual(row),axis=1)"
   ]
  },
  {
   "cell_type": "code",
   "execution_count": 123,
   "metadata": {},
   "outputs": [],
   "source": [
    "def ambience_trendy(row):\n",
    "    if row['Ambience'] is not None and row['Ambience'] != '':\n",
    "        if 'trendy' in row['Ambience'].split(','):\n",
    "            return 1\n",
    "        else:\n",
    "            return 0\n",
    "    else:\n",
    "        return 0\n",
    "restaurants['ambience_trendy'] = restaurants.apply(lambda row: ambience_trendy(row),axis=1)"
   ]
  },
  {
   "cell_type": "code",
   "execution_count": 125,
   "metadata": {},
   "outputs": [],
   "source": [
    "ambience_others_list = ['romantic', 'intimate', 'classy', 'hipster', 'touristy', 'upscale', 'divey']\n",
    "def ambience_others(row):\n",
    "    if row['Ambience'] is not None and row['Ambience'] != '':\n",
    "        if (set(ambience_others_list) & set(row['Ambience'].split(','))):\n",
    "            return 1\n",
    "        else:\n",
    "            return 0\n",
    "    else:\n",
    "        return 0\n",
    "restaurants['ambience_others'] = restaurants.apply(lambda row: ambience_others(row),axis=1)"
   ]
  },
  {
   "cell_type": "markdown",
   "metadata": {},
   "source": [
    "## 3.3 Food categories"
   ]
  },
  {
   "cell_type": "code",
   "execution_count": 91,
   "metadata": {},
   "outputs": [
    {
     "data": {
      "text/plain": [
       "Restaurants                    57173\n",
       "Food                           27118\n",
       "Nightlife                      11217\n",
       "Bars                           10853\n",
       "Coffee&Tea                      6936\n",
       "Sandwiches                      6912\n",
       "FastFood                        6812\n",
       "American(Traditional)           6659\n",
       "Pizza                           6603\n",
       "Burgers                         5126\n",
       "Breakfast&Brunch                5023\n",
       "Italian                         4550\n",
       "Mexican                         4419\n",
       "SpecialtyFood                   4304\n",
       "Chinese                         4247\n",
       "American(New)                   4230\n",
       "Bakeries                        3509\n",
       "Grocery                         3380\n",
       "Cafes                           3056\n",
       "Desserts                        2991\n",
       "EventPlanning&Services          2929\n",
       "Shopping                        2735\n",
       "IceCream&FrozenYogurt           2613\n",
       "Japanese                        2566\n",
       "ChickenWings                    2538\n",
       "Seafood                         2369\n",
       "Salad                           2350\n",
       "SushiBars                       2156\n",
       "SportsBars                      2055\n",
       "Pubs                            2012\n",
       "                               ...  \n",
       "Embroidery&Crochet                 1\n",
       "PartyBikeRentals                   1\n",
       "ValetServices                      1\n",
       "Nudist                             1\n",
       "Glass&Mirrors                      1\n",
       "PayrollServices                    1\n",
       "Fishmonger                         1\n",
       "CheckCashing/Pay-dayLoans          1\n",
       "DamageRestoration                  1\n",
       "Observatories                      1\n",
       "EstateLiquidation                  1\n",
       "Churros                            1\n",
       "BeachVolleyball                    1\n",
       "AutoUpholstery                     1\n",
       "TraditionalNorwegian               1\n",
       "LandscapeArchitects                1\n",
       "SecuritySystems                    1\n",
       "AutoInsurance                      1\n",
       "JapaneseSweets                     1\n",
       "Trusts                             1\n",
       "Tonkatsu                           1\n",
       "Opera&Ballet                       1\n",
       "FurnitureReupholstery              1\n",
       "Watches                            1\n",
       "ArtMuseums                         1\n",
       "MusicalInstruments&Teachers        1\n",
       "FarmingEquipment                   1\n",
       "PublicRelations                    1\n",
       "Backshop                           1\n",
       "BirdShops                          1\n",
       "Name: category, Length: 835, dtype: int64"
      ]
     },
     "execution_count": 91,
     "metadata": {},
     "output_type": "execute_result"
    }
   ],
   "source": [
    "cat_all_res_count"
   ]
  },
  {
   "cell_type": "markdown",
   "metadata": {},
   "source": [
    "## 3.4 Create Dummy Variables for features"
   ]
  },
  {
   "cell_type": "code",
   "execution_count": 129,
   "metadata": {},
   "outputs": [],
   "source": [
    "cols_dummy = ['attributes.RestaurantsAttire','attributes.Alcohol',\n",
    "        'attributes.RestaurantsReservations','attributes.GoodForKids','attributes.Smoking',\n",
    "        'attributes.NoiseLevel','attributes.Open24Hours',\n",
    "        'attributes.AgesAllowed','attributes.ByAppointmentOnly','attributes.RestaurantsDelivery',\n",
    "        'attributes.RestaurantsGoodForGroups','attributes.RestaurantsTableService','attributes.WiFi',\n",
    "        'attributes.DogsAllowed','attributes.BusinessAcceptsCreditCards',\n",
    "        'attributes.DriveThru','attributes.Caters','attributes.RestaurantsPriceRange2','attributes.RestaurantsTakeOut',\n",
    "        'attributes.WheelchairAccessible','attributes.HasTV','attributes.HappyHour',\n",
    "        'attributes.CoatCheck','attributes.OutdoorSeating','is_open','attributes.AcceptsInsurance']\n",
    "        \n",
    "        \n",
    "special_col = ['attributes.GoodForMeal', 'attributes.BestNights','attributes.Music',\n",
    "               'hours', 'attributes.BusinessParking','attributes.RestaurantsAttire']"
   ]
  },
  {
   "cell_type": "code",
   "execution_count": 130,
   "metadata": {},
   "outputs": [],
   "source": [
    "res_full = pd.get_dummies(data=restaurants, columns = cols_dummy)"
   ]
  },
  {
   "cell_type": "code",
   "execution_count": 131,
   "metadata": {
    "scrolled": false
   },
   "outputs": [
    {
     "data": {
      "text/plain": [
       "['hours.Friday',\n",
       " 'attributes.BikeParking',\n",
       " 'state',\n",
       " 'categories',\n",
       " 'attributes.BusinessParking',\n",
       " 'attributes.GoodForDancing',\n",
       " 'attributes.BYOB',\n",
       " 'attributes.DietaryRestrictions',\n",
       " 'hours.Sunday',\n",
       " 'attributes.BYOBCorkage',\n",
       " 'latitude',\n",
       " 'attributes.BusinessAcceptsBitcoin',\n",
       " 'attributes.GoodForMeal',\n",
       " 'attributes.BestNights',\n",
       " 'attributes.Corkage',\n",
       " 'attributes.Music',\n",
       " 'hours.Wednesday',\n",
       " 'longitude',\n",
       " 'neighborhood',\n",
       " 'attributes.HairSpecializesIn',\n",
       " 'hours.Thursday',\n",
       " 'business_id',\n",
       " 'postal_code',\n",
       " 'hours',\n",
       " 'review_count',\n",
       " 'name',\n",
       " 'hours.Saturday',\n",
       " 'attributes.Ambience',\n",
       " 'attributes.RestaurantsCounterService',\n",
       " 'address',\n",
       " 'hours.Tuesday',\n",
       " 'hours.Monday',\n",
       " 'attributes',\n",
       " 'stars',\n",
       " 'city',\n",
       " 'country',\n",
       " 'Ambience',\n",
       " 'user_id',\n",
       " 'ambience_casual',\n",
       " 'ambience_trendy',\n",
       " 'ambience_others',\n",
       " 'attributes.RestaurantsAttire_casual',\n",
       " 'attributes.RestaurantsAttire_dressy',\n",
       " 'attributes.RestaurantsAttire_formal',\n",
       " 'attributes.Alcohol_beer_and_wine',\n",
       " 'attributes.Alcohol_full_bar',\n",
       " 'attributes.Alcohol_none',\n",
       " 'attributes.RestaurantsReservations_False',\n",
       " 'attributes.RestaurantsReservations_True',\n",
       " 'attributes.GoodForKids_False',\n",
       " 'attributes.GoodForKids_True',\n",
       " 'attributes.Smoking_no',\n",
       " 'attributes.Smoking_outdoor',\n",
       " 'attributes.Smoking_yes',\n",
       " 'attributes.NoiseLevel_average',\n",
       " 'attributes.NoiseLevel_loud',\n",
       " 'attributes.NoiseLevel_quiet',\n",
       " 'attributes.NoiseLevel_very_loud',\n",
       " 'attributes.Open24Hours_False',\n",
       " 'attributes.Open24Hours_True',\n",
       " 'attributes.AgesAllowed_18plus',\n",
       " 'attributes.AgesAllowed_19plus',\n",
       " 'attributes.AgesAllowed_21plus',\n",
       " 'attributes.AgesAllowed_allages',\n",
       " 'attributes.ByAppointmentOnly_False',\n",
       " 'attributes.ByAppointmentOnly_True',\n",
       " 'attributes.RestaurantsDelivery_False',\n",
       " 'attributes.RestaurantsDelivery_True',\n",
       " 'attributes.RestaurantsGoodForGroups_False',\n",
       " 'attributes.RestaurantsGoodForGroups_True',\n",
       " 'attributes.RestaurantsTableService_False',\n",
       " 'attributes.RestaurantsTableService_True',\n",
       " 'attributes.WiFi_free',\n",
       " 'attributes.WiFi_no',\n",
       " 'attributes.WiFi_paid',\n",
       " 'attributes.DogsAllowed_False',\n",
       " 'attributes.DogsAllowed_True',\n",
       " 'attributes.BusinessAcceptsCreditCards_False',\n",
       " 'attributes.BusinessAcceptsCreditCards_True',\n",
       " 'attributes.DriveThru_False',\n",
       " 'attributes.DriveThru_True',\n",
       " 'attributes.Caters_False',\n",
       " 'attributes.Caters_True',\n",
       " 'attributes.RestaurantsPriceRange2_1.0',\n",
       " 'attributes.RestaurantsPriceRange2_2.0',\n",
       " 'attributes.RestaurantsPriceRange2_3.0',\n",
       " 'attributes.RestaurantsPriceRange2_4.0',\n",
       " 'attributes.RestaurantsTakeOut_False',\n",
       " 'attributes.RestaurantsTakeOut_True',\n",
       " 'attributes.WheelchairAccessible_False',\n",
       " 'attributes.WheelchairAccessible_True',\n",
       " 'attributes.HasTV_False',\n",
       " 'attributes.HasTV_True',\n",
       " 'attributes.HappyHour_False',\n",
       " 'attributes.HappyHour_True',\n",
       " 'attributes.CoatCheck_False',\n",
       " 'attributes.CoatCheck_True',\n",
       " 'attributes.OutdoorSeating_False',\n",
       " 'attributes.OutdoorSeating_True',\n",
       " 'is_open_0',\n",
       " 'is_open_1',\n",
       " 'attributes.AcceptsInsurance_False',\n",
       " 'attributes.AcceptsInsurance_True']"
      ]
     },
     "execution_count": 131,
     "metadata": {},
     "output_type": "execute_result"
    }
   ],
   "source": [
    "res_full.columns.values.tolist()"
   ]
  },
  {
   "cell_type": "markdown",
   "metadata": {},
   "source": [
    "## 3.10 Final Feature Selection"
   ]
  },
  {
   "cell_type": "code",
   "execution_count": 132,
   "metadata": {},
   "outputs": [],
   "source": [
    "cols_ml = ['review_count',\n",
    " 'attributes.RestaurantsAttire_casual',\n",
    " 'attributes.RestaurantsAttire_dressy',\n",
    " 'attributes.RestaurantsAttire_formal',\n",
    " 'attributes.Alcohol_full_bar',\n",
    " 'attributes.RestaurantsReservations_True',\n",
    " 'attributes.GoodForKids_True',\n",
    " 'attributes.Smoking_outdoor',\n",
    " 'attributes.Smoking_yes',\n",
    " 'attributes.NoiseLevel_very_loud',\n",
    " 'attributes.Open24Hours_True',\n",
    " 'attributes.AgesAllowed_21plus',\n",
    " 'attributes.ByAppointmentOnly_True',\n",
    " 'attributes.RestaurantsGoodForGroups_True',\n",
    " 'attributes.WiFi_free',\n",
    " 'attributes.DogsAllowed_True',\n",
    " 'attributes.BusinessAcceptsCreditCards_True',\n",
    " 'attributes.DriveThru_True',\n",
    " 'attributes.Caters_True',\n",
    " 'attributes.RestaurantsPriceRange2_1.0',\n",
    " 'attributes.RestaurantsPriceRange2_2.0',\n",
    " 'attributes.RestaurantsPriceRange2_3.0',\n",
    " 'attributes.RestaurantsPriceRange2_4.0',\n",
    " 'attributes.RestaurantsTakeOut_True',\n",
    " 'attributes.HappyHour_True',\n",
    " 'attributes.CoatCheck_True',\n",
    " 'attributes.OutdoorSeating_True',\n",
    " 'ambience_casual',\n",
    " 'ambience_trendy',\n",
    " 'ambience_others']"
   ]
  },
  {
   "cell_type": "markdown",
   "metadata": {},
   "source": [
    "# 4. Machine Learning Models"
   ]
  },
  {
   "cell_type": "markdown",
   "metadata": {},
   "source": [
    "* Logistic Regression\n",
    "* Random Forest\n",
    "* Bootstrapping\n",
    "* XGBoost"
   ]
  },
  {
   "cell_type": "markdown",
   "metadata": {},
   "source": [
    "## 4.1 Simple Linear Regression"
   ]
  },
  {
   "cell_type": "code",
   "execution_count": 134,
   "metadata": {},
   "outputs": [],
   "source": [
    "X = res_full[cols_ml]\n",
    "y = restaurants['stars']"
   ]
  },
  {
   "cell_type": "code",
   "execution_count": 135,
   "metadata": {},
   "outputs": [
    {
     "name": "stderr",
     "output_type": "stream",
     "text": [
      "/usr/local/lib/python3.6/site-packages/pandas/core/frame.py:3790: SettingWithCopyWarning: \n",
      "A value is trying to be set on a copy of a slice from a DataFrame\n",
      "\n",
      "See the caveats in the documentation: http://pandas.pydata.org/pandas-docs/stable/indexing.html#indexing-view-versus-copy\n",
      "  downcast=downcast, **kwargs)\n"
     ]
    }
   ],
   "source": [
    "X.fillna(0,inplace=True)"
   ]
  },
  {
   "cell_type": "code",
   "execution_count": 136,
   "metadata": {},
   "outputs": [],
   "source": [
    "import xgboost as xgb\n",
    "from sklearn.model_selection import StratifiedKFold\n",
    "from sklearn.model_selection import train_test_split\n",
    "from imblearn.over_sampling import SMOTE\n",
    "from sklearn.linear_model import LogisticRegression\n",
    "from sklearn.metrics import confusion_matrix,accuracy_score"
   ]
  },
  {
   "cell_type": "code",
   "execution_count": 139,
   "metadata": {},
   "outputs": [],
   "source": [
    "train_X, test_X, train_y, test_y = train_test_split(X,y,test_size = 0.3, random_state = 11)"
   ]
  },
  {
   "cell_type": "code",
   "execution_count": 140,
   "metadata": {},
   "outputs": [
    {
     "data": {
      "text/plain": [
       "LinearRegression(copy_X=True, fit_intercept=True, n_jobs=None,\n",
       "         normalize=False)"
      ]
     },
     "execution_count": 140,
     "metadata": {},
     "output_type": "execute_result"
    }
   ],
   "source": [
    "from sklearn import linear_model\n",
    "model = linear_model.LinearRegression()\n",
    "model.fit(train_X,train_y)"
   ]
  },
  {
   "cell_type": "code",
   "execution_count": 141,
   "metadata": {},
   "outputs": [
    {
     "data": {
      "text/plain": [
       "array([3.63023415, 3.65579102, 3.44407855, ..., 3.12964321, 4.05438404,\n",
       "       3.46762429])"
      ]
     },
     "execution_count": 141,
     "metadata": {},
     "output_type": "execute_result"
    }
   ],
   "source": [
    "pred_y  = model.predict(test_X)\n",
    "pred_y"
   ]
  },
  {
   "cell_type": "code",
   "execution_count": 142,
   "metadata": {},
   "outputs": [
    {
     "name": "stdout",
     "output_type": "stream",
     "text": [
      "Coefficients: \n",
      " [ 3.74415041e-04 -2.56492679e-01 -5.06435803e-02 -1.95949836e-01\n",
      " -1.41491063e-01  1.03214997e-01 -2.66644756e-02 -6.81815030e-02\n",
      "  6.01992942e-02 -3.73939745e-01 -2.41812524e-01 -2.09430983e-01\n",
      "  4.73690473e-01  9.27250637e-03  2.83668552e-02  2.95046105e-01\n",
      " -1.30378618e-01 -8.56012841e-01  1.47302805e-01  2.57706115e-01\n",
      "  2.04280105e-01  2.13593457e-01  1.80953826e-01  5.18877455e-03\n",
      " -1.65356526e-02 -7.42674938e-02  4.87487428e-02  1.38169639e-01\n",
      "  2.07599293e-01  2.44538044e-01]\n",
      "Mean squared error: 0.61\n",
      "Variance score: 0.11\n"
     ]
    }
   ],
   "source": [
    "from sklearn.metrics import mean_squared_error, r2_score\n",
    "\n",
    "# The coefficients\n",
    "print('Coefficients: \\n', model.coef_)\n",
    "# The mean squared error\n",
    "print(\"Mean squared error: %.2f\"\n",
    "      % mean_squared_error(test_y, pred_y))\n",
    "# Explained variance score: 1 is perfect prediction\n",
    "print('Variance score: %.2f' % r2_score(test_y, pred_y))"
   ]
  },
  {
   "cell_type": "markdown",
   "metadata": {},
   "source": [
    "## 4.1.1 Try to classify the successful restaurant using the result above"
   ]
  },
  {
   "cell_type": "code",
   "execution_count": 143,
   "metadata": {},
   "outputs": [],
   "source": [
    "res_full['success'] = np.where(restaurants['stars'] >= 3.5,1,0)"
   ]
  },
  {
   "cell_type": "code",
   "execution_count": 145,
   "metadata": {},
   "outputs": [
    {
     "name": "stderr",
     "output_type": "stream",
     "text": [
      "/usr/local/lib/python3.6/site-packages/pandas/core/frame.py:3790: SettingWithCopyWarning: \n",
      "A value is trying to be set on a copy of a slice from a DataFrame\n",
      "\n",
      "See the caveats in the documentation: http://pandas.pydata.org/pandas-docs/stable/indexing.html#indexing-view-versus-copy\n",
      "  downcast=downcast, **kwargs)\n"
     ]
    }
   ],
   "source": [
    "X = res_full[cols_ml]\n",
    "y = res_full['success']\n",
    "X.fillna(0,inplace=True)\n",
    "train_X, test_X, train_y, test_y = train_test_split(X,y,test_size = 0.3, random_state = 11)"
   ]
  },
  {
   "cell_type": "code",
   "execution_count": 146,
   "metadata": {},
   "outputs": [
    {
     "data": {
      "text/plain": [
       "array([0., 0., 0., ..., 0., 1., 0.])"
      ]
     },
     "execution_count": 146,
     "metadata": {},
     "output_type": "execute_result"
    }
   ],
   "source": [
    "def get_classification(predictions, threshold):\n",
    "    classes = np.zeros_like(predictions)\n",
    "    for i in range(len(classes)):\n",
    "        if predictions[i] > threshold:\n",
    "            classes[i] = 1\n",
    "    return classes\n",
    "get_classification(pred_y, 4)"
   ]
  },
  {
   "cell_type": "code",
   "execution_count": 147,
   "metadata": {},
   "outputs": [
    {
     "name": "stdout",
     "output_type": "stream",
     "text": [
      "7952 26 14245 383\n"
     ]
    }
   ],
   "source": [
    "from sklearn.metrics import confusion_matrix\n",
    "tn, fp, fn, tp = confusion_matrix(test_y, get_classification(pred_y,4)).ravel()\n",
    "print(tn, fp, fn, tp)"
   ]
  },
  {
   "cell_type": "code",
   "execution_count": 148,
   "metadata": {},
   "outputs": [
    {
     "name": "stdout",
     "output_type": "stream",
     "text": [
      "0.36870742280810404\n"
     ]
    }
   ],
   "source": [
    "accuracy = (tp+tn)/(tp+tn+fp+fn)\n",
    "print(accuracy)"
   ]
  },
  {
   "cell_type": "code",
   "execution_count": 151,
   "metadata": {},
   "outputs": [
    {
     "data": {
      "image/png": "[encoded data removed]",
      "text/plain": [
       "<Figure size 432x288 with 1 Axes>"
      ]
     },
     "metadata": {
      "needs_background": "light"
     },
     "output_type": "display_data"
    }
   ],
   "source": [
    "from sklearn.metrics import roc_curve, auc\n",
    "testing_predictions = model.predict(test_X)\n",
    "(fpr, tpr, thresholds) = roc_curve(test_y,testing_predictions)\n",
    "\n",
    "area = auc(fpr,tpr)\n",
    "plt.clf() #Clear the current figure\n",
    "plt.plot(fpr,tpr,label=\"Out-Sample ROC Curve with area = %1.2f\"%area)\n",
    "\n",
    "plt.plot([0, 1], [0, 1], 'k')\n",
    "plt.xlim([0.0, 1.0])\n",
    "plt.ylim([0.0, 1.0])\n",
    "plt.xlabel('False Positive Rate')\n",
    "plt.ylabel('True Positive Rate')\n",
    "plt.title('ROC Curve')\n",
    "plt.legend(loc=\"lower right\")\n",
    "plt.show()"
   ]
  },
  {
   "cell_type": "markdown",
   "metadata": {},
   "source": [
    "## 4.2 Logistic Regression"
   ]
  },
  {
   "cell_type": "code",
   "execution_count": 152,
   "metadata": {},
   "outputs": [
    {
     "name": "stderr",
     "output_type": "stream",
     "text": [
      "/usr/local/lib/python3.6/site-packages/sklearn/linear_model/logistic.py:433: FutureWarning: Default solver will be changed to 'lbfgs' in 0.22. Specify a solver to silence this warning.\n",
      "  FutureWarning)\n"
     ]
    }
   ],
   "source": [
    "from sklearn.linear_model import LogisticRegression\n",
    "logr = LogisticRegression().fit(train_X,train_y)"
   ]
  },
  {
   "cell_type": "code",
   "execution_count": 153,
   "metadata": {},
   "outputs": [
    {
     "name": "stdout",
     "output_type": "stream",
     "text": [
      "logr training set accuracy: 0.673\n"
     ]
    }
   ],
   "source": [
    "trainset_acc = logr.score(train_X,train_y)\n",
    "print('logr training set accuracy: {:.3f}'.format(trainset_acc))"
   ]
  },
  {
   "cell_type": "code",
   "execution_count": 155,
   "metadata": {},
   "outputs": [
    {
     "name": "stderr",
     "output_type": "stream",
     "text": [
      "/usr/local/lib/python3.6/site-packages/sklearn/linear_model/logistic.py:433: FutureWarning: Default solver will be changed to 'lbfgs' in 0.22. Specify a solver to silence this warning.\n",
      "  FutureWarning)\n",
      "/usr/local/lib/python3.6/site-packages/sklearn/linear_model/logistic.py:433: FutureWarning: Default solver will be changed to 'lbfgs' in 0.22. Specify a solver to silence this warning.\n",
      "  FutureWarning)\n",
      "/usr/local/lib/python3.6/site-packages/sklearn/linear_model/logistic.py:433: FutureWarning: Default solver will be changed to 'lbfgs' in 0.22. Specify a solver to silence this warning.\n",
      "  FutureWarning)\n",
      "/usr/local/lib/python3.6/site-packages/sklearn/linear_model/logistic.py:433: FutureWarning: Default solver will be changed to 'lbfgs' in 0.22. Specify a solver to silence this warning.\n",
      "  FutureWarning)\n",
      "/usr/local/lib/python3.6/site-packages/sklearn/linear_model/logistic.py:433: FutureWarning: Default solver will be changed to 'lbfgs' in 0.22. Specify a solver to silence this warning.\n",
      "  FutureWarning)\n",
      "/usr/local/lib/python3.6/site-packages/sklearn/linear_model/logistic.py:433: FutureWarning: Default solver will be changed to 'lbfgs' in 0.22. Specify a solver to silence this warning.\n",
      "  FutureWarning)\n",
      "/usr/local/lib/python3.6/site-packages/sklearn/linear_model/logistic.py:433: FutureWarning: Default solver will be changed to 'lbfgs' in 0.22. Specify a solver to silence this warning.\n",
      "  FutureWarning)\n",
      "/usr/local/lib/python3.6/site-packages/sklearn/linear_model/logistic.py:433: FutureWarning: Default solver will be changed to 'lbfgs' in 0.22. Specify a solver to silence this warning.\n",
      "  FutureWarning)\n",
      "/usr/local/lib/python3.6/site-packages/sklearn/linear_model/logistic.py:433: FutureWarning: Default solver will be changed to 'lbfgs' in 0.22. Specify a solver to silence this warning.\n",
      "  FutureWarning)\n",
      "/usr/local/lib/python3.6/site-packages/sklearn/linear_model/logistic.py:433: FutureWarning: Default solver will be changed to 'lbfgs' in 0.22. Specify a solver to silence this warning.\n",
      "  FutureWarning)\n",
      "/usr/local/lib/python3.6/site-packages/sklearn/linear_model/logistic.py:433: FutureWarning: Default solver will be changed to 'lbfgs' in 0.22. Specify a solver to silence this warning.\n",
      "  FutureWarning)\n"
     ]
    },
    {
     "name": "stdout",
     "output_type": "stream",
     "text": [
      "[False  True False  True  True  True False False False  True  True  True\n",
      "  True False False  True  True  True  True  True  True  True  True False\n",
      " False  True False  True  True  True]\n",
      "[11  1  2  1  1  1  6  3  7  1  1  1  1 10  5  1  1  1  1  1  1  1  1  8\n",
      "  9  1  4  1  1  1]\n"
     ]
    }
   ],
   "source": [
    "# Recursive Feature Elimination\n",
    "from sklearn.feature_selection import RFE\n",
    "from sklearn.linear_model import LogisticRegression\n",
    "logreg = LogisticRegression()\n",
    "rfe = RFE(logreg, 20)\n",
    "rfe = rfe.fit(train_X, train_y)\n",
    "print(rfe.support_)\n",
    "print(rfe.ranking_)"
   ]
  },
  {
   "cell_type": "code",
   "execution_count": 164,
   "metadata": {},
   "outputs": [],
   "source": [
    "cols_log = ['attributes.RestaurantsAttire_casual',\n",
    " 'attributes.RestaurantsAttire_formal',\n",
    " 'attributes.Alcohol_full_bar',\n",
    " 'attributes.RestaurantsReservations_True',\n",
    " 'attributes.NoiseLevel_very_loud',\n",
    " 'attributes.Open24Hours_True',\n",
    " 'attributes.AgesAllowed_21plus',\n",
    " 'attributes.ByAppointmentOnly_True',\n",
    " 'attributes.DogsAllowed_True',\n",
    " 'attributes.BusinessAcceptsCreditCards_True',\n",
    " 'attributes.DriveThru_True',\n",
    " 'attributes.Caters_True',\n",
    " 'attributes.RestaurantsPriceRange2_1.0',\n",
    " 'attributes.RestaurantsPriceRange2_2.0',\n",
    " 'attributes.RestaurantsPriceRange2_3.0',\n",
    " 'attributes.RestaurantsPriceRange2_4.0',\n",
    " 'attributes.CoatCheck_True',\n",
    " 'ambience_casual',\n",
    " 'ambience_trendy',\n",
    " 'ambience_others']"
   ]
  },
  {
   "cell_type": "code",
   "execution_count": 165,
   "metadata": {},
   "outputs": [],
   "source": [
    "X = X[cols_log]"
   ]
  },
  {
   "cell_type": "code",
   "execution_count": 168,
   "metadata": {},
   "outputs": [
    {
     "name": "stdout",
     "output_type": "stream",
     "text": [
      "Optimization terminated successfully.\n",
      "         Current function value: 0.609372\n",
      "         Iterations 6\n",
      "                                      Results: Logit\n",
      "===========================================================================================\n",
      "Model:                        Logit                    Pseudo R-squared:         0.061     \n",
      "Dependent Variable:           success                  AIC:                      91874.7453\n",
      "Date:                         2018-12-01 08:19         BIC:                      92059.3438\n",
      "No. Observations:             75352                    Log-Likelihood:           -45917.   \n",
      "Df Model:                     19                       LL-Null:                  -48882.   \n",
      "Df Residuals:                 75332                    LLR p-value:              0.0000    \n",
      "Converged:                    1.0000                   Scale:                    1.0000    \n",
      "No. Iterations:               6.0000                                                       \n",
      "-------------------------------------------------------------------------------------------\n",
      "                                            Coef.  Std.Err.    z     P>|z|   [0.025  0.975]\n",
      "-------------------------------------------------------------------------------------------\n",
      "attributes.RestaurantsAttire_casual        -0.4747   0.0201 -23.5871 0.0000 -0.5142 -0.4353\n",
      "attributes.RestaurantsAttire_formal        -0.4565   0.1930  -2.3652 0.0180 -0.8347 -0.0782\n",
      "attributes.Alcohol_full_bar                -0.2292   0.0228 -10.0569 0.0000 -0.2739 -0.1845\n",
      "attributes.RestaurantsReservations_True     0.2571   0.0225  11.4070 0.0000  0.2130  0.3013\n",
      "attributes.NoiseLevel_very_loud            -1.0305   0.0565 -18.2387 0.0000 -1.1412 -0.9198\n",
      "attributes.Open24Hours_True                -0.8743   0.4041  -2.1638 0.0305 -1.6662 -0.0823\n",
      "attributes.AgesAllowed_21plus              -0.4783   0.1850  -2.5857 0.0097 -0.8408 -0.1157\n",
      "attributes.ByAppointmentOnly_True           1.0048   0.2288   4.3909 0.0000  0.5563  1.4534\n",
      "attributes.DogsAllowed_True                 1.0498   0.0746  14.0689 0.0000  0.9036  1.1961\n",
      "attributes.BusinessAcceptsCreditCards_True -0.2326   0.0220 -10.5786 0.0000 -0.2757 -0.1895\n",
      "attributes.DriveThru_True                  -1.8657   0.0518 -36.0107 0.0000 -1.9673 -1.7642\n",
      "attributes.Caters_True                      0.4386   0.0201  21.8760 0.0000  0.3993  0.4779\n",
      "attributes.RestaurantsPriceRange2_1.0       0.9463   0.0256  36.9352 0.0000  0.8961  0.9965\n",
      "attributes.RestaurantsPriceRange2_2.0       0.8224   0.0252  32.6504 0.0000  0.7730  0.8717\n",
      "attributes.RestaurantsPriceRange2_3.0       1.0114   0.0435  23.2702 0.0000  0.9262  1.0966\n",
      "attributes.RestaurantsPriceRange2_4.0       0.8899   0.0917   9.7066 0.0000  0.7102  1.0696\n",
      "attributes.CoatCheck_True                  -0.2327   0.0793  -2.9326 0.0034 -0.3882 -0.0772\n",
      "ambience_casual                             0.5206   0.0209  24.8901 0.0000  0.4796  0.5616\n",
      "ambience_trendy                             0.9418   0.0606  15.5319 0.0000  0.8230  1.0607\n",
      "ambience_others                             0.9811   0.0445  22.0661 0.0000  0.8940  1.0683\n",
      "===========================================================================================\n",
      "\n"
     ]
    }
   ],
   "source": [
    "import statsmodels.api as sm\n",
    "logit_model=sm.Logit(y,X)\n",
    "result=logit_model.fit()\n",
    "print(result.summary2())"
   ]
  },
  {
   "cell_type": "code",
   "execution_count": 169,
   "metadata": {},
   "outputs": [
    {
     "name": "stderr",
     "output_type": "stream",
     "text": [
      "/usr/local/lib/python3.6/site-packages/sklearn/linear_model/logistic.py:433: FutureWarning: Default solver will be changed to 'lbfgs' in 0.22. Specify a solver to silence this warning.\n",
      "  FutureWarning)\n"
     ]
    },
    {
     "data": {
      "text/plain": [
       "LogisticRegression(C=1.0, class_weight=None, dual=False, fit_intercept=True,\n",
       "          intercept_scaling=1, max_iter=100, multi_class='warn',\n",
       "          n_jobs=None, penalty='l2', random_state=None, solver='warn',\n",
       "          tol=0.0001, verbose=0, warm_start=False)"
      ]
     },
     "execution_count": 169,
     "metadata": {},
     "output_type": "execute_result"
    }
   ],
   "source": [
    "from sklearn.linear_model import LogisticRegression\n",
    "from sklearn import metrics\n",
    "\n",
    "X_train, X_test, y_train, y_test = train_test_split(X, y, test_size=0.3, random_state=0)\n",
    "\n",
    "logreg = LogisticRegression()\n",
    "logreg.fit(X_train, y_train)"
   ]
  },
  {
   "cell_type": "code",
   "execution_count": 170,
   "metadata": {},
   "outputs": [
    {
     "name": "stdout",
     "output_type": "stream",
     "text": [
      "Accuracy of logistic regression classifier on test set: 0.67\n"
     ]
    }
   ],
   "source": [
    "y_pred = logreg.predict(X_test)\n",
    "print('Accuracy of logistic regression classifier on test set: {:.2f}'.format(logreg.score(X_test, y_test)))"
   ]
  },
  {
   "cell_type": "code",
   "execution_count": 171,
   "metadata": {},
   "outputs": [
    {
     "data": {
      "image/png": "[encoded data removed]",
      "text/plain": [
       "<Figure size 432x288 with 1 Axes>"
      ]
     },
     "metadata": {
      "needs_background": "light"
     },
     "output_type": "display_data"
    }
   ],
   "source": [
    "from sklearn.metrics import roc_auc_score\n",
    "from sklearn.metrics import roc_curve\n",
    "\n",
    "logit_roc_auc = roc_auc_score(y_test, logreg.predict(X_test))\n",
    "fpr, tpr, thresholds = roc_curve(y_test, logreg.predict_proba(X_test)[:,1])\n",
    "plt.figure()\n",
    "plt.plot(fpr, tpr, label='Logistic Regression (area = %0.2f)' % logit_roc_auc)\n",
    "plt.plot([0, 1], [0, 1],'r--')\n",
    "plt.xlim([0.0, 1.0])\n",
    "plt.ylim([0.0, 1.05])\n",
    "plt.xlabel('False Positive Rate')\n",
    "plt.ylabel('True Positive Rate')\n",
    "plt.title('Receiver operating characteristic')\n",
    "plt.legend(loc=\"lower right\")\n",
    "plt.savefig('Log_ROC')\n",
    "plt.show()"
   ]
  },
  {
   "cell_type": "markdown",
   "metadata": {},
   "source": [
    "## 4.3 Random Forest"
   ]
  },
  {
   "cell_type": "code",
   "execution_count": 172,
   "metadata": {},
   "outputs": [
    {
     "data": {
      "text/plain": [
       "RandomForestClassifier(bootstrap=True, class_weight=None, criterion='gini',\n",
       "            max_depth=None, max_features='auto', max_leaf_nodes=None,\n",
       "            min_impurity_decrease=0.0, min_impurity_split=None,\n",
       "            min_samples_leaf=1, min_samples_split=2,\n",
       "            min_weight_fraction_leaf=0.0, n_estimators=10, n_jobs=None,\n",
       "            oob_score=False, random_state=None, verbose=0,\n",
       "            warm_start=False)"
      ]
     },
     "execution_count": 172,
     "metadata": {},
     "output_type": "execute_result"
    }
   ],
   "source": [
    "from sklearn.ensemble import RandomForestClassifier\n",
    "model = RandomForestClassifier(n_estimators=10)\n",
    "\n",
    "X_train, X_test, y_train, y_test = train_test_split(X, y, test_size=0.3, random_state=0)\n",
    "model.fit(train_X, np.ravel(train_y))"
   ]
  },
  {
   "cell_type": "code",
   "execution_count": 173,
   "metadata": {},
   "outputs": [
    {
     "data": {
      "text/plain": [
       "0.6348314606741573"
      ]
     },
     "execution_count": 173,
     "metadata": {},
     "output_type": "execute_result"
    }
   ],
   "source": [
    "model.score(test_X,test_y)"
   ]
  },
  {
   "cell_type": "code",
   "execution_count": 176,
   "metadata": {},
   "outputs": [
    {
     "data": {
      "text/plain": [
       "Text(0.5, 0, 'Relative Importance')"
      ]
     },
     "execution_count": 176,
     "metadata": {},
     "output_type": "execute_result"
    },
    {
     "data": {
      "image/png": "[encoded data removed]",
      "text/plain": [
       "<Figure size 864x864 with 1 Axes>"
      ]
     },
     "metadata": {
      "needs_background": "light"
     },
     "output_type": "display_data"
    }
   ],
   "source": [
    "import matplotlib.pyplot as plt\n",
    "%matplotlib inline\n",
    "\n",
    "importances = model.feature_importances_\n",
    "indices = np.argsort(importances)\n",
    "\n",
    "plt.figure(figsize=(12,12))\n",
    "plt.title('Feature Importances')\n",
    "plt.barh(range(len(indices)), importances[indices], color='b', align='center')\n",
    "plt.yticks(range(len(indices)), cols_ml)\n",
    "plt.xlabel('Relative Importance')"
   ]
  },
  {
   "cell_type": "markdown",
   "metadata": {},
   "source": [
    "## 4.4 Bootstrapping"
   ]
  },
  {
   "cell_type": "code",
   "execution_count": 177,
   "metadata": {},
   "outputs": [
    {
     "data": {
      "text/plain": [
       "BaggingClassifier(base_estimator=None, bootstrap=True,\n",
       "         bootstrap_features=False, max_features=1.0, max_samples=1.0,\n",
       "         n_estimators=10, n_jobs=None, oob_score=False, random_state=None,\n",
       "         verbose=0, warm_start=False)"
      ]
     },
     "execution_count": 177,
     "metadata": {},
     "output_type": "execute_result"
    }
   ],
   "source": [
    "from sklearn.ensemble import BaggingClassifier\n",
    "model=BaggingClassifier()\n",
    "model.fit(train_X,np.ravel(train_y))"
   ]
  },
  {
   "cell_type": "code",
   "execution_count": 178,
   "metadata": {},
   "outputs": [
    {
     "data": {
      "text/plain": [
       "0.6327081305848005"
      ]
     },
     "execution_count": 178,
     "metadata": {},
     "output_type": "execute_result"
    }
   ],
   "source": [
    "model.score(test_X,test_y)"
   ]
  },
  {
   "cell_type": "markdown",
   "metadata": {},
   "source": [
    "## 4.5 XGBoost"
   ]
  },
  {
   "cell_type": "code",
   "execution_count": 181,
   "metadata": {},
   "outputs": [],
   "source": [
    "import sklearn\n",
    "X_train, X_test, y_train, y_test = sklearn.model_selection.train_test_split(X, y, test_size=0.95)"
   ]
  },
  {
   "cell_type": "code",
   "execution_count": 182,
   "metadata": {},
   "outputs": [],
   "source": [
    "dtrain = xgb.DMatrix(X_train,label=y_train)\n",
    "dtest= xgb.DMatrix(X_test,label=y_test)"
   ]
  },
  {
   "cell_type": "code",
   "execution_count": 183,
   "metadata": {},
   "outputs": [],
   "source": [
    "train_labels = dtrain.get_label()\n",
    "\n",
    "params = { 'eta':0.3, 'silent':1, 'objective':'binary:logistic' }\n",
    "ratio = float(np.sum(train_labels == 0)) / np.sum(train_labels == 1)\n",
    "params['scale_pos_weight'] = ratio"
   ]
  },
  {
   "cell_type": "code",
   "execution_count": 185,
   "metadata": {},
   "outputs": [
    {
     "name": "stdout",
     "output_type": "stream",
     "text": [
      "{'eta': 0.3, 'silent': 1, 'objective': 'binary:logistic', 'scale_pos_weight': 0.5444854448544485, 'min_child_weight': 5, 'gamma': 1.5, 'subsample': 0.9, 'colsample_bytree': 0.9, 'max_depth': 3} \n",
      "\n",
      "[0]\ttest-error:0.382901\ttrain-error:0.370852\n",
      "[1]\ttest-error:0.382901\ttrain-error:0.370852\n",
      "[2]\ttest-error:0.379381\ttrain-error:0.367401\n",
      "[3]\ttest-error:0.372341\ttrain-error:0.362092\n",
      "[4]\ttest-error:0.372187\ttrain-error:0.361295\n",
      "[5]\ttest-error:0.420745\ttrain-error:0.408813\n",
      "[6]\ttest-error:0.372592\ttrain-error:0.361561\n",
      "[7]\ttest-error:0.403241\ttrain-error:0.390496\n",
      "[8]\ttest-error:0.403269\ttrain-error:0.390762\n",
      "[9]\ttest-error:0.425131\ttrain-error:0.417043\n",
      "[10]\ttest-error:0.424768\ttrain-error:0.417839\n",
      "[11]\ttest-error:0.401523\ttrain-error:0.388904\n",
      "[12]\ttest-error:0.426961\ttrain-error:0.411733\n",
      "[13]\ttest-error:0.415352\ttrain-error:0.404035\n",
      "[14]\ttest-error:0.409569\ttrain-error:0.396602\n",
      "[15]\ttest-error:0.408521\ttrain-error:0.395806\n",
      "[16]\ttest-error:0.409555\ttrain-error:0.396868\n",
      "[17]\ttest-error:0.409681\ttrain-error:0.396868\n",
      "[18]\ttest-error:0.408591\ttrain-error:0.396602\n",
      "[19]\ttest-error:0.401565\ttrain-error:0.390231\n",
      "[20]\ttest-error:0.401551\ttrain-error:0.390231\n",
      "[21]\ttest-error:0.402459\ttrain-error:0.390496\n",
      "[22]\ttest-error:0.402459\ttrain-error:0.390496\n",
      "[23]\ttest-error:0.400573\ttrain-error:0.389966\n",
      "[24]\ttest-error:0.402333\ttrain-error:0.3897\n",
      "[25]\ttest-error:0.402319\ttrain-error:0.3897\n",
      "[26]\ttest-error:0.401341\ttrain-error:0.3897\n",
      "[27]\ttest-error:0.402375\ttrain-error:0.389966\n",
      "[28]\ttest-error:0.402375\ttrain-error:0.389966\n",
      "[29]\ttest-error:0.402375\ttrain-error:0.389966\n",
      "[30]\ttest-error:0.399581\ttrain-error:0.383329\n",
      "[31]\ttest-error:0.399581\ttrain-error:0.383329\n",
      "[32]\ttest-error:0.399581\ttrain-error:0.383329\n",
      "[33]\ttest-error:0.398687\ttrain-error:0.382533\n",
      "[34]\ttest-error:0.398421\ttrain-error:0.379347\n",
      "[35]\ttest-error:0.398421\ttrain-error:0.379347\n",
      "[36]\ttest-error:0.397653\ttrain-error:0.379081\n",
      "[37]\ttest-error:0.398701\ttrain-error:0.381471\n",
      "[38]\ttest-error:0.39838\ttrain-error:0.380674\n",
      "[39]\ttest-error:0.397974\ttrain-error:0.38094\n",
      "[40]\ttest-error:0.397891\ttrain-error:0.38094\n",
      "[41]\ttest-error:0.397122\ttrain-error:0.382267\n",
      "[42]\ttest-error:0.397136\ttrain-error:0.382267\n",
      "[43]\ttest-error:0.397891\ttrain-error:0.38094\n",
      "[44]\ttest-error:0.398212\ttrain-error:0.381471\n",
      "[45]\ttest-error:0.397891\ttrain-error:0.38094\n",
      "[46]\ttest-error:0.397276\ttrain-error:0.382267\n",
      "[47]\ttest-error:0.397136\ttrain-error:0.382267\n",
      "[48]\ttest-error:0.397374\ttrain-error:0.382267\n",
      "[49]\ttest-error:0.397374\ttrain-error:0.382267\n",
      "+++++++++++++++++++++++++++++++++++++++++++++++\n",
      "\n",
      "{'eta': 0.3, 'silent': 1, 'objective': 'binary:logistic', 'scale_pos_weight': 0.5444854448544485, 'min_child_weight': 2, 'gamma': 2.0, 'subsample': 0.7, 'colsample_bytree': 0.6, 'max_depth': 2} \n",
      "\n",
      "[0]\ttest-error:0.396843\ttrain-error:0.382267\n",
      "[1]\ttest-error:0.471914\ttrain-error:0.46695\n",
      "[2]\ttest-error:0.452357\ttrain-error:0.440669\n",
      "[3]\ttest-error:0.449466\ttrain-error:0.437218\n",
      "[4]\ttest-error:0.449536\ttrain-error:0.437218\n",
      "[5]\ttest-error:0.472948\ttrain-error:0.461375\n",
      "[6]\ttest-error:0.435999\ttrain-error:0.427927\n",
      "[7]\ttest-error:0.419878\ttrain-error:0.413061\n",
      "[8]\ttest-error:0.423315\ttrain-error:0.415715\n",
      "[9]\ttest-error:0.423301\ttrain-error:0.415715\n",
      "[10]\ttest-error:0.421988\ttrain-error:0.411999\n",
      "[11]\ttest-error:0.423958\ttrain-error:0.41545\n",
      "[12]\ttest-error:0.424125\ttrain-error:0.414123\n",
      "[13]\ttest-error:0.430984\ttrain-error:0.417043\n",
      "[14]\ttest-error:0.408158\ttrain-error:0.3897\n",
      "[15]\ttest-error:0.425913\ttrain-error:0.41253\n",
      "[16]\ttest-error:0.426821\ttrain-error:0.411733\n",
      "[17]\ttest-error:0.432479\ttrain-error:0.418901\n",
      "[18]\ttest-error:0.416079\ttrain-error:0.404301\n",
      "[19]\ttest-error:0.393728\ttrain-error:0.377223\n",
      "[20]\ttest-error:0.393476\ttrain-error:0.376958\n",
      "[21]\ttest-error:0.398366\ttrain-error:0.38386\n",
      "[22]\ttest-error:0.400796\ttrain-error:0.383594\n",
      "[23]\ttest-error:0.400601\ttrain-error:0.383594\n",
      "[24]\ttest-error:0.369225\ttrain-error:0.359968\n",
      "[25]\ttest-error:0.369491\ttrain-error:0.360234\n",
      "[26]\ttest-error:0.404819\ttrain-error:0.387311\n",
      "[27]\ttest-error:0.368974\ttrain-error:0.359968\n",
      "[28]\ttest-error:0.367437\ttrain-error:0.356517\n",
      "[29]\ttest-error:0.367437\ttrain-error:0.356517\n",
      "[30]\ttest-error:0.374352\ttrain-error:0.363154\n",
      "[31]\ttest-error:0.367116\ttrain-error:0.356252\n",
      "[32]\ttest-error:0.367116\ttrain-error:0.356252\n",
      "[33]\ttest-error:0.401858\ttrain-error:0.38386\n",
      "[34]\ttest-error:0.396522\ttrain-error:0.377489\n",
      "[35]\ttest-error:0.396522\ttrain-error:0.377489\n",
      "[36]\ttest-error:0.396522\ttrain-error:0.377489\n",
      "[37]\ttest-error:0.392945\ttrain-error:0.375896\n",
      "[38]\ttest-error:0.39187\ttrain-error:0.378285\n",
      "[39]\ttest-error:0.410309\ttrain-error:0.398195\n",
      "[40]\ttest-error:0.40366\ttrain-error:0.39262\n",
      "[41]\ttest-error:0.403688\ttrain-error:0.39262\n",
      "[42]\ttest-error:0.403646\ttrain-error:0.39262\n",
      "[43]\ttest-error:0.405518\ttrain-error:0.391027\n",
      "[44]\ttest-error:0.405504\ttrain-error:0.391027\n",
      "[45]\ttest-error:0.405518\ttrain-error:0.391027\n",
      "[46]\ttest-error:0.398603\ttrain-error:0.384391\n",
      "[47]\ttest-error:0.398463\ttrain-error:0.384391\n",
      "[48]\ttest-error:0.398589\ttrain-error:0.384391\n",
      "[49]\ttest-error:0.403255\ttrain-error:0.39262\n",
      "+++++++++++++++++++++++++++++++++++++++++++++++\n",
      "\n",
      "{'eta': 0.3, 'silent': 1, 'objective': 'binary:logistic', 'scale_pos_weight': 0.5444854448544485, 'min_child_weight': 1, 'gamma': 1.5, 'subsample': 0.6, 'colsample_bytree': 1.0, 'max_depth': 3} \n",
      "\n",
      "[0]\ttest-error:0.462108\ttrain-error:0.458986\n",
      "[1]\ttest-error:0.445652\ttrain-error:0.445447\n",
      "[2]\ttest-error:0.440036\ttrain-error:0.438811\n",
      "[3]\ttest-error:0.436656\ttrain-error:0.435094\n",
      "[4]\ttest-error:0.456869\ttrain-error:0.451818\n",
      "[5]\ttest-error:0.449019\ttrain-error:0.440669\n",
      "[6]\ttest-error:0.436684\ttrain-error:0.426865\n",
      "[7]\ttest-error:0.408004\ttrain-error:0.396602\n",
      "[8]\ttest-error:0.437354\ttrain-error:0.429785\n",
      "[9]\ttest-error:0.440637\ttrain-error:0.438014\n",
      "[10]\ttest-error:0.409415\ttrain-error:0.403504\n",
      "[11]\ttest-error:0.386366\ttrain-error:0.372179\n",
      "[12]\ttest-error:0.410086\ttrain-error:0.393682\n",
      "[13]\ttest-error:0.407362\ttrain-error:0.396071\n",
      "[14]\ttest-error:0.408647\ttrain-error:0.396868\n",
      "[15]\ttest-error:0.41024\ttrain-error:0.397664\n",
      "[16]\ttest-error:0.440986\ttrain-error:0.43244\n",
      "[17]\ttest-error:0.432633\ttrain-error:0.426068\n",
      "[18]\ttest-error:0.400573\ttrain-error:0.38386\n",
      "[19]\ttest-error:0.410952\ttrain-error:0.394478\n",
      "[20]\ttest-error:0.41098\ttrain-error:0.394478\n",
      "[21]\ttest-error:0.395879\ttrain-error:0.378551\n",
      "[22]\ttest-error:0.411525\ttrain-error:0.402177\n",
      "[23]\ttest-error:0.40929\ttrain-error:0.396602\n",
      "[24]\ttest-error:0.40468\ttrain-error:0.390496\n",
      "[25]\ttest-error:0.402361\ttrain-error:0.390496\n",
      "[26]\ttest-error:0.394091\ttrain-error:0.378551\n",
      "[27]\ttest-error:0.4\ttrain-error:0.385718\n",
      "[28]\ttest-error:0.405797\ttrain-error:0.391824\n",
      "[29]\ttest-error:0.406063\ttrain-error:0.391293\n",
      "[30]\ttest-error:0.405029\ttrain-error:0.393417\n",
      "[31]\ttest-error:0.405085\ttrain-error:0.393417\n",
      "[32]\ttest-error:0.377551\ttrain-error:0.372976\n",
      "[33]\ttest-error:0.377523\ttrain-error:0.372976\n",
      "[34]\ttest-error:0.408926\ttrain-error:0.396868\n",
      "[35]\ttest-error:0.408773\ttrain-error:0.396602\n",
      "[36]\ttest-error:0.408731\ttrain-error:0.396868\n",
      "[37]\ttest-error:0.408968\ttrain-error:0.396868\n",
      "[38]\ttest-error:0.410002\ttrain-error:0.397664\n",
      "[39]\ttest-error:0.405252\ttrain-error:0.390496\n",
      "[40]\ttest-error:0.405979\ttrain-error:0.391824\n",
      "[41]\ttest-error:0.405909\ttrain-error:0.391558\n",
      "[42]\ttest-error:0.405909\ttrain-error:0.391558\n",
      "[43]\ttest-error:0.395921\ttrain-error:0.372976\n",
      "[44]\ttest-error:0.395921\ttrain-error:0.372976\n",
      "[45]\ttest-error:0.403115\ttrain-error:0.384656\n",
      "[46]\ttest-error:0.403003\ttrain-error:0.384391\n",
      "[47]\ttest-error:0.400112\ttrain-error:0.38094\n",
      "[48]\ttest-error:0.398868\ttrain-error:0.378551\n",
      "[49]\ttest-error:0.39905\ttrain-error:0.379612\n",
      "+++++++++++++++++++++++++++++++++++++++++++++++\n",
      "\n",
      "{'eta': 0.3, 'silent': 1, 'objective': 'binary:logistic', 'scale_pos_weight': 0.5444854448544485, 'min_child_weight': 5, 'gamma': 2.0, 'subsample': 0.7, 'colsample_bytree': 0.6, 'max_depth': 3} \n",
      "\n",
      "[0]\ttest-error:0.464217\ttrain-error:0.457659\n",
      "[1]\ttest-error:0.493092\ttrain-error:0.488452\n",
      "[2]\ttest-error:0.486359\ttrain-error:0.48155\n",
      "[3]\ttest-error:0.485479\ttrain-error:0.478099\n",
      "[4]\ttest-error:0.455836\ttrain-error:0.446509\n",
      "[5]\ttest-error:0.451142\ttrain-error:0.441731\n",
      "[6]\ttest-error:0.406049\ttrain-error:0.400584\n",
      "[7]\ttest-error:0.405727\ttrain-error:0.400319\n",
      "[8]\ttest-error:0.414291\ttrain-error:0.40669\n",
      "[9]\ttest-error:0.414249\ttrain-error:0.40669\n",
      "[10]\ttest-error:0.405658\ttrain-error:0.400319\n",
      "[11]\ttest-error:0.407376\ttrain-error:0.395806\n",
      "[12]\ttest-error:0.407362\ttrain-error:0.395806\n",
      "[13]\ttest-error:0.40651\ttrain-error:0.393682\n",
      "[14]\ttest-error:0.406482\ttrain-error:0.393682\n",
      "[15]\ttest-error:0.406775\ttrain-error:0.394478\n",
      "[16]\ttest-error:0.408968\ttrain-error:0.394213\n",
      "[17]\ttest-error:0.41362\ttrain-error:0.402442\n",
      "[18]\ttest-error:0.403758\ttrain-error:0.389435\n",
      "[19]\ttest-error:0.374827\ttrain-error:0.367932\n",
      "[20]\ttest-error:0.403395\ttrain-error:0.388904\n",
      "[21]\ttest-error:0.3754\ttrain-error:0.368728\n",
      "[22]\ttest-error:0.37547\ttrain-error:0.366339\n",
      "[23]\ttest-error:0.402962\ttrain-error:0.387045\n",
      "[24]\ttest-error:0.400671\ttrain-error:0.387311\n",
      "[25]\ttest-error:0.400671\ttrain-error:0.387045\n",
      "[26]\ttest-error:0.400726\ttrain-error:0.387045\n",
      "[27]\ttest-error:0.400657\ttrain-error:0.387311\n",
      "[28]\ttest-error:0.39912\ttrain-error:0.386514\n",
      "[29]\ttest-error:0.39912\ttrain-error:0.386514\n",
      "[30]\ttest-error:0.39912\ttrain-error:0.386514\n",
      "[31]\ttest-error:0.39912\ttrain-error:0.386514\n",
      "[32]\ttest-error:0.39912\ttrain-error:0.386514\n",
      "[33]\ttest-error:0.39912\ttrain-error:0.386514\n",
      "[34]\ttest-error:0.399846\ttrain-error:0.388107\n",
      "[35]\ttest-error:0.398086\ttrain-error:0.384391\n",
      "[36]\ttest-error:0.398086\ttrain-error:0.384391\n",
      "[37]\ttest-error:0.398086\ttrain-error:0.384391\n",
      "[38]\ttest-error:0.398687\ttrain-error:0.387842\n",
      "[39]\ttest-error:0.398659\ttrain-error:0.388107\n",
      "[40]\ttest-error:0.398673\ttrain-error:0.387842\n",
      "[41]\ttest-error:0.396913\ttrain-error:0.384125\n",
      "[42]\ttest-error:0.398407\ttrain-error:0.387842\n",
      "[43]\ttest-error:0.398394\ttrain-error:0.388107\n",
      "[44]\ttest-error:0.39838\ttrain-error:0.388107\n",
      "[45]\ttest-error:0.399441\ttrain-error:0.388638\n",
      "[46]\ttest-error:0.399441\ttrain-error:0.388638\n",
      "[47]\ttest-error:0.399455\ttrain-error:0.388638\n",
      "[48]\ttest-error:0.399441\ttrain-error:0.388638\n",
      "[49]\ttest-error:0.399427\ttrain-error:0.388904\n",
      "+++++++++++++++++++++++++++++++++++++++++++++++\n",
      "\n",
      "{'eta': 0.3, 'silent': 1, 'objective': 'binary:logistic', 'scale_pos_weight': 0.5444854448544485, 'min_child_weight': 4, 'gamma': 2.0, 'subsample': 1.0, 'colsample_bytree': 0.8, 'max_depth': 2} \n",
      "\n",
      "[0]\ttest-error:0.331284\ttrain-error:0.331298\n",
      "[1]\ttest-error:0.484906\ttrain-error:0.48686\n",
      "[2]\ttest-error:0.479835\ttrain-error:0.482081\n",
      "[3]\ttest-error:0.373304\ttrain-error:0.362092\n",
      "[4]\ttest-error:0.459929\ttrain-error:0.454473\n",
      "[5]\ttest-error:0.459384\ttrain-error:0.454473\n",
      "[6]\ttest-error:0.437075\ttrain-error:0.435891\n",
      "[7]\ttest-error:0.441405\ttrain-error:0.430847\n",
      "[8]\ttest-error:0.449424\ttrain-error:0.442262\n",
      "[9]\ttest-error:0.441349\ttrain-error:0.430847\n",
      "[10]\ttest-error:0.372997\ttrain-error:0.36395\n",
      "[11]\ttest-error:0.372955\ttrain-error:0.363419\n",
      "[12]\ttest-error:0.433233\ttrain-error:0.427927\n",
      "[13]\ttest-error:0.378725\ttrain-error:0.367401\n",
      "[14]\ttest-error:0.361961\ttrain-error:0.350411\n",
      "[15]\ttest-error:0.396326\ttrain-error:0.381205\n",
      "[16]\ttest-error:0.409737\ttrain-error:0.39554\n",
      "[17]\ttest-error:0.409779\ttrain-error:0.395275\n",
      "[18]\ttest-error:0.392764\ttrain-error:0.378285\n",
      "[19]\ttest-error:0.392764\ttrain-error:0.378285\n",
      "[20]\ttest-error:0.392764\ttrain-error:0.378285\n",
      "[21]\ttest-error:0.392764\ttrain-error:0.378285\n",
      "[22]\ttest-error:0.392764\ttrain-error:0.378285\n",
      "[23]\ttest-error:0.392764\ttrain-error:0.378285\n",
      "[24]\ttest-error:0.394482\ttrain-error:0.379081\n",
      "[25]\ttest-error:0.394482\ttrain-error:0.379081\n",
      "[26]\ttest-error:0.394468\ttrain-error:0.379347\n",
      "[27]\ttest-error:0.394468\ttrain-error:0.379347\n",
      "[28]\ttest-error:0.394468\ttrain-error:0.379347\n",
      "[29]\ttest-error:0.394468\ttrain-error:0.379347\n",
      "[30]\ttest-error:0.394468\ttrain-error:0.379347\n",
      "[31]\ttest-error:0.394468\ttrain-error:0.379347\n",
      "[32]\ttest-error:0.394468\ttrain-error:0.379347\n",
      "[33]\ttest-error:0.394468\ttrain-error:0.379347\n",
      "[34]\ttest-error:0.394468\ttrain-error:0.379347\n",
      "[35]\ttest-error:0.408521\ttrain-error:0.39554\n",
      "[36]\ttest-error:0.408521\ttrain-error:0.39554\n",
      "[37]\ttest-error:0.408521\ttrain-error:0.39554\n",
      "[38]\ttest-error:0.408521\ttrain-error:0.39554\n",
      "[39]\ttest-error:0.408521\ttrain-error:0.39554\n",
      "[40]\ttest-error:0.408521\ttrain-error:0.39554\n",
      "[41]\ttest-error:0.408521\ttrain-error:0.39554\n",
      "[42]\ttest-error:0.408521\ttrain-error:0.39554\n",
      "[43]\ttest-error:0.408521\ttrain-error:0.39554\n",
      "[44]\ttest-error:0.408521\ttrain-error:0.39554\n",
      "[45]\ttest-error:0.408521\ttrain-error:0.39554\n",
      "[46]\ttest-error:0.408521\ttrain-error:0.39554\n",
      "[47]\ttest-error:0.408521\ttrain-error:0.39554\n",
      "[48]\ttest-error:0.408521\ttrain-error:0.39554\n",
      "[49]\ttest-error:0.408521\ttrain-error:0.39554\n",
      "+++++++++++++++++++++++++++++++++++++++++++++++\n",
      "\n",
      "{'eta': 0.3, 'silent': 1, 'objective': 'binary:logistic', 'scale_pos_weight': 0.5444854448544485, 'min_child_weight': 1, 'gamma': 0.5, 'subsample': 0.8, 'colsample_bytree': 1.0, 'max_depth': 2} \n",
      "\n",
      "[0]\ttest-error:0.516407\ttrain-error:0.51022\n",
      "[1]\ttest-error:0.491569\ttrain-error:0.488452\n",
      "[2]\ttest-error:0.440721\ttrain-error:0.43828\n",
      "[3]\ttest-error:0.437354\ttrain-error:0.434563\n",
      "[4]\ttest-error:0.436963\ttrain-error:0.434563\n",
      "[5]\ttest-error:0.437019\ttrain-error:0.434563\n",
      "[6]\ttest-error:0.436921\ttrain-error:0.434298\n",
      "[7]\ttest-error:0.429084\ttrain-error:0.423148\n",
      "[8]\ttest-error:0.428945\ttrain-error:0.423148\n",
      "[9]\ttest-error:0.428665\ttrain-error:0.423414\n",
      "[10]\ttest-error:0.41464\ttrain-error:0.405893\n",
      "[11]\ttest-error:0.414626\ttrain-error:0.405893\n",
      "[12]\ttest-error:0.41471\ttrain-error:0.405893\n",
      "[13]\ttest-error:0.422253\ttrain-error:0.414654\n",
      "[14]\ttest-error:0.433527\ttrain-error:0.423414\n",
      "[15]\ttest-error:0.399804\ttrain-error:0.386249\n",
      "[16]\ttest-error:0.408521\ttrain-error:0.393682\n",
      "[17]\ttest-error:0.408242\ttrain-error:0.393682\n",
      "[18]\ttest-error:0.403702\ttrain-error:0.392355\n",
      "[19]\ttest-error:0.4038\ttrain-error:0.392089\n",
      "[20]\ttest-error:0.397136\ttrain-error:0.383063\n",
      "[21]\ttest-error:0.410589\ttrain-error:0.40138\n",
      "[22]\ttest-error:0.389495\ttrain-error:0.377223\n",
      "[23]\ttest-error:0.389663\ttrain-error:0.376692\n",
      "[24]\ttest-error:0.397248\ttrain-error:0.387311\n",
      "[25]\ttest-error:0.402612\ttrain-error:0.391558\n",
      "[26]\ttest-error:0.395642\ttrain-error:0.385187\n",
      "[27]\ttest-error:0.395809\ttrain-error:0.385453\n",
      "[28]\ttest-error:0.402975\ttrain-error:0.392089\n",
      "[29]\ttest-error:0.397402\ttrain-error:0.385984\n",
      "[30]\ttest-error:0.397472\ttrain-error:0.385984\n",
      "[31]\ttest-error:0.404289\ttrain-error:0.395806\n",
      "[32]\ttest-error:0.398854\ttrain-error:0.385984\n",
      "[33]\ttest-error:0.399763\ttrain-error:0.385718\n",
      "[34]\ttest-error:0.400251\ttrain-error:0.386249\n",
      "[35]\ttest-error:0.400084\ttrain-error:0.385187\n",
      "[36]\ttest-error:0.397248\ttrain-error:0.383329\n",
      "[37]\ttest-error:0.397597\ttrain-error:0.38386\n",
      "[38]\ttest-error:0.397597\ttrain-error:0.384125\n",
      "[39]\ttest-error:0.397332\ttrain-error:0.382267\n",
      "[40]\ttest-error:0.404819\ttrain-error:0.393151\n",
      "[41]\ttest-error:0.404875\ttrain-error:0.393417\n",
      "[42]\ttest-error:0.406398\ttrain-error:0.394478\n",
      "[43]\ttest-error:0.406552\ttrain-error:0.394478\n",
      "[44]\ttest-error:0.406384\ttrain-error:0.394478\n",
      "[45]\ttest-error:0.405476\ttrain-error:0.394744\n",
      "[46]\ttest-error:0.405588\ttrain-error:0.395009\n",
      "[47]\ttest-error:0.405825\ttrain-error:0.394478\n",
      "[48]\ttest-error:0.405881\ttrain-error:0.394744\n",
      "[49]\ttest-error:0.405755\ttrain-error:0.394478\n",
      "+++++++++++++++++++++++++++++++++++++++++++++++\n",
      "\n",
      "{'eta': 0.3, 'silent': 1, 'objective': 'binary:logistic', 'scale_pos_weight': 0.5444854448544485, 'min_child_weight': 5, 'gamma': 1.0, 'subsample': 1.0, 'colsample_bytree': 0.8, 'max_depth': 5} \n",
      "\n",
      "[0]\ttest-error:0.32775\ttrain-error:0.327582\n",
      "[1]\ttest-error:0.42562\ttrain-error:0.415981\n",
      "[2]\ttest-error:0.42562\ttrain-error:0.415981\n",
      "[3]\ttest-error:0.424055\ttrain-error:0.40961\n",
      "[4]\ttest-error:0.406747\ttrain-error:0.38386\n",
      "[5]\ttest-error:0.411385\ttrain-error:0.393682\n",
      "[6]\ttest-error:0.407865\ttrain-error:0.387576\n",
      "[7]\ttest-error:0.405546\ttrain-error:0.384125\n",
      "[8]\ttest-error:0.396522\ttrain-error:0.379081\n",
      "[9]\ttest-error:0.393644\ttrain-error:0.373507\n",
      "[10]\ttest-error:0.393728\ttrain-error:0.372976\n",
      "[11]\ttest-error:0.39634\ttrain-error:0.376692\n",
      "[12]\ttest-error:0.394217\ttrain-error:0.374303\n",
      "[13]\ttest-error:0.394049\ttrain-error:0.374569\n",
      "[14]\ttest-error:0.395013\ttrain-error:0.374569\n",
      "[15]\ttest-error:0.394943\ttrain-error:0.374303\n",
      "[16]\ttest-error:0.397234\ttrain-error:0.375365\n",
      "[17]\ttest-error:0.3962\ttrain-error:0.374303\n",
      "[18]\ttest-error:0.396438\ttrain-error:0.374038\n",
      "[19]\ttest-error:0.394105\ttrain-error:0.371649\n",
      "[20]\ttest-error:0.394105\ttrain-error:0.371649\n",
      "[21]\ttest-error:0.394105\ttrain-error:0.371649\n",
      "[22]\ttest-error:0.394412\ttrain-error:0.370321\n",
      "[23]\ttest-error:0.394189\ttrain-error:0.370852\n",
      "[24]\ttest-error:0.394189\ttrain-error:0.370852\n",
      "[25]\ttest-error:0.394259\ttrain-error:0.370852\n",
      "[26]\ttest-error:0.394203\ttrain-error:0.371118\n",
      "[27]\ttest-error:0.394203\ttrain-error:0.371118\n",
      "[28]\ttest-error:0.394203\ttrain-error:0.371118\n",
      "[29]\ttest-error:0.394203\ttrain-error:0.371118\n",
      "[30]\ttest-error:0.394203\ttrain-error:0.371118\n",
      "[31]\ttest-error:0.394203\ttrain-error:0.371118\n",
      "[32]\ttest-error:0.394203\ttrain-error:0.371118\n",
      "[33]\ttest-error:0.394203\ttrain-error:0.371118\n",
      "[34]\ttest-error:0.394203\ttrain-error:0.371118\n",
      "[35]\ttest-error:0.394203\ttrain-error:0.371118\n",
      "[36]\ttest-error:0.394203\ttrain-error:0.371118\n",
      "[37]\ttest-error:0.394203\ttrain-error:0.371118\n",
      "[38]\ttest-error:0.394203\ttrain-error:0.371118\n",
      "[39]\ttest-error:0.394203\ttrain-error:0.371118\n",
      "[40]\ttest-error:0.394203\ttrain-error:0.371118\n",
      "[41]\ttest-error:0.394203\ttrain-error:0.371118\n",
      "[42]\ttest-error:0.394203\ttrain-error:0.371118\n",
      "[43]\ttest-error:0.394203\ttrain-error:0.371118\n",
      "[44]\ttest-error:0.394203\ttrain-error:0.371118\n",
      "[45]\ttest-error:0.394203\ttrain-error:0.371118\n",
      "[46]\ttest-error:0.394203\ttrain-error:0.371118\n",
      "[47]\ttest-error:0.394203\ttrain-error:0.371118\n",
      "[48]\ttest-error:0.394203\ttrain-error:0.371118\n",
      "[49]\ttest-error:0.394203\ttrain-error:0.371118\n",
      "+++++++++++++++++++++++++++++++++++++++++++++++\n",
      "\n",
      "{'eta': 0.3, 'silent': 1, 'objective': 'binary:logistic', 'scale_pos_weight': 0.5444854448544485, 'min_child_weight': 1, 'gamma': 2.0, 'subsample': 0.7, 'colsample_bytree': 0.6, 'max_depth': 5} \n",
      "\n",
      "[0]\ttest-error:0.421848\ttrain-error:0.40669\n",
      "[1]\ttest-error:0.419292\ttrain-error:0.403239\n",
      "[2]\ttest-error:0.42636\ttrain-error:0.414919\n",
      "[3]\ttest-error:0.423203\ttrain-error:0.411468\n",
      "[4]\ttest-error:0.399078\ttrain-error:0.379878\n",
      "[5]\ttest-error:0.403548\ttrain-error:0.389966\n",
      "[6]\ttest-error:0.399036\ttrain-error:0.377489\n",
      "[7]\ttest-error:0.402389\ttrain-error:0.385453\n",
      "[8]\ttest-error:0.397821\ttrain-error:0.374834\n",
      "[9]\ttest-error:0.403772\ttrain-error:0.384391\n",
      "[10]\ttest-error:0.402319\ttrain-error:0.384656\n",
      "[11]\ttest-error:0.402556\ttrain-error:0.385187\n",
      "[12]\ttest-error:0.402836\ttrain-error:0.384656\n",
      "[13]\ttest-error:0.403464\ttrain-error:0.385453\n",
      "[14]\ttest-error:0.403981\ttrain-error:0.384391\n",
      "[15]\ttest-error:0.403199\ttrain-error:0.383329\n",
      "[16]\ttest-error:0.403981\ttrain-error:0.384391\n",
      "[17]\ttest-error:0.403185\ttrain-error:0.383063\n",
      "[18]\ttest-error:0.37642\ttrain-error:0.362092\n",
      "[19]\ttest-error:0.376406\ttrain-error:0.362092\n",
      "[20]\ttest-error:0.376322\ttrain-error:0.362092\n",
      "[21]\ttest-error:0.403883\ttrain-error:0.382533\n",
      "[22]\ttest-error:0.403883\ttrain-error:0.382533\n",
      "[23]\ttest-error:0.40359\ttrain-error:0.382267\n",
      "[24]\ttest-error:0.403506\ttrain-error:0.382267\n",
      "[25]\ttest-error:0.403702\ttrain-error:0.382267\n",
      "[26]\ttest-error:0.404512\ttrain-error:0.38386\n",
      "[27]\ttest-error:0.399693\ttrain-error:0.377223\n",
      "[28]\ttest-error:0.399693\ttrain-error:0.377223\n",
      "[29]\ttest-error:0.399693\ttrain-error:0.377223\n",
      "[30]\ttest-error:0.397164\ttrain-error:0.36979\n",
      "[31]\ttest-error:0.397122\ttrain-error:0.36979\n",
      "[32]\ttest-error:0.39708\ttrain-error:0.370056\n",
      "[33]\ttest-error:0.397066\ttrain-error:0.370056\n",
      "[34]\ttest-error:0.397108\ttrain-error:0.36979\n",
      "[35]\ttest-error:0.397108\ttrain-error:0.36979\n",
      "[36]\ttest-error:0.397192\ttrain-error:0.36979\n",
      "[37]\ttest-error:0.397248\ttrain-error:0.36979\n",
      "[38]\ttest-error:0.397192\ttrain-error:0.370321\n",
      "[39]\ttest-error:0.397192\ttrain-error:0.370056\n",
      "[40]\ttest-error:0.397192\ttrain-error:0.370321\n",
      "[41]\ttest-error:0.396927\ttrain-error:0.368994\n",
      "[42]\ttest-error:0.396186\ttrain-error:0.369259\n",
      "[43]\ttest-error:0.396564\ttrain-error:0.36979\n",
      "[44]\ttest-error:0.39655\ttrain-error:0.36979\n",
      "[45]\ttest-error:0.396913\ttrain-error:0.371649\n",
      "[46]\ttest-error:0.396564\ttrain-error:0.369525\n",
      "[47]\ttest-error:0.396256\ttrain-error:0.368994\n",
      "[48]\ttest-error:0.396256\ttrain-error:0.369525\n",
      "[49]\ttest-error:0.396745\ttrain-error:0.370321\n",
      "+++++++++++++++++++++++++++++++++++++++++++++++\n",
      "\n",
      "{'eta': 0.3, 'silent': 1, 'objective': 'binary:logistic', 'scale_pos_weight': 0.5444854448544485, 'min_child_weight': 4, 'gamma': 1.5, 'subsample': 0.7, 'colsample_bytree': 0.9, 'max_depth': 4} \n",
      "\n",
      "[0]\ttest-error:0.459887\ttrain-error:0.445978\n",
      "[1]\ttest-error:0.416931\ttrain-error:0.405362\n",
      "[2]\ttest-error:0.415534\ttrain-error:0.403504\n",
      "[3]\ttest-error:0.409527\ttrain-error:0.397133\n",
      "[4]\ttest-error:0.407041\ttrain-error:0.39554\n",
      "[5]\ttest-error:0.409946\ttrain-error:0.396868\n",
      "[6]\ttest-error:0.40644\ttrain-error:0.394478\n",
      "[7]\ttest-error:0.401481\ttrain-error:0.387045\n",
      "[8]\ttest-error:0.405406\ttrain-error:0.386514\n",
      "[9]\ttest-error:0.402012\ttrain-error:0.380143\n",
      "[10]\ttest-error:0.404233\ttrain-error:0.386249\n",
      "[11]\ttest-error:0.404219\ttrain-error:0.385984\n",
      "[12]\ttest-error:0.404233\ttrain-error:0.386249\n",
      "[13]\ttest-error:0.404303\ttrain-error:0.385984\n",
      "[14]\ttest-error:0.396382\ttrain-error:0.377754\n",
      "[15]\ttest-error:0.39342\ttrain-error:0.370321\n",
      "[16]\ttest-error:0.398547\ttrain-error:0.382002\n",
      "[17]\ttest-error:0.397541\ttrain-error:0.378816\n",
      "[18]\ttest-error:0.373263\ttrain-error:0.36103\n",
      "[19]\ttest-error:0.372536\ttrain-error:0.360234\n",
      "[20]\ttest-error:0.372536\ttrain-error:0.360234\n",
      "[21]\ttest-error:0.37459\ttrain-error:0.362888\n",
      "[22]\ttest-error:0.36896\ttrain-error:0.353066\n",
      "[23]\ttest-error:0.396144\ttrain-error:0.374303\n",
      "[24]\ttest-error:0.367563\ttrain-error:0.349615\n",
      "[25]\ttest-error:0.367563\ttrain-error:0.349615\n",
      "[26]\ttest-error:0.401523\ttrain-error:0.382002\n",
      "[27]\ttest-error:0.394734\ttrain-error:0.369525\n",
      "[28]\ttest-error:0.39472\ttrain-error:0.369525\n",
      "[29]\ttest-error:0.394747\ttrain-error:0.369259\n",
      "[30]\ttest-error:0.39451\ttrain-error:0.369525\n",
      "[31]\ttest-error:0.394524\ttrain-error:0.369525\n",
      "[32]\ttest-error:0.394398\ttrain-error:0.36979\n",
      "[33]\ttest-error:0.394426\ttrain-error:0.36979\n",
      "[34]\ttest-error:0.395055\ttrain-error:0.370056\n",
      "[35]\ttest-error:0.394943\ttrain-error:0.36979\n",
      "[36]\ttest-error:0.393239\ttrain-error:0.368728\n",
      "[37]\ttest-error:0.393113\ttrain-error:0.368728\n",
      "[38]\ttest-error:0.393239\ttrain-error:0.368728\n",
      "[39]\ttest-error:0.394608\ttrain-error:0.369259\n",
      "[40]\ttest-error:0.394147\ttrain-error:0.369259\n",
      "[41]\ttest-error:0.394231\ttrain-error:0.369525\n",
      "[42]\ttest-error:0.393406\ttrain-error:0.368728\n",
      "[43]\ttest-error:0.393686\ttrain-error:0.368994\n",
      "[44]\ttest-error:0.396061\ttrain-error:0.374834\n",
      "[45]\ttest-error:0.395893\ttrain-error:0.374834\n",
      "[46]\ttest-error:0.396186\ttrain-error:0.374569\n",
      "[47]\ttest-error:0.395865\ttrain-error:0.374303\n",
      "[48]\ttest-error:0.393853\ttrain-error:0.368463\n",
      "[49]\ttest-error:0.393616\ttrain-error:0.367932\n",
      "+++++++++++++++++++++++++++++++++++++++++++++++\n",
      "\n",
      "{'eta': 0.3, 'silent': 1, 'objective': 'binary:logistic', 'scale_pos_weight': 0.5444854448544485, 'min_child_weight': 5, 'gamma': 1.5, 'subsample': 1.0, 'colsample_bytree': 0.9, 'max_depth': 5} \n",
      "\n",
      "[0]\ttest-error:0.361961\ttrain-error:0.350942\n",
      "[1]\ttest-error:0.449298\ttrain-error:0.440138\n",
      "[2]\ttest-error:0.418956\ttrain-error:0.405893\n",
      "[3]\ttest-error:0.420633\ttrain-error:0.413326\n",
      "[4]\ttest-error:0.415716\ttrain-error:0.402708\n",
      "[5]\ttest-error:0.419767\ttrain-error:0.413061\n",
      "[6]\ttest-error:0.419543\ttrain-error:0.412264\n",
      "[7]\ttest-error:0.411008\ttrain-error:0.401115\n",
      "[8]\ttest-error:0.409206\ttrain-error:0.39846\n",
      "[9]\ttest-error:0.413606\ttrain-error:0.406424\n",
      "[10]\ttest-error:0.399176\ttrain-error:0.387311\n",
      "[11]\ttest-error:0.399176\ttrain-error:0.387311\n",
      "[12]\ttest-error:0.399246\ttrain-error:0.387311\n",
      "[13]\ttest-error:0.399246\ttrain-error:0.387311\n",
      "[14]\ttest-error:0.399246\ttrain-error:0.387311\n",
      "[15]\ttest-error:0.399246\ttrain-error:0.387311\n",
      "[16]\ttest-error:0.399246\ttrain-error:0.387311\n",
      "[17]\ttest-error:0.399246\ttrain-error:0.387311\n",
      "[18]\ttest-error:0.399246\ttrain-error:0.387311\n",
      "[19]\ttest-error:0.399371\ttrain-error:0.387045\n",
      "[20]\ttest-error:0.399371\ttrain-error:0.387045\n",
      "[21]\ttest-error:0.399329\ttrain-error:0.387045\n",
      "[22]\ttest-error:0.399329\ttrain-error:0.387045\n",
      "[23]\ttest-error:0.399329\ttrain-error:0.387045\n",
      "[24]\ttest-error:0.399329\ttrain-error:0.387045\n",
      "[25]\ttest-error:0.399329\ttrain-error:0.387045\n",
      "[26]\ttest-error:0.399329\ttrain-error:0.387045\n",
      "[27]\ttest-error:0.399329\ttrain-error:0.387045\n",
      "[28]\ttest-error:0.399329\ttrain-error:0.387045\n",
      "[29]\ttest-error:0.399329\ttrain-error:0.387045\n",
      "[30]\ttest-error:0.399329\ttrain-error:0.387045\n",
      "[31]\ttest-error:0.399329\ttrain-error:0.387045\n",
      "[32]\ttest-error:0.399329\ttrain-error:0.387045\n",
      "[33]\ttest-error:0.399329\ttrain-error:0.387045\n",
      "[34]\ttest-error:0.399329\ttrain-error:0.387045\n",
      "[35]\ttest-error:0.399329\ttrain-error:0.387045\n",
      "[36]\ttest-error:0.399329\ttrain-error:0.387045\n",
      "[37]\ttest-error:0.399329\ttrain-error:0.387045\n",
      "[38]\ttest-error:0.399329\ttrain-error:0.387045\n",
      "[39]\ttest-error:0.399329\ttrain-error:0.387045\n",
      "[40]\ttest-error:0.399329\ttrain-error:0.387045\n",
      "[41]\ttest-error:0.399329\ttrain-error:0.387045\n",
      "[42]\ttest-error:0.399329\ttrain-error:0.387045\n",
      "[43]\ttest-error:0.399329\ttrain-error:0.387045\n",
      "[44]\ttest-error:0.399329\ttrain-error:0.387045\n",
      "[45]\ttest-error:0.399329\ttrain-error:0.387045\n",
      "[46]\ttest-error:0.399329\ttrain-error:0.387045\n",
      "[47]\ttest-error:0.399329\ttrain-error:0.387045\n",
      "[48]\ttest-error:0.399329\ttrain-error:0.387045\n",
      "[49]\ttest-error:0.399329\ttrain-error:0.387045\n",
      "+++++++++++++++++++++++++++++++++++++++++++++++\n",
      "\n"
     ]
    }
   ],
   "source": [
    "import random\n",
    "for i in range(10):\n",
    "    mcw=random.randint(1,5)\n",
    "    gamma=random.randrange(1,5,step=1)/2\n",
    "    subsample=random.randrange(6,11,step=1)/10\n",
    "    colbt=random.randrange(6,11,step=1)/10\n",
    "    maxdepth=random.randint(2,5)\n",
    "\n",
    "    params[ 'min_child_weight']=mcw\n",
    "    params['gamma']=gamma\n",
    "    params['subsample']=subsample\n",
    "    params[ 'colsample_bytree']=colbt\n",
    "    params['max_depth']=maxdepth\n",
    "\n",
    "    num_rounds = 50\n",
    "    watchlist  = [(dtest,'test'), (dtrain,'train')]\n",
    "    print(params,'\\n')\n",
    "    bst = xgb.train(params, dtrain, num_rounds, watchlist)\n",
    "    print('+++++++++++++++++++++++++++++++++++++++++++++++\\n')"
   ]
  },
  {
   "cell_type": "code",
   "execution_count": 187,
   "metadata": {},
   "outputs": [],
   "source": [
    "import xgboost as xgb\n",
    "preds = bst.predict(dtest)"
   ]
  },
  {
   "cell_type": "code",
   "execution_count": 188,
   "metadata": {},
   "outputs": [
    {
     "data": {
      "text/plain": [
       "0.6059575861744565"
      ]
     },
     "execution_count": 188,
     "metadata": {},
     "output_type": "execute_result"
    }
   ],
   "source": [
    "res=[ i>0.5 for i in preds]\n",
    "res=np.array(res).astype(np.int8)\n",
    "from sklearn.metrics import roc_auc_score\n",
    "result=roc_auc_score(np.squeeze(y_test).values,res)\n",
    "result"
   ]
  }
 ],
 "metadata": {
  "kernelspec": {
   "display_name": "Python 3",
   "language": "python",
   "name": "python3"
  },
  "language_info": {
   "codemirror_mode": {
    "name": "ipython",
    "version": 3
   },
   "file_extension": ".py",
   "mimetype": "text/x-python",
   "name": "python",
   "nbconvert_exporter": "python",
   "pygments_lexer": "ipython3",
   "version": "3.6.3"
  }
 },
 "nbformat": 4,
 "nbformat_minor": 2
}
