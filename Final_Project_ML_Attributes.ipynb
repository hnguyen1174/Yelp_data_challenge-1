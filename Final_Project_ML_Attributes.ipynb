{
 "cells": [
  {
   "cell_type": "code",
   "execution_count": 1,
   "metadata": {},
   "outputs": [],
   "source": [
    "# import necessary libraries\n",
    "import numpy as np\n",
    "import pandas as pd\n",
    "import matplotlib.pyplot as plt\n",
    "%matplotlib inline\n",
    "import seaborn as sns\n",
    "import networkx as nx\n",
    "\n",
    "color = sns.color_palette()"
   ]
  },
  {
   "cell_type": "markdown",
   "metadata": {},
   "source": [
    "# 1. Setting Up"
   ]
  },
  {
   "cell_type": "code",
   "execution_count": 3,
   "metadata": {},
   "outputs": [],
   "source": [
    "# Import necessary libraries\n",
    "\n",
    "#misc\n",
    "import gc\n",
    "import time\n",
    "import warnings\n",
    "import json\n",
    "import os\n",
    "import ast\n",
    "\n",
    "import numpy as np\n",
    "import pandas as pd\n",
    "\n",
    "# Plotting\n",
    "import matplotlib.pyplot as plt\n",
    "%matplotlib inline\n",
    "import seaborn as sns\n",
    "color = sns.color_palette()"
   ]
  },
  {
   "cell_type": "markdown",
   "metadata": {},
   "source": [
    "Load the business dataset"
   ]
  },
  {
   "cell_type": "code",
   "execution_count": 2,
   "metadata": {},
   "outputs": [
    {
     "name": "stdout",
     "output_type": "stream",
     "text": [
      "<class 'pandas.core.frame.DataFrame'>\n",
      "RangeIndex: 188593 entries, 0 to 188592\n",
      "Data columns (total 61 columns):\n",
      "hours.Friday                             141796 non-null object\n",
      "attributes.RestaurantsAttire             48182 non-null object\n",
      "attributes.BikeParking                   84891 non-null object\n",
      "state                                    188593 non-null object\n",
      "categories                               188052 non-null object\n",
      "attributes.BusinessParking               103424 non-null object\n",
      "attributes.Alcohol                       47892 non-null object\n",
      "attributes.GoodForDancing                9162 non-null object\n",
      "attributes.BYOB                          911 non-null object\n",
      "attributes.DietaryRestrictions           138 non-null object\n",
      "attributes.RestaurantsReservations       51363 non-null object\n",
      "attributes.GoodForKids                   64931 non-null object\n",
      "attributes.Smoking                       8113 non-null object\n",
      "hours.Sunday                             93387 non-null object\n",
      "attributes.BYOBCorkage                   1409 non-null object\n",
      "latitude                                 188587 non-null float64\n",
      "attributes.BusinessAcceptsBitcoin        12674 non-null object\n",
      "attributes.GoodForMeal                   47483 non-null object\n",
      "attributes.BestNights                    6844 non-null object\n",
      "attributes.NoiseLevel                    43710 non-null object\n",
      "attributes.Corkage                       657 non-null object\n",
      "attributes.Music                         8807 non-null object\n",
      "hours.Wednesday                          141843 non-null object\n",
      "attributes.Open24Hours                   352 non-null object\n",
      "longitude                                188587 non-null float64\n",
      "neighborhood                             68655 non-null object\n",
      "attributes.HairSpecializesIn             1881 non-null object\n",
      "hours.Thursday                           142359 non-null object\n",
      "attributes.AgesAllowed                   397 non-null object\n",
      "attributes.ByAppointmentOnly             45423 non-null object\n",
      "business_id                              188593 non-null object\n",
      "attributes.RestaurantsDelivery           51668 non-null object\n",
      "attributes.RestaurantsGoodForGroups      53839 non-null object\n",
      "postal_code                              187912 non-null object\n",
      "attributes.RestaurantsTableService       43325 non-null object\n",
      "attributes.WiFi                          49026 non-null object\n",
      "hours                                    143791 non-null object\n",
      "attributes.DogsAllowed                   13681 non-null object\n",
      "review_count                             188593 non-null int64\n",
      "name                                     188593 non-null object\n",
      "attributes.BusinessAcceptsCreditCards    140391 non-null object\n",
      "hours.Saturday                           125376 non-null object\n",
      "attributes.Ambience                      47577 non-null object\n",
      "attributes.RestaurantsCounterService     397 non-null object\n",
      "attributes.DriveThru                     6754 non-null object\n",
      "attributes.Caters                        40038 non-null object\n",
      "address                                  180970 non-null object\n",
      "attributes.RestaurantsPriceRange2        107120 non-null float64\n",
      "attributes.RestaurantsTakeOut            61206 non-null object\n",
      "hours.Tuesday                            140607 non-null object\n",
      "attributes.WheelchairAccessible          52023 non-null object\n",
      "attributes.HasTV                         47533 non-null object\n",
      "attributes.HappyHour                     9285 non-null object\n",
      "hours.Monday                             132761 non-null object\n",
      "attributes.CoatCheck                     8531 non-null object\n",
      "attributes.OutdoorSeating                54181 non-null object\n",
      "is_open                                  188593 non-null int64\n",
      "attributes.AcceptsInsurance              11671 non-null object\n",
      "attributes                               162807 non-null object\n",
      "stars                                    188593 non-null float64\n",
      "city                                     188583 non-null object\n",
      "dtypes: float64(4), int64(2), object(55)\n",
      "memory usage: 87.8+ MB\n"
     ]
    }
   ],
   "source": [
    "business = pd.read_csv('/home/han2114/final_project_tools_analytics/yelp_academic_dataset_business_full.csv')\n",
    "business.info()"
   ]
  },
  {
   "cell_type": "code",
   "execution_count": 4,
   "metadata": {},
   "outputs": [
    {
     "name": "stdout",
     "output_type": "stream",
     "text": [
      "There are  1305  different types/categories of Businesses in Yelp!\n"
     ]
    }
   ],
   "source": [
    "cat_all = ','.join(business['categories'].dropna()).replace(\" \", \"\")\n",
    "cat_all = pd.DataFrame(cat_all.split(','), columns=['category'])\n",
    "cat_all_count = cat_all.category.value_counts().sort_values(ascending = False)\n",
    "print(\"There are \",len(cat_all_count),\" different types/categories of Businesses in Yelp!\")"
   ]
  },
  {
   "cell_type": "code",
   "execution_count": 5,
   "metadata": {},
   "outputs": [
    {
     "data": {
      "text/plain": [
       "Restaurants                 57173\n",
       "Shopping                    30231\n",
       "Food                        27118\n",
       "Beauty&Spas                 18967\n",
       "HomeServices                18634\n",
       "Health&Medical              16157\n",
       "LocalServices               12906\n",
       "Automotive                  12656\n",
       "Nightlife                   12438\n",
       "Bars                        10853\n",
       "EventPlanning&Services       9774\n",
       "ActiveLife                   9119\n",
       "Fashion                      7406\n",
       "Coffee&Tea                   6936\n",
       "Sandwiches                   6912\n",
       "HairSalons                   6825\n",
       "FastFood                     6812\n",
       "American(Traditional)        6659\n",
       "Pizza                        6603\n",
       "Home&Garden                  6020\n",
       "AutoRepair                   5877\n",
       "Hotels&Travel                5808\n",
       "Arts&Entertainment           5794\n",
       "ProfessionalServices         5620\n",
       "Doctors                      5450\n",
       "RealEstate                   5295\n",
       "Burgers                      5126\n",
       "Breakfast&Brunch             5023\n",
       "NailSalons                   4839\n",
       "Fitness&Instruction          4559\n",
       "                            ...  \n",
       "StreetArt                       1\n",
       "RotisserieChicken               1\n",
       "ElectricitySuppliers            1\n",
       "Playsets                        1\n",
       "Rodeo                           1\n",
       "SaunaInstallation&Repair        1\n",
       "Bulgarian                       1\n",
       "Tonkatsu                        1\n",
       "JapaneseSweets                  1\n",
       "Osteopaths                      1\n",
       "Flyboarding                     1\n",
       "Hainan                          1\n",
       "BeachBars                       1\n",
       "Otologists                      1\n",
       "GeneralFestivals                1\n",
       "TraditionalNorwegian            1\n",
       "HybridCarRepair                 1\n",
       "BeerHall                        1\n",
       "Soba                            1\n",
       "SignatureCuisine                1\n",
       "Czech/Slovakian                 1\n",
       "Backshop                        1\n",
       "MarketStalls                    1\n",
       "BeachVolleyball                 1\n",
       "SportEquipmentHire              1\n",
       "Pensions                        1\n",
       "DialysisClinics                 1\n",
       "WaterSuppliers                  1\n",
       "Tempura                         1\n",
       "SerboCroatian                   1\n",
       "Name: category, Length: 1305, dtype: int64"
      ]
     },
     "execution_count": 5,
     "metadata": {},
     "output_type": "execute_result"
    }
   ],
   "source": [
    "cat_all_count"
   ]
  },
  {
   "cell_type": "code",
   "execution_count": 6,
   "metadata": {},
   "outputs": [],
   "source": [
    "tfile = open('cat_all_count.txt', 'a')\n",
    "tfile.write(cat_all_count.to_string())\n",
    "tfile.close()"
   ]
  },
  {
   "cell_type": "code",
   "execution_count": 7,
   "metadata": {},
   "outputs": [],
   "source": [
    "food_masks = ['Restaurants', 'Food','Sandwiches', 'FastFood', 'Breakfast&Brunch', 'SpecialtyFood', 'Burgers',\n",
    "                    'American(Traditional)', 'American(New)','Pizza', 'Italian','African','Falafel','Turkish',\n",
    "                    'Desserts', 'Bakeries', 'Salad','ChickenWings', 'Mexican','Seafood','Chinese','Malaysian',\n",
    "                    'IceCream&FrozenYogurt', 'Delis', 'Japanese', 'Bars', 'Canadian(New)', 'AsianFusion',\n",
    "                    'Mediterranean', 'SushiBars','JuiceBars&Smoothies','Steakhouses','Coffee&Tea','Pretzels','PanAsian',\n",
    "                    'Barbeque','Beer','Wine&Spirits','SportsBars', 'Pubs','British','Poke','Delicatessen',\n",
    "                     'Lounges', 'WineBars', 'CocktailBars', 'Diners','Patisserie/CakeShop','Kosher','Afghan',\n",
    "                     'Vegetarian', 'EthnicFood', 'MiddleEastern','Persian/Iranian','FoodCourt','IrishPub',\n",
    "                     'Gluten-Free','ComfortFood','Indian','Soup','Vegan', 'Thai','FoodTrucks','Szechuan',\n",
    "                     'French','Greek','Buffets','Vietnamese','HotDogs','DiveBars','Tex-Mex','HotPot','Polish','Moroccan',\n",
    "                     'ImportedFood','Gastropubs','Bagels','BeerBar','Halal','Korean','Donuts','Tapas/SmallPlates',\n",
    "                     'Breweries','Southern','LatinAmerican','Do-It-YourselfFood','InternetCafes','Cantonese',\n",
    "                     'BubbleTea','TapasBars','Caribbean','Lebanese','CoffeeRoasteries','Gelato','Brazilian',\n",
    "                     'Pakistani','FoodStands','Hawaiian','Dim Sum','Tacos','SoulFood','Creperies','Ethiopian',\n",
    "                     'Fish&Chips','Cajun/Creole','Irish','ShavedIce','InternetCafes','Bistros','Peruvian','Waffles',\n",
    "                     'ModernEuropean','Taiwanese','Filipino','Cheesesteaks','German','Brasseries','Cuban',\n",
    "                     'Wineries','Ramen','Spanish','Poutineries','TeaRooms','Noodles','Cupcakes','Portuguese']"
   ]
  },
  {
   "cell_type": "code",
   "execution_count": 8,
   "metadata": {},
   "outputs": [],
   "source": [
    "bus_cats = business['categories']\n",
    "index_food_masks = list()\n",
    "NaN_list = list()\n",
    "for index, bus_cat in enumerate(bus_cats):\n",
    "    if pd.isnull(bus_cat) == True:\n",
    "        NaN_list.append(index)\n",
    "    else:\n",
    "        if bool(set(bus_cat.replace(\" \",\"\").split(',')) & set(food_masks)):\n",
    "            index_food_masks.append(index)"
   ]
  },
  {
   "cell_type": "code",
   "execution_count": 9,
   "metadata": {},
   "outputs": [],
   "source": [
    "restaurants = business.iloc[index_food_masks]"
   ]
  },
  {
   "cell_type": "code",
   "execution_count": 10,
   "metadata": {},
   "outputs": [
    {
     "name": "stdout",
     "output_type": "stream",
     "text": [
      "There are  835  different types/categories of Restaurants in Yelp!\n"
     ]
    }
   ],
   "source": [
    "cat_all_res = ','.join(restaurants['categories']).replace(\" \", \"\")\n",
    "cat_all_res = pd.DataFrame(cat_all_res.split(','), columns=['category'])\n",
    "cat_all_res_count = cat_all_res.category.value_counts().sort_values(ascending = False)\n",
    "print(\"There are \",len(cat_all_res_count),\" different types/categories of Restaurants in Yelp!\")"
   ]
  },
  {
   "cell_type": "code",
   "execution_count": 11,
   "metadata": {},
   "outputs": [],
   "source": [
    "USA_mask = ['AZ','NV','OH','NC','PA','WI','IL','SC','IN','OR','NY','MO','FL','AL','VA','CA']\n",
    "CAN_mask = ['ON','QC','AB','BC']\n",
    "UK_mask = ['NYK','XGM','NLK','XMS','CMA','WHT']\n",
    "GER_mask = ['NI','BY','HE','ST','RP','NW']\n",
    "location_mask = USA_mask + CAN_mask + UK_mask + GER_mask"
   ]
  },
  {
   "cell_type": "code",
   "execution_count": 12,
   "metadata": {},
   "outputs": [],
   "source": [
    "index_location_mask = list()\n",
    "state = restaurants['state']\n",
    "for index, state in enumerate(state):\n",
    "    if state in location_mask:\n",
    "        index_location_mask.append(index)"
   ]
  },
  {
   "cell_type": "code",
   "execution_count": 13,
   "metadata": {},
   "outputs": [],
   "source": [
    "restaurants = restaurants.iloc[index_location_mask]"
   ]
  },
  {
   "cell_type": "code",
   "execution_count": 14,
   "metadata": {},
   "outputs": [],
   "source": [
    "def label_country (row):\n",
    "    if row['state'] in  USA_mask:\n",
    "          return 'USA'\n",
    "    if row['state'] in  CAN_mask:\n",
    "          return 'Canada'\n",
    "    if row['state'] in  UK_mask:\n",
    "          return 'UK'\n",
    "    if row['state'] in  GER_mask:\n",
    "          return 'Germany'\n",
    "\n",
    "restaurants['country'] = restaurants.apply(lambda row: label_country(row),axis=1)"
   ]
  },
  {
   "cell_type": "markdown",
   "metadata": {},
   "source": [
    "# 2. Exploratory Data Analysis"
   ]
  },
  {
   "cell_type": "markdown",
   "metadata": {},
   "source": [
    "### 2A. Rating Distributions"
   ]
  },
  {
   "cell_type": "code",
   "execution_count": 15,
   "metadata": {},
   "outputs": [
    {
     "data": {
      "text/plain": [
       "1.0      540\n",
       "1.5     1540\n",
       "2.0     4065\n",
       "2.5     7400\n",
       "3.0    12984\n",
       "3.5    17410\n",
       "4.0    18145\n",
       "4.5    10069\n",
       "5.0     3199\n",
       "Name: stars, dtype: int64"
      ]
     },
     "execution_count": 15,
     "metadata": {},
     "output_type": "execute_result"
    }
   ],
   "source": [
    "# Get the distribution of the ratings\n",
    "rating_dist = restaurants['stars'].value_counts().sort_index()\n",
    "rating_dist"
   ]
  },
  {
   "cell_type": "code",
   "execution_count": 16,
   "metadata": {},
   "outputs": [
    {
     "data": {
      "image/png": "[encoded data removed]",
      "text/plain": [
       "<Figure size 1080x1080 with 1 Axes>"
      ]
     },
     "metadata": {
      "needs_background": "light"
     },
     "output_type": "display_data"
    }
   ],
   "source": [
    "plt.figure(figsize=(15,15))\n",
    "ax = sns.barplot(rating_dist.index, rating_dist.values, alpha=0.8)\n",
    "plt.title(\"Rating Distribution\")\n",
    "plt.ylabel('Number of business', fontsize=15)\n",
    "plt.xlabel('Rating', fontsize=15)\n",
    "\n",
    "rects = ax.patches\n",
    "labels = rating_dist.values\n",
    "for rect, label in zip(rects, labels):\n",
    "    height = rect.get_height()\n",
    "    ax.text(rect.get_x() + rect.get_width()/2, height + 5, label, ha='center', va='bottom')\n",
    "plt.show()"
   ]
  },
  {
   "cell_type": "code",
   "execution_count": 17,
   "metadata": {},
   "outputs": [
    {
     "data": {
      "image/png": "[encoded data removed]",
      "text/plain": [
       "<Figure size 864x864 with 1 Axes>"
      ]
     },
     "metadata": {},
     "output_type": "display_data"
    }
   ],
   "source": [
    "plt.figure(figsize=(12,12))\n",
    "labels = (np.array(rating_dist.index))\n",
    "sizes = (np.array((rating_dist / rating_dist.sum())*100))\n",
    "plt.pie(sizes, labels=labels, \n",
    "        autopct= '%1.1f%%', startangle = 200)\n",
    "plt.title(\"Rating Share\", fontsize=15)\n",
    "plt.show()"
   ]
  },
  {
   "cell_type": "code",
   "execution_count": 18,
   "metadata": {
    "scrolled": true
   },
   "outputs": [
    {
     "data": {
      "image/png": "[encoded data removed]",
      "text/plain": [
       "<Figure size 1152x288 with 1 Axes>"
      ]
     },
     "metadata": {
      "needs_background": "light"
     },
     "output_type": "display_data"
    }
   ],
   "source": [
    "x = cat_all_res_count.iloc[0:20]\n",
    "\n",
    "plt.figure(figsize=(16,4))\n",
    "ax = sns.barplot(x.index, x.values, alpha=0.8)\n",
    "plt.title(\"What are the top categories?\",fontsize=25)\n",
    "locs, labels = plt.xticks()\n",
    "plt.setp(labels, rotation=80)\n",
    "plt.ylabel('# businesses', fontsize=12)\n",
    "plt.xlabel('Category', fontsize=12)\n",
    "\n",
    "rects = ax.patches\n",
    "labels = x.values\n",
    "for rect, label in zip(rects, labels):\n",
    "    height = rect.get_height()\n",
    "    ax.text(rect.get_x() + rect.get_width()/2, height + 5, label, ha='center', va='bottom')\n",
    "\n",
    "plt.show()"
   ]
  },
  {
   "cell_type": "code",
   "execution_count": 19,
   "metadata": {},
   "outputs": [
    {
     "data": {
      "image/png": "[encoded data removed]",
      "text/plain": [
       "<Figure size 1152x288 with 1 Axes>"
      ]
     },
     "metadata": {
      "needs_background": "light"
     },
     "output_type": "display_data"
    }
   ],
   "source": [
    "# Location distribution\n",
    "\n",
    "city_count = restaurants['city'].value_counts().sort_values(ascending=False)\n",
    "plt.figure(figsize=(16,4))\n",
    "ax = sns.barplot(city_count[0:20].index, city_count[0:20].values, alpha=0.8)\n",
    "plt.title(\"Which city has the most reviews?\")\n",
    "locs, labels = plt.xticks()\n",
    "plt.setp(labels, rotation=45)\n",
    "plt.ylabel('# restaurants', fontsize=12)\n",
    "plt.xlabel('City', fontsize=12)\n",
    "\n",
    "rects = ax.patches\n",
    "labels = city_count.values\n",
    "for rect, label in zip(rects, labels):\n",
    "    height = rect.get_height()\n",
    "    ax.text(rect.get_x() + rect.get_width()/2, height + 5, label, ha='center', va='bottom')\n",
    "\n",
    "plt.show()"
   ]
  },
  {
   "cell_type": "code",
   "execution_count": 20,
   "metadata": {},
   "outputs": [
    {
     "data": {
      "image/png": "[encoded data removed]",
      "text/plain": [
       "<Figure size 1152x288 with 1 Axes>"
      ]
     },
     "metadata": {
      "needs_background": "light"
     },
     "output_type": "display_data"
    }
   ],
   "source": [
    "# Country distribution\n",
    "\n",
    "country_count = restaurants['country'].value_counts().sort_values(ascending=False)\n",
    "plt.figure(figsize=(16,4))\n",
    "ax = sns.barplot(country_count.index, country_count.values, alpha=0.8)\n",
    "plt.title(\"Which country has the most reviews?\")\n",
    "locs, labels = plt.xticks()\n",
    "plt.setp(labels, rotation=45)\n",
    "plt.ylabel('# restaurants', fontsize=12)\n",
    "plt.xlabel('Country', fontsize=12)\n",
    "\n",
    "rects = ax.patches\n",
    "labels = country_count.values\n",
    "for rect, label in zip(rects, labels):\n",
    "    height = rect.get_height()\n",
    "    ax.text(rect.get_x() + rect.get_width()/2, height + 5, label, ha='center', va='bottom')\n",
    "\n",
    "plt.show()"
   ]
  },
  {
   "cell_type": "code",
   "execution_count": 21,
   "metadata": {},
   "outputs": [
    {
     "data": {
      "text/plain": [
       "1746"
      ]
     },
     "execution_count": 21,
     "metadata": {},
     "output_type": "execute_result"
    }
   ],
   "source": [
    "# Top restaurants by number of reviews\n",
    "\n",
    "top_res = restaurants[restaurants['stars'] == 5.0]\n",
    "top_res.loc[top_res['review_count'].idxmax()]['review_count']"
   ]
  },
  {
   "cell_type": "markdown",
   "metadata": {},
   "source": [
    "# 3. Feature Selection"
   ]
  },
  {
   "cell_type": "markdown",
   "metadata": {},
   "source": [
    "## 3.0 We hypothesize that the following features are important"
   ]
  },
  {
   "cell_type": "markdown",
   "metadata": {},
   "source": [
    "Review and User-related features\n",
    "\n",
    "1. Review Count\n",
    "2. Star Rating\n",
    "3. Number of users who wrote reviews\n",
    "4. Maximum number of stars\n",
    "5. Minimum number of stars\n",
    "6. Number of reviews voted as 'cool'\n",
    "7. Number of reviews voted as 'funny'\n",
    "8. Number of reviews voted as 'useful'\n",
    "9. Time since first/last reviews\n",
    "10. Time between first and last reviews\n",
    "11. Max number of review in a single day\n"
   ]
  },
  {
   "cell_type": "markdown",
   "metadata": {},
   "source": [
    "Business Attributes Feature:\n",
    "    \n",
    "1. Hours\n",
    "2. Categories\n",
    "3. Business Parking\n",
    "4. Restaurant Reservations\n",
    "5. Good for Kids\n",
    "6. Smoking\n",
    "7. Good for Meal\n",
    "8. Noise Level\n",
    "9. Music\n",
    "10. Ages Allowed\n",
    "11. Restaurants Good for Groups\n",
    "12. WiFi\n",
    "13. Business Accepts Credit Cards\n",
    "14. Ambience\n",
    "15. Restaurant Price Range\n",
    "16. Happy Hour\n",
    "17. Outdoors Seating"
   ]
  },
  {
   "cell_type": "code",
   "execution_count": 34,
   "metadata": {},
   "outputs": [
    {
     "data": {
      "text/plain": [
       "Index(['hours.Friday', 'attributes.RestaurantsAttire',\n",
       "       'attributes.BikeParking', 'state', 'categories',\n",
       "       'attributes.BusinessParking', 'attributes.Alcohol',\n",
       "       'attributes.GoodForDancing', 'attributes.BYOB',\n",
       "       'attributes.DietaryRestrictions', 'attributes.RestaurantsReservations',\n",
       "       'attributes.GoodForKids', 'attributes.Smoking', 'hours.Sunday',\n",
       "       'attributes.BYOBCorkage', 'latitude',\n",
       "       'attributes.BusinessAcceptsBitcoin', 'attributes.GoodForMeal',\n",
       "       'attributes.BestNights', 'attributes.NoiseLevel', 'attributes.Corkage',\n",
       "       'attributes.Music', 'hours.Wednesday', 'attributes.Open24Hours',\n",
       "       'longitude', 'neighborhood', 'attributes.HairSpecializesIn',\n",
       "       'hours.Thursday', 'attributes.AgesAllowed',\n",
       "       'attributes.ByAppointmentOnly', 'business_id',\n",
       "       'attributes.RestaurantsDelivery', 'attributes.RestaurantsGoodForGroups',\n",
       "       'postal_code', 'attributes.RestaurantsTableService', 'attributes.WiFi',\n",
       "       'hours', 'attributes.DogsAllowed', 'review_count', 'name',\n",
       "       'attributes.BusinessAcceptsCreditCards', 'hours.Saturday',\n",
       "       'attributes.Ambience', 'attributes.RestaurantsCounterService',\n",
       "       'attributes.DriveThru', 'attributes.Caters', 'address',\n",
       "       'attributes.RestaurantsPriceRange2', 'attributes.RestaurantsTakeOut',\n",
       "       'hours.Tuesday', 'attributes.WheelchairAccessible', 'attributes.HasTV',\n",
       "       'attributes.HappyHour', 'hours.Monday', 'attributes.CoatCheck',\n",
       "       'attributes.OutdoorSeating', 'is_open', 'attributes.AcceptsInsurance',\n",
       "       'attributes', 'stars', 'city', 'country', 'Ambience'],\n",
       "      dtype='object')"
      ]
     },
     "execution_count": 34,
     "metadata": {},
     "output_type": "execute_result"
    }
   ],
   "source": [
    "col"
   ]
  },
  {
   "cell_type": "markdown",
   "metadata": {},
   "source": [
    "## 3.1 Merge Restaurants with Users and Reviews"
   ]
  },
  {
   "cell_type": "code",
   "execution_count": 35,
   "metadata": {},
   "outputs": [],
   "source": [
    "#importing the yelp reviews dataset\n",
    "datastr=open('yelp_academic_dataset_review.json','r')\n",
    "datajson=datastr.readlines()\n",
    "check=[json.loads(x) for x in datajson]\n",
    "ind=range(0,len(check))\n",
    "reviews=pd.DataFrame(check,index=ind,columns=check[0].keys())"
   ]
  },
  {
   "cell_type": "code",
   "execution_count": 43,
   "metadata": {},
   "outputs": [
    {
     "data": {
      "text/plain": [
       "Index(['review_id', 'user_id', 'business_id', 'stars', 'date', 'text',\n",
       "       'useful', 'funny', 'cool'],\n",
       "      dtype='object')"
      ]
     },
     "execution_count": 43,
     "metadata": {},
     "output_type": "execute_result"
    }
   ],
   "source": [
    "reviews.columns"
   ]
  },
  {
   "cell_type": "code",
   "execution_count": 44,
   "metadata": {},
   "outputs": [],
   "source": [
    "restaurant_reviews = reviews[reviews[\"business_id\"].isin(restaurants[\"business_id\"])]"
   ]
  },
  {
   "cell_type": "code",
   "execution_count": 100,
   "metadata": {},
   "outputs": [],
   "source": [
    "# User counts, max and min ratings\n",
    "user_rating_count = restaurant_reviews[['user_id','business_id']].groupby(['business_id']).count()\n",
    "user_rating_count = user_rating_count.rename(columns = {'business_id':'user_rating_count'})\n",
    "max_rating_restaurant = restaurant_reviews[['business_id','stars']].groupby(['business_id']).max()\n",
    "max_rating_restaurant = max_rating_restaurant.rename(columns = {'stars':'max_rating_rest'})\n",
    "min_rating_restaurant = restaurant_reviews[['business_id','stars']].groupby(['business_id']).min()\n",
    "min_rating_restaurant = min_rating_restaurant.rename(columns = {'stars':'min_rating_rest'})"
   ]
  },
  {
   "cell_type": "code",
   "execution_count": 74,
   "metadata": {},
   "outputs": [],
   "source": [
    "# Useful, funny, cool\n",
    "useful_mean = restaurant_reviews[['business_id','useful']].groupby(['business_id']).mean()\n",
    "useful_mean = useful_mean.rename(columns = {'business_id':'useful_mean'})\n",
    "funny_mean = restaurant_reviews[['business_id','funny']].groupby(['business_id']).mean()\n",
    "funny_mean = funny_mean.rename(columns = {'business_id':'funny_mean'})\n",
    "cool_mean = restaurant_reviews[['business_id','cool']].groupby(['business_id']).mean()\n",
    "cool_mean = cool_mean.rename(columns = {'business_id':'cool_mean'})"
   ]
  },
  {
   "cell_type": "code",
   "execution_count": 101,
   "metadata": {},
   "outputs": [],
   "source": [
    "restaurants = restaurants.merge(user_rating_count, how = 'left', on = 'business_id')"
   ]
  },
  {
   "cell_type": "code",
   "execution_count": 105,
   "metadata": {},
   "outputs": [],
   "source": [
    "user_rating_count = restaurant_reviews[['user_id','business_id']]"
   ]
  },
  {
   "cell_type": "code",
   "execution_count": 104,
   "metadata": {},
   "outputs": [
    {
     "data": {
      "text/plain": [
       "<pandas.core.groupby.groupby.DataFrameGroupBy object at 0x7fe4156c00f0>"
      ]
     },
     "execution_count": 104,
     "metadata": {},
     "output_type": "execute_result"
    }
   ],
   "source": [
    "user_rating_count = "
   ]
  },
  {
   "cell_type": "markdown",
   "metadata": {},
   "source": [
    "## 3.2 Ambience"
   ]
  },
  {
   "cell_type": "code",
   "execution_count": 108,
   "metadata": {
    "scrolled": true
   },
   "outputs": [
    {
     "data": {
      "text/plain": [
       "array([nan,\n",
       "       \"{'romantic': False, 'intimate': False, 'classy': False, 'hipster': False, 'touristy': False, 'trendy': False, 'upscale': False, 'casual': False}\",\n",
       "       \"{'romantic': False, 'intimate': False, 'classy': False, 'hipster': False, 'divey': False, 'touristy': False, 'trendy': False, 'upscale': False, 'casual': True}\",\n",
       "       \"{'romantic': False, 'intimate': False, 'classy': False, 'hipster': False, 'divey': False, 'touristy': False, 'trendy': False, 'upscale': False, 'casual': False}\",\n",
       "       \"{'romantic': False, 'intimate': False, 'classy': False, 'hipster': False, 'divey': True, 'touristy': False, 'trendy': False, 'upscale': False, 'casual': False}\",\n",
       "       \"{'romantic': False, 'intimate': False, 'classy': False, 'hipster': False, 'touristy': False, 'trendy': False, 'upscale': False, 'casual': True}\",\n",
       "       \"{'romantic': False, 'intimate': False, 'classy': False, 'hipster': False, 'touristy': False, 'trendy': True, 'upscale': False, 'casual': False}\",\n",
       "       \"{'romantic': False, 'intimate': False, 'classy': True, 'hipster': False, 'divey': False, 'touristy': False, 'trendy': True, 'upscale': True, 'casual': False}\",\n",
       "       \"{'romantic': False, 'intimate': False, 'classy': False, 'hipster': False, 'divey': False, 'touristy': True, 'trendy': False, 'upscale': False, 'casual': False}\",\n",
       "       \"{'romantic': False, 'intimate': False, 'classy': True, 'hipster': False, 'touristy': False, 'trendy': False, 'upscale': False, 'casual': False}\",\n",
       "       \"{'romantic': False, 'intimate': True, 'classy': False, 'hipster': False, 'divey': False, 'touristy': False, 'trendy': False, 'upscale': False, 'casual': False}\",\n",
       "       \"{'romantic': False, 'intimate': False, 'classy': True, 'hipster': False, 'divey': False, 'touristy': False, 'trendy': False, 'upscale': True, 'casual': False}\",\n",
       "       \"{'romantic': False, 'intimate': False, 'classy': False, 'hipster': True, 'touristy': False, 'trendy': False, 'upscale': False, 'casual': False}\",\n",
       "       \"{'romantic': False, 'intimate': True, 'classy': False, 'hipster': False, 'touristy': False, 'trendy': False, 'upscale': False, 'casual': False}\",\n",
       "       \"{'romantic': False, 'intimate': False, 'classy': False, 'hipster': True, 'touristy': False, 'trendy': False, 'upscale': False, 'casual': True}\",\n",
       "       \"{'romantic': False, 'intimate': False, 'classy': False, 'hipster': False, 'divey': False, 'touristy': False, 'trendy': True, 'upscale': False, 'casual': False}\",\n",
       "       \"{'romantic': False, 'intimate': False, 'classy': True, 'hipster': False, 'divey': False, 'touristy': False, 'trendy': False, 'upscale': False, 'casual': False}\",\n",
       "       \"{'romantic': False, 'intimate': False, 'classy': False, 'hipster': False, 'touristy': False, 'trendy': True, 'upscale': False, 'casual': True}\",\n",
       "       \"{'romantic': False, 'intimate': False, 'classy': False, 'hipster': False, 'divey': False, 'touristy': False, 'trendy': True, 'upscale': False, 'casual': True}\",\n",
       "       \"{'romantic': False, 'intimate': False, 'classy': False, 'hipster': True, 'divey': False, 'touristy': False, 'trendy': False, 'upscale': False, 'casual': True}\",\n",
       "       \"{'romantic': False, 'intimate': False, 'classy': False, 'hipster': False, 'divey': False, 'touristy': False, 'trendy': True, 'upscale': True, 'casual': False}\",\n",
       "       \"{'romantic': False, 'intimate': True, 'classy': True, 'hipster': False, 'touristy': False, 'trendy': False, 'upscale': False, 'casual': False}\",\n",
       "       \"{'romantic': False, 'intimate': False, 'classy': True, 'hipster': False, 'touristy': False, 'trendy': True, 'upscale': True, 'casual': False}\",\n",
       "       \"{'romantic': False, 'intimate': False, 'classy': False, 'hipster': True, 'divey': False, 'touristy': False, 'trendy': True, 'upscale': False, 'casual': False}\",\n",
       "       \"{'romantic': False, 'intimate': False, 'classy': False, 'hipster': False, 'divey': True, 'touristy': False, 'trendy': False, 'upscale': False, 'casual': True}\",\n",
       "       \"{'romantic': False, 'intimate': False, 'classy': False, 'hipster': False, 'touristy': True, 'trendy': False, 'upscale': False, 'casual': True}\",\n",
       "       \"{'romantic': True, 'intimate': False, 'classy': False, 'hipster': False, 'touristy': False, 'trendy': False, 'upscale': False, 'casual': False}\",\n",
       "       \"{'romantic': True, 'intimate': True, 'classy': False, 'hipster': False, 'divey': False, 'touristy': False, 'trendy': False, 'upscale': False, 'casual': False}\",\n",
       "       \"{'romantic': False, 'intimate': False, 'classy': False, 'hipster': True, 'divey': False, 'touristy': False, 'trendy': False, 'upscale': False, 'casual': False}\",\n",
       "       \"{'romantic': True, 'intimate': False, 'classy': True, 'hipster': False, 'touristy': False, 'trendy': False, 'upscale': False, 'casual': False}\",\n",
       "       \"{'romantic': True, 'intimate': True, 'classy': True, 'hipster': True, 'divey': False, 'touristy': False, 'trendy': True, 'upscale': False, 'casual': True}\",\n",
       "       \"{'romantic': True, 'intimate': False, 'classy': False, 'hipster': False, 'divey': False, 'touristy': False, 'trendy': False, 'upscale': True, 'casual': True}\",\n",
       "       \"{'romantic': False, 'intimate': False, 'classy': True, 'hipster': False, 'divey': False, 'touristy': False, 'trendy': True, 'upscale': False, 'casual': False}\",\n",
       "       \"{'romantic': False, 'intimate': False, 'classy': False, 'hipster': False, 'divey': False, 'touristy': True, 'trendy': False, 'upscale': False, 'casual': True}\",\n",
       "       \"{'romantic': True, 'intimate': False, 'classy': True, 'hipster': False, 'divey': False, 'touristy': False, 'trendy': True, 'upscale': False, 'casual': False}\",\n",
       "       \"{'romantic': False, 'intimate': False, 'classy': False, 'hipster': True, 'divey': False, 'touristy': False, 'trendy': True, 'upscale': False, 'casual': True}\",\n",
       "       \"{'romantic': False, 'intimate': False, 'classy': False, 'hipster': False, 'touristy': False, 'trendy': False, 'upscale': True, 'casual': False}\",\n",
       "       \"{'romantic': True, 'intimate': False, 'classy': False, 'hipster': False, 'divey': False, 'touristy': False, 'trendy': False, 'upscale': False, 'casual': False}\",\n",
       "       \"{'romantic': False, 'intimate': False, 'classy': True, 'hipster': False, 'divey': False, 'touristy': False, 'trendy': False, 'upscale': True, 'casual': True}\",\n",
       "       \"{'romantic': False, 'intimate': True, 'classy': True, 'hipster': False, 'divey': False, 'touristy': False, 'trendy': True, 'upscale': False, 'casual': True}\",\n",
       "       \"{'romantic': False, 'intimate': True, 'classy': True, 'hipster': False, 'divey': False, 'touristy': False, 'trendy': False, 'upscale': False, 'casual': False}\",\n",
       "       \"{'romantic': False, 'intimate': False, 'classy': True, 'hipster': False, 'divey': False, 'touristy': False, 'trendy': True, 'upscale': False, 'casual': True}\",\n",
       "       \"{'romantic': False, 'intimate': False, 'classy': False, 'hipster': True, 'touristy': False, 'trendy': True, 'upscale': False, 'casual': True}\",\n",
       "       \"{'romantic': False, 'intimate': True, 'classy': False, 'hipster': False, 'touristy': False, 'trendy': True, 'upscale': False, 'casual': True}\",\n",
       "       \"{'romantic': False, 'intimate': False, 'classy': False, 'hipster': False, 'divey': False, 'touristy': False, 'trendy': False, 'upscale': True, 'casual': True}\",\n",
       "       \"{'romantic': False, 'intimate': False, 'classy': False, 'hipster': False, 'divey': False, 'touristy': False, 'trendy': False, 'upscale': True, 'casual': False}\",\n",
       "       \"{'romantic': False, 'intimate': False, 'classy': False, 'hipster': True, 'touristy': False, 'trendy': True, 'upscale': False, 'casual': False}\",\n",
       "       \"{'romantic': False, 'intimate': False, 'classy': True, 'hipster': True, 'divey': False, 'touristy': False, 'trendy': True, 'upscale': True, 'casual': True}\",\n",
       "       \"{'romantic': False, 'intimate': False, 'classy': True, 'hipster': False, 'touristy': False, 'trendy': False, 'upscale': True, 'casual': False}\",\n",
       "       \"{'romantic': False, 'intimate': True, 'classy': False, 'hipster': True, 'divey': False, 'touristy': False, 'trendy': False, 'upscale': False, 'casual': True}\",\n",
       "       \"{'romantic': True, 'intimate': False, 'classy': False, 'hipster': False, 'touristy': False, 'trendy': False, 'upscale': False, 'casual': True}\",\n",
       "       \"{'romantic': False, 'intimate': True, 'classy': False, 'hipster': False, 'divey': False, 'touristy': False, 'trendy': False, 'upscale': False, 'casual': True}\",\n",
       "       \"{'romantic': True, 'intimate': True, 'classy': True, 'hipster': False, 'divey': False, 'touristy': False, 'trendy': False, 'upscale': False, 'casual': False}\",\n",
       "       \"{'romantic': False, 'intimate': False, 'classy': True, 'hipster': False, 'divey': False, 'touristy': False, 'trendy': False, 'upscale': False, 'casual': True}\",\n",
       "       \"{'romantic': False, 'intimate': True, 'classy': False, 'hipster': False, 'divey': False, 'touristy': False, 'trendy': True, 'upscale': False, 'casual': True}\",\n",
       "       \"{'romantic': True, 'intimate': False, 'classy': True, 'hipster': False, 'touristy': False, 'trendy': False, 'upscale': True, 'casual': False}\",\n",
       "       \"{'romantic': True, 'intimate': True, 'classy': True, 'hipster': False, 'divey': False, 'touristy': False, 'trendy': False, 'upscale': True, 'casual': False}\",\n",
       "       \"{'romantic': True, 'intimate': True, 'classy': False, 'hipster': False, 'touristy': False, 'trendy': False, 'upscale': False, 'casual': True}\",\n",
       "       \"{'romantic': True, 'intimate': False, 'classy': True, 'hipster': False, 'divey': False, 'touristy': False, 'trendy': False, 'upscale': True, 'casual': False}\",\n",
       "       \"{'romantic': True, 'intimate': False, 'classy': True, 'hipster': False, 'divey': False, 'touristy': False, 'trendy': False, 'upscale': False, 'casual': False}\",\n",
       "       \"{'romantic': True, 'intimate': True, 'classy': True, 'hipster': False, 'divey': False, 'touristy': False, 'trendy': False, 'upscale': False, 'casual': True}\",\n",
       "       \"{'romantic': False, 'intimate': False, 'classy': True, 'hipster': False, 'touristy': False, 'trendy': True, 'upscale': False, 'casual': False}\",\n",
       "       \"{'romantic': False, 'intimate': False, 'classy': False, 'hipster': False, 'divey': False, 'touristy': True, 'trendy': True, 'upscale': False, 'casual': True}\",\n",
       "       \"{'romantic': False, 'intimate': False, 'classy': False, 'hipster': False, 'touristy': True, 'trendy': True, 'upscale': False, 'casual': False}\",\n",
       "       \"{'romantic': True, 'intimate': True, 'classy': True, 'hipster': False, 'touristy': False, 'trendy': True, 'upscale': True, 'casual': False}\",\n",
       "       \"{'romantic': True, 'intimate': True, 'classy': False, 'hipster': False, 'touristy': False, 'trendy': False, 'upscale': False, 'casual': False}\",\n",
       "       \"{'romantic': False, 'intimate': True, 'classy': False, 'hipster': False, 'touristy': False, 'trendy': False, 'upscale': False, 'casual': True}\",\n",
       "       \"{'romantic': False, 'intimate': True, 'classy': True, 'hipster': False, 'divey': False, 'touristy': False, 'trendy': False, 'upscale': True, 'casual': False}\",\n",
       "       \"{'romantic': False, 'intimate': False, 'classy': False, 'hipster': False, 'divey': True, 'touristy': False, 'trendy': True, 'upscale': False, 'casual': True}\",\n",
       "       \"{'romantic': False, 'intimate': False, 'classy': False, 'hipster': False, 'touristy': True, 'trendy': True, 'upscale': False, 'casual': True}\",\n",
       "       \"{'romantic': False, 'intimate': False, 'classy': False, 'hipster': False, 'touristy': False, 'trendy': True, 'upscale': True, 'casual': False}\",\n",
       "       \"{'romantic': False, 'intimate': True, 'classy': False, 'hipster': True, 'divey': False, 'touristy': False, 'trendy': True, 'upscale': False, 'casual': True}\",\n",
       "       \"{'romantic': True, 'intimate': False, 'classy': True, 'hipster': False, 'touristy': False, 'trendy': True, 'upscale': True, 'casual': False}\",\n",
       "       \"{'romantic': False, 'intimate': True, 'classy': True, 'hipster': False, 'divey': False, 'touristy': False, 'trendy': True, 'upscale': True, 'casual': True}\",\n",
       "       \"{'romantic': False, 'intimate': True, 'classy': True, 'hipster': False, 'touristy': False, 'trendy': False, 'upscale': True, 'casual': False}\",\n",
       "       \"{'romantic': False, 'intimate': True, 'classy': True, 'hipster': False, 'divey': False, 'touristy': False, 'trendy': True, 'upscale': True, 'casual': False}\",\n",
       "       \"{'romantic': True, 'intimate': False, 'classy': False, 'hipster': False, 'divey': False, 'touristy': False, 'trendy': False, 'upscale': False, 'casual': True}\",\n",
       "       \"{'romantic': False, 'intimate': False, 'classy': False, 'hipster': True, 'divey': True, 'touristy': False, 'trendy': True, 'upscale': False, 'casual': True}\",\n",
       "       \"{'romantic': True, 'intimate': True, 'classy': True, 'hipster': False, 'touristy': False, 'trendy': False, 'upscale': True, 'casual': False}\",\n",
       "       \"{'romantic': True, 'intimate': True, 'classy': True, 'hipster': False, 'touristy': False, 'trendy': True, 'upscale': False, 'casual': False}\",\n",
       "       \"{'romantic': True, 'intimate': False, 'classy': False, 'hipster': True, 'divey': False, 'touristy': False, 'trendy': True, 'upscale': False, 'casual': True}\",\n",
       "       \"{'romantic': False, 'intimate': True, 'classy': False, 'hipster': False, 'touristy': False, 'trendy': True, 'upscale': False, 'casual': False}\",\n",
       "       \"{'romantic': False, 'intimate': False, 'classy': False, 'hipster': True, 'divey': True, 'touristy': False, 'trendy': False, 'upscale': False, 'casual': True}\",\n",
       "       \"{'romantic': True, 'intimate': False, 'classy': True, 'hipster': False, 'divey': False, 'touristy': False, 'trendy': False, 'upscale': False, 'casual': True}\",\n",
       "       \"{'romantic': True, 'intimate': False, 'classy': False, 'hipster': False, 'touristy': False, 'trendy': True, 'upscale': False, 'casual': False}\",\n",
       "       \"{'romantic': True, 'intimate': True, 'classy': True, 'hipster': False, 'divey': False, 'touristy': False, 'trendy': True, 'upscale': True, 'casual': True}\",\n",
       "       \"{'romantic': False, 'intimate': False, 'classy': True, 'hipster': True, 'touristy': False, 'trendy': False, 'upscale': False, 'casual': False}\",\n",
       "       \"{'romantic': False, 'intimate': True, 'classy': False, 'hipster': True, 'divey': False, 'touristy': False, 'trendy': True, 'upscale': False, 'casual': False}\",\n",
       "       \"{'romantic': True, 'intimate': True, 'classy': False, 'hipster': False, 'divey': False, 'touristy': False, 'trendy': False, 'upscale': False, 'casual': True}\",\n",
       "       \"{'romantic': True, 'intimate': True, 'classy': False, 'hipster': False, 'divey': False, 'touristy': False, 'trendy': True, 'upscale': False, 'casual': True}\",\n",
       "       \"{'romantic': True, 'intimate': False, 'classy': False, 'hipster': False, 'touristy': True, 'trendy': False, 'upscale': False, 'casual': False}\",\n",
       "       \"{'romantic': False, 'intimate': False, 'classy': True, 'hipster': False, 'touristy': False, 'trendy': True, 'upscale': True, 'casual': True}\",\n",
       "       \"{'romantic': False, 'intimate': True, 'classy': False, 'hipster': True, 'touristy': False, 'trendy': True, 'upscale': False, 'casual': True}\",\n",
       "       \"{'romantic': True, 'intimate': True, 'classy': True, 'hipster': False, 'touristy': False, 'trendy': False, 'upscale': False, 'casual': True}\",\n",
       "       \"{'romantic': True, 'intimate': True, 'classy': False, 'hipster': False, 'touristy': False, 'trendy': False, 'upscale': True, 'casual': False}\",\n",
       "       \"{'romantic': False, 'intimate': False, 'classy': True, 'hipster': False, 'touristy': False, 'trendy': True, 'upscale': False, 'casual': True}\",\n",
       "       \"{'romantic': False, 'intimate': False, 'classy': True, 'hipster': False, 'touristy': False, 'trendy': False, 'upscale': False, 'casual': True}\",\n",
       "       \"{'romantic': False, 'intimate': False, 'classy': False, 'hipster': False, 'touristy': True, 'trendy': False, 'upscale': False, 'casual': False}\",\n",
       "       \"{'romantic': True, 'intimate': True, 'classy': True, 'hipster': False, 'touristy': False, 'trendy': False, 'upscale': False, 'casual': False}\",\n",
       "       \"{'romantic': False, 'intimate': True, 'classy': True, 'hipster': False, 'divey': False, 'touristy': False, 'trendy': False, 'upscale': False, 'casual': True}\",\n",
       "       \"{'romantic': True, 'intimate': True, 'classy': True, 'hipster': False, 'divey': False, 'touristy': False, 'trendy': True, 'upscale': False, 'casual': True}\",\n",
       "       \"{'romantic': True, 'intimate': True, 'classy': True, 'hipster': False, 'divey': False, 'touristy': False, 'trendy': True, 'upscale': True, 'casual': False}\",\n",
       "       \"{'romantic': False, 'intimate': False, 'classy': False, 'hipster': True, 'divey': True, 'touristy': False, 'trendy': False, 'upscale': False, 'casual': False}\",\n",
       "       \"{'romantic': True, 'intimate': False, 'classy': False, 'hipster': False, 'divey': False, 'touristy': False, 'trendy': True, 'upscale': False, 'casual': True}\",\n",
       "       \"{'romantic': True, 'intimate': True, 'classy': True, 'hipster': False, 'divey': False, 'touristy': False, 'trendy': True, 'upscale': False, 'casual': False}\",\n",
       "       \"{'romantic': False, 'intimate': False, 'classy': True, 'hipster': True, 'divey': False, 'touristy': False, 'trendy': True, 'upscale': False, 'casual': True}\",\n",
       "       \"{'romantic': False, 'intimate': True, 'classy': False, 'hipster': False, 'touristy': False, 'trendy': False, 'upscale': True, 'casual': True}\",\n",
       "       \"{'romantic': False, 'intimate': True, 'classy': False, 'hipster': False, 'divey': False, 'touristy': False, 'trendy': True, 'upscale': False, 'casual': False}\",\n",
       "       \"{'romantic': False, 'intimate': False, 'classy': True, 'hipster': False, 'divey': False, 'touristy': True, 'trendy': False, 'upscale': False, 'casual': True}\",\n",
       "       \"{'romantic': True, 'intimate': False, 'classy': False, 'hipster': False, 'divey': True, 'touristy': False, 'trendy': False, 'upscale': False, 'casual': False}\",\n",
       "       \"{'romantic': True, 'intimate': False, 'classy': True, 'hipster': False, 'divey': False, 'touristy': True, 'trendy': False, 'upscale': False, 'casual': True}\",\n",
       "       \"{'romantic': False, 'intimate': False, 'classy': False, 'hipster': True, 'touristy': False, 'trendy': True, 'upscale': True, 'casual': False}\",\n",
       "       \"{'romantic': False, 'intimate': False, 'classy': True, 'hipster': False, 'divey': False, 'touristy': False, 'trendy': True, 'upscale': True, 'casual': True}\",\n",
       "       \"{'romantic': False, 'intimate': True, 'classy': False, 'hipster': False, 'touristy': False, 'trendy': False, 'upscale': True, 'casual': False}\",\n",
       "       \"{'romantic': False, 'intimate': True, 'classy': False, 'hipster': False, 'divey': False, 'touristy': False, 'trendy': True, 'upscale': True, 'casual': False}\",\n",
       "       \"{'romantic': True, 'intimate': False, 'classy': True, 'hipster': False, 'divey': False, 'touristy': False, 'trendy': True, 'upscale': False, 'casual': True}\",\n",
       "       \"{'romantic': False, 'intimate': True, 'classy': False, 'hipster': False, 'divey': True, 'touristy': False, 'trendy': False, 'upscale': False, 'casual': False}\",\n",
       "       \"{'romantic': False, 'intimate': True, 'classy': True, 'hipster': False, 'touristy': False, 'trendy': True, 'upscale': False, 'casual': False}\",\n",
       "       \"{'romantic': False, 'intimate': True, 'classy': False, 'hipster': False, 'divey': False, 'touristy': False, 'trendy': False, 'upscale': True, 'casual': False}\",\n",
       "       \"{'romantic': True, 'intimate': True, 'classy': True, 'hipster': False, 'touristy': False, 'trendy': False, 'upscale': True, 'casual': True}\",\n",
       "       \"{'romantic': True, 'intimate': False, 'classy': False, 'hipster': False, 'divey': False, 'touristy': False, 'trendy': False, 'upscale': True, 'casual': False}\",\n",
       "       \"{'romantic': True, 'intimate': False, 'classy': False, 'hipster': False, 'divey': False, 'touristy': False, 'trendy': True, 'upscale': True, 'casual': False}\",\n",
       "       \"{'romantic': True, 'intimate': True, 'classy': False, 'hipster': False, 'divey': False, 'touristy': False, 'trendy': True, 'upscale': False, 'casual': False}\",\n",
       "       \"{'romantic': True, 'intimate': False, 'classy': True, 'hipster': False, 'touristy': True, 'trendy': False, 'upscale': False, 'casual': True}\",\n",
       "       \"{'romantic': True, 'intimate': True, 'classy': False, 'hipster': False, 'divey': False, 'touristy': False, 'trendy': False, 'upscale': True, 'casual': False}\",\n",
       "       \"{'romantic': True, 'intimate': False, 'classy': True, 'hipster': False, 'divey': False, 'touristy': False, 'trendy': True, 'upscale': True, 'casual': False}\",\n",
       "       \"{'romantic': False, 'intimate': False, 'classy': True, 'hipster': True, 'divey': False, 'touristy': True, 'trendy': True, 'upscale': False, 'casual': True}\",\n",
       "       \"{'romantic': True, 'intimate': False, 'classy': True, 'hipster': False, 'touristy': False, 'trendy': False, 'upscale': False, 'casual': True}\",\n",
       "       \"{'romantic': True, 'intimate': False, 'classy': False, 'hipster': False, 'touristy': False, 'trendy': True, 'upscale': False, 'casual': True}\",\n",
       "       \"{'romantic': True, 'intimate': False, 'classy': True, 'hipster': False, 'divey': False, 'touristy': False, 'trendy': True, 'upscale': True, 'casual': True}\",\n",
       "       \"{'romantic': True, 'intimate': False, 'classy': True, 'hipster': False, 'touristy': False, 'trendy': True, 'upscale': False, 'casual': False}\",\n",
       "       \"{'romantic': False, 'intimate': True, 'classy': False, 'hipster': True, 'touristy': False, 'trendy': False, 'upscale': False, 'casual': False}\",\n",
       "       \"{'romantic': True, 'intimate': False, 'classy': False, 'hipster': False, 'touristy': False, 'trendy': False, 'upscale': True, 'casual': False}\",\n",
       "       \"{'romantic': False, 'intimate': False, 'classy': False, 'hipster': False, 'touristy': False, 'trendy': True, 'upscale': True, 'casual': True}\",\n",
       "       \"{'romantic': False, 'intimate': True, 'classy': True, 'hipster': False, 'touristy': False, 'trendy': False, 'upscale': False, 'casual': True}\",\n",
       "       \"{'romantic': False, 'intimate': False, 'classy': False, 'hipster': False, 'touristy': False, 'trendy': False, 'upscale': True, 'casual': True}\",\n",
       "       \"{'romantic': False, 'intimate': True, 'classy': True, 'hipster': False, 'divey': False, 'touristy': False, 'trendy': True, 'upscale': False, 'casual': False}\",\n",
       "       \"{'romantic': False, 'intimate': True, 'classy': False, 'hipster': True, 'divey': False, 'touristy': False, 'trendy': False, 'upscale': False, 'casual': False}\",\n",
       "       \"{'romantic': True, 'intimate': False, 'classy': False, 'hipster': True, 'touristy': False, 'trendy': False, 'upscale': False, 'casual': False}\",\n",
       "       \"{'romantic': True, 'intimate': False, 'classy': True, 'hipster': True, 'divey': False, 'touristy': False, 'trendy': True, 'upscale': False, 'casual': True}\",\n",
       "       \"{'romantic': True, 'intimate': False, 'classy': False, 'hipster': False, 'divey': False, 'touristy': False, 'trendy': True, 'upscale': False, 'casual': False}\",\n",
       "       \"{'romantic': False, 'intimate': False, 'classy': False, 'hipster': False, 'divey': True, 'touristy': True, 'trendy': False, 'upscale': False, 'casual': True}\",\n",
       "       \"{'romantic': True, 'intimate': True, 'classy': False, 'hipster': False, 'touristy': False, 'trendy': True, 'upscale': False, 'casual': False}\",\n",
       "       \"{'romantic': False, 'intimate': False, 'classy': True, 'hipster': True, 'divey': False, 'touristy': False, 'trendy': False, 'upscale': False, 'casual': True}\",\n",
       "       \"{'romantic': False, 'intimate': True, 'classy': True, 'hipster': True, 'divey': False, 'touristy': False, 'trendy': True, 'upscale': False, 'casual': True}\",\n",
       "       \"{'romantic': False, 'intimate': True, 'classy': False, 'hipster': False, 'touristy': True, 'trendy': False, 'upscale': False, 'casual': False}\",\n",
       "       \"{'romantic': False, 'intimate': False, 'classy': True, 'hipster': True, 'divey': False, 'touristy': False, 'trendy': False, 'upscale': True, 'casual': True}\",\n",
       "       \"{'romantic': False, 'intimate': True, 'classy': False, 'hipster': False, 'divey': False, 'touristy': False, 'trendy': True, 'upscale': True, 'casual': True}\",\n",
       "       \"{'romantic': True, 'intimate': True, 'classy': True, 'hipster': True, 'divey': False, 'touristy': False, 'trendy': True, 'upscale': True, 'casual': True}\",\n",
       "       \"{'romantic': False, 'intimate': False, 'classy': True, 'hipster': False, 'divey': True, 'touristy': False, 'trendy': True, 'upscale': False, 'casual': False}\",\n",
       "       \"{'romantic': False, 'intimate': False, 'classy': True, 'hipster': False, 'divey': True, 'touristy': False, 'trendy': True, 'upscale': False, 'casual': True}\",\n",
       "       \"{'romantic': False, 'intimate': False, 'classy': False, 'hipster': False, 'divey': False, 'touristy': False, 'trendy': True, 'upscale': True, 'casual': True}\",\n",
       "       \"{'romantic': False, 'intimate': True, 'classy': False, 'hipster': True, 'touristy': False, 'trendy': True, 'upscale': False, 'casual': False}\",\n",
       "       \"{'romantic': False, 'intimate': False, 'classy': True, 'hipster': True, 'divey': False, 'touristy': False, 'trendy': True, 'upscale': True, 'casual': False}\",\n",
       "       \"{'romantic': False, 'intimate': True, 'classy': True, 'hipster': True, 'divey': False, 'touristy': False, 'trendy': True, 'upscale': True, 'casual': False}\",\n",
       "       \"{'romantic': False, 'intimate': False, 'classy': False, 'hipster': True, 'divey': False, 'touristy': True, 'trendy': False, 'upscale': False, 'casual': True}\",\n",
       "       \"{'romantic': True, 'intimate': True, 'classy': True, 'hipster': False, 'touristy': False, 'trendy': True, 'upscale': False, 'casual': True}\",\n",
       "       \"{'romantic': False, 'intimate': True, 'classy': False, 'hipster': True, 'touristy': False, 'trendy': False, 'upscale': False, 'casual': True}\",\n",
       "       \"{'romantic': True, 'intimate': True, 'classy': False, 'hipster': False, 'divey': False, 'touristy': False, 'trendy': False, 'upscale': True, 'casual': True}\",\n",
       "       \"{'romantic': False, 'intimate': False, 'classy': False, 'hipster': False, 'divey': False, 'touristy': True, 'trendy': True, 'upscale': False, 'casual': False}\",\n",
       "       \"{'romantic': True, 'intimate': False, 'classy': False, 'hipster': False, 'divey': False, 'touristy': False, 'trendy': True, 'upscale': True, 'casual': True}\",\n",
       "       \"{'romantic': False, 'intimate': True, 'classy': False, 'hipster': True, 'divey': False, 'touristy': False, 'trendy': True, 'upscale': True, 'casual': False}\",\n",
       "       \"{'romantic': True, 'intimate': True, 'classy': True, 'hipster': False, 'divey': False, 'touristy': True, 'trendy': False, 'upscale': False, 'casual': False}\",\n",
       "       \"{'romantic': False, 'intimate': False, 'classy': True, 'hipster': False, 'divey': False, 'touristy': True, 'trendy': True, 'upscale': False, 'casual': True}\",\n",
       "       \"{'romantic': False, 'intimate': False, 'classy': False, 'hipster': True, 'touristy': True, 'trendy': True, 'upscale': False, 'casual': True}\",\n",
       "       \"{'romantic': False, 'intimate': False, 'classy': True, 'hipster': False, 'divey': False, 'touristy': True, 'trendy': True, 'upscale': True, 'casual': False}\",\n",
       "       \"{'romantic': False, 'intimate': True, 'classy': False, 'hipster': False, 'divey': True, 'touristy': False, 'trendy': False, 'upscale': False, 'casual': True}\",\n",
       "       \"{'romantic': True, 'intimate': True, 'classy': True, 'hipster': False, 'divey': False, 'touristy': False, 'trendy': False, 'upscale': True, 'casual': True}\"],\n",
       "      dtype=object)"
      ]
     },
     "execution_count": 108,
     "metadata": {},
     "output_type": "execute_result"
    }
   ],
   "source": [
    "# Understand the ambience\n",
    "restaurants['attributes.Ambience'].unique()"
   ]
  },
  {
   "cell_type": "code",
   "execution_count": 110,
   "metadata": {},
   "outputs": [],
   "source": [
    "def ambience_extract(row):\n",
    "    ambience_list = list()\n",
    "    import ast\n",
    "    if pd.isnull(row['attributes.Ambience']):\n",
    "        return None\n",
    "    else:\n",
    "        for key, value in ast.literal_eval(row['attributes.Ambience']).items():\n",
    "            if value == True:\n",
    "                ambience_list.append(key)\n",
    "        return \",\".join(ambience_list)"
   ]
  },
  {
   "cell_type": "code",
   "execution_count": 111,
   "metadata": {},
   "outputs": [],
   "source": [
    "restaurants['Ambience'] = restaurants.apply(lambda row: ambience_extract(row),axis=1)"
   ]
  },
  {
   "cell_type": "code",
   "execution_count": 112,
   "metadata": {},
   "outputs": [],
   "source": [
    "ambience_list = restaurants['Ambience'].tolist()\n",
    "ambience_list = [x for x in ambience_list if x is not None and x != '']"
   ]
  },
  {
   "cell_type": "code",
   "execution_count": 113,
   "metadata": {},
   "outputs": [],
   "source": [
    "cat_all_am = ','.join(ambience_list)"
   ]
  },
  {
   "cell_type": "code",
   "execution_count": 114,
   "metadata": {},
   "outputs": [
    {
     "data": {
      "text/plain": [
       "casual      22191\n",
       "trendy       2428\n",
       "classy       1061\n",
       "divey        1057\n",
       "hipster      1043\n",
       "intimate      672\n",
       "romantic      600\n",
       "upscale       494\n",
       "touristy      228\n",
       "Name: Ambience, dtype: int64"
      ]
     },
     "execution_count": 114,
     "metadata": {},
     "output_type": "execute_result"
    }
   ],
   "source": [
    "cat_all_am = pd.DataFrame(cat_all_am.split(','), columns=['Ambience'])\n",
    "cat_all_am_count = cat_all_am.Ambience.value_counts().sort_values(ascending = False)\n",
    "cat_all_am_count"
   ]
  },
  {
   "cell_type": "markdown",
   "metadata": {},
   "source": [
    "We create dummy variables for 'casual', 'trendy' and 'Others'"
   ]
  },
  {
   "cell_type": "code",
   "execution_count": 120,
   "metadata": {},
   "outputs": [],
   "source": [
    "def ambience_casual(row):\n",
    "    if row['Ambience'] is not None and row['Ambience'] != '':\n",
    "        if 'casual' in row['Ambience'].split(','):\n",
    "            return 1\n",
    "        else:\n",
    "            return 0\n",
    "    else:\n",
    "        return 0\n",
    "restaurants['ambience_casual'] = restaurants.apply(lambda row: ambience_casual(row),axis=1)"
   ]
  },
  {
   "cell_type": "code",
   "execution_count": 123,
   "metadata": {},
   "outputs": [],
   "source": [
    "def ambience_trendy(row):\n",
    "    if row['Ambience'] is not None and row['Ambience'] != '':\n",
    "        if 'trendy' in row['Ambience'].split(','):\n",
    "            return 1\n",
    "        else:\n",
    "            return 0\n",
    "    else:\n",
    "        return 0\n",
    "restaurants['ambience_trendy'] = restaurants.apply(lambda row: ambience_trendy(row),axis=1)"
   ]
  },
  {
   "cell_type": "code",
   "execution_count": 125,
   "metadata": {},
   "outputs": [],
   "source": [
    "ambience_others_list = ['romantic', 'intimate', 'classy', 'hipster', 'touristy', 'upscale', 'divey']\n",
    "def ambience_others(row):\n",
    "    if row['Ambience'] is not None and row['Ambience'] != '':\n",
    "        if (set(ambience_others_list) & set(row['Ambience'].split(','))):\n",
    "            return 1\n",
    "        else:\n",
    "            return 0\n",
    "    else:\n",
    "        return 0\n",
    "restaurants['ambience_others'] = restaurants.apply(lambda row: ambience_others(row),axis=1)"
   ]
  },
  {
   "cell_type": "markdown",
   "metadata": {},
   "source": [
    "## 3.3 Food categories"
   ]
  },
  {
   "cell_type": "code",
   "execution_count": 91,
   "metadata": {},
   "outputs": [
    {
     "data": {
      "text/plain": [
       "Restaurants                    57173\n",
       "Food                           27118\n",
       "Nightlife                      11217\n",
       "Bars                           10853\n",
       "Coffee&Tea                      6936\n",
       "Sandwiches                      6912\n",
       "FastFood                        6812\n",
       "American(Traditional)           6659\n",
       "Pizza                           6603\n",
       "Burgers                         5126\n",
       "Breakfast&Brunch                5023\n",
       "Italian                         4550\n",
       "Mexican                         4419\n",
       "SpecialtyFood                   4304\n",
       "Chinese                         4247\n",
       "American(New)                   4230\n",
       "Bakeries                        3509\n",
       "Grocery                         3380\n",
       "Cafes                           3056\n",
       "Desserts                        2991\n",
       "EventPlanning&Services          2929\n",
       "Shopping                        2735\n",
       "IceCream&FrozenYogurt           2613\n",
       "Japanese                        2566\n",
       "ChickenWings                    2538\n",
       "Seafood                         2369\n",
       "Salad                           2350\n",
       "SushiBars                       2156\n",
       "SportsBars                      2055\n",
       "Pubs                            2012\n",
       "                               ...  \n",
       "Embroidery&Crochet                 1\n",
       "PartyBikeRentals                   1\n",
       "ValetServices                      1\n",
       "Nudist                             1\n",
       "Glass&Mirrors                      1\n",
       "PayrollServices                    1\n",
       "Fishmonger                         1\n",
       "CheckCashing/Pay-dayLoans          1\n",
       "DamageRestoration                  1\n",
       "Observatories                      1\n",
       "EstateLiquidation                  1\n",
       "Churros                            1\n",
       "BeachVolleyball                    1\n",
       "AutoUpholstery                     1\n",
       "TraditionalNorwegian               1\n",
       "LandscapeArchitects                1\n",
       "SecuritySystems                    1\n",
       "AutoInsurance                      1\n",
       "JapaneseSweets                     1\n",
       "Trusts                             1\n",
       "Tonkatsu                           1\n",
       "Opera&Ballet                       1\n",
       "FurnitureReupholstery              1\n",
       "Watches                            1\n",
       "ArtMuseums                         1\n",
       "MusicalInstruments&Teachers        1\n",
       "FarmingEquipment                   1\n",
       "PublicRelations                    1\n",
       "Backshop                           1\n",
       "BirdShops                          1\n",
       "Name: category, Length: 835, dtype: int64"
      ]
     },
     "execution_count": 91,
     "metadata": {},
     "output_type": "execute_result"
    }
   ],
   "source": [
    "cat_all_res_count"
   ]
  },
  {
   "cell_type": "markdown",
   "metadata": {},
   "source": [
    "## 3.4 Create Dummy Variables for features"
   ]
  },
  {
   "cell_type": "code",
   "execution_count": 129,
   "metadata": {},
   "outputs": [],
   "source": [
    "cols_dummy = ['attributes.RestaurantsAttire','attributes.Alcohol',\n",
    "        'attributes.RestaurantsReservations','attributes.GoodForKids','attributes.Smoking',\n",
    "        'attributes.NoiseLevel','attributes.Open24Hours',\n",
    "        'attributes.AgesAllowed','attributes.ByAppointmentOnly','attributes.RestaurantsDelivery',\n",
    "        'attributes.RestaurantsGoodForGroups','attributes.RestaurantsTableService','attributes.WiFi',\n",
    "        'attributes.DogsAllowed','attributes.BusinessAcceptsCreditCards',\n",
    "        'attributes.DriveThru','attributes.Caters','attributes.RestaurantsPriceRange2','attributes.RestaurantsTakeOut',\n",
    "        'attributes.WheelchairAccessible','attributes.HasTV','attributes.HappyHour',\n",
    "        'attributes.CoatCheck','attributes.OutdoorSeating','is_open','attributes.AcceptsInsurance']\n",
    "        \n",
    "        \n",
    "special_col = ['attributes.GoodForMeal', 'attributes.BestNights','attributes.Music',\n",
    "               'hours', 'attributes.BusinessParking','attributes.RestaurantsAttire']"
   ]
  },
  {
   "cell_type": "code",
   "execution_count": 130,
   "metadata": {},
   "outputs": [],
   "source": [
    "res_full = pd.get_dummies(data=restaurants, columns = cols_dummy)"
   ]
  },
  {
   "cell_type": "code",
   "execution_count": 131,
   "metadata": {
    "scrolled": false
   },
   "outputs": [
    {
     "data": {
      "text/plain": [
       "['hours.Friday',\n",
       " 'attributes.BikeParking',\n",
       " 'state',\n",
       " 'categories',\n",
       " 'attributes.BusinessParking',\n",
       " 'attributes.GoodForDancing',\n",
       " 'attributes.BYOB',\n",
       " 'attributes.DietaryRestrictions',\n",
       " 'hours.Sunday',\n",
       " 'attributes.BYOBCorkage',\n",
       " 'latitude',\n",
       " 'attributes.BusinessAcceptsBitcoin',\n",
       " 'attributes.GoodForMeal',\n",
       " 'attributes.BestNights',\n",
       " 'attributes.Corkage',\n",
       " 'attributes.Music',\n",
       " 'hours.Wednesday',\n",
       " 'longitude',\n",
       " 'neighborhood',\n",
       " 'attributes.HairSpecializesIn',\n",
       " 'hours.Thursday',\n",
       " 'business_id',\n",
       " 'postal_code',\n",
       " 'hours',\n",
       " 'review_count',\n",
       " 'name',\n",
       " 'hours.Saturday',\n",
       " 'attributes.Ambience',\n",
       " 'attributes.RestaurantsCounterService',\n",
       " 'address',\n",
       " 'hours.Tuesday',\n",
       " 'hours.Monday',\n",
       " 'attributes',\n",
       " 'stars',\n",
       " 'city',\n",
       " 'country',\n",
       " 'Ambience',\n",
       " 'user_id',\n",
       " 'ambience_casual',\n",
       " 'ambience_trendy',\n",
       " 'ambience_others',\n",
       " 'attributes.RestaurantsAttire_casual',\n",
       " 'attributes.RestaurantsAttire_dressy',\n",
       " 'attributes.RestaurantsAttire_formal',\n",
       " 'attributes.Alcohol_beer_and_wine',\n",
       " 'attributes.Alcohol_full_bar',\n",
       " 'attributes.Alcohol_none',\n",
       " 'attributes.RestaurantsReservations_False',\n",
       " 'attributes.RestaurantsReservations_True',\n",
       " 'attributes.GoodForKids_False',\n",
       " 'attributes.GoodForKids_True',\n",
       " 'attributes.Smoking_no',\n",
       " 'attributes.Smoking_outdoor',\n",
       " 'attributes.Smoking_yes',\n",
       " 'attributes.NoiseLevel_average',\n",
       " 'attributes.NoiseLevel_loud',\n",
       " 'attributes.NoiseLevel_quiet',\n",
       " 'attributes.NoiseLevel_very_loud',\n",
       " 'attributes.Open24Hours_False',\n",
       " 'attributes.Open24Hours_True',\n",
       " 'attributes.AgesAllowed_18plus',\n",
       " 'attributes.AgesAllowed_19plus',\n",
       " 'attributes.AgesAllowed_21plus',\n",
       " 'attributes.AgesAllowed_allages',\n",
       " 'attributes.ByAppointmentOnly_False',\n",
       " 'attributes.ByAppointmentOnly_True',\n",
       " 'attributes.RestaurantsDelivery_False',\n",
       " 'attributes.RestaurantsDelivery_True',\n",
       " 'attributes.RestaurantsGoodForGroups_False',\n",
       " 'attributes.RestaurantsGoodForGroups_True',\n",
       " 'attributes.RestaurantsTableService_False',\n",
       " 'attributes.RestaurantsTableService_True',\n",
       " 'attributes.WiFi_free',\n",
       " 'attributes.WiFi_no',\n",
       " 'attributes.WiFi_paid',\n",
       " 'attributes.DogsAllowed_False',\n",
       " 'attributes.DogsAllowed_True',\n",
       " 'attributes.BusinessAcceptsCreditCards_False',\n",
       " 'attributes.BusinessAcceptsCreditCards_True',\n",
       " 'attributes.DriveThru_False',\n",
       " 'attributes.DriveThru_True',\n",
       " 'attributes.Caters_False',\n",
       " 'attributes.Caters_True',\n",
       " 'attributes.RestaurantsPriceRange2_1.0',\n",
       " 'attributes.RestaurantsPriceRange2_2.0',\n",
       " 'attributes.RestaurantsPriceRange2_3.0',\n",
       " 'attributes.RestaurantsPriceRange2_4.0',\n",
       " 'attributes.RestaurantsTakeOut_False',\n",
       " 'attributes.RestaurantsTakeOut_True',\n",
       " 'attributes.WheelchairAccessible_False',\n",
       " 'attributes.WheelchairAccessible_True',\n",
       " 'attributes.HasTV_False',\n",
       " 'attributes.HasTV_True',\n",
       " 'attributes.HappyHour_False',\n",
       " 'attributes.HappyHour_True',\n",
       " 'attributes.CoatCheck_False',\n",
       " 'attributes.CoatCheck_True',\n",
       " 'attributes.OutdoorSeating_False',\n",
       " 'attributes.OutdoorSeating_True',\n",
       " 'is_open_0',\n",
       " 'is_open_1',\n",
       " 'attributes.AcceptsInsurance_False',\n",
       " 'attributes.AcceptsInsurance_True']"
      ]
     },
     "execution_count": 131,
     "metadata": {},
     "output_type": "execute_result"
    }
   ],
   "source": [
    "res_full.columns.values.tolist()"
   ]
  },
  {
   "cell_type": "markdown",
   "metadata": {},
   "source": [
    "## 3.10 Final Feature Selection"
   ]
  },
  {
   "cell_type": "code",
   "execution_count": 132,
   "metadata": {},
   "outputs": [],
   "source": [
    "cols_ml = ['review_count',\n",
    " 'attributes.RestaurantsAttire_casual',\n",
    " 'attributes.RestaurantsAttire_dressy',\n",
    " 'attributes.RestaurantsAttire_formal',\n",
    " 'attributes.Alcohol_full_bar',\n",
    " 'attributes.RestaurantsReservations_True',\n",
    " 'attributes.GoodForKids_True',\n",
    " 'attributes.Smoking_outdoor',\n",
    " 'attributes.Smoking_yes',\n",
    " 'attributes.NoiseLevel_very_loud',\n",
    " 'attributes.Open24Hours_True',\n",
    " 'attributes.AgesAllowed_21plus',\n",
    " 'attributes.ByAppointmentOnly_True',\n",
    " 'attributes.RestaurantsGoodForGroups_True',\n",
    " 'attributes.WiFi_free',\n",
    " 'attributes.DogsAllowed_True',\n",
    " 'attributes.BusinessAcceptsCreditCards_True',\n",
    " 'attributes.DriveThru_True',\n",
    " 'attributes.Caters_True',\n",
    " 'attributes.RestaurantsPriceRange2_1.0',\n",
    " 'attributes.RestaurantsPriceRange2_2.0',\n",
    " 'attributes.RestaurantsPriceRange2_3.0',\n",
    " 'attributes.RestaurantsPriceRange2_4.0',\n",
    " 'attributes.RestaurantsTakeOut_True',\n",
    " 'attributes.HappyHour_True',\n",
    " 'attributes.CoatCheck_True',\n",
    " 'attributes.OutdoorSeating_True',\n",
    " 'ambience_casual',\n",
    " 'ambience_trendy',\n",
    " 'ambience_others']"
   ]
  },
  {
   "cell_type": "markdown",
   "metadata": {},
   "source": [
    "# 4. Machine Learning Models"
   ]
  },
  {
   "cell_type": "markdown",
   "metadata": {},
   "source": [
    "* Logistic Regression\n",
    "* Random Forest\n",
    "* Bootstrapping\n",
    "* XGBoost"
   ]
  },
  {
   "cell_type": "markdown",
   "metadata": {},
   "source": [
    "## 4.1 Simple Linear Regression"
   ]
  },
  {
   "cell_type": "code",
   "execution_count": 134,
   "metadata": {},
   "outputs": [],
   "source": [
    "X = res_full[cols_ml]\n",
    "y = restaurants['stars']"
   ]
  },
  {
   "cell_type": "code",
   "execution_count": 135,
   "metadata": {},
   "outputs": [
    {
     "name": "stderr",
     "output_type": "stream",
     "text": [
      "/usr/local/lib/python3.6/site-packages/pandas/core/frame.py:3790: SettingWithCopyWarning: \n",
      "A value is trying to be set on a copy of a slice from a DataFrame\n",
      "\n",
      "See the caveats in the documentation: http://pandas.pydata.org/pandas-docs/stable/indexing.html#indexing-view-versus-copy\n",
      "  downcast=downcast, **kwargs)\n"
     ]
    }
   ],
   "source": [
    "X.fillna(0,inplace=True)"
   ]
  },
  {
   "cell_type": "code",
   "execution_count": 136,
   "metadata": {},
   "outputs": [],
   "source": [
    "import xgboost as xgb\n",
    "from sklearn.model_selection import StratifiedKFold\n",
    "from sklearn.model_selection import train_test_split\n",
    "from imblearn.over_sampling import SMOTE\n",
    "from sklearn.linear_model import LogisticRegression\n",
    "from sklearn.metrics import confusion_matrix,accuracy_score"
   ]
  },
  {
   "cell_type": "code",
   "execution_count": 139,
   "metadata": {},
   "outputs": [],
   "source": [
    "train_X, test_X, train_y, test_y = train_test_split(X,y,test_size = 0.3, random_state = 11)"
   ]
  },
  {
   "cell_type": "code",
   "execution_count": 140,
   "metadata": {},
   "outputs": [
    {
     "data": {
      "text/plain": [
       "LinearRegression(copy_X=True, fit_intercept=True, n_jobs=None,\n",
       "         normalize=False)"
      ]
     },
     "execution_count": 140,
     "metadata": {},
     "output_type": "execute_result"
    }
   ],
   "source": [
    "from sklearn import linear_model\n",
    "model = linear_model.LinearRegression()\n",
    "model.fit(train_X,train_y)"
   ]
  },
  {
   "cell_type": "code",
   "execution_count": 141,
   "metadata": {},
   "outputs": [
    {
     "data": {
      "text/plain": [
       "array([3.63023415, 3.65579102, 3.44407855, ..., 3.12964321, 4.05438404,\n",
       "       3.46762429])"
      ]
     },
     "execution_count": 141,
     "metadata": {},
     "output_type": "execute_result"
    }
   ],
   "source": [
    "pred_y  = model.predict(test_X)\n",
    "pred_y"
   ]
  },
  {
   "cell_type": "code",
   "execution_count": 142,
   "metadata": {},
   "outputs": [
    {
     "name": "stdout",
     "output_type": "stream",
     "text": [
      "Coefficients: \n",
      " [ 3.74415041e-04 -2.56492679e-01 -5.06435803e-02 -1.95949836e-01\n",
      " -1.41491063e-01  1.03214997e-01 -2.66644756e-02 -6.81815030e-02\n",
      "  6.01992942e-02 -3.73939745e-01 -2.41812524e-01 -2.09430983e-01\n",
      "  4.73690473e-01  9.27250637e-03  2.83668552e-02  2.95046105e-01\n",
      " -1.30378618e-01 -8.56012841e-01  1.47302805e-01  2.57706115e-01\n",
      "  2.04280105e-01  2.13593457e-01  1.80953826e-01  5.18877455e-03\n",
      " -1.65356526e-02 -7.42674938e-02  4.87487428e-02  1.38169639e-01\n",
      "  2.07599293e-01  2.44538044e-01]\n",
      "Mean squared error: 0.61\n",
      "Variance score: 0.11\n"
     ]
    }
   ],
   "source": [
    "from sklearn.metrics import mean_squared_error, r2_score\n",
    "\n",
    "# The coefficients\n",
    "print('Coefficients: \\n', model.coef_)\n",
    "# The mean squared error\n",
    "print(\"Mean squared error: %.2f\"\n",
    "      % mean_squared_error(test_y, pred_y))\n",
    "# Explained variance score: 1 is perfect prediction\n",
    "print('Variance score: %.2f' % r2_score(test_y, pred_y))"
   ]
  },
  {
   "cell_type": "markdown",
   "metadata": {},
   "source": [
    "## 4.1.1 Try to classify the successful restaurant using the result above"
   ]
  },
  {
   "cell_type": "code",
   "execution_count": 143,
   "metadata": {},
   "outputs": [],
   "source": [
    "res_full['success'] = np.where(restaurants['stars'] >= 3.5,1,0)"
   ]
  },
  {
   "cell_type": "code",
   "execution_count": 145,
   "metadata": {},
   "outputs": [
    {
     "name": "stderr",
     "output_type": "stream",
     "text": [
      "/usr/local/lib/python3.6/site-packages/pandas/core/frame.py:3790: SettingWithCopyWarning: \n",
      "A value is trying to be set on a copy of a slice from a DataFrame\n",
      "\n",
      "See the caveats in the documentation: http://pandas.pydata.org/pandas-docs/stable/indexing.html#indexing-view-versus-copy\n",
      "  downcast=downcast, **kwargs)\n"
     ]
    }
   ],
   "source": [
    "X = res_full[cols_ml]\n",
    "y = res_full['success']\n",
    "X.fillna(0,inplace=True)\n",
    "train_X, test_X, train_y, test_y = train_test_split(X,y,test_size = 0.3, random_state = 11)"
   ]
  },
  {
   "cell_type": "code",
   "execution_count": 146,
   "metadata": {},
   "outputs": [
    {
     "data": {
      "text/plain": [
       "array([0., 0., 0., ..., 0., 1., 0.])"
      ]
     },
     "execution_count": 146,
     "metadata": {},
     "output_type": "execute_result"
    }
   ],
   "source": [
    "def get_classification(predictions, threshold):\n",
    "    classes = np.zeros_like(predictions)\n",
    "    for i in range(len(classes)):\n",
    "        if predictions[i] > threshold:\n",
    "            classes[i] = 1\n",
    "    return classes\n",
    "get_classification(pred_y, 4)"
   ]
  },
  {
   "cell_type": "code",
   "execution_count": 147,
   "metadata": {},
   "outputs": [
    {
     "name": "stdout",
     "output_type": "stream",
     "text": [
      "7952 26 14245 383\n"
     ]
    }
   ],
   "source": [
    "from sklearn.metrics import confusion_matrix\n",
    "tn, fp, fn, tp = confusion_matrix(test_y, get_classification(pred_y,4)).ravel()\n",
    "print(tn, fp, fn, tp)"
   ]
  },
  {
   "cell_type": "code",
   "execution_count": 148,
   "metadata": {},
   "outputs": [
    {
     "name": "stdout",
     "output_type": "stream",
     "text": [
      "0.36870742280810404\n"
     ]
    }
   ],
   "source": [
    "accuracy = (tp+tn)/(tp+tn+fp+fn)\n",
    "print(accuracy)"
   ]
  },
  {
   "cell_type": "code",
   "execution_count": 151,
   "metadata": {},
   "outputs": [
    {
     "data": {
      "image/png": "[encoded data removed]",
      "text/plain": [
       "<Figure size 432x288 with 1 Axes>"
      ]
     },
     "metadata": {
      "needs_background": "light"
     },
     "output_type": "display_data"
    }
   ],
   "source": [
    "from sklearn.metrics import roc_curve, auc\n",
    "testing_predictions = model.predict(test_X)\n",
    "(fpr, tpr, thresholds) = roc_curve(test_y,testing_predictions)\n",
    "\n",
    "area = auc(fpr,tpr)\n",
    "plt.clf() #Clear the current figure\n",
    "plt.plot(fpr,tpr,label=\"Out-Sample ROC Curve with area = %1.2f\"%area)\n",
    "\n",
    "plt.plot([0, 1], [0, 1], 'k')\n",
    "plt.xlim([0.0, 1.0])\n",
    "plt.ylim([0.0, 1.0])\n",
    "plt.xlabel('False Positive Rate')\n",
    "plt.ylabel('True Positive Rate')\n",
    "plt.title('ROC Curve')\n",
    "plt.legend(loc=\"lower right\")\n",
    "plt.show()"
   ]
  },
  {
   "cell_type": "markdown",
   "metadata": {},
   "source": [
    "## 4.2 Logistic Regression"
   ]
  },
  {
   "cell_type": "code",
   "execution_count": 152,
   "metadata": {},
   "outputs": [
    {
     "name": "stderr",
     "output_type": "stream",
     "text": [
      "/usr/local/lib/python3.6/site-packages/sklearn/linear_model/logistic.py:433: FutureWarning: Default solver will be changed to 'lbfgs' in 0.22. Specify a solver to silence this warning.\n",
      "  FutureWarning)\n"
     ]
    }
   ],
   "source": [
    "from sklearn.linear_model import LogisticRegression\n",
    "logr = LogisticRegression().fit(train_X,train_y)"
   ]
  },
  {
   "cell_type": "code",
   "execution_count": 153,
   "metadata": {},
   "outputs": [
    {
     "name": "stdout",
     "output_type": "stream",
     "text": [
      "logr training set accuracy: 0.673\n"
     ]
    }
   ],
   "source": [
    "trainset_acc = logr.score(train_X,train_y)\n",
    "print('logr training set accuracy: {:.3f}'.format(trainset_acc))"
   ]
  },
  {
   "cell_type": "code",
   "execution_count": 154,
   "metadata": {},
   "outputs": [
    {
     "data": {
      "text/plain": [
       "array([0.72790928, 0.72417045, 0.6077843 , ..., 0.43760852, 0.93382695,\n",
       "       0.67928111])"
      ]
     },
     "execution_count": 154,
     "metadata": {},
     "output_type": "execute_result"
    }
   ],
   "source": [
    "pypos_logr =logr.predict_proba(test_X)[:,1]\n",
    "pypos_logr"
   ]
  },
  {
   "cell_type": "markdown",
   "metadata": {},
   "source": [
    "### Random Forest"
   ]
  },
  {
   "cell_type": "code",
   "execution_count": 188,
   "metadata": {},
   "outputs": [
    {
     "data": {
      "text/plain": [
       "RandomForestClassifier(bootstrap=True, class_weight=None, criterion='gini',\n",
       "            max_depth=None, max_features='auto', max_leaf_nodes=None,\n",
       "            min_impurity_decrease=0.0, min_impurity_split=None,\n",
       "            min_samples_leaf=1, min_samples_split=2,\n",
       "            min_weight_fraction_leaf=0.0, n_estimators=10, n_jobs=None,\n",
       "            oob_score=False, random_state=None, verbose=0,\n",
       "            warm_start=False)"
      ]
     },
     "execution_count": 188,
     "metadata": {},
     "output_type": "execute_result"
    }
   ],
   "source": [
    "from sklearn.ensemble import RandomForestClassifier\n",
    "model = RandomForestClassifier(n_estimators=10)\n",
    "model.fit(train_X,np.ravel(train_y))"
   ]
  },
  {
   "cell_type": "code",
   "execution_count": 189,
   "metadata": {},
   "outputs": [
    {
     "data": {
      "text/plain": [
       "0.5932495797575865"
      ]
     },
     "execution_count": 189,
     "metadata": {},
     "output_type": "execute_result"
    }
   ],
   "source": [
    "model.score(test_X,test_y)"
   ]
  },
  {
   "cell_type": "code",
   "execution_count": 190,
   "metadata": {},
   "outputs": [
    {
     "data": {
      "text/plain": [
       "Text(0.5, 0, 'Relative Importance')"
      ]
     },
     "execution_count": 190,
     "metadata": {},
     "output_type": "execute_result"
    },
    {
     "data": {
      "image/png": "[encoded data removed]",
      "text/plain": [
       "<Figure size 864x864 with 1 Axes>"
      ]
     },
     "metadata": {
      "needs_background": "light"
     },
     "output_type": "display_data"
    }
   ],
   "source": [
    "import matplotlib.pyplot as plt\n",
    "%matplotlib inline\n",
    "importances = model.feature_importances_\n",
    "indices = np.argsort(importances)\n",
    "plt.figure(figsize=(12,12))\n",
    "plt.title('Feature Importances')\n",
    "plt.barh(range(len(indices)), importances[indices], color='b', align='center')\n",
    "plt.yticks(range(len(indices)),cols)\n",
    "plt.xlabel('Relative Importance')"
   ]
  },
  {
   "cell_type": "markdown",
   "metadata": {},
   "source": [
    "### Bootstrapping"
   ]
  },
  {
   "cell_type": "code",
   "execution_count": 191,
   "metadata": {},
   "outputs": [
    {
     "data": {
      "text/plain": [
       "BaggingClassifier(base_estimator=None, bootstrap=True,\n",
       "         bootstrap_features=False, max_features=1.0, max_samples=1.0,\n",
       "         n_estimators=10, n_jobs=None, oob_score=False, random_state=None,\n",
       "         verbose=0, warm_start=False)"
      ]
     },
     "execution_count": 191,
     "metadata": {},
     "output_type": "execute_result"
    }
   ],
   "source": [
    "from sklearn.ensemble import BaggingClassifier\n",
    "model=BaggingClassifier()\n",
    "model.fit(train_X,np.ravel(train_y))"
   ]
  },
  {
   "cell_type": "code",
   "execution_count": 192,
   "metadata": {},
   "outputs": [
    {
     "data": {
      "text/plain": [
       "0.5935149960187561"
      ]
     },
     "execution_count": 192,
     "metadata": {},
     "output_type": "execute_result"
    }
   ],
   "source": [
    "model.score(test_X,test_y)"
   ]
  },
  {
   "cell_type": "markdown",
   "metadata": {},
   "source": [
    "### XGBoost"
   ]
  },
  {
   "cell_type": "code",
   "execution_count": 193,
   "metadata": {},
   "outputs": [],
   "source": [
    "import xgboost as xgb\n",
    "\n",
    "def runXGB(train_X, train_y, test_X, test_y=None, feature_names=None, seed_val=2017, num_rounds=400):\n",
    "    param = {}\n",
    "    param['objective'] = 'multi:softmax'\n",
    "    param['num_class'] = 2\n",
    "    param['eta'] = 0.12\n",
    "    param['max_depth'] = 5\n",
    "    param['silent'] = 1\n",
    "    param['eval_metric'] = 'merror'\n",
    "    param['min_child_weight'] = 1\n",
    "    param['subsample'] = 0.5\n",
    "    param['colsample_bytree'] = 0.7\n",
    "    param['seed'] = seed_val\n",
    "    num_rounds = num_rounds\n",
    "\n",
    "    plst = list(param.items())\n",
    "    xgtrain = xgb.DMatrix(train_X, label=train_y)\n",
    "\n",
    "    if test_y is not None:\n",
    "        xgtest = xgb.DMatrix(test_X, label=test_y)\n",
    "        watchlist = [ (xgtrain,'train'), (xgtest, 'test') ]\n",
    "        model = xgb.train(plst, xgtrain, num_rounds, watchlist, early_stopping_rounds=20)\n",
    "    else:\n",
    "        xgtest = xgb.DMatrix(test_X)\n",
    "        model = xgb.train(plst, xgtrain, num_rounds)\n",
    "\n",
    "    pred_test_y = model.predict(xgtest)\n",
    "    return model,pred_test_y"
   ]
  },
  {
   "cell_type": "code",
   "execution_count": 194,
   "metadata": {},
   "outputs": [],
   "source": [
    "test_y_pred = pd.DataFrame()\n",
    "test_y_pred['id'] = test_y.index\n",
    "test_y_pred['success'] = np.zeros_like(test_y.index)"
   ]
  },
  {
   "cell_type": "code",
   "execution_count": 195,
   "metadata": {},
   "outputs": [],
   "source": [
    "sm = SMOTE(random_state=11)\n",
    "X_res, y_res = sm.fit_sample(train_X, train_y)\n",
    "\n",
    "X_res = pd.DataFrame(X_res)\n",
    "y_res = pd.DataFrame(y_res)\n",
    "test_X = pd.DataFrame(test_X)\n",
    "test_y = pd.DataFrame(test_y)\n",
    "\n",
    "X_res = X_res.values\n",
    "y_res = y_res.values\n",
    "test_X = test_X.values"
   ]
  },
  {
   "cell_type": "code",
   "execution_count": 196,
   "metadata": {},
   "outputs": [
    {
     "name": "stdout",
     "output_type": "stream",
     "text": [
      "[Fold 1/5]\n",
      "[0]\ttrain-merror:0.405723\ttest-merror:0.413454\n",
      "Multiple eval metrics have been passed: 'test-merror' will be used for early stopping.\n",
      "\n",
      "Will train until test-merror hasn't improved in 20 rounds.\n",
      "[1]\ttrain-merror:0.395656\ttest-merror:0.406865\n",
      "[2]\ttrain-merror:0.388722\ttest-merror:0.401741\n",
      "[3]\ttrain-merror:0.387847\ttest-merror:0.399382\n",
      "[4]\ttrain-merror:0.386383\ttest-merror:0.401415\n",
      "[5]\ttrain-merror:0.380221\ttest-merror:0.396128\n",
      "[6]\ttrain-merror:0.379326\ttest-merror:0.396047\n",
      "[7]\ttrain-merror:0.380364\ttest-merror:0.396047\n",
      "[8]\ttrain-merror:0.379672\ttest-merror:0.395477\n",
      "[9]\ttrain-merror:0.37833\ttest-merror:0.392712\n",
      "[10]\ttrain-merror:0.377883\ttest-merror:0.393607\n",
      "[11]\ttrain-merror:0.377659\ttest-merror:0.392061\n",
      "[12]\ttrain-merror:0.377069\ttest-merror:0.391329\n",
      "[13]\ttrain-merror:0.376296\ttest-merror:0.390841\n",
      "[14]\ttrain-merror:0.376276\ttest-merror:0.391492\n",
      "[15]\ttrain-merror:0.376581\ttest-merror:0.389865\n",
      "[16]\ttrain-merror:0.376276\ttest-merror:0.390109\n",
      "[17]\ttrain-merror:0.375991\ttest-merror:0.389784\n",
      "[18]\ttrain-merror:0.376235\ttest-merror:0.389702\n",
      "[19]\ttrain-merror:0.37589\ttest-merror:0.389946\n",
      "[20]\ttrain-merror:0.3765\ttest-merror:0.39019\n",
      "[21]\ttrain-merror:0.375971\ttest-merror:0.390028\n",
      "[22]\ttrain-merror:0.375483\ttest-merror:0.389377\n",
      "[23]\ttrain-merror:0.375198\ttest-merror:0.389702\n",
      "[24]\ttrain-merror:0.375442\ttest-merror:0.39019\n",
      "[25]\ttrain-merror:0.37528\ttest-merror:0.389133\n",
      "[26]\ttrain-merror:0.375259\ttest-merror:0.390272\n",
      "[27]\ttrain-merror:0.37532\ttest-merror:0.390516\n",
      "[28]\ttrain-merror:0.375503\ttest-merror:0.390353\n",
      "[29]\ttrain-merror:0.375422\ttest-merror:0.389214\n",
      "[30]\ttrain-merror:0.375036\ttest-merror:0.38954\n",
      "[31]\ttrain-merror:0.37467\ttest-merror:0.388564\n",
      "[32]\ttrain-merror:0.374527\ttest-merror:0.387506\n",
      "[33]\ttrain-merror:0.373958\ttest-merror:0.387669\n",
      "[34]\ttrain-merror:0.373185\ttest-merror:0.387587\n",
      "[35]\ttrain-merror:0.373083\ttest-merror:0.388157\n",
      "[36]\ttrain-merror:0.37351\ttest-merror:0.389052\n",
      "[37]\ttrain-merror:0.373775\ttest-merror:0.388319\n",
      "[38]\ttrain-merror:0.373571\ttest-merror:0.387994\n",
      "[39]\ttrain-merror:0.373917\ttest-merror:0.387994\n",
      "[40]\ttrain-merror:0.373449\ttest-merror:0.388157\n",
      "[41]\ttrain-merror:0.373083\ttest-merror:0.38775\n",
      "[42]\ttrain-merror:0.372921\ttest-merror:0.387425\n",
      "[43]\ttrain-merror:0.372148\ttest-merror:0.386855\n",
      "[44]\ttrain-merror:0.371233\ttest-merror:0.386611\n",
      "[45]\ttrain-merror:0.370724\ttest-merror:0.386123\n",
      "[46]\ttrain-merror:0.370765\ttest-merror:0.385473\n",
      "[47]\ttrain-merror:0.370765\ttest-merror:0.385798\n",
      "[48]\ttrain-merror:0.370562\ttest-merror:0.38531\n",
      "[49]\ttrain-merror:0.370623\ttest-merror:0.385554\n",
      "[50]\ttrain-merror:0.370033\ttest-merror:0.385717\n",
      "[51]\ttrain-merror:0.369484\ttest-merror:0.385961\n",
      "[52]\ttrain-merror:0.369138\ttest-merror:0.386123\n",
      "[53]\ttrain-merror:0.368874\ttest-merror:0.385229\n",
      "[54]\ttrain-merror:0.368467\ttest-merror:0.385229\n",
      "[55]\ttrain-merror:0.368609\ttest-merror:0.38531\n",
      "[56]\ttrain-merror:0.368386\ttest-merror:0.384822\n",
      "[57]\ttrain-merror:0.368304\ttest-merror:0.383846\n",
      "[58]\ttrain-merror:0.368406\ttest-merror:0.38409\n",
      "[59]\ttrain-merror:0.368386\ttest-merror:0.38352\n",
      "[60]\ttrain-merror:0.368223\ttest-merror:0.383439\n",
      "[61]\ttrain-merror:0.36806\ttest-merror:0.383683\n",
      "[62]\ttrain-merror:0.367572\ttest-merror:0.383602\n",
      "[63]\ttrain-merror:0.36745\ttest-merror:0.384008\n",
      "[64]\ttrain-merror:0.367308\ttest-merror:0.383195\n",
      "[65]\ttrain-merror:0.367084\ttest-merror:0.383439\n",
      "[66]\ttrain-merror:0.366596\ttest-merror:0.38409\n",
      "[67]\ttrain-merror:0.366291\ttest-merror:0.383276\n",
      "[68]\ttrain-merror:0.365986\ttest-merror:0.383195\n",
      "[69]\ttrain-merror:0.366108\ttest-merror:0.383032\n",
      "[70]\ttrain-merror:0.365783\ttest-merror:0.383195\n",
      "[71]\ttrain-merror:0.36562\ttest-merror:0.383195\n",
      "[72]\ttrain-merror:0.365681\ttest-merror:0.38352\n",
      "[73]\ttrain-merror:0.36564\ttest-merror:0.383846\n",
      "[74]\ttrain-merror:0.365091\ttest-merror:0.383683\n",
      "[75]\ttrain-merror:0.365234\ttest-merror:0.383439\n",
      "[76]\ttrain-merror:0.364746\ttest-merror:0.382951\n",
      "[77]\ttrain-merror:0.364644\ttest-merror:0.383439\n",
      "[78]\ttrain-merror:0.364746\ttest-merror:0.38352\n",
      "[79]\ttrain-merror:0.364583\ttest-merror:0.383764\n",
      "[80]\ttrain-merror:0.364563\ttest-merror:0.383276\n",
      "[81]\ttrain-merror:0.363749\ttest-merror:0.383114\n",
      "[82]\ttrain-merror:0.36383\ttest-merror:0.382219\n",
      "[83]\ttrain-merror:0.363566\ttest-merror:0.382544\n",
      "[84]\ttrain-merror:0.363444\ttest-merror:0.382056\n",
      "[85]\ttrain-merror:0.363383\ttest-merror:0.383032\n",
      "[86]\ttrain-merror:0.363241\ttest-merror:0.383764\n",
      "[87]\ttrain-merror:0.363424\ttest-merror:0.383114\n",
      "[88]\ttrain-merror:0.362875\ttest-merror:0.383846\n",
      "[89]\ttrain-merror:0.362895\ttest-merror:0.383683\n",
      "[90]\ttrain-merror:0.362427\ttest-merror:0.383764\n",
      "[91]\ttrain-merror:0.362712\ttest-merror:0.383358\n",
      "[92]\ttrain-merror:0.362854\ttest-merror:0.383602\n",
      "[93]\ttrain-merror:0.362997\ttest-merror:0.384008\n",
      "[94]\ttrain-merror:0.362834\ttest-merror:0.383927\n",
      "[95]\ttrain-merror:0.362753\ttest-merror:0.38352\n",
      "[96]\ttrain-merror:0.362183\ttest-merror:0.383276\n",
      "[97]\ttrain-merror:0.362285\ttest-merror:0.384008\n",
      "[98]\ttrain-merror:0.362183\ttest-merror:0.383358\n",
      "[99]\ttrain-merror:0.361675\ttest-merror:0.384252\n",
      "[100]\ttrain-merror:0.361695\ttest-merror:0.383683\n",
      "[101]\ttrain-merror:0.361166\ttest-merror:0.383764\n",
      "[102]\ttrain-merror:0.361065\ttest-merror:0.38409\n",
      "[103]\ttrain-merror:0.361268\ttest-merror:0.384008\n",
      "[104]\ttrain-merror:0.360699\ttest-merror:0.384334\n",
      "Stopping. Best iteration:\n",
      "[84]\ttrain-merror:0.363444\ttest-merror:0.382056\n",
      "\n",
      "[Fold 2/5]\n",
      "[0]\ttrain-merror:0.411173\ttest-merror:0.420612\n",
      "Multiple eval metrics have been passed: 'test-merror' will be used for early stopping.\n",
      "\n",
      "Will train until test-merror hasn't improved in 20 rounds.\n",
      "[1]\ttrain-merror:0.390857\ttest-merror:0.401334\n",
      "[2]\ttrain-merror:0.385509\ttest-merror:0.399545\n",
      "[3]\ttrain-merror:0.383089\ttest-merror:0.394664\n",
      "[4]\ttrain-merror:0.388559\ttest-merror:0.399219\n",
      "[5]\ttrain-merror:0.384593\ttest-merror:0.395152\n",
      "[6]\ttrain-merror:0.384207\ttest-merror:0.391004\n",
      "[7]\ttrain-merror:0.382926\ttest-merror:0.391166\n",
      "[8]\ttrain-merror:0.38317\ttest-merror:0.390678\n",
      "[9]\ttrain-merror:0.379896\ttest-merror:0.389946\n",
      "[10]\ttrain-merror:0.380587\ttest-merror:0.391166\n",
      "[11]\ttrain-merror:0.379733\ttest-merror:0.390353\n",
      "[12]\ttrain-merror:0.379713\ttest-merror:0.391492\n",
      "[13]\ttrain-merror:0.380018\ttest-merror:0.38954\n",
      "[14]\ttrain-merror:0.379916\ttest-merror:0.390922\n",
      "[15]\ttrain-merror:0.379082\ttest-merror:0.389621\n",
      "[16]\ttrain-merror:0.37894\ttest-merror:0.389133\n",
      "[17]\ttrain-merror:0.378899\ttest-merror:0.391166\n",
      "[18]\ttrain-merror:0.379001\ttest-merror:0.389784\n",
      "[19]\ttrain-merror:0.378798\ttest-merror:0.390272\n",
      "[20]\ttrain-merror:0.378513\ttest-merror:0.389946\n",
      "[21]\ttrain-merror:0.378513\ttest-merror:0.388808\n",
      "[22]\ttrain-merror:0.378228\ttest-merror:0.388808\n",
      "[23]\ttrain-merror:0.377781\ttest-merror:0.389296\n",
      "[24]\ttrain-merror:0.3777\ttest-merror:0.388645\n",
      "[25]\ttrain-merror:0.3777\ttest-merror:0.389214\n",
      "[26]\ttrain-merror:0.377842\ttest-merror:0.38897\n",
      "[27]\ttrain-merror:0.377679\ttest-merror:0.389458\n",
      "[28]\ttrain-merror:0.377354\ttest-merror:0.388726\n",
      "[29]\ttrain-merror:0.377191\ttest-merror:0.387994\n",
      "[30]\ttrain-merror:0.377395\ttest-merror:0.38897\n",
      "[31]\ttrain-merror:0.377293\ttest-merror:0.387913\n",
      "[32]\ttrain-merror:0.377476\ttest-merror:0.388319\n",
      "[33]\ttrain-merror:0.377395\ttest-merror:0.388645\n",
      "[34]\ttrain-merror:0.377252\ttest-merror:0.388726\n",
      "[35]\ttrain-merror:0.376947\ttest-merror:0.388564\n",
      "[36]\ttrain-merror:0.376581\ttest-merror:0.388238\n",
      "[37]\ttrain-merror:0.376378\ttest-merror:0.388808\n",
      "[38]\ttrain-merror:0.375829\ttest-merror:0.389133\n",
      "[39]\ttrain-merror:0.375829\ttest-merror:0.389052\n",
      "[40]\ttrain-merror:0.375259\ttest-merror:0.387994\n",
      "[41]\ttrain-merror:0.375137\ttest-merror:0.387099\n",
      "[42]\ttrain-merror:0.375666\ttest-merror:0.387669\n",
      "[43]\ttrain-merror:0.375239\ttest-merror:0.386774\n",
      "[44]\ttrain-merror:0.37528\ttest-merror:0.386449\n",
      "[45]\ttrain-merror:0.374548\ttest-merror:0.386937\n",
      "[46]\ttrain-merror:0.374426\ttest-merror:0.387181\n",
      "[47]\ttrain-merror:0.374405\ttest-merror:0.387831\n",
      "[48]\ttrain-merror:0.374039\ttest-merror:0.387587\n",
      "[49]\ttrain-merror:0.373409\ttest-merror:0.387181\n",
      "[50]\ttrain-merror:0.373226\ttest-merror:0.388075\n",
      "[51]\ttrain-merror:0.372514\ttest-merror:0.387262\n",
      "[52]\ttrain-merror:0.372046\ttest-merror:0.385798\n",
      "[53]\ttrain-merror:0.371762\ttest-merror:0.385961\n",
      "[54]\ttrain-merror:0.371843\ttest-merror:0.385391\n",
      "[55]\ttrain-merror:0.371497\ttest-merror:0.386367\n",
      "[56]\ttrain-merror:0.371233\ttest-merror:0.386205\n",
      "[57]\ttrain-merror:0.371517\ttest-merror:0.385635\n",
      "[58]\ttrain-merror:0.371619\ttest-merror:0.385798\n"
     ]
    },
    {
     "name": "stdout",
     "output_type": "stream",
     "text": [
      "[59]\ttrain-merror:0.371497\ttest-merror:0.386774\n",
      "[60]\ttrain-merror:0.37166\ttest-merror:0.386205\n",
      "[61]\ttrain-merror:0.371741\ttest-merror:0.386042\n",
      "[62]\ttrain-merror:0.371538\ttest-merror:0.385961\n",
      "[63]\ttrain-merror:0.371578\ttest-merror:0.386042\n",
      "[64]\ttrain-merror:0.371375\ttest-merror:0.385554\n",
      "[65]\ttrain-merror:0.371558\ttest-merror:0.385229\n",
      "[66]\ttrain-merror:0.370623\ttest-merror:0.385635\n",
      "[67]\ttrain-merror:0.370257\ttest-merror:0.385717\n",
      "[68]\ttrain-merror:0.370338\ttest-merror:0.386286\n",
      "[69]\ttrain-merror:0.369891\ttest-merror:0.386042\n",
      "[70]\ttrain-merror:0.369382\ttest-merror:0.386367\n",
      "[71]\ttrain-merror:0.368813\ttest-merror:0.386937\n",
      "[72]\ttrain-merror:0.367959\ttest-merror:0.386286\n",
      "[73]\ttrain-merror:0.367999\ttest-merror:0.386205\n",
      "[74]\ttrain-merror:0.368142\ttest-merror:0.386123\n",
      "[75]\ttrain-merror:0.367511\ttest-merror:0.385554\n",
      "[76]\ttrain-merror:0.366922\ttest-merror:0.385879\n",
      "[77]\ttrain-merror:0.36684\ttest-merror:0.385961\n",
      "[78]\ttrain-merror:0.366433\ttest-merror:0.385879\n",
      "[79]\ttrain-merror:0.366637\ttest-merror:0.385554\n",
      "[80]\ttrain-merror:0.366962\ttest-merror:0.385554\n",
      "[81]\ttrain-merror:0.3668\ttest-merror:0.385961\n",
      "[82]\ttrain-merror:0.366332\ttest-merror:0.385473\n",
      "[83]\ttrain-merror:0.366189\ttest-merror:0.384985\n",
      "[84]\ttrain-merror:0.365803\ttest-merror:0.386123\n",
      "[85]\ttrain-merror:0.365274\ttest-merror:0.385554\n",
      "[86]\ttrain-merror:0.364644\ttest-merror:0.385147\n",
      "[87]\ttrain-merror:0.364929\ttest-merror:0.38531\n",
      "[88]\ttrain-merror:0.36499\ttest-merror:0.385554\n",
      "[89]\ttrain-merror:0.36442\ttest-merror:0.385066\n",
      "[90]\ttrain-merror:0.364441\ttest-merror:0.385717\n",
      "[91]\ttrain-merror:0.364197\ttest-merror:0.385229\n",
      "[92]\ttrain-merror:0.363973\ttest-merror:0.385717\n",
      "[93]\ttrain-merror:0.364095\ttest-merror:0.385391\n",
      "[94]\ttrain-merror:0.36383\ttest-merror:0.385473\n",
      "[95]\ttrain-merror:0.36381\ttest-merror:0.385473\n",
      "[96]\ttrain-merror:0.363729\ttest-merror:0.385798\n",
      "[97]\ttrain-merror:0.363627\ttest-merror:0.385635\n",
      "[98]\ttrain-merror:0.363342\ttest-merror:0.385473\n",
      "[99]\ttrain-merror:0.36322\ttest-merror:0.385879\n",
      "[100]\ttrain-merror:0.362265\ttest-merror:0.385635\n",
      "[101]\ttrain-merror:0.362122\ttest-merror:0.385879\n",
      "[102]\ttrain-merror:0.361899\ttest-merror:0.385635\n",
      "[103]\ttrain-merror:0.361817\ttest-merror:0.385879\n",
      "Stopping. Best iteration:\n",
      "[83]\ttrain-merror:0.366189\ttest-merror:0.384985\n",
      "\n",
      "[Fold 3/5]\n",
      "[0]\ttrain-merror:0.410664\ttest-merror:0.413616\n",
      "Multiple eval metrics have been passed: 'test-merror' will be used for early stopping.\n",
      "\n",
      "Will train until test-merror hasn't improved in 20 rounds.\n",
      "[1]\ttrain-merror:0.398849\ttest-merror:0.401903\n",
      "[2]\ttrain-merror:0.391203\ttest-merror:0.399545\n",
      "[3]\ttrain-merror:0.387949\ttest-merror:0.396779\n",
      "[4]\ttrain-merror:0.388945\ttest-merror:0.395233\n",
      "[5]\ttrain-merror:0.383434\ttest-merror:0.390028\n",
      "[6]\ttrain-merror:0.382458\ttest-merror:0.389702\n",
      "[7]\ttrain-merror:0.382011\ttest-merror:0.388808\n",
      "[8]\ttrain-merror:0.381787\ttest-merror:0.389214\n",
      "[9]\ttrain-merror:0.380486\ttest-merror:0.389458\n",
      "[10]\ttrain-merror:0.37953\ttest-merror:0.390028\n",
      "[11]\ttrain-merror:0.379489\ttest-merror:0.390353\n",
      "[12]\ttrain-merror:0.37892\ttest-merror:0.388238\n",
      "[13]\ttrain-merror:0.379489\ttest-merror:0.388482\n",
      "[14]\ttrain-merror:0.379225\ttest-merror:0.389702\n",
      "[15]\ttrain-merror:0.378737\ttest-merror:0.390353\n",
      "[16]\ttrain-merror:0.377476\ttest-merror:0.388726\n",
      "[17]\ttrain-merror:0.377476\ttest-merror:0.389621\n",
      "[18]\ttrain-merror:0.377313\ttest-merror:0.389946\n",
      "[19]\ttrain-merror:0.37709\ttest-merror:0.388401\n",
      "[20]\ttrain-merror:0.377171\ttest-merror:0.388564\n",
      "[21]\ttrain-merror:0.376642\ttest-merror:0.389865\n",
      "[22]\ttrain-merror:0.377069\ttest-merror:0.389458\n",
      "[23]\ttrain-merror:0.377273\ttest-merror:0.389377\n",
      "[24]\ttrain-merror:0.377496\ttest-merror:0.389377\n",
      "[25]\ttrain-merror:0.377395\ttest-merror:0.390028\n",
      "[26]\ttrain-merror:0.377395\ttest-merror:0.389133\n",
      "[27]\ttrain-merror:0.377273\ttest-merror:0.390028\n",
      "[28]\ttrain-merror:0.377151\ttest-merror:0.390028\n",
      "[29]\ttrain-merror:0.377354\ttest-merror:0.389214\n",
      "[30]\ttrain-merror:0.376662\ttest-merror:0.387994\n",
      "[31]\ttrain-merror:0.376845\ttest-merror:0.388808\n",
      "[32]\ttrain-merror:0.376459\ttest-merror:0.387587\n",
      "[33]\ttrain-merror:0.376744\ttest-merror:0.387425\n",
      "[34]\ttrain-merror:0.376764\ttest-merror:0.38775\n",
      "[35]\ttrain-merror:0.375666\ttest-merror:0.388645\n",
      "[36]\ttrain-merror:0.375259\ttest-merror:0.388401\n",
      "[37]\ttrain-merror:0.374914\ttest-merror:0.389133\n",
      "[38]\ttrain-merror:0.374731\ttest-merror:0.388564\n",
      "[39]\ttrain-merror:0.37467\ttest-merror:0.38954\n",
      "[40]\ttrain-merror:0.374466\ttest-merror:0.388889\n",
      "[41]\ttrain-merror:0.374629\ttest-merror:0.389377\n",
      "[42]\ttrain-merror:0.374385\ttest-merror:0.39019\n",
      "[43]\ttrain-merror:0.37412\ttest-merror:0.38954\n",
      "[44]\ttrain-merror:0.374059\ttest-merror:0.389784\n",
      "[45]\ttrain-merror:0.374364\ttest-merror:0.389214\n",
      "[46]\ttrain-merror:0.374019\ttest-merror:0.389133\n",
      "[47]\ttrain-merror:0.373551\ttest-merror:0.389946\n",
      "[48]\ttrain-merror:0.373246\ttest-merror:0.390516\n",
      "[49]\ttrain-merror:0.373063\ttest-merror:0.390109\n",
      "[50]\ttrain-merror:0.372656\ttest-merror:0.390922\n",
      "[51]\ttrain-merror:0.372778\ttest-merror:0.39019\n",
      "[52]\ttrain-merror:0.372087\ttest-merror:0.389946\n",
      "[53]\ttrain-merror:0.371741\ttest-merror:0.390678\n",
      "Stopping. Best iteration:\n",
      "[33]\ttrain-merror:0.376744\ttest-merror:0.387425\n",
      "\n",
      "[Fold 4/5]\n",
      "[0]\ttrain-merror:0.412352\ttest-merror:0.407191\n",
      "Multiple eval metrics have been passed: 'test-merror' will be used for early stopping.\n",
      "\n",
      "Will train until test-merror hasn't improved in 20 rounds.\n",
      "[1]\ttrain-merror:0.395066\ttest-merror:0.388482\n",
      "[2]\ttrain-merror:0.395331\ttest-merror:0.389214\n",
      "[3]\ttrain-merror:0.386607\ttest-merror:0.381731\n",
      "[4]\ttrain-merror:0.39104\ttest-merror:0.385798\n",
      "[5]\ttrain-merror:0.385102\ttest-merror:0.381162\n",
      "[6]\ttrain-merror:0.385122\ttest-merror:0.379779\n",
      "[7]\ttrain-merror:0.385061\ttest-merror:0.380348\n",
      "[8]\ttrain-merror:0.383719\ttest-merror:0.379372\n",
      "[9]\ttrain-merror:0.382926\ttest-merror:0.378721\n",
      "[10]\ttrain-merror:0.382336\ttest-merror:0.377257\n",
      "[11]\ttrain-merror:0.381136\ttest-merror:0.375793\n",
      "[12]\ttrain-merror:0.380648\ttest-merror:0.374736\n",
      "[13]\ttrain-merror:0.38075\ttest-merror:0.375061\n",
      "[14]\ttrain-merror:0.379896\ttest-merror:0.375305\n",
      "[15]\ttrain-merror:0.38138\ttest-merror:0.375793\n",
      "[16]\ttrain-merror:0.381035\ttest-merror:0.375956\n",
      "[17]\ttrain-merror:0.381767\ttest-merror:0.376525\n",
      "[18]\ttrain-merror:0.381482\ttest-merror:0.377013\n",
      "[19]\ttrain-merror:0.38136\ttest-merror:0.376281\n",
      "[20]\ttrain-merror:0.380974\ttest-merror:0.376932\n",
      "[21]\ttrain-merror:0.380791\ttest-merror:0.376444\n",
      "[22]\ttrain-merror:0.380974\ttest-merror:0.374573\n",
      "[23]\ttrain-merror:0.380343\ttest-merror:0.374248\n",
      "[24]\ttrain-merror:0.380221\ttest-merror:0.37498\n",
      "[25]\ttrain-merror:0.379937\ttest-merror:0.374736\n",
      "[26]\ttrain-merror:0.379835\ttest-merror:0.373597\n",
      "[27]\ttrain-merror:0.37953\ttest-merror:0.373272\n",
      "[28]\ttrain-merror:0.379387\ttest-merror:0.373678\n",
      "[29]\ttrain-merror:0.379286\ttest-merror:0.37376\n",
      "[30]\ttrain-merror:0.379225\ttest-merror:0.371889\n",
      "[31]\ttrain-merror:0.379245\ttest-merror:0.372783\n",
      "[32]\ttrain-merror:0.378818\ttest-merror:0.373434\n",
      "[33]\ttrain-merror:0.37833\ttest-merror:0.372295\n",
      "[34]\ttrain-merror:0.378147\ttest-merror:0.372377\n",
      "[35]\ttrain-merror:0.377944\ttest-merror:0.372539\n",
      "[36]\ttrain-merror:0.377578\ttest-merror:0.371401\n",
      "[37]\ttrain-merror:0.377374\ttest-merror:0.37197\n",
      "[38]\ttrain-merror:0.377191\ttest-merror:0.37197\n",
      "[39]\ttrain-merror:0.377008\ttest-merror:0.372051\n",
      "[40]\ttrain-merror:0.376967\ttest-merror:0.372214\n",
      "[41]\ttrain-merror:0.376459\ttest-merror:0.371645\n",
      "[42]\ttrain-merror:0.376398\ttest-merror:0.372458\n",
      "[43]\ttrain-merror:0.376195\ttest-merror:0.372133\n",
      "[44]\ttrain-merror:0.376215\ttest-merror:0.372539\n",
      "[45]\ttrain-merror:0.376012\ttest-merror:0.37319\n",
      "[46]\ttrain-merror:0.375707\ttest-merror:0.372051\n",
      "[47]\ttrain-merror:0.375686\ttest-merror:0.372539\n",
      "[48]\ttrain-merror:0.375788\ttest-merror:0.372946\n",
      "[49]\ttrain-merror:0.375402\ttest-merror:0.371807\n",
      "[50]\ttrain-merror:0.375137\ttest-merror:0.372133\n",
      "[51]\ttrain-merror:0.375097\ttest-merror:0.373028\n",
      "[52]\ttrain-merror:0.374914\ttest-merror:0.373028\n",
      "[53]\ttrain-merror:0.37469\ttest-merror:0.372865\n",
      "[54]\ttrain-merror:0.374303\ttest-merror:0.372865\n",
      "[55]\ttrain-merror:0.374059\ttest-merror:0.372946\n",
      "[56]\ttrain-merror:0.373368\ttest-merror:0.372946\n",
      "Stopping. Best iteration:\n",
      "[36]\ttrain-merror:0.377578\ttest-merror:0.371401\n",
      "\n",
      "[Fold 5/5]\n",
      "[0]\ttrain-merror:0.418171\ttest-merror:0.433859\n",
      "Multiple eval metrics have been passed: 'test-merror' will be used for early stopping.\n",
      "\n",
      "Will train until test-merror hasn't improved in 20 rounds.\n",
      "[1]\ttrain-merror:0.398528\ttest-merror:0.396355\n"
     ]
    },
    {
     "name": "stdout",
     "output_type": "stream",
     "text": [
      "[2]\ttrain-merror:0.393322\ttest-merror:0.389928\n",
      "[3]\ttrain-merror:0.39503\ttest-merror:0.391311\n",
      "[4]\ttrain-merror:0.391837\ttest-merror:0.385454\n",
      "[5]\ttrain-merror:0.396718\ttest-merror:0.392206\n",
      "[6]\ttrain-merror:0.387791\ttest-merror:0.380166\n",
      "[7]\ttrain-merror:0.386693\ttest-merror:0.379922\n",
      "[8]\ttrain-merror:0.387465\ttest-merror:0.380573\n",
      "[9]\ttrain-merror:0.387262\ttest-merror:0.380329\n",
      "[10]\ttrain-merror:0.386571\ttest-merror:0.379841\n",
      "[11]\ttrain-merror:0.385656\ttest-merror:0.380085\n",
      "[12]\ttrain-merror:0.385188\ttest-merror:0.378783\n",
      "[13]\ttrain-merror:0.384069\ttest-merror:0.374146\n",
      "[14]\ttrain-merror:0.384395\ttest-merror:0.373495\n",
      "[15]\ttrain-merror:0.384273\ttest-merror:0.374471\n",
      "[16]\ttrain-merror:0.384069\ttest-merror:0.37382\n",
      "[17]\ttrain-merror:0.383947\ttest-merror:0.37382\n",
      "[18]\ttrain-merror:0.383886\ttest-merror:0.374471\n",
      "[19]\ttrain-merror:0.383724\ttest-merror:0.374064\n",
      "[20]\ttrain-merror:0.383276\ttest-merror:0.374227\n",
      "[21]\ttrain-merror:0.38289\ttest-merror:0.374308\n",
      "[22]\ttrain-merror:0.382463\ttest-merror:0.375041\n",
      "[23]\ttrain-merror:0.382239\ttest-merror:0.374553\n",
      "[24]\ttrain-merror:0.382748\ttest-merror:0.375122\n",
      "[25]\ttrain-merror:0.382239\ttest-merror:0.375285\n",
      "[26]\ttrain-merror:0.382178\ttest-merror:0.374959\n",
      "[27]\ttrain-merror:0.382524\ttest-merror:0.376505\n",
      "[28]\ttrain-merror:0.382341\ttest-merror:0.375366\n",
      "[29]\ttrain-merror:0.381772\ttest-merror:0.374715\n",
      "[30]\ttrain-merror:0.381019\ttest-merror:0.374064\n",
      "[31]\ttrain-merror:0.380673\ttest-merror:0.375447\n",
      "[32]\ttrain-merror:0.38049\ttest-merror:0.375854\n",
      "[33]\ttrain-merror:0.380246\ttest-merror:0.375692\n",
      "[34]\ttrain-merror:0.380104\ttest-merror:0.374146\n",
      "Stopping. Best iteration:\n",
      "[14]\ttrain-merror:0.384395\ttest-merror:0.373495\n",
      "\n"
     ]
    }
   ],
   "source": [
    "kfold = 5\n",
    "skf = StratifiedKFold(n_splits=kfold, random_state=11)\n",
    "\n",
    "for i, (train_index, test_index) in enumerate(skf.split(X_res, y_res)):\n",
    "    print('[Fold %d/%d]' % (i + 1, kfold))\n",
    "    X_train, X_valid = X_res[train_index], X_res[test_index]\n",
    "    y_train, y_valid = y_res[train_index], y_res[test_index]\n",
    "    \n",
    "    model1,y = runXGB(X_train,y_train,X_valid,y_valid)\n",
    "    test_pred = model1.predict(xgb.DMatrix(test_X))\n",
    "    test_y_pred['success'] += test_pred/kfold"
   ]
  },
  {
   "cell_type": "code",
   "execution_count": 197,
   "metadata": {},
   "outputs": [],
   "source": [
    "test_y_pred['success'] = np.round(test_y_pred['success']).apply(int)"
   ]
  },
  {
   "cell_type": "code",
   "execution_count": 198,
   "metadata": {},
   "outputs": [
    {
     "data": {
      "text/plain": [
       "0.6134212156064761"
      ]
     },
     "execution_count": 198,
     "metadata": {},
     "output_type": "execute_result"
    }
   ],
   "source": [
    "accuracy_score(test_y,test_y_pred['success'])"
   ]
  },
  {
   "cell_type": "code",
   "execution_count": null,
   "metadata": {},
   "outputs": [],
   "source": []
  }
 ],
 "metadata": {
  "kernelspec": {
   "display_name": "Python 3",
   "language": "python",
   "name": "python3"
  },
  "language_info": {
   "codemirror_mode": {
    "name": "ipython",
    "version": 3
   },
   "file_extension": ".py",
   "mimetype": "text/x-python",
   "name": "python",
   "nbconvert_exporter": "python",
   "pygments_lexer": "ipython3",
   "version": "3.6.3"
  }
 },
 "nbformat": 4,
 "nbformat_minor": 2
}
