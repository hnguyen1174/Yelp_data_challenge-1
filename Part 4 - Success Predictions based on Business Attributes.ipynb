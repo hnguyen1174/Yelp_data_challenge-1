{
 "cells": [
  {
   "cell_type": "markdown",
   "metadata": {},
   "source": [
    "# 1. Setting Up"
   ]
  },
  {
   "cell_type": "markdown",
   "metadata": {},
   "source": [
    "### 1.0 Import Necessary libraries"
   ]
  },
  {
   "cell_type": "code",
   "execution_count": 2,
   "metadata": {},
   "outputs": [],
   "source": [
    "# Misc\n",
    "import ast\n",
    "import json\n",
    "\n",
    "# Data manipulation\n",
    "import numpy as np\n",
    "import pandas as pd\n",
    "\n",
    "# Plotting\n",
    "import matplotlib.pyplot as plt\n",
    "%matplotlib inline\n",
    "import seaborn as sns\n",
    "color = sns.color_palette()"
   ]
  },
  {
   "cell_type": "markdown",
   "metadata": {},
   "source": [
    "### 1.1 Load the business dataset"
   ]
  },
  {
   "cell_type": "code",
   "execution_count": null,
   "metadata": {},
   "outputs": [],
   "source": [
    "!pip json_to_csv_converter.py yelp_academic_dataset_business_full.json"
   ]
  },
  {
   "cell_type": "code",
   "execution_count": 4,
   "metadata": {},
   "outputs": [],
   "source": [
    "business = pd.read_csv('yelp_academic_dataset_business_full.csv')"
   ]
  },
  {
   "cell_type": "code",
   "execution_count": 5,
   "metadata": {},
   "outputs": [
    {
     "name": "stdout",
     "output_type": "stream",
     "text": [
      "<class 'pandas.core.frame.DataFrame'>\n",
      "RangeIndex: 188593 entries, 0 to 188592\n",
      "Data columns (total 61 columns):\n",
      "hours.Friday                             141796 non-null object\n",
      "attributes.RestaurantsAttire             48182 non-null object\n",
      "attributes.BikeParking                   84891 non-null object\n",
      "state                                    188593 non-null object\n",
      "categories                               188052 non-null object\n",
      "attributes.BusinessParking               103424 non-null object\n",
      "attributes.Alcohol                       47892 non-null object\n",
      "attributes.GoodForDancing                9162 non-null object\n",
      "attributes.BYOB                          911 non-null object\n",
      "attributes.DietaryRestrictions           138 non-null object\n",
      "attributes.RestaurantsReservations       51363 non-null object\n",
      "attributes.GoodForKids                   64931 non-null object\n",
      "attributes.Smoking                       8113 non-null object\n",
      "hours.Sunday                             93387 non-null object\n",
      "attributes.BYOBCorkage                   1409 non-null object\n",
      "latitude                                 188587 non-null float64\n",
      "attributes.BusinessAcceptsBitcoin        12674 non-null object\n",
      "attributes.GoodForMeal                   47483 non-null object\n",
      "attributes.BestNights                    6844 non-null object\n",
      "attributes.NoiseLevel                    43710 non-null object\n",
      "attributes.Corkage                       657 non-null object\n",
      "attributes.Music                         8807 non-null object\n",
      "hours.Wednesday                          141843 non-null object\n",
      "attributes.Open24Hours                   352 non-null object\n",
      "longitude                                188587 non-null float64\n",
      "neighborhood                             68655 non-null object\n",
      "attributes.HairSpecializesIn             1881 non-null object\n",
      "hours.Thursday                           142359 non-null object\n",
      "attributes.AgesAllowed                   397 non-null object\n",
      "attributes.ByAppointmentOnly             45423 non-null object\n",
      "business_id                              188593 non-null object\n",
      "attributes.RestaurantsDelivery           51668 non-null object\n",
      "attributes.RestaurantsGoodForGroups      53839 non-null object\n",
      "postal_code                              187912 non-null object\n",
      "attributes.RestaurantsTableService       43325 non-null object\n",
      "attributes.WiFi                          49026 non-null object\n",
      "hours                                    143791 non-null object\n",
      "attributes.DogsAllowed                   13681 non-null object\n",
      "review_count                             188593 non-null int64\n",
      "name                                     188593 non-null object\n",
      "attributes.BusinessAcceptsCreditCards    140391 non-null object\n",
      "hours.Saturday                           125376 non-null object\n",
      "attributes.Ambience                      47577 non-null object\n",
      "attributes.RestaurantsCounterService     397 non-null object\n",
      "attributes.DriveThru                     6754 non-null object\n",
      "attributes.Caters                        40038 non-null object\n",
      "address                                  180970 non-null object\n",
      "attributes.RestaurantsPriceRange2        107120 non-null float64\n",
      "attributes.RestaurantsTakeOut            61206 non-null object\n",
      "hours.Tuesday                            140607 non-null object\n",
      "attributes.WheelchairAccessible          52023 non-null object\n",
      "attributes.HasTV                         47533 non-null object\n",
      "attributes.HappyHour                     9285 non-null object\n",
      "hours.Monday                             132761 non-null object\n",
      "attributes.CoatCheck                     8531 non-null object\n",
      "attributes.OutdoorSeating                54181 non-null object\n",
      "is_open                                  188593 non-null int64\n",
      "attributes.AcceptsInsurance              11671 non-null object\n",
      "attributes                               162807 non-null object\n",
      "stars                                    188593 non-null float64\n",
      "city                                     188583 non-null object\n",
      "dtypes: float64(4), int64(2), object(55)\n",
      "memory usage: 87.8+ MB\n"
     ]
    }
   ],
   "source": [
    "business = pd.read_csv('yelp_academic_dataset_business_full.csv')\n",
    "business.info()"
   ]
  },
  {
   "cell_type": "code",
   "execution_count": 6,
   "metadata": {},
   "outputs": [
    {
     "name": "stdout",
     "output_type": "stream",
     "text": [
      "The number of categories of business is 1305\n"
     ]
    }
   ],
   "source": [
    "# Find the total number of categories for all businesses\n",
    "cat_all_biz = ','.join(business['categories'].dropna()).replace(\" \", \"\")\n",
    "cat_all_biz = pd.DataFrame(cat_all_biz.split(','), columns=['category'])\n",
    "cat_all_biz_count = cat_all_biz.category.value_counts().sort_values(ascending = False)\n",
    "print(f\"The number of categories of business is {len(cat_all_biz_count)}\")"
   ]
  },
  {
   "cell_type": "code",
   "execution_count": 7,
   "metadata": {},
   "outputs": [
    {
     "data": {
      "text/plain": [
       "Restaurants       57173\n",
       "Shopping          30231\n",
       "Food              27118\n",
       "Beauty&Spas       18967\n",
       "HomeServices      18634\n",
       "Health&Medical    16157\n",
       "LocalServices     12906\n",
       "Automotive        12656\n",
       "Nightlife         12438\n",
       "Bars              10853\n",
       "Name: category, dtype: int64"
      ]
     },
     "execution_count": 7,
     "metadata": {},
     "output_type": "execute_result"
    }
   ],
   "source": [
    "cat_all_biz_count[0:10]"
   ]
  },
  {
   "cell_type": "markdown",
   "metadata": {},
   "source": [
    "### 1.2 Choose only business with food, drink or dessert (food businesses)"
   ]
  },
  {
   "cell_type": "code",
   "execution_count": 8,
   "metadata": {},
   "outputs": [],
   "source": [
    "food_masks = ['Restaurants', 'Food','Sandwiches', 'FastFood', 'Breakfast&Brunch', 'SpecialtyFood', 'Burgers',\n",
    "                    'American(Traditional)', 'American(New)','Pizza', 'Italian','African','Falafel','Turkish',\n",
    "                    'Desserts', 'Bakeries', 'Salad','ChickenWings', 'Mexican','Seafood','Chinese','Malaysian',\n",
    "                    'IceCream&FrozenYogurt', 'Delis', 'Japanese', 'Bars', 'Canadian(New)', 'AsianFusion',\n",
    "                    'Mediterranean', 'SushiBars','JuiceBars&Smoothies','Steakhouses','Coffee&Tea','Pretzels','PanAsian',\n",
    "                    'Barbeque','Beer','Wine&Spirits','SportsBars', 'Pubs','British','Poke','Delicatessen',\n",
    "                     'Lounges', 'WineBars', 'CocktailBars', 'Diners','Patisserie/CakeShop','Kosher','Afghan',\n",
    "                     'Vegetarian', 'EthnicFood', 'MiddleEastern','Persian/Iranian','FoodCourt','IrishPub',\n",
    "                     'Gluten-Free','ComfortFood','Indian','Soup','Vegan', 'Thai','FoodTrucks','Szechuan',\n",
    "                     'French','Greek','Buffets','Vietnamese','HotDogs','DiveBars','Tex-Mex','HotPot','Polish','Moroccan',\n",
    "                     'ImportedFood','Gastropubs','Bagels','BeerBar','Halal','Korean','Donuts','Tapas/SmallPlates',\n",
    "                     'Breweries','Southern','LatinAmerican','Do-It-YourselfFood','InternetCafes','Cantonese',\n",
    "                     'BubbleTea','TapasBars','Caribbean','Lebanese','CoffeeRoasteries','Gelato','Brazilian',\n",
    "                     'Pakistani','FoodStands','Hawaiian','Dim Sum','Tacos','SoulFood','Creperies','Ethiopian',\n",
    "                     'Fish&Chips','Cajun/Creole','Irish','ShavedIce','InternetCafes','Bistros','Peruvian','Waffles',\n",
    "                     'ModernEuropean','Taiwanese','Filipino','Cheesesteaks','German','Brasseries','Cuban',\n",
    "                     'Wineries','Ramen','Spanish','Poutineries','TeaRooms','Noodles','Cupcakes','Portuguese']"
   ]
  },
  {
   "cell_type": "code",
   "execution_count": 9,
   "metadata": {},
   "outputs": [],
   "source": [
    "bus_cats = business['categories']\n",
    "index_food_masks = list()\n",
    "NaN_list = list()\n",
    "for index, bus_cat in enumerate(bus_cats):\n",
    "    if pd.isnull(bus_cat) == True:\n",
    "        NaN_list.append(index)\n",
    "    else:\n",
    "        if bool(set(bus_cat.replace(\" \",\"\").split(',')) & set(food_masks)):\n",
    "            index_food_masks.append(index)"
   ]
  },
  {
   "cell_type": "code",
   "execution_count": 10,
   "metadata": {},
   "outputs": [],
   "source": [
    "restaurants = business.iloc[index_food_masks]"
   ]
  },
  {
   "cell_type": "code",
   "execution_count": 11,
   "metadata": {},
   "outputs": [
    {
     "name": "stdout",
     "output_type": "stream",
     "text": [
      "The number of categories of business is 835\n"
     ]
    }
   ],
   "source": [
    "cat_all_res = ','.join(restaurants['categories']).replace(\" \", \"\")\n",
    "cat_all_res = pd.DataFrame(cat_all_res.split(','), columns=['category'])\n",
    "cat_all_res_count = cat_all_res.category.value_counts().sort_values(ascending = False)\n",
    "print(f\"The number of categories of business is {len(cat_all_res_count)}\")"
   ]
  },
  {
   "cell_type": "markdown",
   "metadata": {},
   "source": [
    "### 1.3 Choose only US and Canada"
   ]
  },
  {
   "cell_type": "code",
   "execution_count": 12,
   "metadata": {},
   "outputs": [],
   "source": [
    "USA_mask = ['AL','AK','AZ','AR','CA','CO','CT','DE','FL','GA','HI','ID','IL','IN','IA','KS','KY',\n",
    "            'LA','ME','MD','MA','MI','MN','MS','MO','MT','NE','NV','NH','NJ','NM','NY','NC','ND',\n",
    "            'OH','OK','OR','PA','RI','SC','SD','TN','TX','UT','VT','VA','WA','WV','WI','WY']\n",
    "CAN_mask = ['ON','QC','AB','BC','MB','NB','NL','NT','NS','NU','PE','SK','YT']\n",
    "location_mask = USA_mask + CAN_mask"
   ]
  },
  {
   "cell_type": "code",
   "execution_count": 13,
   "metadata": {},
   "outputs": [],
   "source": [
    "index_location_mask = list()\n",
    "state = restaurants['state']\n",
    "for index, state in enumerate(state):\n",
    "    if state in location_mask:\n",
    "        index_location_mask.append(index)"
   ]
  },
  {
   "cell_type": "code",
   "execution_count": 14,
   "metadata": {},
   "outputs": [],
   "source": [
    "restaurants = restaurants.iloc[index_location_mask]"
   ]
  },
  {
   "cell_type": "code",
   "execution_count": 15,
   "metadata": {},
   "outputs": [],
   "source": [
    "def label_country (row):\n",
    "    if row['state'] in  USA_mask:\n",
    "          return 'USA'\n",
    "    if row['state'] in  CAN_mask:\n",
    "          return 'Canada'\n",
    "\n",
    "restaurants['country'] = restaurants.apply(lambda row: label_country(row),axis=1)"
   ]
  },
  {
   "cell_type": "markdown",
   "metadata": {},
   "source": [
    "# 2. Exploratory Data Analysis"
   ]
  },
  {
   "cell_type": "markdown",
   "metadata": {},
   "source": [
    "### 2.0 Purpose"
   ]
  },
  {
   "cell_type": "markdown",
   "metadata": {},
   "source": [
    "We repeat apart of the EDA to highlights the features that will go into the Machine Learning Model"
   ]
  },
  {
   "cell_type": "markdown",
   "metadata": {},
   "source": [
    "### 2.1 Rating Distributions"
   ]
  },
  {
   "cell_type": "code",
   "execution_count": 16,
   "metadata": {},
   "outputs": [
    {
     "data": {
      "text/plain": [
       "1.0      537\n",
       "1.5     1534\n",
       "2.0     4058\n",
       "2.5     7386\n",
       "3.0    12931\n",
       "3.5    17339\n",
       "4.0    18063\n",
       "4.5    10010\n",
       "5.0     3168\n",
       "Name: stars, dtype: int64"
      ]
     },
     "execution_count": 16,
     "metadata": {},
     "output_type": "execute_result"
    }
   ],
   "source": [
    "# Get the distribution of the ratings\n",
    "rating_dist = restaurants['stars'].value_counts().sort_index()\n",
    "rating_dist"
   ]
  },
  {
   "cell_type": "code",
   "execution_count": 17,
   "metadata": {},
   "outputs": [
    {
     "data": {
      "image/png": "[encoded data removed]",
      "text/plain": [
       "<Figure size 576x576 with 1 Axes>"
      ]
     },
     "metadata": {
      "needs_background": "light"
     },
     "output_type": "display_data"
    }
   ],
   "source": [
    "plt.figure(figsize=(8,8))\n",
    "ax = sns.barplot(rating_dist.index, rating_dist.values, alpha=0.8)\n",
    "plt.title(\"Rating Distribution\")\n",
    "plt.ylabel('Number of business', fontsize=12)\n",
    "plt.xlabel('Rating', fontsize=12)\n",
    "\n",
    "rects = ax.patches\n",
    "labels = rating_dist.values\n",
    "for rect, label in zip(rects, labels):\n",
    "    height = rect.get_height()\n",
    "    ax.text(rect.get_x() + rect.get_width()/2, height + 5, label, ha='center', va='bottom')\n",
    "plt.show()"
   ]
  },
  {
   "cell_type": "code",
   "execution_count": 19,
   "metadata": {},
   "outputs": [
    {
     "data": {
      "image/png": "[encoded data removed]",
      "text/plain": [
       "<Figure size 576x576 with 1 Axes>"
      ]
     },
     "metadata": {},
     "output_type": "display_data"
    }
   ],
   "source": [
    "plt.figure(figsize=(8,8))\n",
    "labels = (np.array(rating_dist.index))\n",
    "sizes = (np.array((rating_dist / rating_dist.sum())*100))\n",
    "plt.pie(sizes, labels=labels, \n",
    "        autopct= '%1.1f%%', startangle = 200)\n",
    "plt.title(\"Rating Share\", fontsize=15)\n",
    "plt.show()"
   ]
  },
  {
   "cell_type": "markdown",
   "metadata": {},
   "source": [
    "### 2.2 Top Categories, State and City in terms of number of business"
   ]
  },
  {
   "cell_type": "code",
   "execution_count": 20,
   "metadata": {
    "scrolled": false
   },
   "outputs": [
    {
     "data": {
      "image/png": "[encoded data removed]",
      "text/plain": [
       "<Figure size 1152x288 with 1 Axes>"
      ]
     },
     "metadata": {
      "needs_background": "light"
     },
     "output_type": "display_data"
    }
   ],
   "source": [
    "x = cat_all_res_count.iloc[0:20]\n",
    "\n",
    "plt.figure(figsize=(16,4))\n",
    "ax = sns.barplot(x.index, x.values, alpha=0.8)\n",
    "plt.title(\"What are the top categories?\",fontsize=15)\n",
    "locs, labels = plt.xticks()\n",
    "plt.setp(labels, rotation=80)\n",
    "plt.ylabel('# restaurants', fontsize=12)\n",
    "plt.xlabel('Category', fontsize=12)\n",
    "\n",
    "rects = ax.patches\n",
    "labels = x.values\n",
    "for rect, label in zip(rects, labels):\n",
    "    height = rect.get_height()\n",
    "    ax.text(rect.get_x() + rect.get_width()/2, height + 5, label, ha='center', va='bottom')\n",
    "\n",
    "plt.show()"
   ]
  },
  {
   "cell_type": "code",
   "execution_count": 21,
   "metadata": {},
   "outputs": [
    {
     "data": {
      "image/png": "[encoded data removed]",
      "text/plain": [
       "<Figure size 1152x288 with 1 Axes>"
      ]
     },
     "metadata": {
      "needs_background": "light"
     },
     "output_type": "display_data"
    }
   ],
   "source": [
    "# Location distribution\n",
    "\n",
    "city_count = restaurants['city'].value_counts().sort_values(ascending=False)\n",
    "plt.figure(figsize=(16,4))\n",
    "ax = sns.barplot(city_count[0:20].index, city_count[0:20].values, alpha=0.8)\n",
    "plt.title(\"Which city has the most reviews?\")\n",
    "locs, labels = plt.xticks()\n",
    "plt.setp(labels, rotation=45)\n",
    "plt.ylabel('# restaurants', fontsize=12)\n",
    "plt.xlabel('City', fontsize=12)\n",
    "\n",
    "rects = ax.patches\n",
    "labels = city_count.values\n",
    "for rect, label in zip(rects, labels):\n",
    "    height = rect.get_height()\n",
    "    ax.text(rect.get_x() + rect.get_width()/2, height + 5, label, ha='center', va='bottom')\n",
    "\n",
    "plt.show()"
   ]
  },
  {
   "cell_type": "code",
   "execution_count": 22,
   "metadata": {},
   "outputs": [
    {
     "data": {
      "image/png": "[encoded data removed]",
      "text/plain": [
       "<Figure size 1152x288 with 1 Axes>"
      ]
     },
     "metadata": {
      "needs_background": "light"
     },
     "output_type": "display_data"
    }
   ],
   "source": [
    "# Country distribution\n",
    "\n",
    "country_count = restaurants['country'].value_counts().sort_values(ascending=False)\n",
    "plt.figure(figsize=(16,4))\n",
    "ax = sns.barplot(country_count.index, country_count.values, alpha=0.8)\n",
    "plt.title(\"Which country has the most reviews?\")\n",
    "locs, labels = plt.xticks()\n",
    "plt.setp(labels, rotation=45)\n",
    "plt.ylabel('# restaurants', fontsize=12)\n",
    "plt.xlabel('Country', fontsize=12)\n",
    "\n",
    "rects = ax.patches\n",
    "labels = country_count.values\n",
    "for rect, label in zip(rects, labels):\n",
    "    height = rect.get_height()\n",
    "    ax.text(rect.get_x() + rect.get_width()/2, height + 5, label, ha='center', va='bottom')\n",
    "\n",
    "plt.show()"
   ]
  },
  {
   "cell_type": "code",
   "execution_count": 23,
   "metadata": {},
   "outputs": [
    {
     "data": {
      "image/png": "[encoded data removed]",
      "text/plain": [
       "<Figure size 1080x720 with 1 Axes>"
      ]
     },
     "metadata": {
      "needs_background": "light"
     },
     "output_type": "display_data"
    }
   ],
   "source": [
    "country_state = restaurants.groupby(['country','state'])\n",
    "country_state = country_state.size().unstack().plot(kind = 'bar',figsize = (15,10))"
   ]
  },
  {
   "cell_type": "markdown",
   "metadata": {},
   "source": [
    "### 2.3 A glimpse into the businesses with top number of reviews"
   ]
  },
  {
   "cell_type": "code",
   "execution_count": 24,
   "metadata": {},
   "outputs": [
    {
     "data": {
      "text/html": [
       "<div>\n",
       "<style scoped>\n",
       "    .dataframe tbody tr th:only-of-type {\n",
       "        vertical-align: middle;\n",
       "    }\n",
       "\n",
       "    .dataframe tbody tr th {\n",
       "        vertical-align: top;\n",
       "    }\n",
       "\n",
       "    .dataframe thead th {\n",
       "        text-align: right;\n",
       "    }\n",
       "</style>\n",
       "<table border=\"1\" class=\"dataframe\">\n",
       "  <thead>\n",
       "    <tr style=\"text-align: right;\">\n",
       "      <th></th>\n",
       "      <th>name</th>\n",
       "      <th>business_id</th>\n",
       "      <th>review_count</th>\n",
       "      <th>city</th>\n",
       "      <th>stars</th>\n",
       "    </tr>\n",
       "  </thead>\n",
       "  <tbody>\n",
       "    <tr>\n",
       "      <th>137635</th>\n",
       "      <td>Mon Ami Gabi</td>\n",
       "      <td>4JNXUYY8wbaaDmk3BPzlWw</td>\n",
       "      <td>7968</td>\n",
       "      <td>Las Vegas</td>\n",
       "      <td>4.0</td>\n",
       "    </tr>\n",
       "    <tr>\n",
       "      <th>185167</th>\n",
       "      <td>Bacchanal Buffet</td>\n",
       "      <td>RESDUcs7fIiihp38-d6_6g</td>\n",
       "      <td>7866</td>\n",
       "      <td>Las Vegas</td>\n",
       "      <td>4.0</td>\n",
       "    </tr>\n",
       "    <tr>\n",
       "      <th>62723</th>\n",
       "      <td>Wicked Spoon</td>\n",
       "      <td>K7lWdNUhCbcnEvI0NhGewg</td>\n",
       "      <td>6446</td>\n",
       "      <td>Las Vegas</td>\n",
       "      <td>3.5</td>\n",
       "    </tr>\n",
       "    <tr>\n",
       "      <th>188309</th>\n",
       "      <td>Gordon Ramsay BurGR</td>\n",
       "      <td>cYwJA2A6I12KNkm2rtXd5g</td>\n",
       "      <td>5472</td>\n",
       "      <td>Las Vegas</td>\n",
       "      <td>4.0</td>\n",
       "    </tr>\n",
       "    <tr>\n",
       "      <th>170129</th>\n",
       "      <td>Hash House A Go Go</td>\n",
       "      <td>f4x1YBxkLrZg652xt2KR5g</td>\n",
       "      <td>5382</td>\n",
       "      <td>Las Vegas</td>\n",
       "      <td>4.0</td>\n",
       "    </tr>\n",
       "    <tr>\n",
       "      <th>177573</th>\n",
       "      <td>Earl of Sandwich</td>\n",
       "      <td>DkYS3arLOhA8si5uUEmHOw</td>\n",
       "      <td>4981</td>\n",
       "      <td>Las Vegas</td>\n",
       "      <td>4.5</td>\n",
       "    </tr>\n",
       "    <tr>\n",
       "      <th>181524</th>\n",
       "      <td>The Buffet</td>\n",
       "      <td>2weQS-RnoOBhb1KsHKyoSQ</td>\n",
       "      <td>4240</td>\n",
       "      <td>Las Vegas</td>\n",
       "      <td>3.5</td>\n",
       "    </tr>\n",
       "    <tr>\n",
       "      <th>135008</th>\n",
       "      <td>The Buffet at Bellagio</td>\n",
       "      <td>ujHiaprwCQ5ewziu0Vi9rw</td>\n",
       "      <td>4091</td>\n",
       "      <td>Las Vegas</td>\n",
       "      <td>3.5</td>\n",
       "    </tr>\n",
       "    <tr>\n",
       "      <th>180795</th>\n",
       "      <td>Secret Pizza</td>\n",
       "      <td>iCQpiavjjPzJ5_3gPD5Ebg</td>\n",
       "      <td>4078</td>\n",
       "      <td>Las Vegas</td>\n",
       "      <td>4.0</td>\n",
       "    </tr>\n",
       "    <tr>\n",
       "      <th>28596</th>\n",
       "      <td>Lotus of Siam</td>\n",
       "      <td>KskYqH1Bi7Z_61pH6Om8pg</td>\n",
       "      <td>3975</td>\n",
       "      <td>Las Vegas</td>\n",
       "      <td>4.0</td>\n",
       "    </tr>\n",
       "    <tr>\n",
       "      <th>183572</th>\n",
       "      <td>Serendipity 3</td>\n",
       "      <td>eoHdUeQDNgQ6WYEnP2aiRw</td>\n",
       "      <td>3905</td>\n",
       "      <td>Las Vegas</td>\n",
       "      <td>3.0</td>\n",
       "    </tr>\n",
       "    <tr>\n",
       "      <th>175089</th>\n",
       "      <td>Bouchon at the Venezia Tower</td>\n",
       "      <td>rcaPajgKOJC2vo_l3xa42A</td>\n",
       "      <td>3743</td>\n",
       "      <td>Las Vegas</td>\n",
       "      <td>4.0</td>\n",
       "    </tr>\n",
       "    <tr>\n",
       "      <th>96851</th>\n",
       "      <td>Gangnam Asian BBQ Dining</td>\n",
       "      <td>hihud--QRriCYZw1zZvW4g</td>\n",
       "      <td>3731</td>\n",
       "      <td>Las Vegas</td>\n",
       "      <td>4.5</td>\n",
       "    </tr>\n",
       "    <tr>\n",
       "      <th>141265</th>\n",
       "      <td>MGM Grand Hotel</td>\n",
       "      <td>El4FC8jcawUVgw_0EIcbaQ</td>\n",
       "      <td>3730</td>\n",
       "      <td>Las Vegas</td>\n",
       "      <td>3.0</td>\n",
       "    </tr>\n",
       "    <tr>\n",
       "      <th>121801</th>\n",
       "      <td>Bachi Burger</td>\n",
       "      <td>7sPNbCx7vGAaH7SbNPZ6oA</td>\n",
       "      <td>3250</td>\n",
       "      <td>Las Vegas</td>\n",
       "      <td>4.0</td>\n",
       "    </tr>\n",
       "    <tr>\n",
       "      <th>41323</th>\n",
       "      <td>Gordon Ramsay Steak</td>\n",
       "      <td>OETh78qcgDltvHULowwhJg</td>\n",
       "      <td>3244</td>\n",
       "      <td>Las Vegas</td>\n",
       "      <td>4.0</td>\n",
       "    </tr>\n",
       "    <tr>\n",
       "      <th>89868</th>\n",
       "      <td>Hash House A Go Go</td>\n",
       "      <td>g8OnV26ywJlZpezdBnOWUQ</td>\n",
       "      <td>3193</td>\n",
       "      <td>Las Vegas</td>\n",
       "      <td>4.0</td>\n",
       "    </tr>\n",
       "    <tr>\n",
       "      <th>116247</th>\n",
       "      <td>Mesa Grill</td>\n",
       "      <td>XZbuPXdyA0ZtTu3AzqtQhg</td>\n",
       "      <td>3160</td>\n",
       "      <td>Las Vegas</td>\n",
       "      <td>4.0</td>\n",
       "    </tr>\n",
       "    <tr>\n",
       "      <th>144358</th>\n",
       "      <td>The Peppermill Restaurant &amp; Fireside Lounge</td>\n",
       "      <td>XXW_OFaYQkkGOGniujZFHg</td>\n",
       "      <td>3048</td>\n",
       "      <td>Las Vegas</td>\n",
       "      <td>4.0</td>\n",
       "    </tr>\n",
       "    <tr>\n",
       "      <th>112667</th>\n",
       "      <td>Holsteins Shakes &amp; Buns</td>\n",
       "      <td>P7pxQFqr7yBKMMI2J51udw</td>\n",
       "      <td>3025</td>\n",
       "      <td>Las Vegas</td>\n",
       "      <td>4.0</td>\n",
       "    </tr>\n",
       "  </tbody>\n",
       "</table>\n",
       "</div>"
      ],
      "text/plain": [
       "                                               name             business_id  \\\n",
       "137635                                 Mon Ami Gabi  4JNXUYY8wbaaDmk3BPzlWw   \n",
       "185167                             Bacchanal Buffet  RESDUcs7fIiihp38-d6_6g   \n",
       "62723                                  Wicked Spoon  K7lWdNUhCbcnEvI0NhGewg   \n",
       "188309                          Gordon Ramsay BurGR  cYwJA2A6I12KNkm2rtXd5g   \n",
       "170129                           Hash House A Go Go  f4x1YBxkLrZg652xt2KR5g   \n",
       "177573                             Earl of Sandwich  DkYS3arLOhA8si5uUEmHOw   \n",
       "181524                                   The Buffet  2weQS-RnoOBhb1KsHKyoSQ   \n",
       "135008                       The Buffet at Bellagio  ujHiaprwCQ5ewziu0Vi9rw   \n",
       "180795                                 Secret Pizza  iCQpiavjjPzJ5_3gPD5Ebg   \n",
       "28596                                 Lotus of Siam  KskYqH1Bi7Z_61pH6Om8pg   \n",
       "183572                                Serendipity 3  eoHdUeQDNgQ6WYEnP2aiRw   \n",
       "175089                 Bouchon at the Venezia Tower  rcaPajgKOJC2vo_l3xa42A   \n",
       "96851                      Gangnam Asian BBQ Dining  hihud--QRriCYZw1zZvW4g   \n",
       "141265                              MGM Grand Hotel  El4FC8jcawUVgw_0EIcbaQ   \n",
       "121801                                 Bachi Burger  7sPNbCx7vGAaH7SbNPZ6oA   \n",
       "41323                           Gordon Ramsay Steak  OETh78qcgDltvHULowwhJg   \n",
       "89868                            Hash House A Go Go  g8OnV26ywJlZpezdBnOWUQ   \n",
       "116247                                   Mesa Grill  XZbuPXdyA0ZtTu3AzqtQhg   \n",
       "144358  The Peppermill Restaurant & Fireside Lounge  XXW_OFaYQkkGOGniujZFHg   \n",
       "112667                      Holsteins Shakes & Buns  P7pxQFqr7yBKMMI2J51udw   \n",
       "\n",
       "        review_count       city  stars  \n",
       "137635          7968  Las Vegas    4.0  \n",
       "185167          7866  Las Vegas    4.0  \n",
       "62723           6446  Las Vegas    3.5  \n",
       "188309          5472  Las Vegas    4.0  \n",
       "170129          5382  Las Vegas    4.0  \n",
       "177573          4981  Las Vegas    4.5  \n",
       "181524          4240  Las Vegas    3.5  \n",
       "135008          4091  Las Vegas    3.5  \n",
       "180795          4078  Las Vegas    4.0  \n",
       "28596           3975  Las Vegas    4.0  \n",
       "183572          3905  Las Vegas    3.0  \n",
       "175089          3743  Las Vegas    4.0  \n",
       "96851           3731  Las Vegas    4.5  \n",
       "141265          3730  Las Vegas    3.0  \n",
       "121801          3250  Las Vegas    4.0  \n",
       "41323           3244  Las Vegas    4.0  \n",
       "89868           3193  Las Vegas    4.0  \n",
       "116247          3160  Las Vegas    4.0  \n",
       "144358          3048  Las Vegas    4.0  \n",
       "112667          3025  Las Vegas    4.0  "
      ]
     },
     "execution_count": 24,
     "metadata": {},
     "output_type": "execute_result"
    }
   ],
   "source": [
    "# Top restaurants by number of reviews\n",
    "restaurants[['name', 'business_id','review_count', 'city', 'stars']].sort_values(ascending=False, by=\"review_count\")[0:20]"
   ]
  },
  {
   "cell_type": "markdown",
   "metadata": {},
   "source": [
    "# 3. Feature Selection"
   ]
  },
  {
   "cell_type": "markdown",
   "metadata": {},
   "source": [
    "### 3.0 We initially hypothesize that the following features are important"
   ]
  },
  {
   "cell_type": "markdown",
   "metadata": {},
   "source": [
    "Because there are so many attributes we get from the datasets, we narrow down the features based on our domain knowledge."
   ]
  },
  {
   "cell_type": "markdown",
   "metadata": {},
   "source": [
    "**Review and User-related features**\n",
    "\n",
    "* Review Count\n",
    "* Maximum number of stars\n",
    "* Minimum number of stars\n",
    "* Number of reviews voted as 'cool'\n",
    "* Number of reviews voted as 'funny'\n",
    "* Number of reviews voted as 'useful'\n",
    "* Time since first/last reviews\n",
    "* Time between first and last reviews\n"
   ]
  },
  {
   "cell_type": "markdown",
   "metadata": {},
   "source": [
    "**Business Attributes features:**\n",
    "    \n",
    "* Food Categories (types of food)\n",
    "* Attire (casual/classy/formal)\n",
    "* Business Parking\n",
    "* Restaurant Reservations\n",
    "* Good for Kids\n",
    "* Smoking\n",
    "* Open 24 Hours\n",
    "* Good for Meal (breakfast & brunch or dinner)\n",
    "* Noise Level\n",
    "* Music (background music/No)\n",
    "* Ages Allowed\n",
    "* Good for Groups\n",
    "* WiFi\n",
    "* Business Accepts Credit Cards\n",
    "* Ambience\n",
    "* Restaurant Price Range\n",
    "* Happy Hour\n",
    "* Outdoors Seating"
   ]
  },
  {
   "cell_type": "code",
   "execution_count": 25,
   "metadata": {},
   "outputs": [
    {
     "data": {
      "text/plain": [
       "Index(['hours.Friday', 'attributes.RestaurantsAttire',\n",
       "       'attributes.BikeParking', 'state', 'categories',\n",
       "       'attributes.BusinessParking', 'attributes.Alcohol',\n",
       "       'attributes.GoodForDancing', 'attributes.BYOB',\n",
       "       'attributes.DietaryRestrictions', 'attributes.RestaurantsReservations',\n",
       "       'attributes.GoodForKids', 'attributes.Smoking', 'hours.Sunday',\n",
       "       'attributes.BYOBCorkage', 'latitude',\n",
       "       'attributes.BusinessAcceptsBitcoin', 'attributes.GoodForMeal',\n",
       "       'attributes.BestNights', 'attributes.NoiseLevel', 'attributes.Corkage',\n",
       "       'attributes.Music', 'hours.Wednesday', 'attributes.Open24Hours',\n",
       "       'longitude', 'neighborhood', 'attributes.HairSpecializesIn',\n",
       "       'hours.Thursday', 'attributes.AgesAllowed',\n",
       "       'attributes.ByAppointmentOnly', 'business_id',\n",
       "       'attributes.RestaurantsDelivery', 'attributes.RestaurantsGoodForGroups',\n",
       "       'postal_code', 'attributes.RestaurantsTableService', 'attributes.WiFi',\n",
       "       'hours', 'attributes.DogsAllowed', 'review_count', 'name',\n",
       "       'attributes.BusinessAcceptsCreditCards', 'hours.Saturday',\n",
       "       'attributes.Ambience', 'attributes.RestaurantsCounterService',\n",
       "       'attributes.DriveThru', 'attributes.Caters', 'address',\n",
       "       'attributes.RestaurantsPriceRange2', 'attributes.RestaurantsTakeOut',\n",
       "       'hours.Tuesday', 'attributes.WheelchairAccessible', 'attributes.HasTV',\n",
       "       'attributes.HappyHour', 'hours.Monday', 'attributes.CoatCheck',\n",
       "       'attributes.OutdoorSeating', 'is_open', 'attributes.AcceptsInsurance',\n",
       "       'attributes', 'stars', 'city', 'country'],\n",
       "      dtype='object')"
      ]
     },
     "execution_count": 25,
     "metadata": {},
     "output_type": "execute_result"
    }
   ],
   "source": [
    "col = restaurants.columns\n",
    "col"
   ]
  },
  {
   "cell_type": "markdown",
   "metadata": {},
   "source": [
    "### 3.1 Merge Restaurants with Users and Reviews"
   ]
  },
  {
   "cell_type": "code",
   "execution_count": 3,
   "metadata": {},
   "outputs": [],
   "source": [
    "#importing the yelp reviews dataset\n",
    "datastr=open('yelp_academic_dataset_review.json','r')\n",
    "datajson=datastr.readlines()\n",
    "check=[json.loads(x) for x in datajson]\n",
    "ind=range(0,len(check))\n",
    "reviews=pd.DataFrame(check,index=ind,columns=check[0].keys())"
   ]
  },
  {
   "cell_type": "code",
   "execution_count": 26,
   "metadata": {},
   "outputs": [
    {
     "data": {
      "text/plain": [
       "Index(['review_id', 'user_id', 'business_id', 'stars', 'date', 'text',\n",
       "       'useful', 'funny', 'cool'],\n",
       "      dtype='object')"
      ]
     },
     "execution_count": 26,
     "metadata": {},
     "output_type": "execute_result"
    }
   ],
   "source": [
    "reviews.columns"
   ]
  },
  {
   "cell_type": "code",
   "execution_count": 27,
   "metadata": {},
   "outputs": [],
   "source": [
    "restaurant_reviews = reviews[reviews[\"business_id\"].isin(restaurants[\"business_id\"])]"
   ]
  },
  {
   "cell_type": "code",
   "execution_count": 28,
   "metadata": {},
   "outputs": [],
   "source": [
    "# User counts, max and min ratings\n",
    "user_rating_count = restaurant_reviews[['user_id','business_id']].groupby(['business_id']).count()\n",
    "user_rating_count = user_rating_count.rename(columns = {'business_id':'user_rating_count'})\n",
    "max_rating_restaurant = restaurant_reviews[['business_id','stars']].groupby(['business_id']).max()\n",
    "max_rating_restaurant = max_rating_restaurant.rename(columns = {'stars':'max_rating_rest'})\n",
    "min_rating_restaurant = restaurant_reviews[['business_id','stars']].groupby(['business_id']).min()\n",
    "min_rating_restaurant = min_rating_restaurant.rename(columns = {'stars':'min_rating_rest'})"
   ]
  },
  {
   "cell_type": "code",
   "execution_count": 29,
   "metadata": {},
   "outputs": [],
   "source": [
    "# Useful, funny, cool\n",
    "useful_mean = restaurant_reviews[['business_id','useful']].groupby(['business_id']).mean()\n",
    "useful_mean = useful_mean.rename(columns = {'business_id':'useful_mean'})\n",
    "funny_mean = restaurant_reviews[['business_id','funny']].groupby(['business_id']).mean()\n",
    "funny_mean = funny_mean.rename(columns = {'business_id':'funny_mean'})\n",
    "cool_mean = restaurant_reviews[['business_id','cool']].groupby(['business_id']).mean()\n",
    "cool_mean = cool_mean.rename(columns = {'business_id':'cool_mean'})"
   ]
  },
  {
   "cell_type": "code",
   "execution_count": 30,
   "metadata": {},
   "outputs": [],
   "source": [
    "restaurants = restaurants.merge(max_rating_restaurant, how = 'left', on = 'business_id')\n",
    "restaurants = restaurants.merge(min_rating_restaurant, how = 'left', on = 'business_id')\n",
    "restaurants = restaurants.merge(useful_mean, how = 'left', on = 'business_id')\n",
    "restaurants = restaurants.merge(funny_mean, how = 'left', on = 'business_id')\n",
    "restaurants = restaurants.merge(cool_mean, how = 'left', on = 'business_id')"
   ]
  },
  {
   "cell_type": "code",
   "execution_count": 31,
   "metadata": {},
   "outputs": [
    {
     "data": {
      "text/html": [
       "<div>\n",
       "<style scoped>\n",
       "    .dataframe tbody tr th:only-of-type {\n",
       "        vertical-align: middle;\n",
       "    }\n",
       "\n",
       "    .dataframe tbody tr th {\n",
       "        vertical-align: top;\n",
       "    }\n",
       "\n",
       "    .dataframe thead th {\n",
       "        text-align: right;\n",
       "    }\n",
       "</style>\n",
       "<table border=\"1\" class=\"dataframe\">\n",
       "  <thead>\n",
       "    <tr style=\"text-align: right;\">\n",
       "      <th></th>\n",
       "      <th>hours.Friday</th>\n",
       "      <th>attributes.RestaurantsAttire</th>\n",
       "      <th>attributes.BikeParking</th>\n",
       "      <th>state</th>\n",
       "      <th>categories</th>\n",
       "      <th>attributes.BusinessParking</th>\n",
       "      <th>attributes.Alcohol</th>\n",
       "      <th>attributes.GoodForDancing</th>\n",
       "      <th>attributes.BYOB</th>\n",
       "      <th>attributes.DietaryRestrictions</th>\n",
       "      <th>...</th>\n",
       "      <th>attributes.AcceptsInsurance</th>\n",
       "      <th>attributes</th>\n",
       "      <th>stars</th>\n",
       "      <th>city</th>\n",
       "      <th>country</th>\n",
       "      <th>max_rating_rest</th>\n",
       "      <th>min_rating_rest</th>\n",
       "      <th>useful</th>\n",
       "      <th>funny</th>\n",
       "      <th>cool</th>\n",
       "    </tr>\n",
       "  </thead>\n",
       "  <tbody>\n",
       "    <tr>\n",
       "      <th>0</th>\n",
       "      <td>11:0-21:0</td>\n",
       "      <td>casual</td>\n",
       "      <td>False</td>\n",
       "      <td>AB</td>\n",
       "      <td>Tours, Breweries, Pizza, Restaurants, Food, Ho...</td>\n",
       "      <td>{'garage': False, 'street': True, 'validated':...</td>\n",
       "      <td>NaN</td>\n",
       "      <td>NaN</td>\n",
       "      <td>NaN</td>\n",
       "      <td>NaN</td>\n",
       "      <td>...</td>\n",
       "      <td>NaN</td>\n",
       "      <td>{'BikeParking': 'False', 'BusinessAcceptsCredi...</td>\n",
       "      <td>4.0</td>\n",
       "      <td>Calgary</td>\n",
       "      <td>Canada</td>\n",
       "      <td>5</td>\n",
       "      <td>1</td>\n",
       "      <td>0.541667</td>\n",
       "      <td>0.250000</td>\n",
       "      <td>0.208333</td>\n",
       "    </tr>\n",
       "    <tr>\n",
       "      <th>1</th>\n",
       "      <td>17:0-23:0</td>\n",
       "      <td>casual</td>\n",
       "      <td>False</td>\n",
       "      <td>NV</td>\n",
       "      <td>Chicken Wings, Burgers, Caterers, Street Vendo...</td>\n",
       "      <td>{'garage': False, 'street': True, 'validated':...</td>\n",
       "      <td>none</td>\n",
       "      <td>NaN</td>\n",
       "      <td>NaN</td>\n",
       "      <td>NaN</td>\n",
       "      <td>...</td>\n",
       "      <td>NaN</td>\n",
       "      <td>{'Alcohol': 'none', 'BikeParking': 'False', 'B...</td>\n",
       "      <td>4.5</td>\n",
       "      <td>Henderson</td>\n",
       "      <td>USA</td>\n",
       "      <td>5</td>\n",
       "      <td>4</td>\n",
       "      <td>0.333333</td>\n",
       "      <td>0.000000</td>\n",
       "      <td>0.333333</td>\n",
       "    </tr>\n",
       "    <tr>\n",
       "      <th>2</th>\n",
       "      <td>10:0-22:0</td>\n",
       "      <td>casual</td>\n",
       "      <td>True</td>\n",
       "      <td>QC</td>\n",
       "      <td>Breakfast &amp; Brunch, Restaurants, French, Sandw...</td>\n",
       "      <td>{'garage': False, 'street': False, 'validated'...</td>\n",
       "      <td>beer_and_wine</td>\n",
       "      <td>NaN</td>\n",
       "      <td>NaN</td>\n",
       "      <td>NaN</td>\n",
       "      <td>...</td>\n",
       "      <td>NaN</td>\n",
       "      <td>{'Alcohol': 'beer_and_wine', 'Ambience': \"{'ro...</td>\n",
       "      <td>4.0</td>\n",
       "      <td>Montréal</td>\n",
       "      <td>Canada</td>\n",
       "      <td>5</td>\n",
       "      <td>1</td>\n",
       "      <td>0.200000</td>\n",
       "      <td>0.000000</td>\n",
       "      <td>0.400000</td>\n",
       "    </tr>\n",
       "    <tr>\n",
       "      <th>3</th>\n",
       "      <td>5:30-21:0</td>\n",
       "      <td>NaN</td>\n",
       "      <td>True</td>\n",
       "      <td>AZ</td>\n",
       "      <td>Coffee &amp; Tea, Food</td>\n",
       "      <td>{'garage': False, 'street': False, 'validated'...</td>\n",
       "      <td>NaN</td>\n",
       "      <td>NaN</td>\n",
       "      <td>NaN</td>\n",
       "      <td>NaN</td>\n",
       "      <td>...</td>\n",
       "      <td>NaN</td>\n",
       "      <td>{'BikeParking': 'True', 'BusinessAcceptsCredit...</td>\n",
       "      <td>4.0</td>\n",
       "      <td>Phoenix</td>\n",
       "      <td>USA</td>\n",
       "      <td>5</td>\n",
       "      <td>1</td>\n",
       "      <td>0.935484</td>\n",
       "      <td>0.548387</td>\n",
       "      <td>0.629032</td>\n",
       "    </tr>\n",
       "    <tr>\n",
       "      <th>4</th>\n",
       "      <td>NaN</td>\n",
       "      <td>NaN</td>\n",
       "      <td>NaN</td>\n",
       "      <td>ON</td>\n",
       "      <td>Food, Bakeries</td>\n",
       "      <td>{'garage': False, 'street': False, 'validated'...</td>\n",
       "      <td>NaN</td>\n",
       "      <td>NaN</td>\n",
       "      <td>NaN</td>\n",
       "      <td>NaN</td>\n",
       "      <td>...</td>\n",
       "      <td>NaN</td>\n",
       "      <td>{'BusinessParking': \"{'garage': False, 'street...</td>\n",
       "      <td>4.0</td>\n",
       "      <td>Toronto</td>\n",
       "      <td>Canada</td>\n",
       "      <td>5</td>\n",
       "      <td>3</td>\n",
       "      <td>1.142857</td>\n",
       "      <td>1.142857</td>\n",
       "      <td>1.285714</td>\n",
       "    </tr>\n",
       "  </tbody>\n",
       "</table>\n",
       "<p>5 rows × 67 columns</p>\n",
       "</div>"
      ],
      "text/plain": [
       "  hours.Friday attributes.RestaurantsAttire attributes.BikeParking state  \\\n",
       "0    11:0-21:0                       casual                  False    AB   \n",
       "1    17:0-23:0                       casual                  False    NV   \n",
       "2    10:0-22:0                       casual                   True    QC   \n",
       "3    5:30-21:0                          NaN                   True    AZ   \n",
       "4          NaN                          NaN                    NaN    ON   \n",
       "\n",
       "                                          categories  \\\n",
       "0  Tours, Breweries, Pizza, Restaurants, Food, Ho...   \n",
       "1  Chicken Wings, Burgers, Caterers, Street Vendo...   \n",
       "2  Breakfast & Brunch, Restaurants, French, Sandw...   \n",
       "3                                 Coffee & Tea, Food   \n",
       "4                                     Food, Bakeries   \n",
       "\n",
       "                          attributes.BusinessParking attributes.Alcohol  \\\n",
       "0  {'garage': False, 'street': True, 'validated':...                NaN   \n",
       "1  {'garage': False, 'street': True, 'validated':...               none   \n",
       "2  {'garage': False, 'street': False, 'validated'...      beer_and_wine   \n",
       "3  {'garage': False, 'street': False, 'validated'...                NaN   \n",
       "4  {'garage': False, 'street': False, 'validated'...                NaN   \n",
       "\n",
       "  attributes.GoodForDancing attributes.BYOB attributes.DietaryRestrictions  \\\n",
       "0                       NaN             NaN                            NaN   \n",
       "1                       NaN             NaN                            NaN   \n",
       "2                       NaN             NaN                            NaN   \n",
       "3                       NaN             NaN                            NaN   \n",
       "4                       NaN             NaN                            NaN   \n",
       "\n",
       "     ...    attributes.AcceptsInsurance  \\\n",
       "0    ...                            NaN   \n",
       "1    ...                            NaN   \n",
       "2    ...                            NaN   \n",
       "3    ...                            NaN   \n",
       "4    ...                            NaN   \n",
       "\n",
       "                                          attributes stars       city country  \\\n",
       "0  {'BikeParking': 'False', 'BusinessAcceptsCredi...   4.0    Calgary  Canada   \n",
       "1  {'Alcohol': 'none', 'BikeParking': 'False', 'B...   4.5  Henderson     USA   \n",
       "2  {'Alcohol': 'beer_and_wine', 'Ambience': \"{'ro...   4.0   Montréal  Canada   \n",
       "3  {'BikeParking': 'True', 'BusinessAcceptsCredit...   4.0    Phoenix     USA   \n",
       "4  {'BusinessParking': \"{'garage': False, 'street...   4.0    Toronto  Canada   \n",
       "\n",
       "   max_rating_rest min_rating_rest    useful     funny      cool  \n",
       "0                5               1  0.541667  0.250000  0.208333  \n",
       "1                5               4  0.333333  0.000000  0.333333  \n",
       "2                5               1  0.200000  0.000000  0.400000  \n",
       "3                5               1  0.935484  0.548387  0.629032  \n",
       "4                5               3  1.142857  1.142857  1.285714  \n",
       "\n",
       "[5 rows x 67 columns]"
      ]
     },
     "execution_count": 31,
     "metadata": {},
     "output_type": "execute_result"
    }
   ],
   "source": [
    "restaurants.head()"
   ]
  },
  {
   "cell_type": "markdown",
   "metadata": {},
   "source": [
    "### 3.2 Time-related features"
   ]
  },
  {
   "cell_type": "code",
   "execution_count": 32,
   "metadata": {},
   "outputs": [],
   "source": [
    "reviews_date = reviews[['business_id','date']]"
   ]
  },
  {
   "cell_type": "code",
   "execution_count": 33,
   "metadata": {},
   "outputs": [
    {
     "name": "stderr",
     "output_type": "stream",
     "text": [
      "/usr/local/lib/python3.6/site-packages/pandas/core/generic.py:4405: SettingWithCopyWarning: \n",
      "A value is trying to be set on a copy of a slice from a DataFrame.\n",
      "Try using .loc[row_indexer,col_indexer] = value instead\n",
      "\n",
      "See the caveats in the documentation: http://pandas.pydata.org/pandas-docs/stable/indexing.html#indexing-view-versus-copy\n",
      "  self[name] = value\n"
     ]
    }
   ],
   "source": [
    "reviews_date.date = pd.to_datetime(reviews_date.date)"
   ]
  },
  {
   "cell_type": "code",
   "execution_count": 34,
   "metadata": {},
   "outputs": [],
   "source": [
    "reviews_date_earliest = reviews_date.groupby('business_id')['date'].min()"
   ]
  },
  {
   "cell_type": "code",
   "execution_count": 35,
   "metadata": {},
   "outputs": [],
   "source": [
    "reviews_date_earliest = reviews_date_earliest.to_frame()"
   ]
  },
  {
   "cell_type": "code",
   "execution_count": 36,
   "metadata": {},
   "outputs": [],
   "source": [
    "reviews_date_latest = reviews_date.groupby('business_id')['date'].max()\n",
    "reviews_date_latest = reviews_date_latest.to_frame()"
   ]
  },
  {
   "cell_type": "code",
   "execution_count": 37,
   "metadata": {},
   "outputs": [],
   "source": [
    "reviews_date = reviews_date_earliest.merge(reviews_date_latest, how = 'outer', on = 'business_id') "
   ]
  },
  {
   "cell_type": "code",
   "execution_count": 38,
   "metadata": {},
   "outputs": [],
   "source": [
    "reviews_date = reviews_date.rename(index=str, columns={\"date_x\": \"earliest_review_date\", \"date_y\": \"latest_review_date\"})"
   ]
  },
  {
   "cell_type": "code",
   "execution_count": 39,
   "metadata": {},
   "outputs": [],
   "source": [
    "reviews_date['date_difference'] = reviews_date['latest_review_date'] - reviews_date['earliest_review_date'] "
   ]
  },
  {
   "cell_type": "code",
   "execution_count": 40,
   "metadata": {},
   "outputs": [],
   "source": [
    "from datetime import datetime\n",
    "reviews_date['earliest_till_now'] = datetime.today() - reviews_date['earliest_review_date']\n",
    "reviews_date['latest_till_now'] = datetime.today() - reviews_date['latest_review_date']"
   ]
  },
  {
   "cell_type": "code",
   "execution_count": 41,
   "metadata": {},
   "outputs": [],
   "source": [
    "reviews_date['earliest_till_now'] = reviews_date['earliest_till_now'].astype('timedelta64[D]')"
   ]
  },
  {
   "cell_type": "code",
   "execution_count": 42,
   "metadata": {},
   "outputs": [],
   "source": [
    "reviews_date['latest_till_now'] = reviews_date['latest_till_now'].astype('timedelta64[D]')\n",
    "reviews_date['date_difference'] = reviews_date['date_difference'].astype('timedelta64[D]')"
   ]
  },
  {
   "cell_type": "code",
   "execution_count": 43,
   "metadata": {},
   "outputs": [
    {
     "data": {
      "text/html": [
       "<div>\n",
       "<style scoped>\n",
       "    .dataframe tbody tr th:only-of-type {\n",
       "        vertical-align: middle;\n",
       "    }\n",
       "\n",
       "    .dataframe tbody tr th {\n",
       "        vertical-align: top;\n",
       "    }\n",
       "\n",
       "    .dataframe thead th {\n",
       "        text-align: right;\n",
       "    }\n",
       "</style>\n",
       "<table border=\"1\" class=\"dataframe\">\n",
       "  <thead>\n",
       "    <tr style=\"text-align: right;\">\n",
       "      <th></th>\n",
       "      <th>earliest_review_date</th>\n",
       "      <th>latest_review_date</th>\n",
       "      <th>date_difference</th>\n",
       "      <th>earliest_till_now</th>\n",
       "      <th>latest_till_now</th>\n",
       "    </tr>\n",
       "    <tr>\n",
       "      <th>business_id</th>\n",
       "      <th></th>\n",
       "      <th></th>\n",
       "      <th></th>\n",
       "      <th></th>\n",
       "      <th></th>\n",
       "    </tr>\n",
       "  </thead>\n",
       "  <tbody>\n",
       "    <tr>\n",
       "      <th>--1UhMGODdWsrMastO9DZw</th>\n",
       "      <td>2016-06-04</td>\n",
       "      <td>2018-05-06</td>\n",
       "      <td>701.0</td>\n",
       "      <td>911.0</td>\n",
       "      <td>210.0</td>\n",
       "    </tr>\n",
       "    <tr>\n",
       "      <th>--6MefnULPED_I942VcFNA</th>\n",
       "      <td>2008-08-07</td>\n",
       "      <td>2018-05-21</td>\n",
       "      <td>3574.0</td>\n",
       "      <td>3769.0</td>\n",
       "      <td>195.0</td>\n",
       "    </tr>\n",
       "    <tr>\n",
       "      <th>--7zmmkVg-IMGaXbuVd0SQ</th>\n",
       "      <td>2014-12-30</td>\n",
       "      <td>2018-06-01</td>\n",
       "      <td>1249.0</td>\n",
       "      <td>1433.0</td>\n",
       "      <td>184.0</td>\n",
       "    </tr>\n",
       "    <tr>\n",
       "      <th>--8LPVSo5i0Oo61X01sV9A</th>\n",
       "      <td>2014-05-15</td>\n",
       "      <td>2018-02-10</td>\n",
       "      <td>1367.0</td>\n",
       "      <td>1662.0</td>\n",
       "      <td>295.0</td>\n",
       "    </tr>\n",
       "    <tr>\n",
       "      <th>--9QQLMTbFzLJ_oT-ON3Xw</th>\n",
       "      <td>2013-05-15</td>\n",
       "      <td>2018-02-17</td>\n",
       "      <td>1739.0</td>\n",
       "      <td>2027.0</td>\n",
       "      <td>288.0</td>\n",
       "    </tr>\n",
       "  </tbody>\n",
       "</table>\n",
       "</div>"
      ],
      "text/plain": [
       "                       earliest_review_date latest_review_date  \\\n",
       "business_id                                                      \n",
       "--1UhMGODdWsrMastO9DZw           2016-06-04         2018-05-06   \n",
       "--6MefnULPED_I942VcFNA           2008-08-07         2018-05-21   \n",
       "--7zmmkVg-IMGaXbuVd0SQ           2014-12-30         2018-06-01   \n",
       "--8LPVSo5i0Oo61X01sV9A           2014-05-15         2018-02-10   \n",
       "--9QQLMTbFzLJ_oT-ON3Xw           2013-05-15         2018-02-17   \n",
       "\n",
       "                        date_difference  earliest_till_now  latest_till_now  \n",
       "business_id                                                                  \n",
       "--1UhMGODdWsrMastO9DZw            701.0              911.0            210.0  \n",
       "--6MefnULPED_I942VcFNA           3574.0             3769.0            195.0  \n",
       "--7zmmkVg-IMGaXbuVd0SQ           1249.0             1433.0            184.0  \n",
       "--8LPVSo5i0Oo61X01sV9A           1367.0             1662.0            295.0  \n",
       "--9QQLMTbFzLJ_oT-ON3Xw           1739.0             2027.0            288.0  "
      ]
     },
     "execution_count": 43,
     "metadata": {},
     "output_type": "execute_result"
    }
   ],
   "source": [
    "reviews_date.head()"
   ]
  },
  {
   "cell_type": "code",
   "execution_count": 44,
   "metadata": {},
   "outputs": [],
   "source": [
    "restaurants = restaurants.merge(reviews_date, how = 'left', on = 'business_id')"
   ]
  },
  {
   "cell_type": "markdown",
   "metadata": {},
   "source": [
    "### 3.3 Ambience"
   ]
  },
  {
   "cell_type": "code",
   "execution_count": 45,
   "metadata": {
    "scrolled": true
   },
   "outputs": [
    {
     "data": {
      "text/plain": [
       "array([nan,\n",
       "       \"{'romantic': False, 'intimate': False, 'classy': False, 'hipster': False, 'touristy': False, 'trendy': False, 'upscale': False, 'casual': False}\",\n",
       "       \"{'romantic': False, 'intimate': False, 'classy': False, 'hipster': False, 'divey': False, 'touristy': False, 'trendy': False, 'upscale': False, 'casual': True}\",\n",
       "       \"{'romantic': False, 'intimate': False, 'classy': False, 'hipster': False, 'divey': False, 'touristy': False, 'trendy': False, 'upscale': False, 'casual': False}\",\n",
       "       \"{'romantic': False, 'intimate': False, 'classy': False, 'hipster': False, 'divey': True, 'touristy': False, 'trendy': False, 'upscale': False, 'casual': False}\",\n",
       "       \"{'romantic': False, 'intimate': False, 'classy': False, 'hipster': False, 'touristy': False, 'trendy': False, 'upscale': False, 'casual': True}\",\n",
       "       \"{'romantic': False, 'intimate': False, 'classy': False, 'hipster': False, 'touristy': False, 'trendy': True, 'upscale': False, 'casual': False}\",\n",
       "       \"{'romantic': False, 'intimate': False, 'classy': True, 'hipster': False, 'divey': False, 'touristy': False, 'trendy': True, 'upscale': True, 'casual': False}\",\n",
       "       \"{'romantic': False, 'intimate': False, 'classy': False, 'hipster': False, 'divey': False, 'touristy': True, 'trendy': False, 'upscale': False, 'casual': False}\",\n",
       "       \"{'romantic': False, 'intimate': False, 'classy': True, 'hipster': False, 'touristy': False, 'trendy': False, 'upscale': False, 'casual': False}\",\n",
       "       \"{'romantic': False, 'intimate': True, 'classy': False, 'hipster': False, 'divey': False, 'touristy': False, 'trendy': False, 'upscale': False, 'casual': False}\",\n",
       "       \"{'romantic': False, 'intimate': False, 'classy': True, 'hipster': False, 'divey': False, 'touristy': False, 'trendy': False, 'upscale': True, 'casual': False}\",\n",
       "       \"{'romantic': False, 'intimate': False, 'classy': False, 'hipster': True, 'touristy': False, 'trendy': False, 'upscale': False, 'casual': False}\",\n",
       "       \"{'romantic': False, 'intimate': True, 'classy': False, 'hipster': False, 'touristy': False, 'trendy': False, 'upscale': False, 'casual': False}\",\n",
       "       \"{'romantic': False, 'intimate': False, 'classy': False, 'hipster': True, 'touristy': False, 'trendy': False, 'upscale': False, 'casual': True}\",\n",
       "       \"{'romantic': False, 'intimate': False, 'classy': False, 'hipster': False, 'divey': False, 'touristy': False, 'trendy': True, 'upscale': False, 'casual': False}\",\n",
       "       \"{'romantic': False, 'intimate': False, 'classy': True, 'hipster': False, 'divey': False, 'touristy': False, 'trendy': False, 'upscale': False, 'casual': False}\",\n",
       "       \"{'romantic': False, 'intimate': False, 'classy': False, 'hipster': False, 'touristy': False, 'trendy': True, 'upscale': False, 'casual': True}\",\n",
       "       \"{'romantic': False, 'intimate': False, 'classy': False, 'hipster': False, 'divey': False, 'touristy': False, 'trendy': True, 'upscale': False, 'casual': True}\",\n",
       "       \"{'romantic': False, 'intimate': False, 'classy': False, 'hipster': True, 'divey': False, 'touristy': False, 'trendy': False, 'upscale': False, 'casual': True}\",\n",
       "       \"{'romantic': False, 'intimate': False, 'classy': False, 'hipster': False, 'divey': False, 'touristy': False, 'trendy': True, 'upscale': True, 'casual': False}\",\n",
       "       \"{'romantic': False, 'intimate': True, 'classy': True, 'hipster': False, 'touristy': False, 'trendy': False, 'upscale': False, 'casual': False}\",\n",
       "       \"{'romantic': False, 'intimate': False, 'classy': True, 'hipster': False, 'touristy': False, 'trendy': True, 'upscale': True, 'casual': False}\",\n",
       "       \"{'romantic': False, 'intimate': False, 'classy': False, 'hipster': True, 'divey': False, 'touristy': False, 'trendy': True, 'upscale': False, 'casual': False}\",\n",
       "       \"{'romantic': False, 'intimate': False, 'classy': False, 'hipster': False, 'divey': True, 'touristy': False, 'trendy': False, 'upscale': False, 'casual': True}\",\n",
       "       \"{'romantic': False, 'intimate': False, 'classy': False, 'hipster': False, 'touristy': True, 'trendy': False, 'upscale': False, 'casual': True}\",\n",
       "       \"{'romantic': True, 'intimate': False, 'classy': False, 'hipster': False, 'touristy': False, 'trendy': False, 'upscale': False, 'casual': False}\",\n",
       "       \"{'romantic': True, 'intimate': True, 'classy': False, 'hipster': False, 'divey': False, 'touristy': False, 'trendy': False, 'upscale': False, 'casual': False}\",\n",
       "       \"{'romantic': False, 'intimate': False, 'classy': False, 'hipster': True, 'divey': False, 'touristy': False, 'trendy': False, 'upscale': False, 'casual': False}\",\n",
       "       \"{'romantic': True, 'intimate': False, 'classy': True, 'hipster': False, 'touristy': False, 'trendy': False, 'upscale': False, 'casual': False}\",\n",
       "       \"{'romantic': True, 'intimate': True, 'classy': True, 'hipster': True, 'divey': False, 'touristy': False, 'trendy': True, 'upscale': False, 'casual': True}\",\n",
       "       \"{'romantic': True, 'intimate': False, 'classy': False, 'hipster': False, 'divey': False, 'touristy': False, 'trendy': False, 'upscale': True, 'casual': True}\",\n",
       "       \"{'romantic': False, 'intimate': False, 'classy': True, 'hipster': False, 'divey': False, 'touristy': False, 'trendy': True, 'upscale': False, 'casual': False}\",\n",
       "       \"{'romantic': False, 'intimate': False, 'classy': False, 'hipster': False, 'divey': False, 'touristy': True, 'trendy': False, 'upscale': False, 'casual': True}\",\n",
       "       \"{'romantic': True, 'intimate': False, 'classy': True, 'hipster': False, 'divey': False, 'touristy': False, 'trendy': True, 'upscale': False, 'casual': False}\",\n",
       "       \"{'romantic': False, 'intimate': False, 'classy': False, 'hipster': True, 'divey': False, 'touristy': False, 'trendy': True, 'upscale': False, 'casual': True}\",\n",
       "       \"{'romantic': False, 'intimate': False, 'classy': False, 'hipster': False, 'touristy': False, 'trendy': False, 'upscale': True, 'casual': False}\",\n",
       "       \"{'romantic': True, 'intimate': False, 'classy': False, 'hipster': False, 'divey': False, 'touristy': False, 'trendy': False, 'upscale': False, 'casual': False}\",\n",
       "       \"{'romantic': False, 'intimate': False, 'classy': True, 'hipster': False, 'divey': False, 'touristy': False, 'trendy': False, 'upscale': True, 'casual': True}\",\n",
       "       \"{'romantic': False, 'intimate': True, 'classy': True, 'hipster': False, 'divey': False, 'touristy': False, 'trendy': True, 'upscale': False, 'casual': True}\",\n",
       "       \"{'romantic': False, 'intimate': True, 'classy': True, 'hipster': False, 'divey': False, 'touristy': False, 'trendy': False, 'upscale': False, 'casual': False}\",\n",
       "       \"{'romantic': False, 'intimate': False, 'classy': True, 'hipster': False, 'divey': False, 'touristy': False, 'trendy': True, 'upscale': False, 'casual': True}\",\n",
       "       \"{'romantic': False, 'intimate': False, 'classy': False, 'hipster': True, 'touristy': False, 'trendy': True, 'upscale': False, 'casual': True}\",\n",
       "       \"{'romantic': False, 'intimate': True, 'classy': False, 'hipster': False, 'touristy': False, 'trendy': True, 'upscale': False, 'casual': True}\",\n",
       "       \"{'romantic': False, 'intimate': False, 'classy': False, 'hipster': False, 'divey': False, 'touristy': False, 'trendy': False, 'upscale': True, 'casual': True}\",\n",
       "       \"{'romantic': False, 'intimate': False, 'classy': False, 'hipster': False, 'divey': False, 'touristy': False, 'trendy': False, 'upscale': True, 'casual': False}\",\n",
       "       \"{'romantic': False, 'intimate': False, 'classy': False, 'hipster': True, 'touristy': False, 'trendy': True, 'upscale': False, 'casual': False}\",\n",
       "       \"{'romantic': False, 'intimate': False, 'classy': True, 'hipster': True, 'divey': False, 'touristy': False, 'trendy': True, 'upscale': True, 'casual': True}\",\n",
       "       \"{'romantic': False, 'intimate': False, 'classy': True, 'hipster': False, 'touristy': False, 'trendy': False, 'upscale': True, 'casual': False}\",\n",
       "       \"{'romantic': False, 'intimate': True, 'classy': False, 'hipster': True, 'divey': False, 'touristy': False, 'trendy': False, 'upscale': False, 'casual': True}\",\n",
       "       \"{'romantic': True, 'intimate': False, 'classy': False, 'hipster': False, 'touristy': False, 'trendy': False, 'upscale': False, 'casual': True}\",\n",
       "       \"{'romantic': False, 'intimate': True, 'classy': False, 'hipster': False, 'divey': False, 'touristy': False, 'trendy': False, 'upscale': False, 'casual': True}\",\n",
       "       \"{'romantic': True, 'intimate': True, 'classy': True, 'hipster': False, 'divey': False, 'touristy': False, 'trendy': False, 'upscale': False, 'casual': False}\",\n",
       "       \"{'romantic': False, 'intimate': False, 'classy': True, 'hipster': False, 'divey': False, 'touristy': False, 'trendy': False, 'upscale': False, 'casual': True}\",\n",
       "       \"{'romantic': False, 'intimate': True, 'classy': False, 'hipster': False, 'divey': False, 'touristy': False, 'trendy': True, 'upscale': False, 'casual': True}\",\n",
       "       \"{'romantic': True, 'intimate': False, 'classy': True, 'hipster': False, 'touristy': False, 'trendy': False, 'upscale': True, 'casual': False}\",\n",
       "       \"{'romantic': True, 'intimate': True, 'classy': True, 'hipster': False, 'divey': False, 'touristy': False, 'trendy': False, 'upscale': True, 'casual': False}\",\n",
       "       \"{'romantic': True, 'intimate': True, 'classy': False, 'hipster': False, 'touristy': False, 'trendy': False, 'upscale': False, 'casual': True}\",\n",
       "       \"{'romantic': True, 'intimate': False, 'classy': True, 'hipster': False, 'divey': False, 'touristy': False, 'trendy': False, 'upscale': True, 'casual': False}\",\n",
       "       \"{'romantic': True, 'intimate': False, 'classy': True, 'hipster': False, 'divey': False, 'touristy': False, 'trendy': False, 'upscale': False, 'casual': False}\",\n",
       "       \"{'romantic': True, 'intimate': True, 'classy': True, 'hipster': False, 'divey': False, 'touristy': False, 'trendy': False, 'upscale': False, 'casual': True}\",\n",
       "       \"{'romantic': False, 'intimate': False, 'classy': True, 'hipster': False, 'touristy': False, 'trendy': True, 'upscale': False, 'casual': False}\",\n",
       "       \"{'romantic': False, 'intimate': False, 'classy': False, 'hipster': False, 'divey': False, 'touristy': True, 'trendy': True, 'upscale': False, 'casual': True}\",\n",
       "       \"{'romantic': False, 'intimate': False, 'classy': False, 'hipster': False, 'touristy': True, 'trendy': True, 'upscale': False, 'casual': False}\",\n",
       "       \"{'romantic': True, 'intimate': True, 'classy': True, 'hipster': False, 'touristy': False, 'trendy': True, 'upscale': True, 'casual': False}\",\n",
       "       \"{'romantic': True, 'intimate': True, 'classy': False, 'hipster': False, 'touristy': False, 'trendy': False, 'upscale': False, 'casual': False}\",\n",
       "       \"{'romantic': False, 'intimate': True, 'classy': False, 'hipster': False, 'touristy': False, 'trendy': False, 'upscale': False, 'casual': True}\",\n",
       "       \"{'romantic': False, 'intimate': True, 'classy': True, 'hipster': False, 'divey': False, 'touristy': False, 'trendy': False, 'upscale': True, 'casual': False}\",\n",
       "       \"{'romantic': False, 'intimate': False, 'classy': False, 'hipster': False, 'divey': True, 'touristy': False, 'trendy': True, 'upscale': False, 'casual': True}\",\n",
       "       \"{'romantic': False, 'intimate': False, 'classy': False, 'hipster': False, 'touristy': True, 'trendy': True, 'upscale': False, 'casual': True}\",\n",
       "       \"{'romantic': False, 'intimate': False, 'classy': False, 'hipster': False, 'touristy': False, 'trendy': True, 'upscale': True, 'casual': False}\",\n",
       "       \"{'romantic': False, 'intimate': True, 'classy': False, 'hipster': True, 'divey': False, 'touristy': False, 'trendy': True, 'upscale': False, 'casual': True}\",\n",
       "       \"{'romantic': True, 'intimate': False, 'classy': True, 'hipster': False, 'touristy': False, 'trendy': True, 'upscale': True, 'casual': False}\",\n",
       "       \"{'romantic': False, 'intimate': True, 'classy': True, 'hipster': False, 'divey': False, 'touristy': False, 'trendy': True, 'upscale': True, 'casual': True}\",\n",
       "       \"{'romantic': False, 'intimate': True, 'classy': True, 'hipster': False, 'touristy': False, 'trendy': False, 'upscale': True, 'casual': False}\",\n",
       "       \"{'romantic': False, 'intimate': True, 'classy': True, 'hipster': False, 'divey': False, 'touristy': False, 'trendy': True, 'upscale': True, 'casual': False}\",\n",
       "       \"{'romantic': True, 'intimate': False, 'classy': False, 'hipster': False, 'divey': False, 'touristy': False, 'trendy': False, 'upscale': False, 'casual': True}\",\n",
       "       \"{'romantic': False, 'intimate': False, 'classy': False, 'hipster': True, 'divey': True, 'touristy': False, 'trendy': True, 'upscale': False, 'casual': True}\",\n",
       "       \"{'romantic': True, 'intimate': True, 'classy': True, 'hipster': False, 'touristy': False, 'trendy': False, 'upscale': True, 'casual': False}\",\n",
       "       \"{'romantic': True, 'intimate': True, 'classy': True, 'hipster': False, 'touristy': False, 'trendy': True, 'upscale': False, 'casual': False}\",\n",
       "       \"{'romantic': True, 'intimate': False, 'classy': False, 'hipster': True, 'divey': False, 'touristy': False, 'trendy': True, 'upscale': False, 'casual': True}\",\n",
       "       \"{'romantic': False, 'intimate': True, 'classy': False, 'hipster': False, 'touristy': False, 'trendy': True, 'upscale': False, 'casual': False}\",\n",
       "       \"{'romantic': False, 'intimate': False, 'classy': False, 'hipster': True, 'divey': True, 'touristy': False, 'trendy': False, 'upscale': False, 'casual': True}\",\n",
       "       \"{'romantic': True, 'intimate': False, 'classy': True, 'hipster': False, 'divey': False, 'touristy': False, 'trendy': False, 'upscale': False, 'casual': True}\",\n",
       "       \"{'romantic': True, 'intimate': False, 'classy': False, 'hipster': False, 'touristy': False, 'trendy': True, 'upscale': False, 'casual': False}\",\n",
       "       \"{'romantic': True, 'intimate': True, 'classy': True, 'hipster': False, 'divey': False, 'touristy': False, 'trendy': True, 'upscale': True, 'casual': True}\",\n",
       "       \"{'romantic': False, 'intimate': False, 'classy': True, 'hipster': True, 'touristy': False, 'trendy': False, 'upscale': False, 'casual': False}\",\n",
       "       \"{'romantic': False, 'intimate': True, 'classy': False, 'hipster': True, 'divey': False, 'touristy': False, 'trendy': True, 'upscale': False, 'casual': False}\",\n",
       "       \"{'romantic': True, 'intimate': True, 'classy': False, 'hipster': False, 'divey': False, 'touristy': False, 'trendy': False, 'upscale': False, 'casual': True}\",\n",
       "       \"{'romantic': True, 'intimate': True, 'classy': False, 'hipster': False, 'divey': False, 'touristy': False, 'trendy': True, 'upscale': False, 'casual': True}\",\n",
       "       \"{'romantic': True, 'intimate': False, 'classy': False, 'hipster': False, 'touristy': True, 'trendy': False, 'upscale': False, 'casual': False}\",\n",
       "       \"{'romantic': False, 'intimate': False, 'classy': True, 'hipster': False, 'touristy': False, 'trendy': True, 'upscale': True, 'casual': True}\",\n",
       "       \"{'romantic': False, 'intimate': True, 'classy': False, 'hipster': True, 'touristy': False, 'trendy': True, 'upscale': False, 'casual': True}\",\n",
       "       \"{'romantic': True, 'intimate': True, 'classy': True, 'hipster': False, 'touristy': False, 'trendy': False, 'upscale': False, 'casual': True}\",\n",
       "       \"{'romantic': True, 'intimate': True, 'classy': False, 'hipster': False, 'touristy': False, 'trendy': False, 'upscale': True, 'casual': False}\",\n",
       "       \"{'romantic': False, 'intimate': False, 'classy': True, 'hipster': False, 'touristy': False, 'trendy': True, 'upscale': False, 'casual': True}\",\n",
       "       \"{'romantic': False, 'intimate': False, 'classy': True, 'hipster': False, 'touristy': False, 'trendy': False, 'upscale': False, 'casual': True}\",\n",
       "       \"{'romantic': False, 'intimate': False, 'classy': False, 'hipster': False, 'touristy': True, 'trendy': False, 'upscale': False, 'casual': False}\",\n",
       "       \"{'romantic': True, 'intimate': True, 'classy': True, 'hipster': False, 'touristy': False, 'trendy': False, 'upscale': False, 'casual': False}\",\n",
       "       \"{'romantic': False, 'intimate': True, 'classy': True, 'hipster': False, 'divey': False, 'touristy': False, 'trendy': False, 'upscale': False, 'casual': True}\",\n",
       "       \"{'romantic': True, 'intimate': True, 'classy': True, 'hipster': False, 'divey': False, 'touristy': False, 'trendy': True, 'upscale': False, 'casual': True}\",\n",
       "       \"{'romantic': True, 'intimate': True, 'classy': True, 'hipster': False, 'divey': False, 'touristy': False, 'trendy': True, 'upscale': True, 'casual': False}\",\n",
       "       \"{'romantic': False, 'intimate': False, 'classy': False, 'hipster': True, 'divey': True, 'touristy': False, 'trendy': False, 'upscale': False, 'casual': False}\",\n",
       "       \"{'romantic': True, 'intimate': False, 'classy': False, 'hipster': False, 'divey': False, 'touristy': False, 'trendy': True, 'upscale': False, 'casual': True}\",\n",
       "       \"{'romantic': True, 'intimate': True, 'classy': True, 'hipster': False, 'divey': False, 'touristy': False, 'trendy': True, 'upscale': False, 'casual': False}\",\n",
       "       \"{'romantic': False, 'intimate': False, 'classy': True, 'hipster': True, 'divey': False, 'touristy': False, 'trendy': True, 'upscale': False, 'casual': True}\",\n",
       "       \"{'romantic': False, 'intimate': True, 'classy': False, 'hipster': False, 'touristy': False, 'trendy': False, 'upscale': True, 'casual': True}\",\n",
       "       \"{'romantic': False, 'intimate': True, 'classy': False, 'hipster': False, 'divey': False, 'touristy': False, 'trendy': True, 'upscale': False, 'casual': False}\",\n",
       "       \"{'romantic': False, 'intimate': False, 'classy': True, 'hipster': False, 'divey': False, 'touristy': True, 'trendy': False, 'upscale': False, 'casual': True}\",\n",
       "       \"{'romantic': True, 'intimate': False, 'classy': False, 'hipster': False, 'divey': True, 'touristy': False, 'trendy': False, 'upscale': False, 'casual': False}\",\n",
       "       \"{'romantic': True, 'intimate': False, 'classy': True, 'hipster': False, 'divey': False, 'touristy': True, 'trendy': False, 'upscale': False, 'casual': True}\",\n",
       "       \"{'romantic': False, 'intimate': False, 'classy': False, 'hipster': True, 'touristy': False, 'trendy': True, 'upscale': True, 'casual': False}\",\n",
       "       \"{'romantic': False, 'intimate': False, 'classy': True, 'hipster': False, 'divey': False, 'touristy': False, 'trendy': True, 'upscale': True, 'casual': True}\",\n",
       "       \"{'romantic': False, 'intimate': True, 'classy': False, 'hipster': False, 'touristy': False, 'trendy': False, 'upscale': True, 'casual': False}\",\n",
       "       \"{'romantic': False, 'intimate': True, 'classy': False, 'hipster': False, 'divey': False, 'touristy': False, 'trendy': True, 'upscale': True, 'casual': False}\",\n",
       "       \"{'romantic': True, 'intimate': False, 'classy': True, 'hipster': False, 'divey': False, 'touristy': False, 'trendy': True, 'upscale': False, 'casual': True}\",\n",
       "       \"{'romantic': False, 'intimate': True, 'classy': False, 'hipster': False, 'divey': True, 'touristy': False, 'trendy': False, 'upscale': False, 'casual': False}\",\n",
       "       \"{'romantic': False, 'intimate': True, 'classy': True, 'hipster': False, 'touristy': False, 'trendy': True, 'upscale': False, 'casual': False}\",\n",
       "       \"{'romantic': False, 'intimate': True, 'classy': False, 'hipster': False, 'divey': False, 'touristy': False, 'trendy': False, 'upscale': True, 'casual': False}\",\n",
       "       \"{'romantic': True, 'intimate': True, 'classy': True, 'hipster': False, 'touristy': False, 'trendy': False, 'upscale': True, 'casual': True}\",\n",
       "       \"{'romantic': True, 'intimate': False, 'classy': False, 'hipster': False, 'divey': False, 'touristy': False, 'trendy': False, 'upscale': True, 'casual': False}\",\n",
       "       \"{'romantic': True, 'intimate': False, 'classy': False, 'hipster': False, 'divey': False, 'touristy': False, 'trendy': True, 'upscale': True, 'casual': False}\",\n",
       "       \"{'romantic': True, 'intimate': True, 'classy': False, 'hipster': False, 'divey': False, 'touristy': False, 'trendy': True, 'upscale': False, 'casual': False}\",\n",
       "       \"{'romantic': True, 'intimate': False, 'classy': True, 'hipster': False, 'touristy': True, 'trendy': False, 'upscale': False, 'casual': True}\",\n",
       "       \"{'romantic': True, 'intimate': True, 'classy': False, 'hipster': False, 'divey': False, 'touristy': False, 'trendy': False, 'upscale': True, 'casual': False}\",\n",
       "       \"{'romantic': True, 'intimate': False, 'classy': True, 'hipster': False, 'divey': False, 'touristy': False, 'trendy': True, 'upscale': True, 'casual': False}\",\n",
       "       \"{'romantic': False, 'intimate': False, 'classy': True, 'hipster': True, 'divey': False, 'touristy': True, 'trendy': True, 'upscale': False, 'casual': True}\",\n",
       "       \"{'romantic': True, 'intimate': False, 'classy': True, 'hipster': False, 'touristy': False, 'trendy': False, 'upscale': False, 'casual': True}\",\n",
       "       \"{'romantic': True, 'intimate': False, 'classy': False, 'hipster': False, 'touristy': False, 'trendy': True, 'upscale': False, 'casual': True}\",\n",
       "       \"{'romantic': True, 'intimate': False, 'classy': True, 'hipster': False, 'divey': False, 'touristy': False, 'trendy': True, 'upscale': True, 'casual': True}\",\n",
       "       \"{'romantic': True, 'intimate': False, 'classy': True, 'hipster': False, 'touristy': False, 'trendy': True, 'upscale': False, 'casual': False}\",\n",
       "       \"{'romantic': False, 'intimate': True, 'classy': False, 'hipster': True, 'touristy': False, 'trendy': False, 'upscale': False, 'casual': False}\",\n",
       "       \"{'romantic': True, 'intimate': False, 'classy': False, 'hipster': False, 'touristy': False, 'trendy': False, 'upscale': True, 'casual': False}\",\n",
       "       \"{'romantic': False, 'intimate': False, 'classy': False, 'hipster': False, 'touristy': False, 'trendy': True, 'upscale': True, 'casual': True}\",\n",
       "       \"{'romantic': False, 'intimate': True, 'classy': True, 'hipster': False, 'touristy': False, 'trendy': False, 'upscale': False, 'casual': True}\",\n",
       "       \"{'romantic': False, 'intimate': False, 'classy': False, 'hipster': False, 'touristy': False, 'trendy': False, 'upscale': True, 'casual': True}\",\n",
       "       \"{'romantic': False, 'intimate': True, 'classy': True, 'hipster': False, 'divey': False, 'touristy': False, 'trendy': True, 'upscale': False, 'casual': False}\",\n",
       "       \"{'romantic': False, 'intimate': True, 'classy': False, 'hipster': True, 'divey': False, 'touristy': False, 'trendy': False, 'upscale': False, 'casual': False}\",\n",
       "       \"{'romantic': True, 'intimate': False, 'classy': False, 'hipster': True, 'touristy': False, 'trendy': False, 'upscale': False, 'casual': False}\",\n",
       "       \"{'romantic': True, 'intimate': False, 'classy': True, 'hipster': True, 'divey': False, 'touristy': False, 'trendy': True, 'upscale': False, 'casual': True}\",\n",
       "       \"{'romantic': True, 'intimate': False, 'classy': False, 'hipster': False, 'divey': False, 'touristy': False, 'trendy': True, 'upscale': False, 'casual': False}\",\n",
       "       \"{'romantic': False, 'intimate': False, 'classy': False, 'hipster': False, 'divey': True, 'touristy': True, 'trendy': False, 'upscale': False, 'casual': True}\",\n",
       "       \"{'romantic': True, 'intimate': True, 'classy': False, 'hipster': False, 'touristy': False, 'trendy': True, 'upscale': False, 'casual': False}\",\n",
       "       \"{'romantic': False, 'intimate': False, 'classy': True, 'hipster': True, 'divey': False, 'touristy': False, 'trendy': False, 'upscale': False, 'casual': True}\",\n",
       "       \"{'romantic': False, 'intimate': True, 'classy': True, 'hipster': True, 'divey': False, 'touristy': False, 'trendy': True, 'upscale': False, 'casual': True}\",\n",
       "       \"{'romantic': False, 'intimate': True, 'classy': False, 'hipster': False, 'touristy': True, 'trendy': False, 'upscale': False, 'casual': False}\",\n",
       "       \"{'romantic': False, 'intimate': False, 'classy': True, 'hipster': True, 'divey': False, 'touristy': False, 'trendy': False, 'upscale': True, 'casual': True}\",\n",
       "       \"{'romantic': False, 'intimate': True, 'classy': False, 'hipster': False, 'divey': False, 'touristy': False, 'trendy': True, 'upscale': True, 'casual': True}\",\n",
       "       \"{'romantic': True, 'intimate': True, 'classy': True, 'hipster': True, 'divey': False, 'touristy': False, 'trendy': True, 'upscale': True, 'casual': True}\",\n",
       "       \"{'romantic': False, 'intimate': False, 'classy': True, 'hipster': False, 'divey': True, 'touristy': False, 'trendy': True, 'upscale': False, 'casual': False}\",\n",
       "       \"{'romantic': False, 'intimate': False, 'classy': True, 'hipster': False, 'divey': True, 'touristy': False, 'trendy': True, 'upscale': False, 'casual': True}\",\n",
       "       \"{'romantic': False, 'intimate': False, 'classy': False, 'hipster': False, 'divey': False, 'touristy': False, 'trendy': True, 'upscale': True, 'casual': True}\",\n",
       "       \"{'romantic': False, 'intimate': True, 'classy': False, 'hipster': True, 'touristy': False, 'trendy': True, 'upscale': False, 'casual': False}\",\n",
       "       \"{'romantic': False, 'intimate': False, 'classy': True, 'hipster': True, 'divey': False, 'touristy': False, 'trendy': True, 'upscale': True, 'casual': False}\",\n",
       "       \"{'romantic': False, 'intimate': True, 'classy': True, 'hipster': True, 'divey': False, 'touristy': False, 'trendy': True, 'upscale': True, 'casual': False}\",\n",
       "       \"{'romantic': False, 'intimate': False, 'classy': False, 'hipster': True, 'divey': False, 'touristy': True, 'trendy': False, 'upscale': False, 'casual': True}\",\n",
       "       \"{'romantic': True, 'intimate': True, 'classy': True, 'hipster': False, 'touristy': False, 'trendy': True, 'upscale': False, 'casual': True}\",\n",
       "       \"{'romantic': False, 'intimate': True, 'classy': False, 'hipster': True, 'touristy': False, 'trendy': False, 'upscale': False, 'casual': True}\",\n",
       "       \"{'romantic': True, 'intimate': True, 'classy': False, 'hipster': False, 'divey': False, 'touristy': False, 'trendy': False, 'upscale': True, 'casual': True}\",\n",
       "       \"{'romantic': False, 'intimate': False, 'classy': False, 'hipster': False, 'divey': False, 'touristy': True, 'trendy': True, 'upscale': False, 'casual': False}\",\n",
       "       \"{'romantic': True, 'intimate': False, 'classy': False, 'hipster': False, 'divey': False, 'touristy': False, 'trendy': True, 'upscale': True, 'casual': True}\",\n",
       "       \"{'romantic': False, 'intimate': True, 'classy': False, 'hipster': True, 'divey': False, 'touristy': False, 'trendy': True, 'upscale': True, 'casual': False}\",\n",
       "       \"{'romantic': True, 'intimate': True, 'classy': True, 'hipster': False, 'divey': False, 'touristy': True, 'trendy': False, 'upscale': False, 'casual': False}\",\n",
       "       \"{'romantic': False, 'intimate': False, 'classy': True, 'hipster': False, 'divey': False, 'touristy': True, 'trendy': True, 'upscale': False, 'casual': True}\",\n",
       "       \"{'romantic': False, 'intimate': False, 'classy': False, 'hipster': True, 'touristy': True, 'trendy': True, 'upscale': False, 'casual': True}\",\n",
       "       \"{'romantic': True, 'intimate': False, 'classy': False, 'hipster': False, 'touristy': True, 'trendy': False, 'upscale': False, 'casual': True}\",\n",
       "       \"{'romantic': False, 'intimate': False, 'classy': True, 'hipster': False, 'divey': False, 'touristy': True, 'trendy': True, 'upscale': True, 'casual': False}\",\n",
       "       \"{'romantic': False, 'intimate': True, 'classy': False, 'hipster': False, 'divey': True, 'touristy': False, 'trendy': False, 'upscale': False, 'casual': True}\",\n",
       "       \"{'romantic': True, 'intimate': True, 'classy': True, 'hipster': False, 'divey': False, 'touristy': False, 'trendy': False, 'upscale': True, 'casual': True}\"],\n",
       "      dtype=object)"
      ]
     },
     "execution_count": 45,
     "metadata": {},
     "output_type": "execute_result"
    }
   ],
   "source": [
    "# Understand the ambience\n",
    "restaurants['attributes.Ambience'].unique()"
   ]
  },
  {
   "cell_type": "code",
   "execution_count": 46,
   "metadata": {},
   "outputs": [],
   "source": [
    "def ambience_extract(row):\n",
    "    ambience_list = list()\n",
    "    import ast\n",
    "    if pd.isnull(row['attributes.Ambience']):\n",
    "        return None\n",
    "    else:\n",
    "        for key, value in ast.literal_eval(row['attributes.Ambience']).items():\n",
    "            if value == True:\n",
    "                ambience_list.append(key)\n",
    "        return \",\".join(ambience_list)"
   ]
  },
  {
   "cell_type": "code",
   "execution_count": 47,
   "metadata": {},
   "outputs": [],
   "source": [
    "restaurants['Ambience'] = restaurants.apply(lambda row: ambience_extract(row),axis=1)"
   ]
  },
  {
   "cell_type": "code",
   "execution_count": 48,
   "metadata": {},
   "outputs": [],
   "source": [
    "ambience_list = restaurants['Ambience'].tolist()\n",
    "ambience_list = [x for x in ambience_list if x is not None and x != '']"
   ]
  },
  {
   "cell_type": "code",
   "execution_count": 49,
   "metadata": {},
   "outputs": [],
   "source": [
    "cat_all_am = ','.join(ambience_list)"
   ]
  },
  {
   "cell_type": "code",
   "execution_count": 50,
   "metadata": {},
   "outputs": [
    {
     "data": {
      "text/plain": [
       "casual      22192\n",
       "trendy       2428\n",
       "classy       1061\n",
       "divey        1057\n",
       "hipster      1043\n",
       "intimate      672\n",
       "romantic      599\n",
       "upscale       494\n",
       "touristy      229\n",
       "Name: Ambience, dtype: int64"
      ]
     },
     "execution_count": 50,
     "metadata": {},
     "output_type": "execute_result"
    }
   ],
   "source": [
    "cat_all_am = pd.DataFrame(cat_all_am.split(','), columns=['Ambience'])\n",
    "cat_all_am_count = cat_all_am.Ambience.value_counts().sort_values(ascending = False)\n",
    "cat_all_am_count"
   ]
  },
  {
   "cell_type": "markdown",
   "metadata": {},
   "source": [
    "We create dummy variables for 'casual', 'trendy' and 'Others'"
   ]
  },
  {
   "cell_type": "code",
   "execution_count": 51,
   "metadata": {},
   "outputs": [],
   "source": [
    "def ambience_casual(row):\n",
    "    if row['Ambience'] is not None and row['Ambience'] != '':\n",
    "        if 'casual' in row['Ambience'].split(','):\n",
    "            return 1\n",
    "        else:\n",
    "            return 0\n",
    "    else:\n",
    "        return 0\n",
    "restaurants['ambience_casual'] = restaurants.apply(lambda row: ambience_casual(row),axis=1)"
   ]
  },
  {
   "cell_type": "code",
   "execution_count": 52,
   "metadata": {},
   "outputs": [],
   "source": [
    "def ambience_trendy(row):\n",
    "    if row['Ambience'] is not None and row['Ambience'] != '':\n",
    "        if 'trendy' in row['Ambience'].split(','):\n",
    "            return 1\n",
    "        else:\n",
    "            return 0\n",
    "    else:\n",
    "        return 0\n",
    "restaurants['ambience_trendy'] = restaurants.apply(lambda row: ambience_trendy(row),axis=1)"
   ]
  },
  {
   "cell_type": "code",
   "execution_count": 53,
   "metadata": {},
   "outputs": [],
   "source": [
    "ambience_others_list = ['romantic', 'intimate', 'classy', 'hipster', 'touristy', 'upscale', 'divey']\n",
    "def ambience_others(row):\n",
    "    if row['Ambience'] is not None and row['Ambience'] != '':\n",
    "        if (set(ambience_others_list) & set(row['Ambience'].split(','))):\n",
    "            return 1\n",
    "        else:\n",
    "            return 0\n",
    "    else:\n",
    "        return 0\n",
    "restaurants['ambience_others'] = restaurants.apply(lambda row: ambience_others(row),axis=1)"
   ]
  },
  {
   "cell_type": "markdown",
   "metadata": {},
   "source": [
    "### 3.4 Food categories"
   ]
  },
  {
   "cell_type": "markdown",
   "metadata": {},
   "source": [
    "Food label will include:\n",
    "1. American Food\n",
    "2. Asian Food\n",
    "3. European Food \n",
    "4. Sandwich\n",
    "5. Burgers\n",
    "6. Restaurants"
   ]
  },
  {
   "cell_type": "code",
   "execution_count": 54,
   "metadata": {},
   "outputs": [],
   "source": [
    "american_food = ['American(Traditional)', 'American(New)']\n",
    "asian_food = ['Chinese','Malaysian','Japanese','AsianFusion','SushiBars','PanAsian','Poke','Indian','Thai',\n",
    "             'Szechuan','Vietnamese','Korean','Cantonese','Dim Sum','Taiwanese','Filipino','Ramen','Noodles']\n",
    "european_food = ['Italian','Mediterranean','British','Delicatessen','French','Greek','Polish','Irish','German',\n",
    "                'Spanish','Portuguese']"
   ]
  },
  {
   "cell_type": "code",
   "execution_count": 55,
   "metadata": {},
   "outputs": [],
   "source": [
    "def american_food_label(row):\n",
    "    if bool(set(row['categories'].replace(\" \",\"\").split(',')) & set(american_food)):\n",
    "        return 1\n",
    "    else:\n",
    "        return 0\n",
    "restaurants['american_food'] = restaurants.apply(lambda row: american_food_label(row),axis=1)"
   ]
  },
  {
   "cell_type": "code",
   "execution_count": 56,
   "metadata": {},
   "outputs": [],
   "source": [
    "def asian_food_label(row):\n",
    "    if bool(set(row['categories'].replace(\" \",\"\").split(',')) & set(asian_food)):\n",
    "        return 1\n",
    "    else:\n",
    "        return 0\n",
    "restaurants['asian_food'] = restaurants.apply(lambda row: asian_food_label(row),axis=1)"
   ]
  },
  {
   "cell_type": "code",
   "execution_count": 57,
   "metadata": {},
   "outputs": [],
   "source": [
    "def european_food_label(row):\n",
    "    if bool(set(row['categories'].replace(\" \",\"\").split(',')) & set(european_food)):\n",
    "        return 1\n",
    "    else:\n",
    "        return 0\n",
    "restaurants['european_food'] = restaurants.apply(lambda row: european_food_label(row),axis=1)"
   ]
  },
  {
   "cell_type": "code",
   "execution_count": 58,
   "metadata": {},
   "outputs": [],
   "source": [
    "def sandwich_label(row):\n",
    "    if \"Sandwiches\" in (row['categories'].replace(\" \",\"\").split(',')):\n",
    "        return 1\n",
    "    else:\n",
    "        return 0\n",
    "restaurants['sandwich'] = restaurants.apply(lambda row: sandwich_label(row),axis=1)"
   ]
  },
  {
   "cell_type": "code",
   "execution_count": 59,
   "metadata": {},
   "outputs": [],
   "source": [
    "def burger_label(row):\n",
    "    if \"Burgers\" in (row['categories'].replace(\" \",\"\").split(',')):\n",
    "        return 1\n",
    "    else:\n",
    "        return 0\n",
    "restaurants['burger'] = restaurants.apply(lambda row: burger_label(row),axis=1)"
   ]
  },
  {
   "cell_type": "code",
   "execution_count": 60,
   "metadata": {},
   "outputs": [],
   "source": [
    "def restaurant_label(row):\n",
    "    if \"Restaurants\" in (row['categories'].replace(\" \",\"\").split(',')):\n",
    "        return 1\n",
    "    else:\n",
    "        return 0\n",
    "restaurants['restaurant'] = restaurants.apply(lambda row: restaurant_label(row),axis=1)"
   ]
  },
  {
   "cell_type": "markdown",
   "metadata": {},
   "source": [
    "### 3.5 Ordered Features: Ages Allow"
   ]
  },
  {
   "cell_type": "code",
   "execution_count": 61,
   "metadata": {},
   "outputs": [
    {
     "data": {
      "text/plain": [
       "array([nan, '18plus', '21plus', 'allages', '19plus'], dtype=object)"
      ]
     },
     "execution_count": 61,
     "metadata": {},
     "output_type": "execute_result"
    }
   ],
   "source": [
    "restaurants['attributes.AgesAllowed'].unique()"
   ]
  },
  {
   "cell_type": "code",
   "execution_count": 62,
   "metadata": {},
   "outputs": [
    {
     "name": "stderr",
     "output_type": "stream",
     "text": [
      "/usr/local/lib/python3.6/site-packages/sklearn/externals/joblib/_multiprocessing_helpers.py:38: UserWarning: [Errno 12] Cannot allocate memory.  joblib will operate in serial mode\n",
      "  warnings.warn('%s.  joblib will operate in serial mode' % (e,))\n"
     ]
    },
    {
     "data": {
      "text/plain": [
       "LabelEncoder()"
      ]
     },
     "execution_count": 62,
     "metadata": {},
     "output_type": "execute_result"
    }
   ],
   "source": [
    "from sklearn import preprocessing\n",
    "le = preprocessing.LabelEncoder()\n",
    "restaurants['attributes.AgesAllowed'].fillna('0',inplace=True)\n",
    "le.fit(['0',\"allages\", \"18plus\", \"19plus\", \"21plus\"])"
   ]
  },
  {
   "cell_type": "code",
   "execution_count": 63,
   "metadata": {},
   "outputs": [
    {
     "data": {
      "text/plain": [
       "array(['0', '19plus', '18plus'], dtype='<U7')"
      ]
     },
     "execution_count": 63,
     "metadata": {},
     "output_type": "execute_result"
    }
   ],
   "source": [
    "le.inverse_transform([0, 2, 1])"
   ]
  },
  {
   "cell_type": "code",
   "execution_count": 64,
   "metadata": {},
   "outputs": [],
   "source": [
    "restaurants['attributes.AgesAllowed'] = le.transform(restaurants['attributes.AgesAllowed']) "
   ]
  },
  {
   "cell_type": "markdown",
   "metadata": {},
   "source": [
    "### 3.6 Other Categorical Features"
   ]
  },
  {
   "cell_type": "markdown",
   "metadata": {},
   "source": [
    "We will only extract three more features:\n",
    "1. Business Parking: Yes/No\n",
    "2. GoodForMeal: breakfast_brunch or dinner\n",
    "3. Music: background_music or no_music"
   ]
  },
  {
   "cell_type": "markdown",
   "metadata": {},
   "source": [
    "BUSINESS PARKING"
   ]
  },
  {
   "cell_type": "code",
   "execution_count": 65,
   "metadata": {},
   "outputs": [],
   "source": [
    "def bp_extract(row):\n",
    "    bp = list()\n",
    "    import ast\n",
    "    if pd.isnull(row['attributes.BusinessParking']):\n",
    "        return 0\n",
    "    else:\n",
    "        for key, value in ast.literal_eval(row['attributes.BusinessParking']).items():\n",
    "            if value == True:\n",
    "                bp.append(key)\n",
    "        if bp:\n",
    "            return 1\n",
    "        else:\n",
    "            return 0\n",
    "restaurants['business_parking'] = restaurants.apply(lambda row: bp_extract(row),axis=1)"
   ]
  },
  {
   "cell_type": "markdown",
   "metadata": {},
   "source": [
    "GOOD FOR MEAL"
   ]
  },
  {
   "cell_type": "code",
   "execution_count": 66,
   "metadata": {},
   "outputs": [],
   "source": [
    "def meal_extract(row):\n",
    "    meal = list()\n",
    "    import ast\n",
    "    if pd.isnull(row['attributes.GoodForMeal']):\n",
    "        return 'Others'\n",
    "    else:\n",
    "        for key, value in ast.literal_eval(row['attributes.GoodForMeal']).items():\n",
    "            if value == True:\n",
    "                meal.append(key)\n",
    "        if ('breakfast' in meal) or ('brunch' in meal):\n",
    "            return 'breakfast_brunch'\n",
    "        elif ('dinner' in meal):\n",
    "            return 'dinner'\n",
    "        else:\n",
    "            return 'Others'\n",
    "restaurants['meal'] = restaurants.apply(lambda row: meal_extract(row),axis=1)"
   ]
  },
  {
   "cell_type": "code",
   "execution_count": 67,
   "metadata": {},
   "outputs": [],
   "source": [
    "def breakfast_brunch_label(row):\n",
    "    if row['meal'] == 'breakfast_brunch':\n",
    "        return 1\n",
    "    else:\n",
    "        return 0\n",
    "restaurants['breakfast_brunch'] = restaurants.apply(lambda row: breakfast_brunch_label(row),axis=1)"
   ]
  },
  {
   "cell_type": "code",
   "execution_count": 68,
   "metadata": {},
   "outputs": [],
   "source": [
    "def dinner_label(row):\n",
    "    if row['meal'] == 'dinner':\n",
    "        return 1\n",
    "    else:\n",
    "        return 0\n",
    "restaurants['dinner'] = restaurants.apply(lambda row: dinner_label(row),axis=1)"
   ]
  },
  {
   "cell_type": "markdown",
   "metadata": {},
   "source": [
    "MUSIC"
   ]
  },
  {
   "cell_type": "code",
   "execution_count": 69,
   "metadata": {},
   "outputs": [],
   "source": [
    "def music_extract(row):\n",
    "    music = list()\n",
    "    import ast\n",
    "    if pd.isnull(row['attributes.Music']):\n",
    "        return 'Others'\n",
    "    else:\n",
    "        for key, value in ast.literal_eval(row['attributes.Music']).items():\n",
    "            if value == True:\n",
    "                music.append(key)\n",
    "        if 'background_music' in music:\n",
    "            return 'background_music'\n",
    "        elif 'no_music' in music:\n",
    "            return 'no_music'\n",
    "        else:\n",
    "            return 'Others'\n",
    "restaurants['music'] = restaurants.apply(lambda row: music_extract(row),axis=1)"
   ]
  },
  {
   "cell_type": "code",
   "execution_count": 70,
   "metadata": {},
   "outputs": [],
   "source": [
    "def background_music_label(row):\n",
    "    if row['music'] == 'background_music':\n",
    "        return 1\n",
    "    else:\n",
    "        return 0\n",
    "restaurants['background_music'] = restaurants.apply(lambda row: background_music_label(row),axis=1)"
   ]
  },
  {
   "cell_type": "code",
   "execution_count": 71,
   "metadata": {},
   "outputs": [],
   "source": [
    "def no_music_label(row):\n",
    "    if row['music'] == 'no_music':\n",
    "        return 1\n",
    "    else:\n",
    "        return 0\n",
    "restaurants['no_music'] = restaurants.apply(lambda row: no_music_label(row),axis=1)"
   ]
  },
  {
   "cell_type": "markdown",
   "metadata": {},
   "source": [
    "### 3.7 Create Dummy Variables for features"
   ]
  },
  {
   "cell_type": "code",
   "execution_count": 72,
   "metadata": {},
   "outputs": [],
   "source": [
    "cols_dummy = ['attributes.RestaurantsAttire','attributes.Alcohol',\n",
    "        'attributes.RestaurantsReservations','attributes.GoodForKids','attributes.Smoking',\n",
    "        'attributes.NoiseLevel','attributes.Open24Hours',\n",
    "        'attributes.ByAppointmentOnly','attributes.RestaurantsDelivery',\n",
    "        'attributes.RestaurantsGoodForGroups','attributes.RestaurantsTableService','attributes.WiFi',\n",
    "        'attributes.DogsAllowed','attributes.BusinessAcceptsCreditCards',\n",
    "        'attributes.DriveThru','attributes.Caters','attributes.RestaurantsTakeOut',\n",
    "        'attributes.WheelchairAccessible','attributes.HasTV','attributes.HappyHour',\n",
    "        'attributes.CoatCheck','attributes.OutdoorSeating','is_open','attributes.AcceptsInsurance']"
   ]
  },
  {
   "cell_type": "code",
   "execution_count": 73,
   "metadata": {},
   "outputs": [],
   "source": [
    "res_full = pd.get_dummies(data=restaurants, columns = cols_dummy)"
   ]
  },
  {
   "cell_type": "code",
   "execution_count": 74,
   "metadata": {
    "scrolled": false
   },
   "outputs": [
    {
     "data": {
      "text/plain": [
       "['hours.Friday',\n",
       " 'attributes.BikeParking',\n",
       " 'state',\n",
       " 'categories',\n",
       " 'attributes.BusinessParking',\n",
       " 'attributes.GoodForDancing',\n",
       " 'attributes.BYOB',\n",
       " 'attributes.DietaryRestrictions',\n",
       " 'hours.Sunday',\n",
       " 'attributes.BYOBCorkage',\n",
       " 'latitude',\n",
       " 'attributes.BusinessAcceptsBitcoin',\n",
       " 'attributes.GoodForMeal',\n",
       " 'attributes.BestNights',\n",
       " 'attributes.Corkage',\n",
       " 'attributes.Music',\n",
       " 'hours.Wednesday',\n",
       " 'longitude',\n",
       " 'neighborhood',\n",
       " 'attributes.HairSpecializesIn',\n",
       " 'hours.Thursday',\n",
       " 'attributes.AgesAllowed',\n",
       " 'business_id',\n",
       " 'postal_code',\n",
       " 'hours',\n",
       " 'review_count',\n",
       " 'name',\n",
       " 'hours.Saturday',\n",
       " 'attributes.Ambience',\n",
       " 'attributes.RestaurantsCounterService',\n",
       " 'address',\n",
       " 'attributes.RestaurantsPriceRange2',\n",
       " 'hours.Tuesday',\n",
       " 'hours.Monday',\n",
       " 'attributes',\n",
       " 'stars',\n",
       " 'city',\n",
       " 'country',\n",
       " 'max_rating_rest',\n",
       " 'min_rating_rest',\n",
       " 'useful',\n",
       " 'funny',\n",
       " 'cool',\n",
       " 'earliest_review_date',\n",
       " 'latest_review_date',\n",
       " 'date_difference',\n",
       " 'earliest_till_now',\n",
       " 'latest_till_now',\n",
       " 'Ambience',\n",
       " 'ambience_casual',\n",
       " 'ambience_trendy',\n",
       " 'ambience_others',\n",
       " 'american_food',\n",
       " 'asian_food',\n",
       " 'european_food',\n",
       " 'sandwich',\n",
       " 'burger',\n",
       " 'restaurant',\n",
       " 'business_parking',\n",
       " 'meal',\n",
       " 'breakfast_brunch',\n",
       " 'dinner',\n",
       " 'music',\n",
       " 'background_music',\n",
       " 'no_music',\n",
       " 'attributes.RestaurantsAttire_casual',\n",
       " 'attributes.RestaurantsAttire_dressy',\n",
       " 'attributes.RestaurantsAttire_formal',\n",
       " 'attributes.Alcohol_beer_and_wine',\n",
       " 'attributes.Alcohol_full_bar',\n",
       " 'attributes.Alcohol_none',\n",
       " 'attributes.RestaurantsReservations_False',\n",
       " 'attributes.RestaurantsReservations_True',\n",
       " 'attributes.GoodForKids_False',\n",
       " 'attributes.GoodForKids_True',\n",
       " 'attributes.Smoking_no',\n",
       " 'attributes.Smoking_outdoor',\n",
       " 'attributes.Smoking_yes',\n",
       " 'attributes.NoiseLevel_average',\n",
       " 'attributes.NoiseLevel_loud',\n",
       " 'attributes.NoiseLevel_quiet',\n",
       " 'attributes.NoiseLevel_very_loud',\n",
       " 'attributes.Open24Hours_False',\n",
       " 'attributes.Open24Hours_True',\n",
       " 'attributes.ByAppointmentOnly_False',\n",
       " 'attributes.ByAppointmentOnly_True',\n",
       " 'attributes.RestaurantsDelivery_False',\n",
       " 'attributes.RestaurantsDelivery_True',\n",
       " 'attributes.RestaurantsGoodForGroups_False',\n",
       " 'attributes.RestaurantsGoodForGroups_True',\n",
       " 'attributes.RestaurantsTableService_False',\n",
       " 'attributes.RestaurantsTableService_True',\n",
       " 'attributes.WiFi_free',\n",
       " 'attributes.WiFi_no',\n",
       " 'attributes.WiFi_paid',\n",
       " 'attributes.DogsAllowed_False',\n",
       " 'attributes.DogsAllowed_True',\n",
       " 'attributes.BusinessAcceptsCreditCards_False',\n",
       " 'attributes.BusinessAcceptsCreditCards_True',\n",
       " 'attributes.DriveThru_False',\n",
       " 'attributes.DriveThru_True',\n",
       " 'attributes.Caters_False',\n",
       " 'attributes.Caters_True',\n",
       " 'attributes.RestaurantsTakeOut_False',\n",
       " 'attributes.RestaurantsTakeOut_True',\n",
       " 'attributes.WheelchairAccessible_False',\n",
       " 'attributes.WheelchairAccessible_True',\n",
       " 'attributes.HasTV_False',\n",
       " 'attributes.HasTV_True',\n",
       " 'attributes.HappyHour_False',\n",
       " 'attributes.HappyHour_True',\n",
       " 'attributes.CoatCheck_False',\n",
       " 'attributes.CoatCheck_True',\n",
       " 'attributes.OutdoorSeating_False',\n",
       " 'attributes.OutdoorSeating_True',\n",
       " 'is_open_0',\n",
       " 'is_open_1',\n",
       " 'attributes.AcceptsInsurance_False',\n",
       " 'attributes.AcceptsInsurance_True']"
      ]
     },
     "execution_count": 74,
     "metadata": {},
     "output_type": "execute_result"
    }
   ],
   "source": [
    "res_full.columns.values.tolist()"
   ]
  },
  {
   "cell_type": "markdown",
   "metadata": {},
   "source": [
    "### 3.8 Final Feature Selection before any Feature Reduction"
   ]
  },
  {
   "cell_type": "code",
   "execution_count": 79,
   "metadata": {},
   "outputs": [],
   "source": [
    "cols_ml = ['review_count',\n",
    " 'attributes.RestaurantsAttire_casual',\n",
    " 'attributes.RestaurantsAttire_dressy',\n",
    " 'attributes.RestaurantsAttire_formal',\n",
    " 'attributes.RestaurantsReservations_True',\n",
    " 'attributes.GoodForKids_True',\n",
    " 'attributes.Smoking_yes',\n",
    " 'attributes.NoiseLevel_very_loud',\n",
    " 'attributes.Open24Hours_True',\n",
    " 'attributes.RestaurantsGoodForGroups_True',\n",
    " 'attributes.WiFi_free',\n",
    " 'attributes.BusinessAcceptsCreditCards_True',\n",
    " 'attributes.RestaurantsPriceRange2',\n",
    " 'attributes.HappyHour_True',\n",
    " 'attributes.OutdoorSeating_True',\n",
    " 'ambience_casual',\n",
    " 'ambience_trendy',\n",
    " 'attributes.AgesAllowed',\n",
    " 'max_rating_rest',\n",
    " 'min_rating_rest',\n",
    " 'useful','funny','cool',\n",
    " 'american_food','asian_food','european_food',\n",
    " 'sandwich','burger','restaurant',\n",
    " 'date_difference','earliest_till_now','latest_till_now',\n",
    " 'no_music','background_music',\n",
    " 'business_parking','breakfast_brunch','dinner']"
   ]
  },
  {
   "cell_type": "markdown",
   "metadata": {},
   "source": [
    "# 4. Machine Learning Models"
   ]
  },
  {
   "cell_type": "markdown",
   "metadata": {},
   "source": [
    "* Linear Regression\n",
    "* Logistic Regression\n",
    "* Decision Tree\n",
    "* Random Forest\n",
    "* Bootstrapping"
   ]
  },
  {
   "cell_type": "markdown",
   "metadata": {},
   "source": [
    "### 4.0 Preprocessing"
   ]
  },
  {
   "cell_type": "code",
   "execution_count": 80,
   "metadata": {},
   "outputs": [],
   "source": [
    "X = res_full[cols_ml]\n",
    "y = res_full['stars']"
   ]
  },
  {
   "cell_type": "code",
   "execution_count": 81,
   "metadata": {},
   "outputs": [
    {
     "name": "stderr",
     "output_type": "stream",
     "text": [
      "/usr/local/lib/python3.6/site-packages/pandas/core/frame.py:3790: SettingWithCopyWarning: \n",
      "A value is trying to be set on a copy of a slice from a DataFrame\n",
      "\n",
      "See the caveats in the documentation: http://pandas.pydata.org/pandas-docs/stable/indexing.html#indexing-view-versus-copy\n",
      "  downcast=downcast, **kwargs)\n"
     ]
    }
   ],
   "source": [
    "X.fillna(0,inplace=True)"
   ]
  },
  {
   "cell_type": "markdown",
   "metadata": {},
   "source": [
    "BACKWARD ELIMINATION OF FEATURES HAVING P-VALUE < 0.05 SIGNIFICANCE LEVEL"
   ]
  },
  {
   "cell_type": "code",
   "execution_count": 82,
   "metadata": {},
   "outputs": [
    {
     "name": "stdout",
     "output_type": "stream",
     "text": [
      "                              Results: Ordinary least squares\n",
      "===========================================================================================\n",
      "Model:                       OLS                     Adj. R-squared:            0.978      \n",
      "Dependent Variable:          stars                   AIC:                       119515.3116\n",
      "Date:                        2018-12-02 20:30        BIC:                       119838.2073\n",
      "No. Observations:            75026                   Log-Likelihood:            -59723.    \n",
      "Df Model:                    35                      F-statistic:               9.375e+04  \n",
      "Df Residuals:                74991                   Prob (F-statistic):        0.00       \n",
      "R-squared:                   0.978                   Scale:                     0.28784    \n",
      "-------------------------------------------------------------------------------------------\n",
      "                                            Coef.  Std.Err.    t     P>|t|   [0.025  0.975]\n",
      "-------------------------------------------------------------------------------------------\n",
      "review_count                                0.0005   0.0000  35.0330 0.0000  0.0005  0.0006\n",
      "attributes.RestaurantsAttire_casual        -0.0026   0.0082  -0.3243 0.7457 -0.0186  0.0133\n",
      "attributes.RestaurantsAttire_dressy         0.1417   0.0173   8.1859 0.0000  0.1078  0.1757\n",
      "attributes.RestaurantsAttire_formal         0.0365   0.0488   0.7489 0.4539 -0.0590  0.1321\n",
      "attributes.RestaurantsReservations_True    -0.0014   0.0056  -0.2442 0.8071 -0.0123  0.0095\n",
      "attributes.GoodForKids_True                -0.0209   0.0064  -3.2878 0.0010 -0.0334 -0.0084\n",
      "attributes.Smoking_yes                      0.0951   0.0181   5.2537 0.0000  0.0596  0.1305\n",
      "attributes.NoiseLevel_very_loud            -0.2393   0.0141 -16.9132 0.0000 -0.2670 -0.2115\n",
      "attributes.Open24Hours_True                -0.1832   0.0998  -1.8351 0.0665 -0.3788  0.0125\n",
      "attributes.RestaurantsGoodForGroups_True   -0.0067   0.0060  -1.1087 0.2676 -0.0186  0.0051\n",
      "attributes.WiFi_free                        0.0027   0.0048   0.5551 0.5789 -0.0067  0.0121\n",
      "attributes.BusinessAcceptsCreditCards_True -0.0370   0.0058  -6.4294 0.0000 -0.0483 -0.0257\n",
      "attributes.RestaurantsPriceRange2           0.0072   0.0031   2.3694 0.0178  0.0012  0.0132\n",
      "attributes.HappyHour_True                  -0.0201   0.0083  -2.4064 0.0161 -0.0365 -0.0037\n",
      "attributes.OutdoorSeating_True              0.0346   0.0049   7.0369 0.0000  0.0250  0.0442\n",
      "ambience_casual                             0.1033   0.0059  17.4762 0.0000  0.0917  0.1149\n",
      "ambience_trendy                             0.1321   0.0118  11.2129 0.0000  0.1090  0.1552\n",
      "attributes.AgesAllowed                     -0.0774   0.0129  -5.9977 0.0000 -0.1027 -0.0521\n",
      "max_rating_rest                             0.6134   0.0019 324.1459 0.0000  0.6097  0.6171\n",
      "min_rating_rest                             0.4232   0.0022 190.3736 0.0000  0.4188  0.4275\n",
      "useful                                     -0.0273   0.0029  -9.3960 0.0000 -0.0329 -0.0216\n",
      "funny                                      -0.1075   0.0040 -27.0204 0.0000 -0.1153 -0.0997\n",
      "cool                                        0.1655   0.0041  40.0235 0.0000  0.1574  0.1736\n",
      "american_food                              -0.0444   0.0065  -6.7971 0.0000 -0.0572 -0.0316\n",
      "asian_food                                  0.0225   0.0063   3.5634 0.0004  0.0101  0.0348\n",
      "european_food                               0.0844   0.0068  12.3901 0.0000  0.0711  0.0978\n",
      "sandwich                                    0.0527   0.0072   7.3742 0.0000  0.0387  0.0667\n",
      "burger                                     -0.2651   0.0082 -32.4981 0.0000 -0.2811 -0.2491\n",
      "restaurant                                 -0.0988   0.0078 -12.5897 0.0000 -0.1142 -0.0834\n",
      "date_difference                            -0.0000   0.0000 -16.7505 0.0000 -0.0000 -0.0000\n",
      "earliest_till_now                          -0.0001   0.0000 -39.7746 0.0000 -0.0001 -0.0001\n",
      "latest_till_now                            -0.0000   0.0000 -15.5543 0.0000 -0.0000 -0.0000\n",
      "no_music                                   -0.0000   0.0000  -0.4496 0.6530 -0.0000  0.0000\n",
      "background_music                           -0.0124   0.0139  -0.8891 0.3739 -0.0396  0.0149\n",
      "business_parking                            0.1968   0.0049  39.8234 0.0000  0.1871  0.2065\n",
      "breakfast_brunch                            0.0531   0.0083   6.4295 0.0000  0.0369  0.0693\n",
      "dinner                                      0.1045   0.0066  15.9116 0.0000  0.0916  0.1173\n",
      "-------------------------------------------------------------------------------------------\n",
      "Omnibus:                   2487.242           Durbin-Watson:              1.996            \n",
      "Prob(Omnibus):             0.000              Jarque-Bera (JB):           4294.323         \n",
      "Skew:                      -0.288             Prob(JB):                   0.000            \n",
      "Kurtosis:                  4.021              Condition No.:              10991420938765282\n",
      "===========================================================================================\n",
      "* The condition number is large (1e+16). This might indicate             strong\n",
      "multicollinearity or other numerical problems.\n"
     ]
    }
   ],
   "source": [
    "import statsmodels.api as sm\n",
    "OLS_model=sm.OLS(y,X)\n",
    "result=OLS_model.fit()\n",
    "print(result.summary2())"
   ]
  },
  {
   "cell_type": "markdown",
   "metadata": {},
   "source": [
    "Eliminate these features with p < 0.05:\n",
    "* Business Attire: Casual\n",
    "* Business Attire: Formal\n",
    "* Restaurant Reservations\n",
    "* Good for Groups\n",
    "* Free WiFi\n",
    "* No Music\n",
    "* Background Music"
   ]
  },
  {
   "cell_type": "code",
   "execution_count": 83,
   "metadata": {},
   "outputs": [],
   "source": [
    "cols_ml = ['review_count',\n",
    " 'attributes.RestaurantsAttire_dressy',\n",
    " 'attributes.GoodForKids_True',\n",
    " 'attributes.Smoking_yes',\n",
    " 'attributes.NoiseLevel_very_loud',\n",
    " 'attributes.Open24Hours_True',\n",
    " 'attributes.BusinessAcceptsCreditCards_True',\n",
    " 'attributes.RestaurantsPriceRange2',\n",
    " 'attributes.HappyHour_True',\n",
    " 'attributes.OutdoorSeating_True',\n",
    " 'ambience_casual',\n",
    " 'ambience_trendy',\n",
    " 'attributes.AgesAllowed',\n",
    " 'max_rating_rest',\n",
    " 'min_rating_rest',\n",
    " 'useful','funny','cool',\n",
    " 'american_food','asian_food','european_food',\n",
    " 'sandwich','burger','restaurant',\n",
    " 'date_difference','earliest_till_now','latest_till_now',\n",
    " 'business_parking','breakfast_brunch','dinner']"
   ]
  },
  {
   "cell_type": "code",
   "execution_count": 84,
   "metadata": {},
   "outputs": [
    {
     "name": "stderr",
     "output_type": "stream",
     "text": [
      "/usr/local/lib/python3.6/site-packages/pandas/core/frame.py:3790: SettingWithCopyWarning: \n",
      "A value is trying to be set on a copy of a slice from a DataFrame\n",
      "\n",
      "See the caveats in the documentation: http://pandas.pydata.org/pandas-docs/stable/indexing.html#indexing-view-versus-copy\n",
      "  downcast=downcast, **kwargs)\n"
     ]
    }
   ],
   "source": [
    "X = res_full[cols_ml]\n",
    "y = res_full['stars']\n",
    "X.fillna(0,inplace=True)"
   ]
  },
  {
   "cell_type": "code",
   "execution_count": 85,
   "metadata": {},
   "outputs": [],
   "source": [
    "from sklearn.model_selection import train_test_split\n",
    "train_X, test_X, train_y, test_y = train_test_split(X, y, test_size = 0.3)"
   ]
  },
  {
   "cell_type": "markdown",
   "metadata": {},
   "source": [
    "### 4.1 Linear Regression"
   ]
  },
  {
   "cell_type": "code",
   "execution_count": 86,
   "metadata": {},
   "outputs": [
    {
     "data": {
      "text/plain": [
       "LinearRegression(copy_X=True, fit_intercept=True, n_jobs=None,\n",
       "         normalize=False)"
      ]
     },
     "execution_count": 86,
     "metadata": {},
     "output_type": "execute_result"
    }
   ],
   "source": [
    "from sklearn import linear_model\n",
    "model = linear_model.LinearRegression()\n",
    "model.fit(train_X, train_y)"
   ]
  },
  {
   "cell_type": "code",
   "execution_count": 87,
   "metadata": {},
   "outputs": [
    {
     "data": {
      "text/plain": [
       "array([3.6107913 , 3.55183028, 3.78136708, ..., 3.60577707, 3.32120467,\n",
       "       3.92628734])"
      ]
     },
     "execution_count": 87,
     "metadata": {},
     "output_type": "execute_result"
    }
   ],
   "source": [
    "pred_y  = model.predict(test_X)\n",
    "pred_y"
   ]
  },
  {
   "cell_type": "code",
   "execution_count": 88,
   "metadata": {},
   "outputs": [
    {
     "name": "stdout",
     "output_type": "stream",
     "text": [
      "Coefficients: \n",
      " [ 5.09853461e-04  1.45241754e-01 -2.71297088e-02  8.50312294e-02\n",
      " -2.29793156e-01 -1.11427555e-01 -3.37942336e-02  8.01263325e-03\n",
      " -2.76714805e-02  3.13711285e-02  9.88704120e-02  1.38297579e-01\n",
      " -8.01841753e-02  6.31116099e-01  4.26222393e-01 -2.56041500e-02\n",
      " -9.15096011e-02  1.53982865e-01 -4.85122664e-02  2.75934762e-02\n",
      "  7.56673251e-02  6.43880683e-02 -2.63146296e-01 -9.08020644e-02\n",
      "  3.66615637e+08 -3.66615637e+08  3.66615637e+08  2.00342448e-01\n",
      "  5.76348186e-02  1.05466012e-01]\n",
      "Mean squared error: 0.29\n",
      "Variance score: 0.57\n"
     ]
    }
   ],
   "source": [
    "from sklearn.metrics import mean_squared_error, r2_score\n",
    "\n",
    "# The coefficients\n",
    "print('Coefficients: \\n', model.coef_)\n",
    "# The mean squared error\n",
    "print(\"Mean squared error: %.2f\"\n",
    "      % mean_squared_error(test_y, pred_y))\n",
    "# Explained variance score: 1 is perfect prediction\n",
    "print('Variance score: %.2f' % r2_score(test_y, pred_y))"
   ]
  },
  {
   "cell_type": "markdown",
   "metadata": {},
   "source": [
    "### 4.2 Try to classify the successful restaurant using the result above"
   ]
  },
  {
   "cell_type": "code",
   "execution_count": 89,
   "metadata": {},
   "outputs": [],
   "source": [
    "res_full['success'] = np.where(restaurants['stars'] >= 3.5,1,0)"
   ]
  },
  {
   "cell_type": "code",
   "execution_count": 90,
   "metadata": {},
   "outputs": [
    {
     "name": "stderr",
     "output_type": "stream",
     "text": [
      "/usr/local/lib/python3.6/site-packages/pandas/core/frame.py:3790: SettingWithCopyWarning: \n",
      "A value is trying to be set on a copy of a slice from a DataFrame\n",
      "\n",
      "See the caveats in the documentation: http://pandas.pydata.org/pandas-docs/stable/indexing.html#indexing-view-versus-copy\n",
      "  downcast=downcast, **kwargs)\n"
     ]
    }
   ],
   "source": [
    "X = res_full[cols_ml]\n",
    "y = res_full['success']\n",
    "X.fillna(0,inplace=True)\n",
    "train_X, test_X, train_y, test_y = train_test_split(X,y,test_size = 0.3, random_state = 11)"
   ]
  },
  {
   "cell_type": "code",
   "execution_count": 91,
   "metadata": {},
   "outputs": [
    {
     "data": {
      "text/plain": [
       "array([0., 0., 0., ..., 0., 0., 0.])"
      ]
     },
     "execution_count": 91,
     "metadata": {},
     "output_type": "execute_result"
    }
   ],
   "source": [
    "def get_classification(predictions, threshold):\n",
    "    classes = np.zeros_like(predictions)\n",
    "    for i in range(len(classes)):\n",
    "        if predictions[i] > threshold:\n",
    "            classes[i] = 1\n",
    "    return classes\n",
    "get_classification(pred_y, 4)"
   ]
  },
  {
   "cell_type": "code",
   "execution_count": 92,
   "metadata": {},
   "outputs": [
    {
     "name": "stdout",
     "output_type": "stream",
     "text": [
      "6787 1151 12395 2175\n"
     ]
    }
   ],
   "source": [
    "from sklearn.metrics import confusion_matrix\n",
    "tn, fp, fn, tp = confusion_matrix(test_y, get_classification(pred_y,4)).ravel()\n",
    "print(tn, fp, fn, tp)"
   ]
  },
  {
   "cell_type": "code",
   "execution_count": 93,
   "metadata": {},
   "outputs": [
    {
     "name": "stdout",
     "output_type": "stream",
     "text": [
      "0.39816953971921093\n"
     ]
    }
   ],
   "source": [
    "accuracy = (tp+tn)/(tp+tn+fp+fn)\n",
    "print(accuracy)"
   ]
  },
  {
   "cell_type": "code",
   "execution_count": 94,
   "metadata": {},
   "outputs": [
    {
     "data": {
      "image/png": "[encoded data removed]",
      "text/plain": [
       "<Figure size 432x288 with 1 Axes>"
      ]
     },
     "metadata": {
      "needs_background": "light"
     },
     "output_type": "display_data"
    }
   ],
   "source": [
    "from sklearn.metrics import roc_curve, auc\n",
    "testing_predictions = model.predict(test_X)\n",
    "(fpr, tpr, thresholds) = roc_curve(test_y,testing_predictions)\n",
    "\n",
    "area = auc(fpr,tpr)\n",
    "plt.clf() #Clear the current figure\n",
    "plt.plot(fpr,tpr,label=\"Out-Sample ROC Curve with area = %1.2f\"%area)\n",
    "\n",
    "plt.plot([0, 1], [0, 1], 'k')\n",
    "plt.xlim([0.0, 1.0])\n",
    "plt.ylim([0.0, 1.0])\n",
    "plt.xlabel('False Positive Rate')\n",
    "plt.ylabel('True Positive Rate')\n",
    "plt.title('ROC Curve')\n",
    "plt.legend(loc=\"lower right\")\n",
    "plt.show()"
   ]
  },
  {
   "cell_type": "markdown",
   "metadata": {},
   "source": [
    "### 4.3 Logistic Regression"
   ]
  },
  {
   "cell_type": "code",
   "execution_count": 95,
   "metadata": {},
   "outputs": [
    {
     "name": "stderr",
     "output_type": "stream",
     "text": [
      "/usr/local/lib/python3.6/site-packages/sklearn/linear_model/logistic.py:433: FutureWarning: Default solver will be changed to 'lbfgs' in 0.22. Specify a solver to silence this warning.\n",
      "  FutureWarning)\n"
     ]
    }
   ],
   "source": [
    "from sklearn.linear_model import LogisticRegression\n",
    "logr = LogisticRegression().fit(train_X,train_y)"
   ]
  },
  {
   "cell_type": "code",
   "execution_count": 415,
   "metadata": {},
   "outputs": [
    {
     "name": "stdout",
     "output_type": "stream",
     "text": [
      "logr training set accuracy: 0.790\n"
     ]
    }
   ],
   "source": [
    "trainset_acc = logr.score(train_X,train_y)\n",
    "print('logr training set accuracy: {:.3f}'.format(trainset_acc))"
   ]
  },
  {
   "cell_type": "code",
   "execution_count": 96,
   "metadata": {},
   "outputs": [
    {
     "name": "stderr",
     "output_type": "stream",
     "text": [
      "/usr/local/lib/python3.6/site-packages/sklearn/linear_model/logistic.py:433: FutureWarning: Default solver will be changed to 'lbfgs' in 0.22. Specify a solver to silence this warning.\n",
      "  FutureWarning)\n",
      "/usr/local/lib/python3.6/site-packages/sklearn/linear_model/logistic.py:433: FutureWarning: Default solver will be changed to 'lbfgs' in 0.22. Specify a solver to silence this warning.\n",
      "  FutureWarning)\n",
      "/usr/local/lib/python3.6/site-packages/sklearn/linear_model/logistic.py:433: FutureWarning: Default solver will be changed to 'lbfgs' in 0.22. Specify a solver to silence this warning.\n",
      "  FutureWarning)\n",
      "/usr/local/lib/python3.6/site-packages/sklearn/linear_model/logistic.py:433: FutureWarning: Default solver will be changed to 'lbfgs' in 0.22. Specify a solver to silence this warning.\n",
      "  FutureWarning)\n",
      "/usr/local/lib/python3.6/site-packages/sklearn/linear_model/logistic.py:433: FutureWarning: Default solver will be changed to 'lbfgs' in 0.22. Specify a solver to silence this warning.\n",
      "  FutureWarning)\n",
      "/usr/local/lib/python3.6/site-packages/sklearn/linear_model/logistic.py:433: FutureWarning: Default solver will be changed to 'lbfgs' in 0.22. Specify a solver to silence this warning.\n",
      "  FutureWarning)\n",
      "/usr/local/lib/python3.6/site-packages/sklearn/linear_model/logistic.py:433: FutureWarning: Default solver will be changed to 'lbfgs' in 0.22. Specify a solver to silence this warning.\n",
      "  FutureWarning)\n",
      "/usr/local/lib/python3.6/site-packages/sklearn/linear_model/logistic.py:433: FutureWarning: Default solver will be changed to 'lbfgs' in 0.22. Specify a solver to silence this warning.\n",
      "  FutureWarning)\n",
      "/usr/local/lib/python3.6/site-packages/sklearn/linear_model/logistic.py:433: FutureWarning: Default solver will be changed to 'lbfgs' in 0.22. Specify a solver to silence this warning.\n",
      "  FutureWarning)\n",
      "/usr/local/lib/python3.6/site-packages/sklearn/linear_model/logistic.py:433: FutureWarning: Default solver will be changed to 'lbfgs' in 0.22. Specify a solver to silence this warning.\n",
      "  FutureWarning)\n",
      "/usr/local/lib/python3.6/site-packages/sklearn/linear_model/logistic.py:433: FutureWarning: Default solver will be changed to 'lbfgs' in 0.22. Specify a solver to silence this warning.\n",
      "  FutureWarning)\n"
     ]
    },
    {
     "name": "stdout",
     "output_type": "stream",
     "text": [
      "[False  True False  True  True  True  True False False False  True  True\n",
      " False  True  True  True  True  True  True False  True  True  True  True\n",
      " False False False  True  True  True]\n",
      "[ 7  1  5  1  1  1  1  8  6  3  1  1  2  1  1  1  1  1  1  4  1  1  1  1\n",
      " 11  9 10  1  1  1]\n"
     ]
    }
   ],
   "source": [
    "# Recursive Feature Elimination\n",
    "from sklearn.feature_selection import RFE\n",
    "from sklearn.linear_model import LogisticRegression\n",
    "logreg = LogisticRegression()\n",
    "rfe = RFE(logreg, 20)\n",
    "rfe = rfe.fit(train_X, train_y)\n",
    "print(rfe.support_)\n",
    "print(rfe.ranking_)"
   ]
  },
  {
   "cell_type": "code",
   "execution_count": 97,
   "metadata": {},
   "outputs": [],
   "source": [
    "rfe_rank = rfe.support_"
   ]
  },
  {
   "cell_type": "code",
   "execution_count": 104,
   "metadata": {},
   "outputs": [],
   "source": [
    "from itertools import compress\n",
    "cols_log = list(compress(cols_ml, rfe_rank))"
   ]
  },
  {
   "cell_type": "code",
   "execution_count": 105,
   "metadata": {},
   "outputs": [
    {
     "data": {
      "text/plain": [
       "['attributes.RestaurantsAttire_dressy',\n",
       " 'attributes.Smoking_yes',\n",
       " 'attributes.NoiseLevel_very_loud',\n",
       " 'attributes.Open24Hours_True',\n",
       " 'attributes.BusinessAcceptsCreditCards_True',\n",
       " 'ambience_casual',\n",
       " 'ambience_trendy',\n",
       " 'max_rating_rest',\n",
       " 'min_rating_rest',\n",
       " 'useful',\n",
       " 'funny',\n",
       " 'cool',\n",
       " 'american_food',\n",
       " 'european_food',\n",
       " 'sandwich',\n",
       " 'burger',\n",
       " 'restaurant',\n",
       " 'business_parking',\n",
       " 'breakfast_brunch',\n",
       " 'dinner']"
      ]
     },
     "execution_count": 105,
     "metadata": {},
     "output_type": "execute_result"
    }
   ],
   "source": [
    "cols_clas"
   ]
  },
  {
   "cell_type": "markdown",
   "metadata": {},
   "source": [
    "We can see that the following features are eliminated:\n",
    "* Review Count (surprising enough, the review counts are not that important when it comes to high ratings)\n",
    "* Good For Kids\n",
    "* Price Range\n",
    "* Happy Hour\n",
    "* Outdoors Seating\n",
    "* Ages Allowed\n",
    "* Serving Asian food\n",
    "* The time-related features"
   ]
  },
  {
   "cell_type": "code",
   "execution_count": 106,
   "metadata": {},
   "outputs": [],
   "source": [
    "X = X[cols_log]"
   ]
  },
  {
   "cell_type": "code",
   "execution_count": 107,
   "metadata": {},
   "outputs": [
    {
     "name": "stdout",
     "output_type": "stream",
     "text": [
      "Optimization terminated successfully.\n",
      "         Current function value: 0.513858\n",
      "         Iterations 7\n",
      "                                      Results: Logit\n",
      "===========================================================================================\n",
      "Model:                        Logit                    Pseudo R-squared:         0.208     \n",
      "Dependent Variable:           success                  AIC:                      77145.4209\n",
      "Date:                         2018-12-02 20:39         BIC:                      77329.9327\n",
      "No. Observations:             75026                    Log-Likelihood:           -38553.   \n",
      "Df Model:                     19                       LL-Null:                  -48690.   \n",
      "Df Residuals:                 75006                    LLR p-value:              0.0000    \n",
      "Converged:                    1.0000                   Scale:                    1.0000    \n",
      "No. Iterations:               7.0000                                                       \n",
      "-------------------------------------------------------------------------------------------\n",
      "                                            Coef.  Std.Err.    z     P>|z|   [0.025  0.975]\n",
      "-------------------------------------------------------------------------------------------\n",
      "attributes.RestaurantsAttire_dressy         0.8508   0.0758  11.2265 0.0000  0.7023  0.9993\n",
      "attributes.Smoking_yes                      0.2565   0.0786   3.2628 0.0011  0.1024  0.4107\n",
      "attributes.NoiseLevel_very_loud            -0.7734   0.0606 -12.7534 0.0000 -0.8923 -0.6546\n",
      "attributes.Open24Hours_True                -0.6206   0.3938  -1.5758 0.1151 -1.3925  0.1513\n",
      "attributes.BusinessAcceptsCreditCards_True -0.6992   0.0258 -27.1090 0.0000 -0.7497 -0.6486\n",
      "ambience_casual                             0.5202   0.0242  21.5093 0.0000  0.4728  0.5676\n",
      "ambience_trendy                             0.9866   0.0613  16.1026 0.0000  0.8665  1.1067\n",
      "max_rating_rest                            -0.0172   0.0079  -2.1837 0.0290 -0.0327 -0.0018\n",
      "min_rating_rest                             1.1444   0.0175  65.4792 0.0000  1.1101  1.1786\n",
      "useful                                     -0.2445   0.0146 -16.7124 0.0000 -0.2732 -0.2158\n",
      "funny                                      -1.2823   0.0296 -43.2574 0.0000 -1.3404 -1.2242\n",
      "cool                                        1.4020   0.0291  48.1676 0.0000  1.3450  1.4591\n",
      "american_food                              -0.0937   0.0263  -3.5592 0.0004 -0.1453 -0.0421\n",
      "european_food                               0.3449   0.0297  11.6228 0.0000  0.2867  0.4031\n",
      "sandwich                                    0.1471   0.0303   4.8596 0.0000  0.0878  0.2065\n",
      "burger                                     -0.7090   0.0338 -20.9599 0.0000 -0.7753 -0.6427\n",
      "restaurant                                 -0.8428   0.0248 -33.9309 0.0000 -0.8915 -0.7941\n",
      "business_parking                            0.6069   0.0213  28.5436 0.0000  0.5652  0.6485\n",
      "breakfast_brunch                            0.3912   0.0342  11.4331 0.0000  0.3241  0.4582\n",
      "dinner                                      0.6358   0.0270  23.5441 0.0000  0.5829  0.6887\n",
      "===========================================================================================\n",
      "\n"
     ]
    }
   ],
   "source": [
    "import statsmodels.api as sm\n",
    "logit_model=sm.Logit(y,X)\n",
    "result=logit_model.fit()\n",
    "print(result.summary2())"
   ]
  },
  {
   "cell_type": "markdown",
   "metadata": {},
   "source": [
    "Continue to eliminate Open 24 Hours"
   ]
  },
  {
   "cell_type": "code",
   "execution_count": 109,
   "metadata": {},
   "outputs": [],
   "source": [
    "cols_log = ['attributes.RestaurantsAttire_dressy',\n",
    " 'attributes.Smoking_yes',\n",
    " 'attributes.NoiseLevel_very_loud',\n",
    " 'attributes.BusinessAcceptsCreditCards_True',\n",
    " 'ambience_casual',\n",
    " 'ambience_trendy',\n",
    " 'max_rating_rest',\n",
    " 'min_rating_rest',\n",
    " 'useful',\n",
    " 'funny',\n",
    " 'cool',\n",
    " 'american_food',\n",
    " 'european_food',\n",
    " 'sandwich',\n",
    " 'burger',\n",
    " 'restaurant',\n",
    " 'business_parking',\n",
    " 'breakfast_brunch',\n",
    " 'dinner']"
   ]
  },
  {
   "cell_type": "code",
   "execution_count": 110,
   "metadata": {},
   "outputs": [
    {
     "name": "stderr",
     "output_type": "stream",
     "text": [
      "/usr/local/lib/python3.6/site-packages/sklearn/linear_model/logistic.py:433: FutureWarning: Default solver will be changed to 'lbfgs' in 0.22. Specify a solver to silence this warning.\n",
      "  FutureWarning)\n"
     ]
    },
    {
     "data": {
      "text/plain": [
       "LogisticRegression(C=1.0, class_weight=None, dual=False, fit_intercept=True,\n",
       "          intercept_scaling=1, max_iter=100, multi_class='warn',\n",
       "          n_jobs=None, penalty='l2', random_state=None, solver='warn',\n",
       "          tol=0.0001, verbose=0, warm_start=False)"
      ]
     },
     "execution_count": 110,
     "metadata": {},
     "output_type": "execute_result"
    }
   ],
   "source": [
    "from sklearn.linear_model import LogisticRegression\n",
    "from sklearn import metrics\n",
    "\n",
    "X_train, X_test, y_train, y_test = train_test_split(X, y, test_size=0.3, random_state=0)\n",
    "\n",
    "logreg = LogisticRegression()\n",
    "logreg.fit(X_train, y_train)"
   ]
  },
  {
   "cell_type": "code",
   "execution_count": 111,
   "metadata": {},
   "outputs": [
    {
     "name": "stdout",
     "output_type": "stream",
     "text": [
      "Accuracy of logistic regression classifier on test set: 0.78\n"
     ]
    }
   ],
   "source": [
    "y_pred = logreg.predict(X_test)\n",
    "print('Accuracy of logistic regression classifier on test set: {:.2f}'.format(logreg.score(X_test, y_test)))"
   ]
  },
  {
   "cell_type": "code",
   "execution_count": 115,
   "metadata": {},
   "outputs": [
    {
     "data": {
      "image/png": "[encoded data removed]",
      "text/plain": [
       "<Figure size 432x288 with 1 Axes>"
      ]
     },
     "metadata": {
      "needs_background": "light"
     },
     "output_type": "display_data"
    }
   ],
   "source": [
    "from sklearn.metrics import roc_auc_score\n",
    "from sklearn.metrics import roc_curve\n",
    "\n",
    "logit_roc_auc = roc_auc_score(y_test, logreg.predict(X_test))\n",
    "fpr, tpr, thresholds = roc_curve(y_test, logreg.predict_proba(X_test)[:,1])\n",
    "plt.figure()\n",
    "plt.plot(fpr, tpr, label='Logistic Regression (area = %0.2f)' % logit_roc_auc)\n",
    "plt.plot([0, 1], [0, 1],'b')\n",
    "plt.xlim([0.0, 1.0])\n",
    "plt.ylim([0.0, 1.05])\n",
    "plt.xlabel('False Positive Rate')\n",
    "plt.ylabel('True Positive Rate')\n",
    "plt.title('ROC for Logistic Regression')\n",
    "plt.legend(loc=\"lower right\")\n",
    "plt.savefig('Log_ROC')\n",
    "plt.show()"
   ]
  },
  {
   "cell_type": "markdown",
   "metadata": {},
   "source": [
    "### 4.4 Decision Trees"
   ]
  },
  {
   "cell_type": "code",
   "execution_count": 118,
   "metadata": {},
   "outputs": [
    {
     "name": "stderr",
     "output_type": "stream",
     "text": [
      "/usr/local/lib/python3.6/site-packages/pandas/core/frame.py:3790: SettingWithCopyWarning: \n",
      "A value is trying to be set on a copy of a slice from a DataFrame\n",
      "\n",
      "See the caveats in the documentation: http://pandas.pydata.org/pandas-docs/stable/indexing.html#indexing-view-versus-copy\n",
      "  downcast=downcast, **kwargs)\n"
     ]
    }
   ],
   "source": [
    "X = res_full[cols_ml]\n",
    "y = res_full['success']\n",
    "X.fillna(0,inplace=True)\n",
    "from sklearn.model_selection import train_test_split\n",
    "train_X, test_X, train_y, test_y = train_test_split(X, y, test_size = 0.3)"
   ]
  },
  {
   "cell_type": "code",
   "execution_count": 119,
   "metadata": {},
   "outputs": [
    {
     "data": {
      "text/plain": [
       "DecisionTreeClassifier(class_weight=None, criterion='entropy', max_depth=5,\n",
       "            max_features=None, max_leaf_nodes=None,\n",
       "            min_impurity_decrease=0.0, min_impurity_split=None,\n",
       "            min_samples_leaf=1, min_samples_split=2,\n",
       "            min_weight_fraction_leaf=0.0, presort=False, random_state=None,\n",
       "            splitter='best')"
      ]
     },
     "execution_count": 119,
     "metadata": {},
     "output_type": "execute_result"
    }
   ],
   "source": [
    "from sklearn.tree import DecisionTreeClassifier\n",
    "from sklearn import tree\n",
    "\n",
    "model = tree.DecisionTreeClassifier(max_depth = 5,criterion='entropy')\n",
    "model.fit(train_X, train_y)"
   ]
  },
  {
   "cell_type": "code",
   "execution_count": 120,
   "metadata": {},
   "outputs": [
    {
     "name": "stdout",
     "output_type": "stream",
     "text": [
      "[[ 7913  1779]\n",
      " [10587 32239]]\n",
      "[[ 3470   758]\n",
      " [ 4476 13804]]\n"
     ]
    }
   ],
   "source": [
    "from sklearn.metrics import confusion_matrix\n",
    "p_train=model.predict(train_X)\n",
    "p_test = model.predict(test_X)\n",
    "print(confusion_matrix(p_train,np.array(train_y)))\n",
    "print(confusion_matrix(p_test,np.array(test_y)))"
   ]
  },
  {
   "cell_type": "code",
   "execution_count": 121,
   "metadata": {},
   "outputs": [],
   "source": [
    "cm = confusion_matrix(p_test,np.array(test_y))"
   ]
  },
  {
   "cell_type": "code",
   "execution_count": 122,
   "metadata": {},
   "outputs": [
    {
     "name": "stdout",
     "output_type": "stream",
     "text": [
      "Accuracy is 0.7674604585036432\n"
     ]
    }
   ],
   "source": [
    "Accuracy = (cm[0,0] + cm[1,1])/(cm[0,0] + cm[0,1] + cm[1,0] + cm[1,1])\n",
    "print(f'Accuracy is {Accuracy}') "
   ]
  },
  {
   "cell_type": "code",
   "execution_count": 123,
   "metadata": {},
   "outputs": [
    {
     "data": {
      "image/png": "[encoded data removed]",
      "text/plain": [
       "<Figure size 432x288 with 1 Axes>"
      ]
     },
     "metadata": {
      "needs_background": "light"
     },
     "output_type": "display_data"
    }
   ],
   "source": [
    "from sklearn.metrics import roc_curve,auc\n",
    "import pylab as pl\n",
    "%matplotlib inline\n",
    "(fpr, tpr, thresholds) = roc_curve(test_y,p_test)\n",
    "area = auc(fpr,tpr)\n",
    "pl.clf() #Clear the current figure\n",
    "pl.plot(fpr,tpr,label=\"Out-Sample ROC Curve with area = %1.2f\"%area)\n",
    "\n",
    "pl.plot([0, 1], [0, 1], 'k') #This plots the random (equal probability line)\n",
    "pl.xlim([0.0, 1.0])\n",
    "pl.ylim([0.0, 1.0])\n",
    "pl.xlabel('False Positive Rate')\n",
    "pl.ylabel('True Positive Rate')\n",
    "pl.title('ROC for Decision Trees')\n",
    "pl.legend(loc=\"lower right\")\n",
    "pl.show()"
   ]
  },
  {
   "cell_type": "markdown",
   "metadata": {},
   "source": [
    "### 4.5 Random Forest"
   ]
  },
  {
   "cell_type": "code",
   "execution_count": 124,
   "metadata": {},
   "outputs": [
    {
     "data": {
      "text/plain": [
       "RandomForestClassifier(bootstrap=True, class_weight=None, criterion='gini',\n",
       "            max_depth=None, max_features='auto', max_leaf_nodes=None,\n",
       "            min_impurity_decrease=0.0, min_impurity_split=None,\n",
       "            min_samples_leaf=1, min_samples_split=2,\n",
       "            min_weight_fraction_leaf=0.0, n_estimators=10, n_jobs=None,\n",
       "            oob_score=False, random_state=None, verbose=0,\n",
       "            warm_start=False)"
      ]
     },
     "execution_count": 124,
     "metadata": {},
     "output_type": "execute_result"
    }
   ],
   "source": [
    "from sklearn.ensemble import RandomForestClassifier\n",
    "rf = RandomForestClassifier(n_estimators=10)\n",
    "rf.fit(train_X, train_y)"
   ]
  },
  {
   "cell_type": "code",
   "execution_count": 125,
   "metadata": {},
   "outputs": [
    {
     "data": {
      "text/plain": [
       "0.7802559090101298"
      ]
     },
     "execution_count": 125,
     "metadata": {},
     "output_type": "execute_result"
    }
   ],
   "source": [
    "rf.score(test_X,test_y)"
   ]
  },
  {
   "cell_type": "code",
   "execution_count": 126,
   "metadata": {},
   "outputs": [
    {
     "data": {
      "text/plain": [
       "array([0.08758079, 0.00183614, 0.01014048, 0.00173166, 0.00441142,\n",
       "       0.00013501, 0.00828887, 0.02245989, 0.00638851, 0.01102361,\n",
       "       0.00868247, 0.00198536, 0.00104941, 0.11946859, 0.13091546,\n",
       "       0.07635207, 0.08413246, 0.09907673, 0.00753967, 0.00897326,\n",
       "       0.0078525 , 0.0067759 , 0.0095314 , 0.0072243 , 0.08216873,\n",
       "       0.08422404, 0.07890948, 0.0176184 , 0.00509263, 0.00843077])"
      ]
     },
     "execution_count": 126,
     "metadata": {},
     "output_type": "execute_result"
    }
   ],
   "source": [
    "rf.feature_importances_"
   ]
  },
  {
   "cell_type": "code",
   "execution_count": 127,
   "metadata": {},
   "outputs": [],
   "source": [
    "import matplotlib.pyplot as plt\n",
    "%matplotlib inline\n",
    "\n",
    "importances = rf.feature_importances_\n",
    "indices = np.argsort(importances)"
   ]
  },
  {
   "cell_type": "code",
   "execution_count": 128,
   "metadata": {},
   "outputs": [
    {
     "data": {
      "text/plain": [
       "0.7596744479017188"
      ]
     },
     "execution_count": 128,
     "metadata": {},
     "output_type": "execute_result"
    }
   ],
   "source": [
    "pred_y = rf.predict(test_X)\n",
    "fpr, tpr, thresholds = metrics.roc_curve(test_y, pred_y)\n",
    "metrics.auc(fpr, tpr)"
   ]
  },
  {
   "cell_type": "code",
   "execution_count": 129,
   "metadata": {},
   "outputs": [],
   "source": [
    "importances_series = list(zip(cols_log, importances*100))"
   ]
  },
  {
   "cell_type": "code",
   "execution_count": 130,
   "metadata": {},
   "outputs": [],
   "source": [
    "importances_series = list(zip(*importances_series))\n",
    "importances_series = pd.Series(importances_series[1], index = importances_series[0])"
   ]
  },
  {
   "cell_type": "code",
   "execution_count": 131,
   "metadata": {},
   "outputs": [
    {
     "data": {
      "text/plain": [
       "burger                                        13.091546\n",
       "sandwich                                      11.946859\n",
       "breakfast_brunch                               9.907673\n",
       "attributes.RestaurantsAttire_dressy            8.758079\n",
       "business_parking                               8.413246\n",
       "restaurant                                     7.635207\n",
       "min_rating_rest                                2.245989\n",
       "funny                                          1.102361\n",
       "attributes.NoiseLevel_very_loud                1.014048\n",
       "cool                                           0.868247\n",
       "max_rating_rest                                0.828887\n",
       "dinner                                         0.753967\n",
       "useful                                         0.638851\n",
       "ambience_casual                                0.441142\n",
       "american_food                                  0.198536\n",
       "attributes.Smoking_yes                         0.183614\n",
       "attributes.BusinessAcceptsCreditCards_True     0.173166\n",
       "european_food                                  0.104941\n",
       "ambience_trendy                                0.013501\n",
       "dtype: float64"
      ]
     },
     "execution_count": 131,
     "metadata": {},
     "output_type": "execute_result"
    }
   ],
   "source": [
    "importances_series = importances_series.sort_values(ascending=False)\n",
    "importances_series"
   ]
  },
  {
   "cell_type": "code",
   "execution_count": 132,
   "metadata": {},
   "outputs": [
    {
     "data": {
      "text/plain": [
       "Text(0.5, 0, 'Features')"
      ]
     },
     "execution_count": 132,
     "metadata": {},
     "output_type": "execute_result"
    },
    {
     "data": {
      "image/png": "[encoded data removed]",
      "text/plain": [
       "<Figure size 720x720 with 1 Axes>"
      ]
     },
     "metadata": {
      "needs_background": "light"
     },
     "output_type": "display_data"
    }
   ],
   "source": [
    "plt.figure(figsize=(10,10))\n",
    "ax = sns.barplot(importances_series.index, importances_series.values, alpha=0.8)\n",
    "plt.title(\"Feature Importance\",fontsize=25)\n",
    "locs, labels = plt.xticks()\n",
    "plt.setp(labels, rotation=80)\n",
    "plt.ylabel('Importance', fontsize=12)\n",
    "plt.xlabel('Features', fontsize=12)"
   ]
  },
  {
   "cell_type": "code",
   "execution_count": 133,
   "metadata": {},
   "outputs": [
    {
     "data": {
      "image/png": "[encoded data removed]",
      "text/plain": [
       "<Figure size 432x288 with 1 Axes>"
      ]
     },
     "metadata": {
      "needs_background": "light"
     },
     "output_type": "display_data"
    }
   ],
   "source": [
    "from sklearn.metrics import roc_curve,auc\n",
    "import pylab as pl\n",
    "%matplotlib inline\n",
    "area = auc(fpr,tpr)\n",
    "pl.clf() \n",
    "pl.plot(fpr,tpr,label=\"Out-Sample ROC Curve with area = %1.2f\"%area)\n",
    "\n",
    "pl.plot([0, 1], [0, 1], 'k') #This plots the random (equal probability line)\n",
    "pl.xlim([0.0, 1.0])\n",
    "pl.ylim([0.0, 1.0])\n",
    "pl.xlabel('False Positive Rate')\n",
    "pl.ylabel('True Positive Rate')\n",
    "pl.title('ROC for Random Forest Ensembles')\n",
    "pl.legend(loc=\"lower right\")\n",
    "pl.show()"
   ]
  },
  {
   "cell_type": "markdown",
   "metadata": {},
   "source": [
    "### 4.6 Bootstrapping"
   ]
  },
  {
   "cell_type": "code",
   "execution_count": 140,
   "metadata": {},
   "outputs": [
    {
     "data": {
      "text/plain": [
       "BaggingClassifier(base_estimator=None, bootstrap=True,\n",
       "         bootstrap_features=False, max_features=1.0, max_samples=1.0,\n",
       "         n_estimators=10, n_jobs=None, oob_score=False, random_state=None,\n",
       "         verbose=0, warm_start=False)"
      ]
     },
     "execution_count": 140,
     "metadata": {},
     "output_type": "execute_result"
    }
   ],
   "source": [
    "from sklearn.ensemble import BaggingClassifier\n",
    "bc = BaggingClassifier()\n",
    "bc.fit(train_X,np.ravel(train_y))"
   ]
  },
  {
   "cell_type": "code",
   "execution_count": 141,
   "metadata": {},
   "outputs": [],
   "source": [
    "pred_y = bc.predict(test_X)"
   ]
  },
  {
   "cell_type": "code",
   "execution_count": 142,
   "metadata": {},
   "outputs": [],
   "source": [
    "fpr, tpr, thresholds = metrics.roc_curve(test_y, pred_y)"
   ]
  },
  {
   "cell_type": "code",
   "execution_count": 143,
   "metadata": {},
   "outputs": [
    {
     "data": {
      "text/plain": [
       "0.7523437975597749"
      ]
     },
     "execution_count": 143,
     "metadata": {},
     "output_type": "execute_result"
    }
   ],
   "source": [
    "metrics.auc(fpr, tpr)"
   ]
  },
  {
   "cell_type": "code",
   "execution_count": 144,
   "metadata": {},
   "outputs": [
    {
     "data": {
      "text/plain": [
       "0.7708814643682246"
      ]
     },
     "execution_count": 144,
     "metadata": {},
     "output_type": "execute_result"
    }
   ],
   "source": [
    "bc.score(test_X, test_y)"
   ]
  },
  {
   "cell_type": "code",
   "execution_count": 145,
   "metadata": {},
   "outputs": [
    {
     "data": {
      "image/png": "[encoded data removed]",
      "text/plain": [
       "<Figure size 432x288 with 1 Axes>"
      ]
     },
     "metadata": {
      "needs_background": "light"
     },
     "output_type": "display_data"
    }
   ],
   "source": [
    "from sklearn.metrics import roc_curve,auc\n",
    "import pylab as pl\n",
    "%matplotlib inline\n",
    "\n",
    "pred_y = bc.predict(test_X)\n",
    "fpr, tpr, thresholds = metrics.roc_curve(test_y, pred_y)\n",
    "metrics.auc(fpr, tpr)\n",
    "\n",
    "area = auc(fpr,tpr)\n",
    "pl.clf() \n",
    "pl.plot(fpr,tpr,label=\"Out-Sample ROC Curve with area = %1.2f\"%area)\n",
    "\n",
    "pl.plot([0, 1], [0, 1], 'k') #This plots the random (equal probability line)\n",
    "pl.xlim([0.0, 1.0])\n",
    "pl.ylim([0.0, 1.0])\n",
    "pl.xlabel('False Positive Rate')\n",
    "pl.ylabel('True Positive Rate')\n",
    "pl.title('ROC for Random Forest Ensembles')\n",
    "pl.legend(loc=\"lower right\")\n",
    "pl.show()"
   ]
  }
 ],
 "metadata": {
  "kernelspec": {
   "display_name": "Python 3",
   "language": "python",
   "name": "python3"
  },
  "language_info": {
   "codemirror_mode": {
    "name": "ipython",
    "version": 3
   },
   "file_extension": ".py",
   "mimetype": "text/x-python",
   "name": "python",
   "nbconvert_exporter": "python",
   "pygments_lexer": "ipython3",
   "version": "3.6.3"
  }
 },
 "nbformat": 4,
 "nbformat_minor": 2
}
